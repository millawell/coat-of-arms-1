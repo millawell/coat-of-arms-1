{
 "cells": [
  {
   "cell_type": "code",
   "execution_count": 12,
   "id": "59889884",
   "metadata": {},
   "outputs": [
    {
     "name": "stdout",
     "output_type": "stream",
     "text": [
      "The autoreload extension is already loaded. To reload it, use:\n",
      "  %reload_ext autoreload\n",
      "The pyinstrument extension is already loaded. To reload it, use:\n",
      "  %reload_ext pyinstrument\n"
     ]
    }
   ],
   "source": [
    "# auto-load when code changes outside\n",
    "%load_ext autoreload\n",
    "%autoreload 2\n",
    "%load_ext pyinstrument\n",
    "\n",
    "import sys\n",
    "sys.path.insert(0,'..')\n"
   ]
  },
  {
   "cell_type": "code",
   "execution_count": 13,
   "id": "0ecf535d",
   "metadata": {},
   "outputs": [],
   "source": [
    "#imports \n",
    "import os\n",
    "import numpy as np\n",
    "import pandas as pd\n",
    "import torchvision.transforms as T\n",
    "import matplotlib.image as mpimg\n",
    "\n",
    "from src.utils import plot_image, plot_im, save_im\n"
   ]
  },
  {
   "cell_type": "code",
   "execution_count": 19,
   "id": "e1ffba7b",
   "metadata": {},
   "outputs": [
    {
     "name": "stdout",
     "output_type": "stream",
     "text": [
      "There are 269 test images\n"
     ]
    },
    {
     "data": {
      "text/html": [
       "<div>\n",
       "<style scoped>\n",
       "    .dataframe tbody tr th:only-of-type {\n",
       "        vertical-align: middle;\n",
       "    }\n",
       "\n",
       "    .dataframe tbody tr th {\n",
       "        vertical-align: top;\n",
       "    }\n",
       "\n",
       "    .dataframe thead th {\n",
       "        text-align: right;\n",
       "    }\n",
       "</style>\n",
       "<table border=\"1\" class=\"dataframe\">\n",
       "  <thead>\n",
       "    <tr style=\"text-align: right;\">\n",
       "      <th></th>\n",
       "      <th>image</th>\n",
       "      <th>caption</th>\n",
       "      <th>psum</th>\n",
       "      <th>psum_sq</th>\n",
       "    </tr>\n",
       "  </thead>\n",
       "  <tbody>\n",
       "    <tr>\n",
       "      <th>0</th>\n",
       "      <td>1739_A G cross patonce.jpg</td>\n",
       "      <td>A G cross patonce</td>\n",
       "      <td>724933.00000</td>\n",
       "      <td>557413.50000</td>\n",
       "    </tr>\n",
       "    <tr>\n",
       "      <th>1</th>\n",
       "      <td>22117_O B cross patriarchal.jpg</td>\n",
       "      <td>O B cross patriarchal</td>\n",
       "      <td>696633.87500</td>\n",
       "      <td>521719.93750</td>\n",
       "    </tr>\n",
       "    <tr>\n",
       "      <th>2</th>\n",
       "      <td>2870_O S lion rampant.jpg</td>\n",
       "      <td>O S lion rampant</td>\n",
       "      <td>370219.71875</td>\n",
       "      <td>231043.09375</td>\n",
       "    </tr>\n",
       "    <tr>\n",
       "      <th>3</th>\n",
       "      <td>6870_S O eagle.jpg</td>\n",
       "      <td>S O eagle</td>\n",
       "      <td>840800.62500</td>\n",
       "      <td>661782.93750</td>\n",
       "    </tr>\n",
       "    <tr>\n",
       "      <th>4</th>\n",
       "      <td>18746_S A eagle.jpg</td>\n",
       "      <td>S A eagle</td>\n",
       "      <td>880971.43750</td>\n",
       "      <td>601956.43750</td>\n",
       "    </tr>\n",
       "    <tr>\n",
       "      <th>...</th>\n",
       "      <td>...</td>\n",
       "      <td>...</td>\n",
       "      <td>...</td>\n",
       "      <td>...</td>\n",
       "    </tr>\n",
       "    <tr>\n",
       "      <th>264</th>\n",
       "      <td>398_A S lion rampant.jpg</td>\n",
       "      <td>A S lion rampant</td>\n",
       "      <td>673480.62500</td>\n",
       "      <td>517651.34375</td>\n",
       "    </tr>\n",
       "    <tr>\n",
       "      <th>265</th>\n",
       "      <td>249_O G 2 lions passt.jpg</td>\n",
       "      <td>O G 2 lions passt</td>\n",
       "      <td>871046.06250</td>\n",
       "      <td>677358.06250</td>\n",
       "    </tr>\n",
       "    <tr>\n",
       "      <th>266</th>\n",
       "      <td>4459_B O eagle.jpg</td>\n",
       "      <td>B O eagle</td>\n",
       "      <td>621500.62500</td>\n",
       "      <td>425808.43750</td>\n",
       "    </tr>\n",
       "    <tr>\n",
       "      <th>267</th>\n",
       "      <td>5302_O B cross moline.jpg</td>\n",
       "      <td>O B cross moline</td>\n",
       "      <td>736149.62500</td>\n",
       "      <td>530970.68750</td>\n",
       "    </tr>\n",
       "    <tr>\n",
       "      <th>268</th>\n",
       "      <td>7881_G O 2 lions passt guard.jpg</td>\n",
       "      <td>G O 2 lions passt guard</td>\n",
       "      <td>689131.37500</td>\n",
       "      <td>483920.34375</td>\n",
       "    </tr>\n",
       "  </tbody>\n",
       "</table>\n",
       "<p>269 rows × 4 columns</p>\n",
       "</div>"
      ],
      "text/plain": [
       "                                image                  caption          psum  \\\n",
       "0          1739_A G cross patonce.jpg        A G cross patonce  724933.00000   \n",
       "1     22117_O B cross patriarchal.jpg    O B cross patriarchal  696633.87500   \n",
       "2           2870_O S lion rampant.jpg         O S lion rampant  370219.71875   \n",
       "3                  6870_S O eagle.jpg                S O eagle  840800.62500   \n",
       "4                 18746_S A eagle.jpg                S A eagle  880971.43750   \n",
       "..                                ...                      ...           ...   \n",
       "264          398_A S lion rampant.jpg         A S lion rampant  673480.62500   \n",
       "265         249_O G 2 lions passt.jpg        O G 2 lions passt  871046.06250   \n",
       "266                4459_B O eagle.jpg                B O eagle  621500.62500   \n",
       "267         5302_O B cross moline.jpg         O B cross moline  736149.62500   \n",
       "268  7881_G O 2 lions passt guard.jpg  G O 2 lions passt guard  689131.37500   \n",
       "\n",
       "          psum_sq  \n",
       "0    557413.50000  \n",
       "1    521719.93750  \n",
       "2    231043.09375  \n",
       "3    661782.93750  \n",
       "4    601956.43750  \n",
       "..            ...  \n",
       "264  517651.34375  \n",
       "265  677358.06250  \n",
       "266  425808.43750  \n",
       "267  530970.68750  \n",
       "268  483920.34375  \n",
       "\n",
       "[269 rows x 4 columns]"
      ]
     },
     "execution_count": 19,
     "metadata": {},
     "output_type": "execute_result"
    }
   ],
   "source": [
    "# data_location='/home/salnabulsi/coat-of-arms/data/cropped_coas/out_valid'\n",
    "# data_location='/home/salnabulsi/coat-of-arms/data/cropped_coas/out'\n",
    "# data_location='/Users/salnabulsi/tub/coat-of-arms/data/cropped_coas/out_valid'\n",
    "\n",
    "data_location='/Users/salnabulsi/tub/coat-of-arms/data/cropped_coas/out'\n",
    "test_caption_file  = data_location + '/test_real_captions_psumsq.txt'\n",
    "root_folder_images = data_location + '/images/'\n",
    "# root_folder_images = data_location + '/images/resized/'\n",
    "\n",
    "df = pd.read_csv(test_caption_file)\n",
    "\n",
    "print(\"There are {} test images\".format(len(df)))\n",
    "\n",
    "df"
   ]
  },
  {
   "cell_type": "code",
   "execution_count": 24,
   "id": "585c12e1",
   "metadata": {},
   "outputs": [],
   "source": [
    "ls = []\n",
    "ims_size = []\n",
    "for im_name in df['image']:\n",
    "    image_full_path = root_folder_images + '/' + im_name\n",
    "    img = mpimg.imread(image_full_path)\n",
    "    trans = T.ToTensor()\n",
    "    img_t = trans(img)\n",
    "    ls.append( img_t.shape )\n",
    "# ls"
   ]
  },
  {
   "cell_type": "code",
   "execution_count": 25,
   "id": "14f8dc63",
   "metadata": {},
   "outputs": [
    {
     "data": {
      "text/plain": [
       "(array([298,  30, 293, 147,  27,   2,   6,   2,   0,   2]),\n",
       " array([   3. ,  213.2,  423.4,  633.6,  843.8, 1054. , 1264.2, 1474.4,\n",
       "        1684.6, 1894.8, 2105. ]))"
      ]
     },
     "execution_count": 25,
     "metadata": {},
     "output_type": "execute_result"
    }
   ],
   "source": [
    "hist, bin_edges = np.histogram(ls)\n",
    "hist, bin_edges"
   ]
  },
  {
   "cell_type": "code",
   "execution_count": 36,
   "id": "d1a0a31b",
   "metadata": {},
   "outputs": [
    {
     "data": {
      "image/png": "[encoded data removed]",
      "text/plain": [
       "<Figure size 432x288 with 1 Axes>"
      ]
     },
     "metadata": {
      "needs_background": "light"
     },
     "output_type": "display_data"
    }
   ],
   "source": [
    "import numpy as np\n",
    "import random\n",
    "from matplotlib import pyplot as plt\n",
    "\n",
    "plt.hist(ls, 5)\n",
    "\n",
    "# plt.hist(bins, bins=hist, alpha=0.5)\n",
    "plt.title('Real data shape')\n",
    "plt.xlabel('variable X (bin size = 5)')\n",
    "plt.ylabel('count')\n",
    "\n",
    "plt.show()\n"
   ]
  },
  {
   "cell_type": "code",
   "execution_count": null,
   "id": "ed277530",
   "metadata": {},
   "outputs": [],
   "source": []
  },
  {
   "cell_type": "code",
   "execution_count": null,
   "id": "a6de4fda",
   "metadata": {},
   "outputs": [],
   "source": []
  }
 ],
 "metadata": {
  "kernelspec": {
   "display_name": "Python 3 (ipykernel)",
   "language": "python",
   "name": "python3"
  },
  "language_info": {
   "codemirror_mode": {
    "name": "ipython",
    "version": 3
   },
   "file_extension": ".py",
   "mimetype": "text/x-python",
   "name": "python",
   "nbconvert_exporter": "python",
   "pygments_lexer": "ipython3",
   "version": "3.8.12"
  }
 },
 "nbformat": 4,
 "nbformat_minor": 5
}
