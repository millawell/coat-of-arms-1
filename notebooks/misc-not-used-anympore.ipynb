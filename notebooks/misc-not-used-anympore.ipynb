{
 "cells": [
  {
   "cell_type": "markdown",
   "id": "eba04a83",
   "metadata": {},
   "source": [
    "## Zipping images to (/tmp) folder on the node"
   ]
  },
  {
   "cell_type": "code",
   "execution_count": null,
   "id": "8c1cef97",
   "metadata": {},
   "outputs": [],
   "source": [
    "# print_time('\\n ------------------------ \\n started Zipping images')\n",
    "\n",
    "# path_to_zip_file = '/tmp/coa-images-alln.zip'\n",
    "# zip_dir_to_file(path_to_zip_file, root_folder_images)\n",
    "\n",
    "# print_time('\\n ------------------------ \\n finished Zipping images')\n"
   ]
  },
  {
   "cell_type": "code",
   "execution_count": null,
   "id": "7e69ab9d",
   "metadata": {},
   "outputs": [],
   "source": [
    "\n",
    "\n",
    "# tmp_data_location = '/tmp/generated-data-api'\n",
    "# # tmp_data_location =  '/tmp/generated-data-api-small'\n",
    "# tmp_root_folder_images = tmp_data_location + '/images'\n",
    "\n",
    "# tmp_train_annotation_file = tmp_data_location + '/train_captions.txt'\n",
    "# tmp_val_annotation_file  = tmp_data_location + '/val_captions.txt'\n",
    "# tmp_test_annotation_file  = tmp_data_location + '/test_captions.txt'\n",
    "# tmp_caption_file = tmp_data_location + '/captions.txt'\n"
   ]
  },
  {
   "cell_type": "code",
   "execution_count": null,
   "id": "74e176d2",
   "metadata": {},
   "outputs": [],
   "source": [
    "\n",
    "# print_time('\\n ------------------------ \\n started unzipping dataset')\n",
    "\n",
    "# unzip_file_to_dir(path_to_zip_file, tmp_data_location)\n",
    "\n",
    "# print_time('\\n ------------------------ \\n finished unzipping dataset')\n",
    "\n",
    "\n",
    "# copyfile(caption_file, tmp_caption_file)\n",
    "# copyfile(train_annotation_file, tmp_train_annotation_file)\n",
    "# copyfile(val_annotation_file, tmp_val_annotation_file)\n",
    "# copyfile(test_annotation_file, tmp_test_annotation_file)\n"
   ]
  },
  {
   "cell_type": "code",
   "execution_count": null,
   "id": "86575d09",
   "metadata": {},
   "outputs": [],
   "source": [
    "# import gc\n",
    "\n",
    "# gc.collect()\n",
    "\n",
    "# torch.cuda.empty_cache()\n"
   ]
  },
  {
   "cell_type": "code",
   "execution_count": null,
   "id": "7ccd11a2",
   "metadata": {},
   "outputs": [],
   "source": [
    "# import torch.multiprocessing as mp\n",
    "\n",
    "# mp.set_start_method('spawn')"
   ]
  }
 ],
 "metadata": {
  "kernelspec": {
   "display_name": "Python 3 (ipykernel)",
   "language": "python",
   "name": "python3"
  },
  "language_info": {
   "codemirror_mode": {
    "name": "ipython",
    "version": 3
   },
   "file_extension": ".py",
   "mimetype": "text/x-python",
   "name": "python",
   "nbconvert_exporter": "python",
   "pygments_lexer": "ipython3",
   "version": "3.8.12"
  }
 },
 "nbformat": 4,
 "nbformat_minor": 5
}
