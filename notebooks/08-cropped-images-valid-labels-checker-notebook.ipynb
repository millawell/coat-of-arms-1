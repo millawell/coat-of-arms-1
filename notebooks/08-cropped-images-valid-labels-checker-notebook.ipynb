{
 "cells": [
  {
   "cell_type": "code",
   "execution_count": 3,
   "id": "0e599477",
   "metadata": {},
   "outputs": [],
   "source": [
    "# auto-load when code changes outside\n",
    "%load_ext autoreload\n",
    "%autoreload 2\n",
    "\n",
    "import sys\n",
    "sys.path.insert(0,'..')\n"
   ]
  },
  {
   "cell_type": "code",
   "execution_count": 11,
   "id": "664e06f4",
   "metadata": {},
   "outputs": [],
   "source": [
    "import streamlit as st\n",
    "from copy import deepcopy as dc\n",
    "import pandas as pd\n",
    "from pathlib import Path\n",
    "from src.label_checker_automata import LabelCheckerAutomata\n",
    "from src.caption import Caption\n",
    "import src.utils as utils"
   ]
  },
  {
   "cell_type": "markdown",
   "id": "b5126bbb",
   "metadata": {},
   "source": [
    "## Load data and all labels"
   ]
  },
  {
   "cell_type": "code",
   "execution_count": 6,
   "id": "91b43f42",
   "metadata": {},
   "outputs": [
    {
     "data": {
      "text/html": [
       "<div>\n",
       "<style scoped>\n",
       "    .dataframe tbody tr th:only-of-type {\n",
       "        vertical-align: middle;\n",
       "    }\n",
       "\n",
       "    .dataframe tbody tr th {\n",
       "        vertical-align: top;\n",
       "    }\n",
       "\n",
       "    .dataframe thead th {\n",
       "        text-align: right;\n",
       "    }\n",
       "</style>\n",
       "<table border=\"1\" class=\"dataframe\">\n",
       "  <thead>\n",
       "    <tr style=\"text-align: right;\">\n",
       "      <th></th>\n",
       "      <th>label</th>\n",
       "    </tr>\n",
       "  </thead>\n",
       "  <tbody>\n",
       "    <tr>\n",
       "      <th>0</th>\n",
       "      <td>A SG lion &amp; border</td>\n",
       "    </tr>\n",
       "    <tr>\n",
       "      <th>1</th>\n",
       "      <td>G A per chevron</td>\n",
       "    </tr>\n",
       "    <tr>\n",
       "      <th>2</th>\n",
       "      <td>S O 3 crosses formy</td>\n",
       "    </tr>\n",
       "    <tr>\n",
       "      <th>3</th>\n",
       "      <td>A S crampon per fess</td>\n",
       "    </tr>\n",
       "    <tr>\n",
       "      <th>4</th>\n",
       "      <td>G A cross</td>\n",
       "    </tr>\n",
       "    <tr>\n",
       "      <th>...</th>\n",
       "      <td>...</td>\n",
       "    </tr>\n",
       "    <tr>\n",
       "      <th>3050</th>\n",
       "      <td>G O barry</td>\n",
       "    </tr>\n",
       "    <tr>\n",
       "      <th>3051</th>\n",
       "      <td>A G qtly</td>\n",
       "    </tr>\n",
       "    <tr>\n",
       "      <th>3052</th>\n",
       "      <td>G plain</td>\n",
       "    </tr>\n",
       "    <tr>\n",
       "      <th>3053</th>\n",
       "      <td>A G saltire engrailed</td>\n",
       "    </tr>\n",
       "    <tr>\n",
       "      <th>3054</th>\n",
       "      <td>O G tower</td>\n",
       "    </tr>\n",
       "  </tbody>\n",
       "</table>\n",
       "<p>3055 rows × 1 columns</p>\n",
       "</div>"
      ],
      "text/plain": [
       "                      label\n",
       "0        A SG lion & border\n",
       "1           G A per chevron\n",
       "2       S O 3 crosses formy\n",
       "3      A S crampon per fess\n",
       "4                 G A cross\n",
       "...                     ...\n",
       "3050              G O barry\n",
       "3051               A G qtly\n",
       "3052                G plain\n",
       "3053  A G saltire engrailed\n",
       "3054              O G tower\n",
       "\n",
       "[3055 rows x 1 columns]"
      ]
     },
     "execution_count": 6,
     "metadata": {},
     "output_type": "execute_result"
    }
   ],
   "source": [
    "data_dir = Path(\"../data/cropped_coas/out\")\n",
    "\n",
    "labels = []\n",
    "\n",
    "for image_fn in data_dir.iterdir():\n",
    "    if image_fn.suffix == \".jpg\" and not image_fn.name.startswith(\".\"):\n",
    "        labels.append(\"_\".join(image_fn.stem.split(\"_\")[1:]))\n",
    "\n",
    "df = pd.DataFrame.from_dict({\n",
    "    \"label\": labels,\n",
    "})\n",
    "df"
   ]
  },
  {
   "cell_type": "markdown",
   "id": "e3bd2295",
   "metadata": {},
   "source": [
    "## Check if the labels match our automata "
   ]
  },
  {
   "cell_type": "code",
   "execution_count": 31,
   "id": "1195493b",
   "metadata": {},
   "outputs": [
    {
     "name": "stdout",
     "output_type": "stream",
     "text": [
      "3055\n"
     ]
    },
    {
     "data": {
      "text/plain": [
       "969"
      ]
     },
     "execution_count": 31,
     "metadata": {},
     "output_type": "execute_result"
    }
   ],
   "source": [
    "captions = [ Caption(l, support_plural=True) for l in labels ]\n",
    "print(len(captions))\n",
    "valid = [ 1 for c in captions if c.is_valid ]\n",
    "sum(valid)"
   ]
  },
  {
   "cell_type": "code",
   "execution_count": 30,
   "id": "6e8f0d3b",
   "metadata": {},
   "outputs": [
    {
     "name": "stdout",
     "output_type": "stream",
     "text": [
      "Total number of labels 3055\n",
      "Valid labels 611\n",
      "Invalid labels 2444\n"
     ]
    }
   ],
   "source": [
    "automata = LabelCheckerAutomata(support_plural=True)\n",
    "validated_labels = automata.get_valid_labels(labels)\n",
    "\n",
    "total = len(labels)\n",
    "valid = sum(validated_labels.values())\n",
    "print('Total number of labels', total)\n",
    "print('Valid labels', valid)\n",
    "print('Invalid labels', total - valid)\n"
   ]
  },
  {
   "cell_type": "markdown",
   "id": "fe284737",
   "metadata": {},
   "source": [
    "# create simple automata"
   ]
  },
  {
   "cell_type": "code",
   "execution_count": 34,
   "id": "d0f315dd",
   "metadata": {},
   "outputs": [
    {
     "name": "stdout",
     "output_type": "stream",
     "text": [
      "3055\n"
     ]
    },
    {
     "data": {
      "text/plain": [
       "698"
      ]
     },
     "execution_count": 34,
     "metadata": {},
     "output_type": "execute_result"
    }
   ],
   "source": [
    "captions = [ Caption(l, support_plural=False) for l in labels ]\n",
    "print(len(captions))\n",
    "valid = [ 1 for c in captions if c.is_valid ]\n",
    "sum(valid)"
   ]
  },
  {
   "cell_type": "code",
   "execution_count": 35,
   "id": "65043170",
   "metadata": {},
   "outputs": [
    {
     "name": "stdout",
     "output_type": "stream",
     "text": [
      "Total number of labels 3055\n",
      "Valid labels 399\n",
      "Invalid labels 2656\n"
     ]
    }
   ],
   "source": [
    "simple_automata = LabelCheckerAutomata(support_plural=False)\n",
    "validated_simple_labels = simple_automata.get_valid_labels(labels)\n",
    "    \n",
    "total = len(labels)\n",
    "valid = sum(validated_simple_labels.values())\n",
    "print('Total number of labels', total)\n",
    "print('Valid labels', valid)\n",
    "print('Invalid labels', total - valid)\n"
   ]
  },
  {
   "cell_type": "markdown",
   "id": "cc52c6bb",
   "metadata": {},
   "source": [
    "# get simple valid labels with lion"
   ]
  },
  {
   "cell_type": "code",
   "execution_count": 36,
   "id": "f12b04ff",
   "metadata": {},
   "outputs": [
    {
     "name": "stdout",
     "output_type": "stream",
     "text": [
      "91\n"
     ]
    },
    {
     "data": {
      "text/plain": [
       "['A SG lion & border',\n",
       " 'O S lion rampant',\n",
       " 'O B lion rampant',\n",
       " 'G O lion passt guard',\n",
       " 'O GS lion cr. & border engrailed',\n",
       " 'A G lion rampant',\n",
       " 'B A lion rampant',\n",
       " 'O G lion rampant',\n",
       " 'A B lion rampant',\n",
       " 'B A lion cr.',\n",
       " 'S OA lion acc. bend',\n",
       " 'B O lion rampant',\n",
       " 'B O lion cr.',\n",
       " 'G O lion rampant',\n",
       " 'A GB lion & border engrailed',\n",
       " 'A G lion cr.',\n",
       " 'G X AS lion checky cr.',\n",
       " 'A S lion rampant',\n",
       " 'G A lion rampant',\n",
       " 'A B lion cr.',\n",
       " 'O SA chief ch. lion isst',\n",
       " 'O X GB lion hooded',\n",
       " 'G AS lion acc. bend',\n",
       " 'O GO lion guard ch. cross',\n",
       " 'O B lion cr.',\n",
       " 'G Z lion rampant',\n",
       " 'O BG fess acc. lion isst',\n",
       " 'S AG lion & border',\n",
       " 'G AA lion & border',\n",
       " 'O SG lion acc. bend',\n",
       " 'A GO chief ch. lion passt guard',\n",
       " 'G E lion rampant',\n",
       " 'O GB lion acc. bend',\n",
       " 'B AG chief ch. lion isst',\n",
       " 'A V lion rampant',\n",
       " 'V OG lion & border undy',\n",
       " 'G AS chief ch. lion cr. isst',\n",
       " 'A GO chief indented ch. lion passt guard',\n",
       " 'A S lion cr.',\n",
       " 'A S lion passt',\n",
       " 'A GX AB lion acc. fess checky',\n",
       " 'V O lion rampant',\n",
       " 'O SG lion acc. fess',\n",
       " 'S X AO lion hooded',\n",
       " 'V A lion rampant',\n",
       " 'B AOG fleur-de-lis & chief ch. lion isst',\n",
       " 'B GO lion & chief',\n",
       " 'E GO escutcheon ch. lion',\n",
       " 'Z G lion rampant',\n",
       " \"A G lion's head\",\n",
       " 'G OS chief ch. lion passt',\n",
       " 'O V lion cr.',\n",
       " 'A S lion guard cr.',\n",
       " 'A GS fess acc. lion passt in chf dx',\n",
       " 'Z GO chief ch. lion isst',\n",
       " 'G A lion guard',\n",
       " 'G A lion cr.',\n",
       " 'O AG chief ch. lion passt',\n",
       " 'S A lion cr.',\n",
       " 'B AOG eagle & chief ch. lion passt',\n",
       " 'A BG lion & chief',\n",
       " 'S O lion rampant',\n",
       " 'A GSO lion & border roundely',\n",
       " 'O SX AG lion acc. bend compony',\n",
       " 'G OAB lion cr. & border compony',\n",
       " 'O SAG lion passt cr. & border compony',\n",
       " 'B A lion guard',\n",
       " 'A GB lion acc. bend',\n",
       " 'O XG AG fess checky acc. lion cr. isst',\n",
       " 'G OO lion & border engrailed',\n",
       " 'B O lion passt guard cr.',\n",
       " 'A G lion passt guard',\n",
       " 'B O lion guard cr.',\n",
       " 'A GO chief ch. lion isst',\n",
       " 'B G lion passt',\n",
       " 'G O lion guard',\n",
       " 'E G lion cr.',\n",
       " 'O G lion guard',\n",
       " 'O G lion guard cr.',\n",
       " 'B OG chief ch. lion passt',\n",
       " 'A SG lion cr. & border',\n",
       " 'A GB lion & border',\n",
       " 'B OG lion ch. fleur-de-lis',\n",
       " 'G O lion cr.',\n",
       " 'O BG lion acc. fess',\n",
       " 'O SAG lion passt & chief ch. rose',\n",
       " 'O S lion cr.',\n",
       " 'E XG OG fess checky acc. lion isst',\n",
       " 'Z G lion cr.',\n",
       " 'S O lion cr.',\n",
       " 'B OG lion cr. ch. fleur-de-lis']"
      ]
     },
     "execution_count": 36,
     "metadata": {},
     "output_type": "execute_result"
    }
   ],
   "source": [
    "lion_labels = simple_automata.get_valid_labels_of(labels, 'lion')\n",
    "print(len(lion_labels))\n",
    "lion_labels"
   ]
  },
  {
   "cell_type": "code",
   "execution_count": 10,
   "id": "b29e73e6",
   "metadata": {},
   "outputs": [],
   "source": [
    "# checking the Armoria API manually\n",
    "    \n",
    "LION_MODIFIERS_MAP = {\n",
    "    'lion passt': 'lionPassant',\n",
    "    'lion passt guard': 'lionPassantGuardant',\n",
    "    'lion rampant': 'lionRampant',\n",
    "    \"lion's head\": 'lionHeadCaboshed'\n",
    "}\n",
    "\n"
   ]
  },
  {
   "cell_type": "markdown",
   "id": "69ff0e50",
   "metadata": {},
   "source": [
    "# get simple valid labels with cross"
   ]
  },
  {
   "cell_type": "code",
   "execution_count": 37,
   "id": "d079f127",
   "metadata": {},
   "outputs": [
    {
     "name": "stdout",
     "output_type": "stream",
     "text": [
      "42\n"
     ]
    },
    {
     "data": {
      "text/plain": [
       "['G A cross',\n",
       " 'B O cross engrailed',\n",
       " 'O B cross engrailed',\n",
       " 'O G cross engrailed',\n",
       " 'O G cross',\n",
       " 'B O cross',\n",
       " 'A G cross',\n",
       " 'B O cross potenty',\n",
       " 'G E cross',\n",
       " 'G AA escutcheon acc. orle of cross crosslets',\n",
       " 'A S cross',\n",
       " 'V A cross',\n",
       " 'O GO lion guard ch. cross',\n",
       " 'B A cross',\n",
       " 'V O cross',\n",
       " 'S O cross engrailed',\n",
       " 'A B cross',\n",
       " 'O SA eagle ch. crescent with cross',\n",
       " 'O GS cross acc. martlet in chf dx',\n",
       " 'O X AG cross checky',\n",
       " 'O V cross',\n",
       " 'G A cross potenty',\n",
       " 'O S cross',\n",
       " 'O SS cross acc. orle of martlets',\n",
       " 'O GS cross acc. mullet in chf dx',\n",
       " 'G O cross',\n",
       " 'G AB cross & bend',\n",
       " 'S EE cross engrailed acc. crescent in chf dx',\n",
       " 'A S cross engrailed',\n",
       " 'S A cross engrailed',\n",
       " 'O B cross',\n",
       " 'G A cross engrailed',\n",
       " 'A BG cross acc. mullet sn',\n",
       " 'G AA cross acc. orle of martlets',\n",
       " 'S A cross',\n",
       " 'O X SA cross checky',\n",
       " 'B OO cross & border',\n",
       " 'S X OG cross checky',\n",
       " 'O GG cross acc. orle of martlets',\n",
       " 'S X AG cross checky',\n",
       " 'E G cross',\n",
       " 'B A cross engrailed']"
      ]
     },
     "execution_count": 37,
     "metadata": {},
     "output_type": "execute_result"
    }
   ],
   "source": [
    "cross_labels = simple_automata.get_valid_labels_of(labels, 'cross')\n",
    "print(len(cross_labels))\n",
    "cross_labels"
   ]
  },
  {
   "cell_type": "code",
   "execution_count": 12,
   "id": "2b8c922d",
   "metadata": {},
   "outputs": [],
   "source": [
    "# checking the Armoria API manually\n",
    "    \n",
    "CROSS_MODIFIERS_MAP = {\n",
    "    'cross': 'crossHummetty' ,\n",
    "    'cross moline': 'crossMoline',\n",
    "    'cross patonce': 'crossPatonce',\n",
    "}\n",
    "\n"
   ]
  },
  {
   "cell_type": "markdown",
   "id": "c321f58f",
   "metadata": {},
   "source": [
    "# get simple valid labels with eagle"
   ]
  },
  {
   "cell_type": "code",
   "execution_count": 38,
   "id": "97307f52",
   "metadata": {},
   "outputs": [
    {
     "name": "stdout",
     "output_type": "stream",
     "text": [
      "44\n"
     ]
    },
    {
     "data": {
      "text/plain": [
       "['S O eagle',\n",
       " 'S A eagle',\n",
       " \"A S eagle's head\",\n",
       " 'G O eagle',\n",
       " 'G AO eagle & border',\n",
       " 'G A eagle',\n",
       " 'B X AG eagle checky cr.',\n",
       " 'O GZ eagle & border',\n",
       " 'A G eagle cr.',\n",
       " 'O S eagle',\n",
       " 'G A eagle cr.',\n",
       " 'B A eagle',\n",
       " 'A G eagle',\n",
       " 'G A eagle doubleheaded',\n",
       " 'B O eagle',\n",
       " 'A G eagle doubleheaded',\n",
       " 'S A eagle doubleheaded',\n",
       " 'O S eagle doubleheaded',\n",
       " 'A S eagle',\n",
       " 'B O eagle cr.',\n",
       " 'A B eagle doubleheaded',\n",
       " 'G O eagle doubleheaded',\n",
       " 'A GO eagle ch. crescent',\n",
       " 'V O eagle',\n",
       " 'O G eagle',\n",
       " 'O SA eagle ch. crescent',\n",
       " 'O SA eagle ch. crescent with cross',\n",
       " 'E G eagle',\n",
       " 'G AS chief ch. eagle isst',\n",
       " 'A GX AB eagle & border nebuly',\n",
       " 'A B eagle',\n",
       " 'O SX AG eagle acc. bend checky',\n",
       " 'B G eagle',\n",
       " 'A SG eagle doubleheaded & bend',\n",
       " 'B AOG eagle & chief ch. lion passt',\n",
       " \"A SG eagle's head on mount\",\n",
       " 'B OA eagle & border undy',\n",
       " 'G AO eagle ch. crescent',\n",
       " \"A G dragon with eagle's wings\",\n",
       " \"A G eagle's head winged\",\n",
       " 'O A eagle',\n",
       " 'O VG eagle & border',\n",
       " 'O G eagle doubleheaded',\n",
       " 'A S eagle doubleheaded']"
      ]
     },
     "execution_count": 38,
     "metadata": {},
     "output_type": "execute_result"
    }
   ],
   "source": [
    "eagle_labels = simple_automata.get_valid_labels_of(labels, 'eagle')\n",
    "print(len(eagle_labels))\n",
    "eagle_labels"
   ]
  },
  {
   "cell_type": "code",
   "execution_count": 14,
   "id": "71f6ebba",
   "metadata": {},
   "outputs": [],
   "source": [
    "# checking the Armoria API manually\n",
    "    \n",
    "EAGLE_MODIFIERS_MAP = {\n",
    "    'eagle': 'eagle' ,\n",
    "    'eagle doubleheaded': 'eagleTwoHeards',\n",
    "}\n",
    "\n"
   ]
  },
  {
   "cell_type": "code",
   "execution_count": 39,
   "id": "d1c6b929",
   "metadata": {},
   "outputs": [
    {
     "name": "stdout",
     "output_type": "stream",
     "text": [
      "0\n"
     ]
    },
    {
     "data": {
      "text/plain": [
       "[]"
      ]
     },
     "execution_count": 39,
     "metadata": {},
     "output_type": "execute_result"
    }
   ],
   "source": [
    "labels = simple_automata.get_valid_labels_of(labels, 'per pale')\n",
    "print(len(labels))\n",
    "labels"
   ]
  },
  {
   "cell_type": "code",
   "execution_count": null,
   "id": "da439184",
   "metadata": {},
   "outputs": [],
   "source": []
  }
 ],
 "metadata": {
  "kernelspec": {
   "display_name": "Python 3 (ipykernel)",
   "language": "python",
   "name": "python3"
  },
  "language_info": {
   "codemirror_mode": {
    "name": "ipython",
    "version": 3
   },
   "file_extension": ".py",
   "mimetype": "text/x-python",
   "name": "python",
   "nbconvert_exporter": "python",
   "pygments_lexer": "ipython3",
   "version": "3.8.11"
  }
 },
 "nbformat": 4,
 "nbformat_minor": 5
}
