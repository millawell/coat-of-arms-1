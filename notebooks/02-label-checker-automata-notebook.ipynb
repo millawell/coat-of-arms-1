{
 "cells": [
  {
   "cell_type": "code",
   "execution_count": 12,
   "id": "b63643a3",
   "metadata": {},
   "outputs": [
    {
     "name": "stdout",
     "output_type": "stream",
     "text": [
      "The autoreload extension is already loaded. To reload it, use:\n",
      "  %reload_ext autoreload\n",
      "The pyinstrument extension is already loaded. To reload it, use:\n",
      "  %reload_ext pyinstrument\n"
     ]
    }
   ],
   "source": [
    "# auto-load when code changes outside\n",
    "%load_ext autoreload\n",
    "%autoreload 2\n",
    "%load_ext pyinstrument\n",
    "\n",
    "import sys\n",
    "sys.path.insert(0,'..')\n"
   ]
  },
  {
   "cell_type": "code",
   "execution_count": 13,
   "id": "664e06f4",
   "metadata": {},
   "outputs": [],
   "source": [
    "from src.dataset import Dataset\n",
    "from src.label_checker_automata import LabelCheckerAutomata\n",
    "import src.utils as utils"
   ]
  },
  {
   "cell_type": "markdown",
   "id": "b5126bbb",
   "metadata": {},
   "source": [
    "## Load data and all labels"
   ]
  },
  {
   "cell_type": "code",
   "execution_count": 14,
   "id": "91b43f42",
   "metadata": {},
   "outputs": [
    {
     "data": {
      "text/plain": [
       "3001"
      ]
     },
     "execution_count": 14,
     "metadata": {},
     "output_type": "execute_result"
    }
   ],
   "source": [
    "dataset = Dataset('../dataset/2021-03-19_classification-labeling-results.json')\n",
    "all_labels = dataset.all_answers\n",
    "len(all_labels)"
   ]
  },
  {
   "cell_type": "markdown",
   "id": "e3bd2295",
   "metadata": {},
   "source": [
    "## Check if the labels match our automata "
   ]
  },
  {
   "cell_type": "code",
   "execution_count": 15,
   "id": "6e8f0d3b",
   "metadata": {},
   "outputs": [
    {
     "name": "stdout",
     "output_type": "stream",
     "text": [
      "Total number of labels 3001\n",
      "Valid labels with plural 356\n",
      "Invalid labels 2645\n"
     ]
    }
   ],
   "source": [
    "pl_automata = LabelCheckerAutomata(support_plural=True)\n",
    "validated_pl_labels = pl_automata.get_valid_labels(all_labels)\n",
    "\n",
    "total = len(all_labels)\n",
    "valid_plural = sum(validated_pl_labels.values())\n",
    "print('Total number of labels', total)\n",
    "print('Valid labels with plural', valid_plural)\n",
    "print('Invalid labels', total - valid_plural)"
   ]
  },
  {
   "cell_type": "markdown",
   "id": "fe284737",
   "metadata": {},
   "source": [
    "# Create simple automata (No plural)"
   ]
  },
  {
   "cell_type": "code",
   "execution_count": 16,
   "id": "65043170",
   "metadata": {},
   "outputs": [
    {
     "name": "stdout",
     "output_type": "stream",
     "text": [
      "Total number of labels 3001\n",
      "Valid labels without plural 229\n",
      "Invalid labels 2772\n"
     ]
    }
   ],
   "source": [
    "simple_automata = LabelCheckerAutomata(support_plural=False)\n",
    "validated_simple_labels = simple_automata.get_valid_labels(all_labels)\n",
    "    \n",
    "total = len(all_labels)\n",
    "valid_simple = sum(validated_simple_labels.values())\n",
    "print('Total number of labels', total)\n",
    "print('Valid labels without plural', valid_simple)\n",
    "print('Invalid labels', total - valid_simple)\n"
   ]
  },
  {
   "cell_type": "markdown",
   "id": "ca3c38c1",
   "metadata": {},
   "source": [
    "# How big is your dataset with/out the plural?"
   ]
  },
  {
   "cell_type": "code",
   "execution_count": 17,
   "id": "691088b3",
   "metadata": {},
   "outputs": [
    {
     "name": "stdout",
     "output_type": "stream",
     "text": [
      "Valid labels with plural automata 356\n",
      "Valid labels with simple automata 229\n",
      "Valid plural labels only 127\n"
     ]
    }
   ],
   "source": [
    "print('Valid labels with plural automata', valid_plural)\n",
    "print('Valid labels with simple automata', valid_simple)\n",
    "print('Valid plural labels only', valid_plural - valid_simple)\n"
   ]
  },
  {
   "cell_type": "code",
   "execution_count": 18,
   "id": "d5d20a0b",
   "metadata": {},
   "outputs": [
    {
     "name": "stdout",
     "output_type": "stream",
     "text": [
      "127\n"
     ]
    },
    {
     "data": {
      "text/plain": [
       "['G A 3 hares salient',\n",
       " 'B O 3 fleurs-de-lis',\n",
       " \"G A 3 lion's heads cr.\",\n",
       " 'B OA 3 fleurs-de-lis & border',\n",
       " 'B OG 3 fleurs-de-lis & bend',\n",
       " 'A S 3 lions',\n",
       " 'A GOO chief ch. 2 roses & border',\n",
       " 'O B 3 lions passt guard',\n",
       " 'O GX AG 3 bars & border checky',\n",
       " 'O GB 3 bars & border',\n",
       " 'G A branch with 3 oak leaves erect',\n",
       " 'B O 4 chevrons',\n",
       " 'B O 5 eagles',\n",
       " 'A GB fess betw 3 eagles',\n",
       " 'A S 3 bars',\n",
       " 'A G 3 roses',\n",
       " 'G S 3 bugle-horns in pale',\n",
       " 'G AO 3 dices acc. mount',\n",
       " 'O G 2 lions passt guard',\n",
       " 'S O 3 estoiles',\n",
       " 'G A 3 eagles',\n",
       " 'O B 3 escutcheons',\n",
       " 'G A 2 wings',\n",
       " 'B A 2 wings',\n",
       " 'G A 2 bars dancetty',\n",
       " 'B A 2 crescents addorsed',\n",
       " 'O X SG 2 wings',\n",
       " 'O X AG 2 bars checky',\n",
       " 'G A 2 bars',\n",
       " 'S AA 6 fleurs-de-lis & chief',\n",
       " 'A S 3 cocks',\n",
       " 'O S 2 wings',\n",
       " 'B AO fess betw 3 mullets',\n",
       " 'B A 3 cocks',\n",
       " 'O S 3 lions passt guard',\n",
       " 'B AA 2 bars & chief',\n",
       " 'A G 3 chevrons',\n",
       " 'A G 2 lions passt guard cr.',\n",
       " 'S A 3 fleurs-de-lis',\n",
       " 'S A 2 crescents addorsed',\n",
       " 'A SA fess ch. 3 fish',\n",
       " 'A GV 3 roses slipped',\n",
       " 'O S 2 eagles in pale',\n",
       " 'B AO cross acc. 4 fleurs-de-lis',\n",
       " 'B GO cross acc. 4 fleurs-de-lis',\n",
       " 'S AO cross acc. 4 fleurs-de-lis',\n",
       " 'E G 3 chevrons',\n",
       " 'G E 3 chevrons',\n",
       " 'G O 3 mullets',\n",
       " 'A G 3 hands',\n",
       " 'A GG cross acc. 4 lions',\n",
       " 'A SS chevron betw 3 martlets',\n",
       " 'O GG fess acc. 6 martlets',\n",
       " 'O G 2 bars undy',\n",
       " 'O S 3 chevrons',\n",
       " 'A GG 3 chevrons & chief',\n",
       " \"O S 3 lion's heads cr.\",\n",
       " 'B AG cross ch. 5 crescents',\n",
       " 'A G 3 eagles',\n",
       " 'A S 3 escutcheons',\n",
       " 'G A 3 chevrons',\n",
       " 'A B 3 chevrons',\n",
       " 'O S 3 estoiles',\n",
       " 'B O 3 lions',\n",
       " 'G O 2 lions passt guard',\n",
       " 'O G 3 chevrons',\n",
       " 'G OO 2 bars acc. orle of martlets',\n",
       " 'O G 3 hands',\n",
       " 'O S 6 boars',\n",
       " 'G O 2 bars',\n",
       " 'G O 3 chevrons',\n",
       " 'A G 7 bars',\n",
       " 'G O 3 lions',\n",
       " 'B OG 3 fleurs-de-lis & border',\n",
       " 'A S 3 marmites',\n",
       " 'B O 3 blackbirds',\n",
       " 'B O 2 bars',\n",
       " 'O G 3 lions',\n",
       " 'S O 2 lions passt guard',\n",
       " \"B A 3 ram's faces\",\n",
       " 'O GB chevron betw 3 eagles',\n",
       " 'B OO 3 fleurs-de-lis & chief',\n",
       " 'O G 2 lions passt',\n",
       " 'O GG 2 bars undy acc. orle of martlets',\n",
       " 'G A 3 lions',\n",
       " 'S A 6 horseshoes',\n",
       " 'A G 3 escutcheons',\n",
       " 'G AB cross ch. 5 crescents',\n",
       " 'O G 2 bars',\n",
       " 'B O 3 bars undy',\n",
       " 'O G 3 fleurs-de-lis',\n",
       " 'A X OG 3 bars checky',\n",
       " \"A SG chevron betw 3 boar's heads\",\n",
       " 'A BO fess ch. 3 mullets',\n",
       " \"B A 3 bear's heads\",\n",
       " \"O XG AB chevron checky acc. 3 boar's heads\",\n",
       " 'A SA chevron ch. 3 mullets',\n",
       " \"B O 3 leopard's heads\",\n",
       " 'G AG chevron ch. 2 lions and rose',\n",
       " 'A SS chevron betw 3 fleurs-de-lis',\n",
       " 'A G 6 roses',\n",
       " \"A SG chevron betw 3 leopard's heads\",\n",
       " \"A S 3 stag's faces\",\n",
       " 'A V 2 lions passt',\n",
       " 'A GGO 2 bars gemelles & chief ch. lion passt',\n",
       " \"A GS chevron betw 3 boar's heads\",\n",
       " 'A SS 2 fish in saltire & border engrailed',\n",
       " \"A G 2 bear's heads addorsed\",\n",
       " 'G OB 3 lions & border engrailed',\n",
       " 'O G 2 lions passt cr.',\n",
       " 'A GO 3 chevrons & border',\n",
       " 'G OBO 3 lions passt guard & border flory',\n",
       " 'A G 2 bars',\n",
       " 'A S 2 bars dancetty',\n",
       " 'A BG lion cr. & 2 bars',\n",
       " 'A OG fess ch. 3 pales undy',\n",
       " 'A GG fess betw 3 fleurs-de-lis',\n",
       " 'G OS chevron ch. 3 eagles',\n",
       " 'B OA 3 mullets & chief',\n",
       " 'A G 2 lions rampant addorsed',\n",
       " 'B O 3 escutcheons',\n",
       " \"S AA fess acc. 3 lion's heads cr.\",\n",
       " 'S A 3 eagles',\n",
       " 'O GG fess betw 2 chevrons',\n",
       " 'G A 2 lions passt',\n",
       " 'A B 2 bars',\n",
       " 'A GOA chief ch. fleur-de-lis betw 2 mullets']"
      ]
     },
     "execution_count": 18,
     "metadata": {},
     "output_type": "execute_result"
    }
   ],
   "source": [
    "pl_labels = pl_automata.get_valid_plural_labels(all_labels)\n",
    "print(len(pl_labels))\n",
    "pl_labels"
   ]
  },
  {
   "cell_type": "markdown",
   "id": "22d40189",
   "metadata": {},
   "source": [
    "# How big is your dataset with the border?"
   ]
  },
  {
   "cell_type": "code",
   "execution_count": 19,
   "id": "ac80e934",
   "metadata": {},
   "outputs": [
    {
     "name": "stdout",
     "output_type": "stream",
     "text": [
      "21\n"
     ]
    },
    {
     "data": {
      "text/plain": [
       "['B OA 3 fleurs-de-lis & border',\n",
       " 'B OO cross & border',\n",
       " 'A GOO chief ch. 2 roses & border',\n",
       " 'O GX AG 3 bars & border checky',\n",
       " 'O GB 3 bars & border',\n",
       " 'O GZ eagle & border',\n",
       " 'O SX AG saltire & border compony',\n",
       " 'S AO lion chained cr. & border',\n",
       " 'G AO rose & border',\n",
       " 'G AB fess & border',\n",
       " 'G AO eagle & border',\n",
       " 'A VG fess & border',\n",
       " 'B OG 3 fleurs-de-lis & border',\n",
       " 'A GSO lion & border roundely',\n",
       " 'O SBO cross & border flory',\n",
       " 'A SB saltire & border',\n",
       " 'A SS 2 fish in saltire & border engrailed',\n",
       " 'G OB 3 lions & border engrailed',\n",
       " 'A GO 3 chevrons & border',\n",
       " 'G OBO 3 lions passt guard & border flory',\n",
       " 'A GX OB saltire & border compony undy']"
      ]
     },
     "execution_count": 19,
     "metadata": {},
     "output_type": "execute_result"
    }
   ],
   "source": [
    "b_labels = pl_automata.get_valid_labels_of(all_labels, 'border')\n",
    "print(len(b_labels))\n",
    "b_labels"
   ]
  },
  {
   "cell_type": "code",
   "execution_count": 20,
   "id": "10195e29",
   "metadata": {},
   "outputs": [
    {
     "name": "stdout",
     "output_type": "stream",
     "text": [
      "12\n"
     ]
    },
    {
     "data": {
      "text/plain": [
       "['B OO cross & border',\n",
       " 'O GZ eagle & border',\n",
       " 'O SX AG saltire & border compony',\n",
       " 'S AO lion chained cr. & border',\n",
       " 'G AO rose & border',\n",
       " 'G AB fess & border',\n",
       " 'G AO eagle & border',\n",
       " 'A VG fess & border',\n",
       " 'A GSO lion & border roundely',\n",
       " 'O SBO cross & border flory',\n",
       " 'A SB saltire & border',\n",
       " 'A GX OB saltire & border compony undy']"
      ]
     },
     "execution_count": 20,
     "metadata": {},
     "output_type": "execute_result"
    }
   ],
   "source": [
    "b_labels = simple_automata.get_valid_labels_of(all_labels, 'border')\n",
    "print(len(b_labels))\n",
    "b_labels"
   ]
  },
  {
   "cell_type": "markdown",
   "id": "cc52c6bb",
   "metadata": {},
   "source": [
    "# get simple valid labels with lion"
   ]
  },
  {
   "cell_type": "code",
   "execution_count": 21,
   "id": "f12b04ff",
   "metadata": {},
   "outputs": [
    {
     "name": "stdout",
     "output_type": "stream",
     "text": [
      "45\n"
     ]
    },
    {
     "data": {
      "text/plain": [
       "['O GO lion guard ch. cross',\n",
       " 'O S lion rampant',\n",
       " 'O G lion rampant',\n",
       " 'B A lion cr.',\n",
       " 'A G lion rampant',\n",
       " 'S AO lion chained cr. & border',\n",
       " 'G BA chief ch. lion isst',\n",
       " 'A GO lion roundely',\n",
       " \"A G lion's head\",\n",
       " 'A GB lion acc. fess',\n",
       " 'A GO chief indented ch. lion passt guard',\n",
       " 'O G lion guard',\n",
       " 'A SG lion acc. fess',\n",
       " 'S X AO lion hooded',\n",
       " 'O X GB lion hooded',\n",
       " 'G AB chief ch. lion isst',\n",
       " 'O GZ lion & chief',\n",
       " 'B O lion rampant',\n",
       " 'G A lion rampant',\n",
       " 'B GO lion & chief',\n",
       " 'O Z lion cr.',\n",
       " 'A S lion rampant',\n",
       " 'O B lion rampant',\n",
       " 'A GS fess acc. lion isst',\n",
       " 'G E lion cr.',\n",
       " 'A B lion rampant',\n",
       " 'G O lion rampant',\n",
       " 'S A lion cr.',\n",
       " 'A S lion passt',\n",
       " 'O S lion cr.',\n",
       " 'G O lion passt guard',\n",
       " 'A GSO lion & border roundely',\n",
       " 'O V lion passt',\n",
       " 'A G lion cr.',\n",
       " 'G A lion cr.',\n",
       " 'B A lion rampant',\n",
       " 'O SX EG lion acc. bend compony',\n",
       " 'S AG lion acc. bend engrailed',\n",
       " 'O G lion cr.',\n",
       " 'O GA chief ch. lion passt',\n",
       " 'S O lion rampant',\n",
       " 'V O lion rampant',\n",
       " 'B G lion passt',\n",
       " 'G A lion passt guard',\n",
       " 'S A lion rampant']"
      ]
     },
     "execution_count": 21,
     "metadata": {},
     "output_type": "execute_result"
    }
   ],
   "source": [
    "lion_labels = simple_automata.get_valid_labels_of(all_labels, 'lion')\n",
    "print(len(lion_labels))\n",
    "lion_labels"
   ]
  },
  {
   "cell_type": "code",
   "execution_count": 22,
   "id": "b29e73e6",
   "metadata": {},
   "outputs": [],
   "source": [
    "# checking the Armoria API manually\n",
    "    \n",
    "LION_MODIFIERS_MAP = {\n",
    "    'lion passt': 'lionPassant',\n",
    "    'lion passt guard': 'lionPassantGuardant',\n",
    "    'lion rampant': 'lionRampant',\n",
    "    \"lion's head\": 'lionHeadCaboshed'\n",
    "}\n",
    "\n"
   ]
  },
  {
   "cell_type": "markdown",
   "id": "69ff0e50",
   "metadata": {},
   "source": [
    "# get simple valid labels with cross"
   ]
  },
  {
   "cell_type": "code",
   "execution_count": 23,
   "id": "d079f127",
   "metadata": {},
   "outputs": [
    {
     "name": "stdout",
     "output_type": "stream",
     "text": [
      "26\n"
     ]
    },
    {
     "data": {
      "text/plain": [
       "['O GO lion guard ch. cross',\n",
       " 'B OO cross & border',\n",
       " 'S O cross moline',\n",
       " 'G O cross patonce',\n",
       " 'B A cross',\n",
       " 'A G cross moline',\n",
       " 'G A cross',\n",
       " 'O G cross engrailed',\n",
       " 'A G cross patonce',\n",
       " 'S A cross moline',\n",
       " 'A X AG cross moline vairy',\n",
       " 'B O cross',\n",
       " 'S O cross engrailed',\n",
       " 'O V cross moline',\n",
       " 'O V cross',\n",
       " 'A G cross',\n",
       " 'B AO escutcheon acc. orle of cross crosslets',\n",
       " 'G O cross moline',\n",
       " 'G Z cross moline',\n",
       " 'A B cross',\n",
       " 'O SBO cross & border flory',\n",
       " 'G E cross',\n",
       " 'A G cross engrailed',\n",
       " 'O S cross engrailed',\n",
       " 'S A cross engrailed',\n",
       " 'O G cross']"
      ]
     },
     "execution_count": 23,
     "metadata": {},
     "output_type": "execute_result"
    }
   ],
   "source": [
    "cross_labels = simple_automata.get_valid_labels_of(all_labels, 'cross')\n",
    "print(len(cross_labels))\n",
    "cross_labels"
   ]
  },
  {
   "cell_type": "code",
   "execution_count": 31,
   "id": "2b8c922d",
   "metadata": {},
   "outputs": [],
   "source": [
    "# checking the Armoria API manually\n",
    "    \n",
    "CROSS_MODIFIERS_MAP = {\n",
    "    'cross': 'crossHummetty' ,\n",
    "    'cross moline': 'crossMoline',\n",
    "    'cross patonce': 'crossPatonce',\n",
    "}\n",
    "\n"
   ]
  },
  {
   "cell_type": "markdown",
   "id": "c321f58f",
   "metadata": {},
   "source": [
    "# get simple valid labels with eagle"
   ]
  },
  {
   "cell_type": "code",
   "execution_count": 32,
   "id": "97307f52",
   "metadata": {},
   "outputs": [
    {
     "name": "stdout",
     "output_type": "stream",
     "text": [
      "26\n"
     ]
    },
    {
     "data": {
      "text/plain": [
       "['O G eagle',\n",
       " 'B A eagle',\n",
       " 'O GZ eagle & border',\n",
       " 'O BG eagle ch. crescent',\n",
       " 'O BX AG eagle ch. crescent checky',\n",
       " \"O S eagle's head\",\n",
       " 'O SA eagle ch. crescent',\n",
       " 'G AO eagle ch. crescent',\n",
       " \"A G dragon with eagle's wings\",\n",
       " 'B O eagle',\n",
       " 'G A eagle',\n",
       " 'B O eagle cr.',\n",
       " 'A GO eagle ch. crescent',\n",
       " 'S A eagle',\n",
       " 'G AO eagle & border',\n",
       " 'O S eagle',\n",
       " 'O GZ eagle doubleheaded cr. & chief',\n",
       " 'O S eagle doubleheaded',\n",
       " 'G O eagle',\n",
       " 'A G eagle doubleheaded',\n",
       " 'A SG eagle doubleheaded & bend',\n",
       " 'O BG eagle & bend',\n",
       " 'G A eagle cr.',\n",
       " 'S AO eagle ch. crescent',\n",
       " 'A S eagle',\n",
       " 'A B eagle doubleheaded']"
      ]
     },
     "execution_count": 32,
     "metadata": {},
     "output_type": "execute_result"
    }
   ],
   "source": [
    "eagle_labels = simple_automata.get_valid_labels_of(all_labels, 'eagle')\n",
    "print(len(eagle_labels))\n",
    "eagle_labels"
   ]
  },
  {
   "cell_type": "code",
   "execution_count": 33,
   "id": "71f6ebba",
   "metadata": {},
   "outputs": [],
   "source": [
    "# checking the Armoria API manually\n",
    "    \n",
    "EAGLE_MODIFIERS_MAP = {\n",
    "    'eagle': 'eagle' ,\n",
    "    'eagle doubleheaded': 'eagleTwoHeards',\n",
    "}\n",
    "\n"
   ]
  },
  {
   "cell_type": "code",
   "execution_count": 34,
   "id": "d1c6b929",
   "metadata": {},
   "outputs": [
    {
     "name": "stdout",
     "output_type": "stream",
     "text": [
      "0\n"
     ]
    },
    {
     "data": {
      "text/plain": [
       "[]"
      ]
     },
     "execution_count": 34,
     "metadata": {},
     "output_type": "execute_result"
    }
   ],
   "source": [
    "labels = simple_automata.get_valid_labels_of(all_labels, 'per pale')\n",
    "print(len(labels))\n",
    "labels"
   ]
  },
  {
   "cell_type": "code",
   "execution_count": null,
   "id": "da439184",
   "metadata": {},
   "outputs": [],
   "source": []
  },
  {
   "cell_type": "code",
   "execution_count": null,
   "id": "ef98d1d6",
   "metadata": {},
   "outputs": [],
   "source": []
  }
 ],
 "metadata": {
  "kernelspec": {
   "display_name": "Python 3 (ipykernel)",
   "language": "python",
   "name": "python3"
  },
  "language_info": {
   "codemirror_mode": {
    "name": "ipython",
    "version": 3
   },
   "file_extension": ".py",
   "mimetype": "text/x-python",
   "name": "python",
   "nbconvert_exporter": "python",
   "pygments_lexer": "ipython3",
   "version": "3.8.11"
  }
 },
 "nbformat": 4,
 "nbformat_minor": 5
}
