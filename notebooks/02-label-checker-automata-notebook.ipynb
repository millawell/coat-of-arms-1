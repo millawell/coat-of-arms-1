{
 "cells": [
  {
   "cell_type": "code",
   "execution_count": 5,
   "id": "664e06f4",
   "metadata": {},
   "outputs": [],
   "source": [
    "from src.dataset import Dataset\n",
    "from src.label_checker_automata import LabelCheckerAutomata\n",
    "import src.utils as utils"
   ]
  },
  {
   "cell_type": "markdown",
   "id": "b5126bbb",
   "metadata": {},
   "source": [
    "## Load data and all labels"
   ]
  },
  {
   "cell_type": "code",
   "execution_count": 6,
   "id": "91b43f42",
   "metadata": {},
   "outputs": [],
   "source": [
    "dataset = Dataset('dataset/2021-03-19_classification-labeling-results.json')\n",
    "all_labels = dataset.all_answers"
   ]
  },
  {
   "cell_type": "markdown",
   "id": "e3bd2295",
   "metadata": {},
   "source": [
    "## Check if the labels match our automata "
   ]
  },
  {
   "cell_type": "code",
   "execution_count": 7,
   "id": "6e8f0d3b",
   "metadata": {},
   "outputs": [
    {
     "name": "stdout",
     "output_type": "stream",
     "text": [
      "Total number of labels 3001\n",
      "Valid labels 671\n",
      "Invalid labels 2330\n"
     ]
    }
   ],
   "source": [
    "automata = LabelCheckerAutomata()\n",
    "validated_labels = automata.get_valid_labels(all_labels)\n",
    "\n",
    "total = len(all_labels)\n",
    "valid = sum(validated_labels.values())\n",
    "print('Total number of labels', total)\n",
    "print('Valid labels', valid)\n",
    "print('Invalid labels', total - valid)"
   ]
  },
  {
   "cell_type": "markdown",
   "id": "fe284737",
   "metadata": {},
   "source": [
    "# create simple automata"
   ]
  },
  {
   "cell_type": "code",
   "execution_count": 8,
   "id": "65043170",
   "metadata": {},
   "outputs": [
    {
     "name": "stdout",
     "output_type": "stream",
     "text": [
      "Total number of labels 3001\n",
      "Valid labels 424\n",
      "Invalid labels 2577\n"
     ]
    }
   ],
   "source": [
    "simple_automata = LabelCheckerAutomata(support_plural=False)\n",
    "validated_simple_labels = simple_automata.get_valid_labels(all_labels)\n",
    "    \n",
    "total = len(all_labels)\n",
    "valid = sum(validated_simple_labels.values())\n",
    "print('Total number of labels', total)\n",
    "print('Valid labels', valid)\n",
    "print('Invalid labels', total - valid)\n"
   ]
  },
  {
   "cell_type": "markdown",
   "id": "cc52c6bb",
   "metadata": {},
   "source": [
    "# get simple valid labels with lion"
   ]
  },
  {
   "cell_type": "code",
   "execution_count": 9,
   "id": "f12b04ff",
   "metadata": {},
   "outputs": [
    {
     "name": "stdout",
     "output_type": "stream",
     "text": [
      "80\n"
     ]
    },
    {
     "data": {
      "text/plain": [
       "['O GAA lion enthroned holding sword',\n",
       " 'O GO lion guard ch. cross',\n",
       " 'O S lion rampant',\n",
       " 'B AO lion cr., crusily',\n",
       " 'O G+ cross & canton {Ar lion Sa}',\n",
       " 'G OA lion holding axe',\n",
       " 'O G lion rampant',\n",
       " 'B A lion cr.',\n",
       " 'S AO lion cr., billety',\n",
       " 'A O lion holding arrow piercing its head',\n",
       " 'A G lion rampant',\n",
       " 'X G BA per fess & lion',\n",
       " 'S AO lion chained cr. & border',\n",
       " 'G BA chief ch. lion isst',\n",
       " 'A GO lion holding cup covered',\n",
       " 'A GO lion roundely',\n",
       " \"A G lion's head\",\n",
       " 'A GB lion acc. fess',\n",
       " 'A GO chief indented ch. lion passt guard',\n",
       " 'O SAG per pale lion  isst & eagle isst',\n",
       " 'A GV lion holding trunk',\n",
       " \"O B lion's head engorging annulet\",\n",
       " \"A GV lion and eagle's claw winged sn\",\n",
       " 'X BO AG per pale lozengy & lion',\n",
       " 'O G lion guard',\n",
       " 'A SG lion acc. fess',\n",
       " 'A SG fess acc. lion q.f. isst',\n",
       " 'S AA lion cr., trefly',\n",
       " 'S X AO lion hooded',\n",
       " 'A G lion q.f. cr.',\n",
       " 'S AG lion holding trunk',\n",
       " 'O X GB lion hooded',\n",
       " 'O S lion naissant',\n",
       " 'G AB chief ch. lion isst',\n",
       " 'X G OA per pale & lion passt guard',\n",
       " 'B OG roundel ch. lion passt',\n",
       " 'E -GO label semy of lions passt guard',\n",
       " 'S A lion q.f.',\n",
       " 'X S GA barruly & lion',\n",
       " 'O GZ lion & chief',\n",
       " 'B OO lion, semy of mullets',\n",
       " 'B O lion rampant',\n",
       " 'B AO lion naissant, flory',\n",
       " 'G A lion rampant',\n",
       " 'A G+ cross engrailed acc. escutch {Sa lion Ar} in chf dx',\n",
       " 'B GO lion & chief',\n",
       " 'O Z lion cr.',\n",
       " 'A S lion rampant',\n",
       " 'O B lion rampant',\n",
       " 'A GS fess acc. lion isst',\n",
       " 'X S AG barruly & lion collared',\n",
       " 'X G BO barruly & lion',\n",
       " 'G E lion cr.',\n",
       " 'B OAG semy of fleurs-de-lis acc. lion in chf dx & border',\n",
       " 'A B lion rampant',\n",
       " 'G O lion rampant',\n",
       " 'S A lion cr.',\n",
       " 'A S lion passt',\n",
       " 'O S lion cr.',\n",
       " 'G O lion passt guard',\n",
       " 'A GSO lion & border roundely',\n",
       " 'A SO lion gutty',\n",
       " 'O V lion passt',\n",
       " 'A G lion cr.',\n",
       " 'G A lion cr.',\n",
       " 'B A lion rampant',\n",
       " 'X G AB barruly & lion',\n",
       " 'O SX EG lion acc. bend compony',\n",
       " 'S AG lion acc. bend engrailed',\n",
       " 'O G lion cr.',\n",
       " 'O SA lion & border trefly',\n",
       " 'O GA chief ch. lion passt',\n",
       " 'S O lion rampant',\n",
       " 'X S OG barruly & lion',\n",
       " 'V O lion rampant',\n",
       " 'B G lion passt',\n",
       " 'B OG per fess crenely masoned acc. lion isst',\n",
       " 'A G lion q.f.',\n",
       " 'G A lion passt guard',\n",
       " 'S A lion rampant']"
      ]
     },
     "execution_count": 9,
     "metadata": {},
     "output_type": "execute_result"
    }
   ],
   "source": [
    "lion_labels = simple_automata.get_valid_labels_of(all_labels, 'lion')\n",
    "print(len(lion_labels))\n",
    "lion_labels"
   ]
  },
  {
   "cell_type": "code",
   "execution_count": 10,
   "id": "b29e73e6",
   "metadata": {},
   "outputs": [],
   "source": [
    "# checking the Armoria API manually\n",
    "    \n",
    "LION_MODIFIERS_MAP = {\n",
    "    'lion passt': 'lionPassant',\n",
    "    'lion passt guard': 'lionPassantGuardant',\n",
    "    'lion rampant': 'lionRampant',\n",
    "    \"lion's head\": 'lionHeadCaboshed'\n",
    "}\n",
    "\n"
   ]
  },
  {
   "cell_type": "markdown",
   "id": "69ff0e50",
   "metadata": {},
   "source": [
    "# get simple valid labels with cross"
   ]
  },
  {
   "cell_type": "code",
   "execution_count": 11,
   "id": "d079f127",
   "metadata": {},
   "outputs": [
    {
     "name": "stdout",
     "output_type": "stream",
     "text": [
      "34\n"
     ]
    },
    {
     "data": {
      "text/plain": [
       "['B O cross potenty fitchy',\n",
       " 'O GO lion guard ch. cross',\n",
       " 'B OO cross & border',\n",
       " 'O G+ cross & canton {Ar lion Sa}',\n",
       " 'S O cross moline',\n",
       " 'G O cross patonce',\n",
       " 'V OE semy of crosslets & chief',\n",
       " 'B A cross',\n",
       " 'A G cross moline',\n",
       " 'G A cross',\n",
       " 'O G cross engrailed',\n",
       " 'A G cross patonce',\n",
       " 'S A cross moline',\n",
       " 'A X AG cross moline vairy',\n",
       " 'A SO cross fretty',\n",
       " 'B O cross',\n",
       " 'A G+ cross engrailed acc. escutch {Sa lion Ar} in chf dx',\n",
       " 'S O cross engrailed',\n",
       " 'O V cross moline',\n",
       " 'O V cross',\n",
       " 'A G cross',\n",
       " 'B AO escutcheon acc. orle of cross crosslets',\n",
       " 'G O cross moline',\n",
       " 'O SA cross fretty',\n",
       " 'G Z cross moline',\n",
       " 'A B cross',\n",
       " 'A G cross formy',\n",
       " 'O SBO cross & border flory',\n",
       " 'G E cross',\n",
       " 'A G cross engrailed',\n",
       " 'O S cross engrailed',\n",
       " 'O GA cross fretty',\n",
       " 'S A cross engrailed',\n",
       " 'O G cross']"
      ]
     },
     "execution_count": 11,
     "metadata": {},
     "output_type": "execute_result"
    }
   ],
   "source": [
    "cross_labels = simple_automata.get_valid_labels_of(all_labels, 'cross')\n",
    "print(len(cross_labels))\n",
    "cross_labels"
   ]
  },
  {
   "cell_type": "code",
   "execution_count": 12,
   "id": "2b8c922d",
   "metadata": {},
   "outputs": [],
   "source": [
    "# checking the Armoria API manually\n",
    "    \n",
    "CROSS_MODIFIERS_MAP = {\n",
    "    'cross': 'crossHummetty' ,\n",
    "    'cross moline': 'crossMoline',\n",
    "    'cross patonce': 'crossPatonce',\n",
    "}\n",
    "\n"
   ]
  },
  {
   "cell_type": "markdown",
   "id": "c321f58f",
   "metadata": {},
   "source": [
    "# get simple valid labels with eagle"
   ]
  },
  {
   "cell_type": "code",
   "execution_count": 13,
   "id": "97307f52",
   "metadata": {},
   "outputs": [
    {
     "name": "stdout",
     "output_type": "stream",
     "text": [
      "37\n"
     ]
    },
    {
     "data": {
      "text/plain": [
       "['O G eagle',\n",
       " 'B A eagle',\n",
       " 'O GZ eagle & border',\n",
       " 'A OA crown with eagle isst',\n",
       " 'O BG eagle ch. crescent',\n",
       " 'O BX AG eagle ch. crescent checky',\n",
       " 'A GO eagle cr. boned trefly',\n",
       " \"O S eagle's head\",\n",
       " 'O SA eagle ch. crescent',\n",
       " 'G AO eagle ch. crescent',\n",
       " 'O SAG per pale lion  isst & eagle isst',\n",
       " \"A G dragon with eagle's wings\",\n",
       " 'B O eagle',\n",
       " 'G A eagle',\n",
       " 'B O eagle cr.',\n",
       " 'X GS AO per pale & eagle per pale',\n",
       " 'X SG OA per pale & eagle per pale',\n",
       " \"A GV lion and eagle's claw winged sn\",\n",
       " 'A GO eagle ch. crescent',\n",
       " 'S A eagle',\n",
       " 'G AO eagle & border',\n",
       " 'O S eagle per fess',\n",
       " 'G A per pale & eagle doubleheaded cch & border cch',\n",
       " 'O S eagle',\n",
       " 'O GZ eagle doubleheaded cr. & chief',\n",
       " 'O S eagle doubleheaded',\n",
       " 'G O eagle',\n",
       " 'A G eagle doubleheaded',\n",
       " 'A SG eagle doubleheaded & bend',\n",
       " 'O BG eagle & bend',\n",
       " 'G A eagle cr.',\n",
       " 'S AO eagle ch. crescent',\n",
       " 'A S eagle',\n",
       " 'O S+ eagle ch. escutch {lozengy Ar-Sa}',\n",
       " 'O X SG eagle per pale',\n",
       " 'B OOG per bend estoile & eagle per bend',\n",
       " 'A B eagle doubleheaded']"
      ]
     },
     "execution_count": 13,
     "metadata": {},
     "output_type": "execute_result"
    }
   ],
   "source": [
    "eagle_labels = simple_automata.get_valid_labels_of(all_labels, 'eagle')\n",
    "print(len(eagle_labels))\n",
    "eagle_labels"
   ]
  },
  {
   "cell_type": "code",
   "execution_count": 14,
   "id": "71f6ebba",
   "metadata": {},
   "outputs": [],
   "source": [
    "# checking the Armoria API manually\n",
    "    \n",
    "EAGLE_MODIFIERS_MAP = {\n",
    "    'eagle': 'eagle' ,\n",
    "    'eagle doubleheaded': 'eagleTwoHeards',\n",
    "}\n",
    "\n"
   ]
  },
  {
   "cell_type": "code",
   "execution_count": 16,
   "id": "d1c6b929",
   "metadata": {},
   "outputs": [
    {
     "name": "stdout",
     "output_type": "stream",
     "text": [
      "28\n"
     ]
    },
    {
     "data": {
      "text/plain": [
       "['S X AG chief per pale',\n",
       " \"A G per pale & bull's face cch\",\n",
       " 'A G per pale & fess cch',\n",
       " 'X G SA per pale & chief',\n",
       " 'X A BG per pale & per chevron embowed',\n",
       " 'A X GS chief per pale',\n",
       " 'S X OA chief per pale',\n",
       " 'X O AS per pale & fess',\n",
       " 'A GAG per pale barry & dragon',\n",
       " 'O G per pale & fess cch',\n",
       " 'O SAG per pale lion  isst & eagle isst',\n",
       " 'X GS AO per pale & eagle per pale',\n",
       " 'X SG OA per pale & eagle per pale',\n",
       " 'G VA per pale plain & fess',\n",
       " 'A G per pale & per chevron cch',\n",
       " 'X BO AG per pale lozengy & lion',\n",
       " 'S O bugle-horn stringed per pale',\n",
       " 'X G OA per pale & lion passt guard',\n",
       " 'O S per pale & chevron cch',\n",
       " 'O S per pale & attire cch',\n",
       " 'G A per pale & eagle doubleheaded cch & border cch',\n",
       " 'O BX AG gironny acc. escutcheon per pale',\n",
       " 'O X SG eagle per pale',\n",
       " 'X S GA per pale & fish trap',\n",
       " 'O X AB chief per pale',\n",
       " 'B X AG chief per pale',\n",
       " 'G BA per pale plain & per fess',\n",
       " \"A GGA per pale antler & bull's horn = Rogala B\"]"
      ]
     },
     "execution_count": 16,
     "metadata": {},
     "output_type": "execute_result"
    }
   ],
   "source": [
    "labels = simple_automata.get_valid_labels_of(all_labels, 'per pale')\n",
    "print(len(labels))\n",
    "labels"
   ]
  },
  {
   "cell_type": "code",
   "execution_count": null,
   "id": "da439184",
   "metadata": {},
   "outputs": [],
   "source": []
  }
 ],
 "metadata": {
  "kernelspec": {
   "display_name": "Python 3 (ipykernel)",
   "language": "python",
   "name": "python3"
  },
  "language_info": {
   "codemirror_mode": {
    "name": "ipython",
    "version": 3
   },
   "file_extension": ".py",
   "mimetype": "text/x-python",
   "name": "python",
   "nbconvert_exporter": "python",
   "pygments_lexer": "ipython3",
   "version": "3.8.11"
  }
 },
 "nbformat": 4,
 "nbformat_minor": 5
}
