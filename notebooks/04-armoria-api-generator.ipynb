{
 "cells": [
  {
   "cell_type": "markdown",
   "id": "101e5655",
   "metadata": {},
   "source": [
    "# Armoria API"
   ]
  },
  {
   "cell_type": "code",
   "execution_count": 3,
   "id": "afa9a8d3",
   "metadata": {},
   "outputs": [
    {
     "name": "stdout",
     "output_type": "stream",
     "text": [
      "The autoreload extension is already loaded. To reload it, use:\n",
      "  %reload_ext autoreload\n",
      "The pyinstrument extension is already loaded. To reload it, use:\n",
      "  %reload_ext pyinstrument\n"
     ]
    }
   ],
   "source": [
    "# auto-load when code changes outside\n",
    "%load_ext autoreload\n",
    "%autoreload 2\n",
    "%load_ext pyinstrument\n",
    "\n",
    "import sys\n",
    "sys.path.insert(0,'..')\n",
    "\n",
    "\n",
    "import os\n",
    "from src.armoria_api import ArmoriaAPIPayload, ArmoriaAPIWrapper\n",
    "from src.caption import Caption\n"
   ]
  },
  {
   "cell_type": "markdown",
   "id": "bd4d09b5",
   "metadata": {},
   "source": [
    "# Examples of using the ArmoriaAPIWrapper "
   ]
  },
  {
   "cell_type": "code",
   "execution_count": 4,
   "id": "e6698cfd",
   "metadata": {},
   "outputs": [
    {
     "name": "stderr",
     "output_type": "stream",
     "text": [
      "display-im6.q16: unable to open X server `' @ error/display.c/DisplayImageCommand/432.\n",
      "display-im6.q16: unable to open X server `' @ error/display.c/DisplayImageCommand/432.\n"
     ]
    }
   ],
   "source": [
    "coa_lion = {\"t1\":\"or\",\n",
    "       \"shield\":\"heater\",\n",
    "       \"charges\":[{\"charge\":\"lionRampant\",\"t\":\"gules\",\"p\":\"e\",\"size\":1.5}],\n",
    "       \"ordinaries\":[{\"ordinary\":\"bordure\",\"t\":\"azure\"}],\n",
    "      }\n",
    "\n",
    "api = ArmoriaAPIWrapper(size = 500,format=\"png\", coa=coa_lion)\n",
    "api.show_image()\n",
    "\n",
    "coa_cross = {\"t1\":\"argent\",\n",
    "       \"shield\":\"heater\",\n",
    "       \"charges\":[{\"charge\":\"crossMoline\",\n",
    "                   \"t\":\"azure\",\n",
    "                   \"p\":\"e\",\n",
    "                   \"size\":1.5}]\n",
    "      }\n",
    "\n",
    "api = ArmoriaAPIWrapper(size = 500,format=\"png\", coa=coa_cross)\n",
    "api.show_image()"
   ]
  },
  {
   "cell_type": "code",
   "execution_count": 68,
   "id": "3bc6a9bc",
   "metadata": {},
   "outputs": [],
   "source": [
    "payload = {'t1': 'azure', 'shield': 'heater', \n",
    "             'charges': [{'charge': 'lionRampant', 't': 'argent', 'p': 'k', 'size': '0.7'},\n",
    "                        {'charge': 'eagle', 't': 'or', 'p': 'n', 'size': '0.7'}],\n",
    "             'ordinaries': []}\n",
    "api = ArmoriaAPIWrapper(size = 500,format=\"png\", coa=payload)\n",
    "api.show_image()\n"
   ]
  },
  {
   "cell_type": "code",
   "execution_count": 4,
   "id": "15fd59ff",
   "metadata": {},
   "outputs": [],
   "source": [
    "payload = {'t1': 'or', 'shield': 'heater', \n",
    "             'charges': [{'charge': 'lionRampant', 't': 'or', 'p': 'abc', 'size': '0.3'},\n",
    "                         {'charge': 'eagle', 't': 'azure', 'p': 'dfgz', 'size': '0.3'},\n",
    "                         {'charge': 'crossHummetty', 't': 'argent', 'p': 'i', 'size': '0.3'}],\n",
    "             'ordinaries': [{\"ordinary\":\"bordure\", \"t\":\"azure\"}]}\n",
    "\n",
    "api = ArmoriaAPIWrapper(size = 500,format=\"png\", coa=payload)\n",
    "api.show_image()\n"
   ]
  },
  {
   "cell_type": "code",
   "execution_count": 35,
   "id": "9cf1a740",
   "metadata": {},
   "outputs": [],
   "source": [
    "# create a file to store all generated images files names and labels\n",
    "import time\n",
    "\n",
    "def ensure_dir(file_path):\n",
    "    directory = os.path.dirname(file_path)\n",
    "    if not os.path.exists(directory):\n",
    "        os.makedirs(directory)\n",
    "\n",
    "def creat_caption_file(filename):\n",
    "    f = open( filename,\"w+\")\n",
    "    f.write('image,caption')\n",
    "    f.write('\\n')\n",
    "    f.close()\n",
    "\n",
    "def write_image_label_to_file(filename, line):\n",
    "    with open(filename, 'a') as f:\n",
    "        f.write(line)\n",
    "        f.write('\\n')\n",
    "    f.close()\n",
    "\n",
    "def generate_dataset(folder_name, caption_file, permutations, start_index=0):\n",
    "    counter = start_index+1\n",
    "    \n",
    "    try:\n",
    "        for i in range(start_index, len(permutations)):\n",
    "\n",
    "            label = permutations[i]\n",
    "\n",
    "            text_label = ' '.join(label).strip()\n",
    "\n",
    "            struc_label = Caption(text_label,support_plural=True).get_structured()\n",
    "\n",
    "            payload = ArmoriaAPIPayload(struc_label).get_armoria_payload()\n",
    "\n",
    "            api = ArmoriaAPIWrapper(size = 500,format=\"png\", coa=payload)\n",
    "\n",
    "            sample_name = 'image_' + str(counter)\n",
    "\n",
    "            image_full_path = folder_name + '/images/' + sample_name + '.png'\n",
    "\n",
    "            ensure_dir(image_full_path)\n",
    "\n",
    "            api.save_image(image_full_path)\n",
    "\n",
    "            print('Image \"{}\" for label \"{}\" has been generated succfully' .format(image_full_path, text_label) )\n",
    "\n",
    "            counter = i\n",
    "\n",
    "            ## store image labels in on txt file (needed for data loader) \n",
    "            write_image_label_to_file(caption_file, sample_name + '.png,' + text_label)\n",
    "            time.sleep(5)\n",
    "    \n",
    "    except Exception as e: \n",
    "        # keep retrying \n",
    "        print(e)\n",
    "        time.sleep(60)\n",
    "        generate_dataset(folder_name, caption_file, permutations, start_index=counter)\n"
   ]
  },
  {
   "cell_type": "markdown",
   "id": "70e6438b",
   "metadata": {},
   "source": [
    "# Generate Permutations"
   ]
  },
  {
   "cell_type": "code",
   "execution_count": 6,
   "id": "5b84e897",
   "metadata": {},
   "outputs": [],
   "source": [
    "import itertools\n",
    "import src.alphabet as alphabet\n",
    "from src.armoria_api import COLORS_MAP, SINGLE_LION_MODIFIERS_MAP, PLURAL_LION_MODIFIERS_MAP, CROSS_MODIFIERS_MAP, \\\n",
    "SINGLE_EAGLE_MODIFIERS_MAP, PLURAL_EAGLE_MODIFIERS_MAP, \\\n",
    "POSITIONS, SIZES, NUMBERS, NUMBERS_MULTI, SINGLE_POSITION\n",
    "\n",
    "BORDER_MOD = ['& border', '']"
   ]
  },
  {
   "cell_type": "markdown",
   "id": "5b2e308d",
   "metadata": {},
   "source": [
    "## Single object"
   ]
  },
  {
   "cell_type": "code",
   "execution_count": 7,
   "id": "9a4c943e",
   "metadata": {},
   "outputs": [
    {
     "name": "stdout",
     "output_type": "stream",
     "text": [
      "Total number of permutations: 720\n"
     ]
    }
   ],
   "source": [
    "\n",
    "# lion, modifiers and colors\n",
    "permutations1 = list(dict.fromkeys(itertools.product(list(COLORS_MAP.keys()), list(COLORS_MAP.keys()), list( SINGLE_LION_MODIFIERS_MAP.keys()),BORDER_MOD)))\n",
    "\n",
    "# cross, modifiers and colors\n",
    "permutations2 = list(dict.fromkeys(itertools.product(list(COLORS_MAP.keys()), list(COLORS_MAP.keys()), list( CROSS_MODIFIERS_MAP.keys()),BORDER_MOD)))\n",
    "\n",
    "# eagle, modifiers and colors\n",
    "permutations3 = list(dict.fromkeys(itertools.product(list(COLORS_MAP.keys()), list(COLORS_MAP.keys()), list( SINGLE_EAGLE_MODIFIERS_MAP.keys()),BORDER_MOD)))\n",
    "\n",
    "possible_single_permutations = permutations1 + permutations2 + permutations3\n",
    "\n",
    "print('Total number of permutations:', len(possible_single_permutations))"
   ]
  },
  {
   "cell_type": "markdown",
   "id": "5f4e278a",
   "metadata": {},
   "source": [
    "## Plural Object with Number"
   ]
  },
  {
   "cell_type": "code",
   "execution_count": 8,
   "id": "4174816e",
   "metadata": {},
   "outputs": [
    {
     "name": "stdout",
     "output_type": "stream",
     "text": [
      "Total number of plural permutations: 4320\n"
     ]
    }
   ],
   "source": [
    "# lion, modifiers and colors\n",
    "permutations1 = list(dict.fromkeys(itertools.product(list(COLORS_MAP.keys()), list(COLORS_MAP.keys()), list(NUMBERS), list( PLURAL_LION_MODIFIERS_MAP.keys()),BORDER_MOD)))\n",
    "\n",
    "# eagle, modifiers and colors\n",
    "permutations2 = list(dict.fromkeys(itertools.product(list(COLORS_MAP.keys()), list(COLORS_MAP.keys()), list(NUMBERS), list( PLURAL_EAGLE_MODIFIERS_MAP.keys()),BORDER_MOD)))\n",
    "\n",
    "possible_pl_permutations = permutations1 + permutations2\n",
    "\n",
    "print('Total number of plural permutations:', len(possible_pl_permutations))\n"
   ]
  },
  {
   "cell_type": "markdown",
   "id": "1e6e841a",
   "metadata": {},
   "source": [
    "## Multi Objects - single"
   ]
  },
  {
   "cell_type": "code",
   "execution_count": 9,
   "id": "cb0d933f",
   "metadata": {},
   "outputs": [
    {
     "name": "stdout",
     "output_type": "stream",
     "text": [
      "Total number of permutations: 91152\n"
     ]
    }
   ],
   "source": [
    "\n",
    "# lion & eagle\n",
    "permutations1 = list(dict.fromkeys(itertools.product(list(COLORS_MAP.keys()),list(COLORS_MAP.keys()), list(COLORS_MAP.keys()), list( SINGLE_LION_MODIFIERS_MAP.keys()), list( SINGLE_EAGLE_MODIFIERS_MAP.keys()),BORDER_MOD)))\n",
    "\n",
    "# lion & cross\n",
    "permutations2 = list(dict.fromkeys(itertools.product(list(COLORS_MAP.keys()),list(COLORS_MAP.keys()), list(COLORS_MAP.keys()), list( SINGLE_LION_MODIFIERS_MAP.keys()), list( CROSS_MODIFIERS_MAP.keys()),BORDER_MOD)))\n",
    "\n",
    "# eagle & cross\n",
    "permutations3 = list(dict.fromkeys(itertools.product(list(COLORS_MAP.keys()),list(COLORS_MAP.keys()), list(COLORS_MAP.keys()), list( SINGLE_EAGLE_MODIFIERS_MAP.keys()), list( CROSS_MODIFIERS_MAP.keys()),BORDER_MOD)))\n",
    "\n",
    "# lion & cross & eagle\n",
    "permutations4 = list(dict.fromkeys(itertools.product(list(COLORS_MAP.keys()),list(COLORS_MAP.keys()),list(COLORS_MAP.keys()), list(COLORS_MAP.keys()), list( SINGLE_LION_MODIFIERS_MAP.keys()), list( SINGLE_EAGLE_MODIFIERS_MAP.keys()), list( CROSS_MODIFIERS_MAP.keys()),BORDER_MOD)))\n",
    "\n",
    "possible_multi_single_permutations = permutations1 + permutations2 + permutations3 + permutations4\n",
    "\n",
    "print('Total number of permutations:', len(possible_multi_single_permutations))\n"
   ]
  },
  {
   "cell_type": "markdown",
   "id": "44f06b02",
   "metadata": {},
   "source": [
    "## Multi Objects - plural"
   ]
  },
  {
   "cell_type": "code",
   "execution_count": 10,
   "id": "12195c4a",
   "metadata": {},
   "outputs": [
    {
     "name": "stdout",
     "output_type": "stream",
     "text": [
      "Total number of plural permutations: 1081728\n"
     ]
    }
   ],
   "source": [
    "\n",
    "# lion & eagle\n",
    "permutations1 = list(dict.fromkeys(itertools.product(list(COLORS_MAP.keys()),list(COLORS_MAP.keys()), list(COLORS_MAP.keys()), list(NUMBERS_MULTI),list( PLURAL_LION_MODIFIERS_MAP.keys()), list(NUMBERS_MULTI), list( PLURAL_EAGLE_MODIFIERS_MAP.keys()),BORDER_MOD)))\n",
    "\n",
    "# lion & cross\n",
    "permutations2 = list(dict.fromkeys(itertools.product(list(COLORS_MAP.keys()),list(COLORS_MAP.keys()), list(COLORS_MAP.keys()), list(NUMBERS_MULTI),list( PLURAL_LION_MODIFIERS_MAP.keys()), list( CROSS_MODIFIERS_MAP.keys()),BORDER_MOD)))\n",
    "\n",
    "# eagle & cross\n",
    "permutations3 = list(dict.fromkeys(itertools.product(list(COLORS_MAP.keys()),list(COLORS_MAP.keys()), list(COLORS_MAP.keys()), list(NUMBERS_MULTI),list( PLURAL_EAGLE_MODIFIERS_MAP.keys()), list( CROSS_MODIFIERS_MAP.keys()),BORDER_MOD)))\n",
    "\n",
    "# lion & cross & eagle\n",
    "permutations4 = list(dict.fromkeys(itertools.product(list(COLORS_MAP.keys()),list(COLORS_MAP.keys()),list(COLORS_MAP.keys()), list(COLORS_MAP.keys()), list(NUMBERS_MULTI), list( PLURAL_LION_MODIFIERS_MAP.keys()), list(NUMBERS_MULTI),list( PLURAL_EAGLE_MODIFIERS_MAP.keys()), list( CROSS_MODIFIERS_MAP.keys()),BORDER_MOD)))\n",
    "\n",
    "possible_multi_plural_permutations = permutations1 + permutations2 + permutations3 + permutations4\n",
    "\n",
    "print('Total number of plural permutations:', len(possible_multi_plural_permutations))\n"
   ]
  },
  {
   "cell_type": "markdown",
   "id": "92a9c81e",
   "metadata": {},
   "source": [
    "## Total number of permutations before adding border (588960)"
   ]
  },
  {
   "cell_type": "markdown",
   "id": "6e7e5513",
   "metadata": {},
   "source": [
    "## Total number of permutations with/out borders (1177920)"
   ]
  },
  {
   "cell_type": "code",
   "execution_count": 11,
   "id": "0375cc40",
   "metadata": {},
   "outputs": [
    {
     "data": {
      "text/plain": [
       "1177920"
      ]
     },
     "execution_count": 11,
     "metadata": {},
     "output_type": "execute_result"
    }
   ],
   "source": [
    "total_possible_permutations = possible_single_permutations + possible_pl_permutations + \\\n",
    "                            possible_multi_single_permutations  + possible_multi_plural_permutations\n",
    "len(total_possible_permutations)"
   ]
  },
  {
   "cell_type": "code",
   "execution_count": 12,
   "id": "8d30e5a3",
   "metadata": {},
   "outputs": [
    {
     "data": {
      "text/plain": [
       "('A', 'A', 'lion', '& border')"
      ]
     },
     "execution_count": 12,
     "metadata": {},
     "output_type": "execute_result"
    }
   ],
   "source": [
    "total_possible_permutations[0]"
   ]
  },
  {
   "cell_type": "markdown",
   "id": "dddf4763",
   "metadata": {},
   "source": [
    "## Total number of single permutations +  position and scale"
   ]
  },
  {
   "cell_type": "code",
   "execution_count": 33,
   "id": "e9d4fd32",
   "metadata": {},
   "outputs": [],
   "source": [
    "FOLDER_NAME = '/home/space/datasets/COA/generated-data-api-large'\n",
    "caption_file = FOLDER_NAME + '/' + 'captions.txt'\n",
    "# FOLDER_NAME = '../generated'\n",
    "creat_caption_file(caption_file)"
   ]
  },
  {
   "cell_type": "code",
   "execution_count": null,
   "id": "b5359438",
   "metadata": {},
   "outputs": [
    {
     "name": "stdout",
     "output_type": "stream",
     "text": [
      "Image \"/home/space/datasets/COA/generated-data-api-large/images/image_1.png\" for label \"A A lion & border\" has been generated succfully\n",
      "Image \"/home/space/datasets/COA/generated-data-api-large/images/image_0.png\" for label \"A A lion\" has been generated succfully\n",
      "Image \"/home/space/datasets/COA/generated-data-api-large/images/image_1.png\" for label \"A A lion rampant & border\" has been generated succfully\n",
      "Image \"/home/space/datasets/COA/generated-data-api-large/images/image_2.png\" for label \"A A lion rampant\" has been generated succfully\n",
      "Image \"/home/space/datasets/COA/generated-data-api-large/images/image_3.png\" for label \"A A lion passt & border\" has been generated succfully\n",
      "Image \"/home/space/datasets/COA/generated-data-api-large/images/image_4.png\" for label \"A A lion passt\" has been generated succfully\n",
      "Image \"/home/space/datasets/COA/generated-data-api-large/images/image_5.png\" for label \"A A lion passt guard & border\" has been generated succfully\n",
      "Image \"/home/space/datasets/COA/generated-data-api-large/images/image_6.png\" for label \"A A lion passt guard\" has been generated succfully\n",
      "Image \"/home/space/datasets/COA/generated-data-api-large/images/image_7.png\" for label \"A A lion head & border\" has been generated succfully\n",
      "Image \"/home/space/datasets/COA/generated-data-api-large/images/image_8.png\" for label \"A A lion head\" has been generated succfully\n",
      "Image \"/home/space/datasets/COA/generated-data-api-large/images/image_9.png\" for label \"A B lion & border\" has been generated succfully\n",
      "Image \"/home/space/datasets/COA/generated-data-api-large/images/image_10.png\" for label \"A B lion\" has been generated succfully\n",
      "Image \"/home/space/datasets/COA/generated-data-api-large/images/image_11.png\" for label \"A B lion rampant & border\" has been generated succfully\n",
      "Image \"/home/space/datasets/COA/generated-data-api-large/images/image_12.png\" for label \"A B lion rampant\" has been generated succfully\n",
      "Image \"/home/space/datasets/COA/generated-data-api-large/images/image_13.png\" for label \"A B lion passt & border\" has been generated succfully\n",
      "Image \"/home/space/datasets/COA/generated-data-api-large/images/image_14.png\" for label \"A B lion passt\" has been generated succfully\n",
      "Image \"/home/space/datasets/COA/generated-data-api-large/images/image_15.png\" for label \"A B lion passt guard & border\" has been generated succfully\n",
      "Image \"/home/space/datasets/COA/generated-data-api-large/images/image_16.png\" for label \"A B lion passt guard\" has been generated succfully\n",
      "Image \"/home/space/datasets/COA/generated-data-api-large/images/image_17.png\" for label \"A B lion head & border\" has been generated succfully\n",
      "Image \"/home/space/datasets/COA/generated-data-api-large/images/image_18.png\" for label \"A B lion head\" has been generated succfully\n",
      "Image \"/home/space/datasets/COA/generated-data-api-large/images/image_19.png\" for label \"A O lion & border\" has been generated succfully\n",
      "Image \"/home/space/datasets/COA/generated-data-api-large/images/image_20.png\" for label \"A O lion\" has been generated succfully\n",
      "Image \"/home/space/datasets/COA/generated-data-api-large/images/image_21.png\" for label \"A O lion rampant & border\" has been generated succfully\n",
      "Image \"/home/space/datasets/COA/generated-data-api-large/images/image_22.png\" for label \"A O lion rampant\" has been generated succfully\n",
      "Image \"/home/space/datasets/COA/generated-data-api-large/images/image_23.png\" for label \"A O lion passt & border\" has been generated succfully\n",
      "Image \"/home/space/datasets/COA/generated-data-api-large/images/image_24.png\" for label \"A O lion passt\" has been generated succfully\n",
      "Image \"/home/space/datasets/COA/generated-data-api-large/images/image_25.png\" for label \"A O lion passt guard & border\" has been generated succfully\n",
      "Image \"/home/space/datasets/COA/generated-data-api-large/images/image_26.png\" for label \"A O lion passt guard\" has been generated succfully\n",
      "Image \"/home/space/datasets/COA/generated-data-api-large/images/image_27.png\" for label \"A O lion head & border\" has been generated succfully\n",
      "Image \"/home/space/datasets/COA/generated-data-api-large/images/image_28.png\" for label \"A O lion head\" has been generated succfully\n",
      "Image \"/home/space/datasets/COA/generated-data-api-large/images/image_29.png\" for label \"A S lion & border\" has been generated succfully\n",
      "Image \"/home/space/datasets/COA/generated-data-api-large/images/image_30.png\" for label \"A S lion\" has been generated succfully\n",
      "Image \"/home/space/datasets/COA/generated-data-api-large/images/image_31.png\" for label \"A S lion rampant & border\" has been generated succfully\n",
      "Image \"/home/space/datasets/COA/generated-data-api-large/images/image_32.png\" for label \"A S lion rampant\" has been generated succfully\n",
      "Image \"/home/space/datasets/COA/generated-data-api-large/images/image_33.png\" for label \"A S lion passt & border\" has been generated succfully\n",
      "Image \"/home/space/datasets/COA/generated-data-api-large/images/image_34.png\" for label \"A S lion passt\" has been generated succfully\n",
      "Image \"/home/space/datasets/COA/generated-data-api-large/images/image_35.png\" for label \"A S lion passt guard & border\" has been generated succfully\n",
      "Image \"/home/space/datasets/COA/generated-data-api-large/images/image_36.png\" for label \"A S lion passt guard\" has been generated succfully\n",
      "Image \"/home/space/datasets/COA/generated-data-api-large/images/image_37.png\" for label \"A S lion head & border\" has been generated succfully\n",
      "Image \"/home/space/datasets/COA/generated-data-api-large/images/image_38.png\" for label \"A S lion head\" has been generated succfully\n",
      "Image \"/home/space/datasets/COA/generated-data-api-large/images/image_39.png\" for label \"A G lion & border\" has been generated succfully\n",
      "Image \"/home/space/datasets/COA/generated-data-api-large/images/image_40.png\" for label \"A G lion\" has been generated succfully\n",
      "Image \"/home/space/datasets/COA/generated-data-api-large/images/image_41.png\" for label \"A G lion rampant & border\" has been generated succfully\n",
      "Image \"/home/space/datasets/COA/generated-data-api-large/images/image_42.png\" for label \"A G lion rampant\" has been generated succfully\n",
      "Image \"/home/space/datasets/COA/generated-data-api-large/images/image_43.png\" for label \"A G lion passt & border\" has been generated succfully\n",
      "Image \"/home/space/datasets/COA/generated-data-api-large/images/image_44.png\" for label \"A G lion passt\" has been generated succfully\n",
      "Image \"/home/space/datasets/COA/generated-data-api-large/images/image_45.png\" for label \"A G lion passt guard & border\" has been generated succfully\n",
      "Image \"/home/space/datasets/COA/generated-data-api-large/images/image_46.png\" for label \"A G lion passt guard\" has been generated succfully\n",
      "Image \"/home/space/datasets/COA/generated-data-api-large/images/image_47.png\" for label \"A G lion head & border\" has been generated succfully\n",
      "Image \"/home/space/datasets/COA/generated-data-api-large/images/image_48.png\" for label \"A G lion head\" has been generated succfully\n",
      "Image \"/home/space/datasets/COA/generated-data-api-large/images/image_49.png\" for label \"A V lion & border\" has been generated succfully\n",
      "Image \"/home/space/datasets/COA/generated-data-api-large/images/image_50.png\" for label \"A V lion\" has been generated succfully\n",
      "Image \"/home/space/datasets/COA/generated-data-api-large/images/image_51.png\" for label \"A V lion rampant & border\" has been generated succfully\n",
      "Image \"/home/space/datasets/COA/generated-data-api-large/images/image_52.png\" for label \"A V lion rampant\" has been generated succfully\n",
      "Image \"/home/space/datasets/COA/generated-data-api-large/images/image_53.png\" for label \"A V lion passt & border\" has been generated succfully\n",
      "Image \"/home/space/datasets/COA/generated-data-api-large/images/image_54.png\" for label \"A V lion passt\" has been generated succfully\n",
      "Image \"/home/space/datasets/COA/generated-data-api-large/images/image_55.png\" for label \"A V lion passt guard & border\" has been generated succfully\n",
      "Image \"/home/space/datasets/COA/generated-data-api-large/images/image_56.png\" for label \"A V lion passt guard\" has been generated succfully\n",
      "Image \"/home/space/datasets/COA/generated-data-api-large/images/image_57.png\" for label \"A V lion head & border\" has been generated succfully\n",
      "Image \"/home/space/datasets/COA/generated-data-api-large/images/image_58.png\" for label \"A V lion head\" has been generated succfully\n"
     ]
    },
    {
     "name": "stdout",
     "output_type": "stream",
     "text": [
      "Image \"/home/space/datasets/COA/generated-data-api-large/images/image_59.png\" for label \"B A lion & border\" has been generated succfully\n",
      "Image \"/home/space/datasets/COA/generated-data-api-large/images/image_60.png\" for label \"B A lion\" has been generated succfully\n",
      "Image \"/home/space/datasets/COA/generated-data-api-large/images/image_61.png\" for label \"B A lion rampant & border\" has been generated succfully\n",
      "Image \"/home/space/datasets/COA/generated-data-api-large/images/image_62.png\" for label \"B A lion rampant\" has been generated succfully\n",
      "Image \"/home/space/datasets/COA/generated-data-api-large/images/image_63.png\" for label \"B A lion passt & border\" has been generated succfully\n",
      "Image \"/home/space/datasets/COA/generated-data-api-large/images/image_64.png\" for label \"B A lion passt\" has been generated succfully\n",
      "Image \"/home/space/datasets/COA/generated-data-api-large/images/image_65.png\" for label \"B A lion passt guard & border\" has been generated succfully\n",
      "Image \"/home/space/datasets/COA/generated-data-api-large/images/image_66.png\" for label \"B A lion passt guard\" has been generated succfully\n",
      "Image \"/home/space/datasets/COA/generated-data-api-large/images/image_67.png\" for label \"B A lion head & border\" has been generated succfully\n",
      "Image \"/home/space/datasets/COA/generated-data-api-large/images/image_68.png\" for label \"B A lion head\" has been generated succfully\n",
      "Image \"/home/space/datasets/COA/generated-data-api-large/images/image_69.png\" for label \"B B lion & border\" has been generated succfully\n",
      "Image \"/home/space/datasets/COA/generated-data-api-large/images/image_70.png\" for label \"B B lion\" has been generated succfully\n",
      "Image \"/home/space/datasets/COA/generated-data-api-large/images/image_71.png\" for label \"B B lion rampant & border\" has been generated succfully\n",
      "Image \"/home/space/datasets/COA/generated-data-api-large/images/image_72.png\" for label \"B B lion rampant\" has been generated succfully\n",
      "Image \"/home/space/datasets/COA/generated-data-api-large/images/image_73.png\" for label \"B B lion passt & border\" has been generated succfully\n",
      "Image \"/home/space/datasets/COA/generated-data-api-large/images/image_74.png\" for label \"B B lion passt\" has been generated succfully\n",
      "Image \"/home/space/datasets/COA/generated-data-api-large/images/image_75.png\" for label \"B B lion passt guard & border\" has been generated succfully\n",
      "Image \"/home/space/datasets/COA/generated-data-api-large/images/image_76.png\" for label \"B B lion passt guard\" has been generated succfully\n",
      "Image \"/home/space/datasets/COA/generated-data-api-large/images/image_77.png\" for label \"B B lion head & border\" has been generated succfully\n",
      "Image \"/home/space/datasets/COA/generated-data-api-large/images/image_78.png\" for label \"B B lion head\" has been generated succfully\n",
      "Image \"/home/space/datasets/COA/generated-data-api-large/images/image_79.png\" for label \"B O lion & border\" has been generated succfully\n",
      "Image \"/home/space/datasets/COA/generated-data-api-large/images/image_80.png\" for label \"B O lion\" has been generated succfully\n",
      "Image \"/home/space/datasets/COA/generated-data-api-large/images/image_81.png\" for label \"B O lion rampant & border\" has been generated succfully\n",
      "Image \"/home/space/datasets/COA/generated-data-api-large/images/image_82.png\" for label \"B O lion rampant\" has been generated succfully\n",
      "Image \"/home/space/datasets/COA/generated-data-api-large/images/image_83.png\" for label \"B O lion passt & border\" has been generated succfully\n",
      "Image \"/home/space/datasets/COA/generated-data-api-large/images/image_84.png\" for label \"B O lion passt\" has been generated succfully\n",
      "Image \"/home/space/datasets/COA/generated-data-api-large/images/image_85.png\" for label \"B O lion passt guard & border\" has been generated succfully\n",
      "Image \"/home/space/datasets/COA/generated-data-api-large/images/image_86.png\" for label \"B O lion passt guard\" has been generated succfully\n",
      "Image \"/home/space/datasets/COA/generated-data-api-large/images/image_87.png\" for label \"B O lion head & border\" has been generated succfully\n",
      "Image \"/home/space/datasets/COA/generated-data-api-large/images/image_88.png\" for label \"B O lion head\" has been generated succfully\n",
      "Image \"/home/space/datasets/COA/generated-data-api-large/images/image_89.png\" for label \"B S lion & border\" has been generated succfully\n",
      "Image \"/home/space/datasets/COA/generated-data-api-large/images/image_90.png\" for label \"B S lion\" has been generated succfully\n",
      "Image \"/home/space/datasets/COA/generated-data-api-large/images/image_91.png\" for label \"B S lion rampant & border\" has been generated succfully\n",
      "Image \"/home/space/datasets/COA/generated-data-api-large/images/image_92.png\" for label \"B S lion rampant\" has been generated succfully\n",
      "Image \"/home/space/datasets/COA/generated-data-api-large/images/image_93.png\" for label \"B S lion passt & border\" has been generated succfully\n",
      "Image \"/home/space/datasets/COA/generated-data-api-large/images/image_94.png\" for label \"B S lion passt\" has been generated succfully\n",
      "Image \"/home/space/datasets/COA/generated-data-api-large/images/image_95.png\" for label \"B S lion passt guard & border\" has been generated succfully\n",
      "Image \"/home/space/datasets/COA/generated-data-api-large/images/image_96.png\" for label \"B S lion passt guard\" has been generated succfully\n",
      "Image \"/home/space/datasets/COA/generated-data-api-large/images/image_97.png\" for label \"B S lion head & border\" has been generated succfully\n",
      "Image \"/home/space/datasets/COA/generated-data-api-large/images/image_98.png\" for label \"B S lion head\" has been generated succfully\n",
      "Image \"/home/space/datasets/COA/generated-data-api-large/images/image_99.png\" for label \"B G lion & border\" has been generated succfully\n",
      "Image \"/home/space/datasets/COA/generated-data-api-large/images/image_100.png\" for label \"B G lion\" has been generated succfully\n",
      "Image \"/home/space/datasets/COA/generated-data-api-large/images/image_101.png\" for label \"B G lion rampant & border\" has been generated succfully\n",
      "Image \"/home/space/datasets/COA/generated-data-api-large/images/image_102.png\" for label \"B G lion rampant\" has been generated succfully\n",
      "Image \"/home/space/datasets/COA/generated-data-api-large/images/image_103.png\" for label \"B G lion passt & border\" has been generated succfully\n",
      "Image \"/home/space/datasets/COA/generated-data-api-large/images/image_104.png\" for label \"B G lion passt\" has been generated succfully\n",
      "Image \"/home/space/datasets/COA/generated-data-api-large/images/image_105.png\" for label \"B G lion passt guard & border\" has been generated succfully\n",
      "Image \"/home/space/datasets/COA/generated-data-api-large/images/image_106.png\" for label \"B G lion passt guard\" has been generated succfully\n",
      "Image \"/home/space/datasets/COA/generated-data-api-large/images/image_107.png\" for label \"B G lion head & border\" has been generated succfully\n",
      "Image \"/home/space/datasets/COA/generated-data-api-large/images/image_108.png\" for label \"B G lion head\" has been generated succfully\n",
      "Image \"/home/space/datasets/COA/generated-data-api-large/images/image_109.png\" for label \"B V lion & border\" has been generated succfully\n",
      "Image \"/home/space/datasets/COA/generated-data-api-large/images/image_110.png\" for label \"B V lion\" has been generated succfully\n",
      "Image \"/home/space/datasets/COA/generated-data-api-large/images/image_111.png\" for label \"B V lion rampant & border\" has been generated succfully\n",
      "Image \"/home/space/datasets/COA/generated-data-api-large/images/image_112.png\" for label \"B V lion rampant\" has been generated succfully\n",
      "Image \"/home/space/datasets/COA/generated-data-api-large/images/image_113.png\" for label \"B V lion passt & border\" has been generated succfully\n",
      "Image \"/home/space/datasets/COA/generated-data-api-large/images/image_114.png\" for label \"B V lion passt\" has been generated succfully\n",
      "Image \"/home/space/datasets/COA/generated-data-api-large/images/image_115.png\" for label \"B V lion passt guard & border\" has been generated succfully\n",
      "Image \"/home/space/datasets/COA/generated-data-api-large/images/image_116.png\" for label \"B V lion passt guard\" has been generated succfully\n",
      "Image \"/home/space/datasets/COA/generated-data-api-large/images/image_117.png\" for label \"B V lion head & border\" has been generated succfully\n"
     ]
    },
    {
     "name": "stdout",
     "output_type": "stream",
     "text": [
      "Image \"/home/space/datasets/COA/generated-data-api-large/images/image_118.png\" for label \"B V lion head\" has been generated succfully\n",
      "Image \"/home/space/datasets/COA/generated-data-api-large/images/image_119.png\" for label \"O A lion & border\" has been generated succfully\n",
      "Image \"/home/space/datasets/COA/generated-data-api-large/images/image_120.png\" for label \"O A lion\" has been generated succfully\n",
      "Image \"/home/space/datasets/COA/generated-data-api-large/images/image_121.png\" for label \"O A lion rampant & border\" has been generated succfully\n",
      "Image \"/home/space/datasets/COA/generated-data-api-large/images/image_122.png\" for label \"O A lion rampant\" has been generated succfully\n",
      "Image \"/home/space/datasets/COA/generated-data-api-large/images/image_123.png\" for label \"O A lion passt & border\" has been generated succfully\n",
      "Image \"/home/space/datasets/COA/generated-data-api-large/images/image_124.png\" for label \"O A lion passt\" has been generated succfully\n",
      "Image \"/home/space/datasets/COA/generated-data-api-large/images/image_125.png\" for label \"O A lion passt guard & border\" has been generated succfully\n",
      "Image \"/home/space/datasets/COA/generated-data-api-large/images/image_126.png\" for label \"O A lion passt guard\" has been generated succfully\n",
      "Image \"/home/space/datasets/COA/generated-data-api-large/images/image_127.png\" for label \"O A lion head & border\" has been generated succfully\n",
      "Image \"/home/space/datasets/COA/generated-data-api-large/images/image_128.png\" for label \"O A lion head\" has been generated succfully\n",
      "Image \"/home/space/datasets/COA/generated-data-api-large/images/image_129.png\" for label \"O B lion & border\" has been generated succfully\n",
      "Image \"/home/space/datasets/COA/generated-data-api-large/images/image_130.png\" for label \"O B lion\" has been generated succfully\n",
      "Image \"/home/space/datasets/COA/generated-data-api-large/images/image_131.png\" for label \"O B lion rampant & border\" has been generated succfully\n",
      "Image \"/home/space/datasets/COA/generated-data-api-large/images/image_132.png\" for label \"O B lion rampant\" has been generated succfully\n",
      "Image \"/home/space/datasets/COA/generated-data-api-large/images/image_133.png\" for label \"O B lion passt & border\" has been generated succfully\n",
      "Image \"/home/space/datasets/COA/generated-data-api-large/images/image_134.png\" for label \"O B lion passt\" has been generated succfully\n",
      "Image \"/home/space/datasets/COA/generated-data-api-large/images/image_135.png\" for label \"O B lion passt guard & border\" has been generated succfully\n",
      "Image \"/home/space/datasets/COA/generated-data-api-large/images/image_136.png\" for label \"O B lion passt guard\" has been generated succfully\n",
      "Image \"/home/space/datasets/COA/generated-data-api-large/images/image_137.png\" for label \"O B lion head & border\" has been generated succfully\n",
      "Image \"/home/space/datasets/COA/generated-data-api-large/images/image_138.png\" for label \"O B lion head\" has been generated succfully\n",
      "Image \"/home/space/datasets/COA/generated-data-api-large/images/image_139.png\" for label \"O O lion & border\" has been generated succfully\n",
      "Image \"/home/space/datasets/COA/generated-data-api-large/images/image_140.png\" for label \"O O lion\" has been generated succfully\n",
      "Image \"/home/space/datasets/COA/generated-data-api-large/images/image_141.png\" for label \"O O lion rampant & border\" has been generated succfully\n",
      "Image \"/home/space/datasets/COA/generated-data-api-large/images/image_142.png\" for label \"O O lion rampant\" has been generated succfully\n",
      "Image \"/home/space/datasets/COA/generated-data-api-large/images/image_143.png\" for label \"O O lion passt & border\" has been generated succfully\n",
      "Image \"/home/space/datasets/COA/generated-data-api-large/images/image_144.png\" for label \"O O lion passt\" has been generated succfully\n",
      "Image \"/home/space/datasets/COA/generated-data-api-large/images/image_145.png\" for label \"O O lion passt guard & border\" has been generated succfully\n",
      "Image \"/home/space/datasets/COA/generated-data-api-large/images/image_146.png\" for label \"O O lion passt guard\" has been generated succfully\n",
      "Image \"/home/space/datasets/COA/generated-data-api-large/images/image_147.png\" for label \"O O lion head & border\" has been generated succfully\n",
      "Image \"/home/space/datasets/COA/generated-data-api-large/images/image_148.png\" for label \"O O lion head\" has been generated succfully\n",
      "Image \"/home/space/datasets/COA/generated-data-api-large/images/image_149.png\" for label \"O S lion & border\" has been generated succfully\n",
      "Image \"/home/space/datasets/COA/generated-data-api-large/images/image_150.png\" for label \"O S lion\" has been generated succfully\n",
      "Image \"/home/space/datasets/COA/generated-data-api-large/images/image_151.png\" for label \"O S lion rampant & border\" has been generated succfully\n",
      "Image \"/home/space/datasets/COA/generated-data-api-large/images/image_152.png\" for label \"O S lion rampant\" has been generated succfully\n",
      "Image \"/home/space/datasets/COA/generated-data-api-large/images/image_153.png\" for label \"O S lion passt & border\" has been generated succfully\n",
      "Image \"/home/space/datasets/COA/generated-data-api-large/images/image_154.png\" for label \"O S lion passt\" has been generated succfully\n",
      "Image \"/home/space/datasets/COA/generated-data-api-large/images/image_155.png\" for label \"O S lion passt guard & border\" has been generated succfully\n",
      "Image \"/home/space/datasets/COA/generated-data-api-large/images/image_156.png\" for label \"O S lion passt guard\" has been generated succfully\n",
      "Image \"/home/space/datasets/COA/generated-data-api-large/images/image_157.png\" for label \"O S lion head & border\" has been generated succfully\n",
      "Image \"/home/space/datasets/COA/generated-data-api-large/images/image_158.png\" for label \"O S lion head\" has been generated succfully\n",
      "Image \"/home/space/datasets/COA/generated-data-api-large/images/image_159.png\" for label \"O G lion & border\" has been generated succfully\n",
      "Image \"/home/space/datasets/COA/generated-data-api-large/images/image_160.png\" for label \"O G lion\" has been generated succfully\n",
      "Image \"/home/space/datasets/COA/generated-data-api-large/images/image_161.png\" for label \"O G lion rampant & border\" has been generated succfully\n",
      "Image \"/home/space/datasets/COA/generated-data-api-large/images/image_162.png\" for label \"O G lion rampant\" has been generated succfully\n",
      "Image \"/home/space/datasets/COA/generated-data-api-large/images/image_163.png\" for label \"O G lion passt & border\" has been generated succfully\n",
      "Image \"/home/space/datasets/COA/generated-data-api-large/images/image_164.png\" for label \"O G lion passt\" has been generated succfully\n",
      "Image \"/home/space/datasets/COA/generated-data-api-large/images/image_165.png\" for label \"O G lion passt guard & border\" has been generated succfully\n",
      "Image \"/home/space/datasets/COA/generated-data-api-large/images/image_166.png\" for label \"O G lion passt guard\" has been generated succfully\n",
      "Image \"/home/space/datasets/COA/generated-data-api-large/images/image_167.png\" for label \"O G lion head & border\" has been generated succfully\n",
      "Image \"/home/space/datasets/COA/generated-data-api-large/images/image_168.png\" for label \"O G lion head\" has been generated succfully\n",
      "Image \"/home/space/datasets/COA/generated-data-api-large/images/image_169.png\" for label \"O V lion & border\" has been generated succfully\n",
      "Image \"/home/space/datasets/COA/generated-data-api-large/images/image_170.png\" for label \"O V lion\" has been generated succfully\n",
      "Image \"/home/space/datasets/COA/generated-data-api-large/images/image_171.png\" for label \"O V lion rampant & border\" has been generated succfully\n",
      "Image \"/home/space/datasets/COA/generated-data-api-large/images/image_172.png\" for label \"O V lion rampant\" has been generated succfully\n"
     ]
    }
   ],
   "source": [
    "start_index = 0\n",
    "generate_dataset(FOLDER_NAME,caption_file, total_possible_permutations, start_index)"
   ]
  },
  {
   "cell_type": "code",
   "execution_count": null,
   "id": "19359d8f",
   "metadata": {},
   "outputs": [],
   "source": [
    "#Image \"/home/space/datasets/COA/generated-data-api-large/images/image_507.png\" for label \"G A cross moline & border\" has been generated succfully\n",
    "# ProtocolError: ('Connection aborted.', RemoteDisconnected('Remote end closed connection without response'))\n"
   ]
  },
  {
   "cell_type": "markdown",
   "id": "6f3dfcce",
   "metadata": {},
   "source": [
    "### Generate the last missing photo!"
   ]
  },
  {
   "cell_type": "code",
   "execution_count": 16,
   "id": "ae2869e7",
   "metadata": {},
   "outputs": [
    {
     "data": {
      "text/plain": [
       "(('A', 'G', 'cross patonce'), 'e', '0.7')"
      ]
     },
     "execution_count": 16,
     "metadata": {},
     "output_type": "execute_result"
    }
   ],
   "source": [
    "all_possible_s_permutations[10691]"
   ]
  },
  {
   "cell_type": "markdown",
   "id": "94c0785e",
   "metadata": {},
   "source": [
    "# Generate smaller dataset for local testing\n"
   ]
  },
  {
   "cell_type": "code",
   "execution_count": 51,
   "id": "124a3fae",
   "metadata": {},
   "outputs": [
    {
     "ename": "NameError",
     "evalue": "name 'all_possible_permutations' is not defined",
     "output_type": "error",
     "traceback": [
      "\u001b[0;31m---------------------------------------------------------------------------\u001b[0m",
      "\u001b[0;31mNameError\u001b[0m                                 Traceback (most recent call last)",
      "\u001b[0;32m/var/folders/63/rjyvh__j05s68hsx_zrl_h140000gp/T/ipykernel_11460/4064521378.py\u001b[0m in \u001b[0;36m<module>\u001b[0;34m\u001b[0m\n\u001b[1;32m      1\u001b[0m \u001b[0mcounter\u001b[0m \u001b[0;34m=\u001b[0m \u001b[0;36m10691\u001b[0m\u001b[0;34m\u001b[0m\u001b[0;34m\u001b[0m\u001b[0m\n\u001b[0;32m----> 2\u001b[0;31m \u001b[0mlabel\u001b[0m \u001b[0;34m=\u001b[0m \u001b[0mall_possible_permutations\u001b[0m\u001b[0;34m[\u001b[0m\u001b[0;36m10691\u001b[0m\u001b[0;34m]\u001b[0m\u001b[0;34m\u001b[0m\u001b[0;34m\u001b[0m\u001b[0m\n\u001b[0m\u001b[1;32m      3\u001b[0m \u001b[0mlabel_ls\u001b[0m \u001b[0;34m=\u001b[0m \u001b[0;34m[\u001b[0m\u001b[0;34m*\u001b[0m\u001b[0mlabel\u001b[0m\u001b[0;34m[\u001b[0m\u001b[0;36m0\u001b[0m\u001b[0;34m]\u001b[0m\u001b[0;34m,\u001b[0m \u001b[0mlabel\u001b[0m\u001b[0;34m[\u001b[0m\u001b[0;36m1\u001b[0m\u001b[0;34m]\u001b[0m\u001b[0;34m,\u001b[0m \u001b[0mlabel\u001b[0m\u001b[0;34m[\u001b[0m\u001b[0;36m2\u001b[0m\u001b[0;34m]\u001b[0m\u001b[0;34m]\u001b[0m\u001b[0;34m\u001b[0m\u001b[0;34m\u001b[0m\u001b[0m\n\u001b[1;32m      4\u001b[0m \u001b[0mprint\u001b[0m\u001b[0;34m(\u001b[0m\u001b[0mlabel_ls\u001b[0m\u001b[0;34m)\u001b[0m\u001b[0;34m\u001b[0m\u001b[0;34m\u001b[0m\u001b[0m\n\u001b[1;32m      5\u001b[0m \u001b[0mfolder_name\u001b[0m \u001b[0;34m=\u001b[0m \u001b[0;34m'/home/space/datasets/COA/generated-data-api'\u001b[0m\u001b[0;34m\u001b[0m\u001b[0;34m\u001b[0m\u001b[0m\n",
      "\u001b[0;31mNameError\u001b[0m: name 'all_possible_permutations' is not defined"
     ]
    }
   ],
   "source": [
    "counter = 10691\n",
    "label = all_possible_permutations[10691]\n",
    "label_ls = [*label[0], label[1], label[2]]\n",
    "print(label_ls)\n",
    "folder_name = '/home/space/datasets/COA/generated-data-api'\n",
    "payload = ArmoriaAPIPayload(label_ls).get_armoria_payload()\n",
    "print(payload)\n",
    "api = ArmoriaAPIWrapper(size = 500,format=\"png\", coa=payload)\n",
    "\n",
    "sample_name = 'image_' + str(counter+1)\n",
    "\n",
    "image_full_path = folder_name + '/images/' + sample_name + '.png'\n",
    "text_label = ' '.join(label[0])\n",
    "\n",
    "api.save_image(image_full_path)\n",
    "\n",
    "print('Image \"{}\" for label \"{}\" has been generated succfully' .format(image_full_path, text_label) )\n"
   ]
  },
  {
   "cell_type": "code",
   "execution_count": 8,
   "id": "fc04f190",
   "metadata": {},
   "outputs": [
    {
     "name": "stdout",
     "output_type": "stream",
     "text": [
      "Total number of permutations: 60\n"
     ]
    },
    {
     "data": {
      "text/plain": [
       "[('A', 'A', 'lion'),\n",
       " ('A', 'A', 'lion rampant'),\n",
       " ('A', 'A', 'lion passt'),\n",
       " ('A', 'A', 'lion passt guard'),\n",
       " ('A', 'A', \"lion's head\"),\n",
       " ('A', 'B', 'lion'),\n",
       " ('A', 'B', 'lion rampant'),\n",
       " ('A', 'B', 'lion passt'),\n",
       " ('A', 'B', 'lion passt guard'),\n",
       " ('A', 'B', \"lion's head\"),\n",
       " ('A', 'O', 'lion'),\n",
       " ('A', 'O', 'lion rampant'),\n",
       " ('A', 'O', 'lion passt'),\n",
       " ('A', 'O', 'lion passt guard'),\n",
       " ('A', 'O', \"lion's head\"),\n",
       " ('A', 'S', 'lion'),\n",
       " ('A', 'S', 'lion rampant'),\n",
       " ('A', 'S', 'lion passt'),\n",
       " ('A', 'S', 'lion passt guard'),\n",
       " ('A', 'S', \"lion's head\"),\n",
       " ('A', 'G', 'lion'),\n",
       " ('A', 'G', 'lion rampant'),\n",
       " ('A', 'G', 'lion passt'),\n",
       " ('A', 'G', 'lion passt guard'),\n",
       " ('A', 'G', \"lion's head\"),\n",
       " ('A', 'V', 'lion'),\n",
       " ('A', 'V', 'lion rampant'),\n",
       " ('A', 'V', 'lion passt'),\n",
       " ('A', 'V', 'lion passt guard'),\n",
       " ('A', 'V', \"lion's head\"),\n",
       " ('A', 'A', 'cross'),\n",
       " ('A', 'A', 'cross moline'),\n",
       " ('A', 'A', 'cross patonce'),\n",
       " ('A', 'B', 'cross'),\n",
       " ('A', 'B', 'cross moline'),\n",
       " ('A', 'B', 'cross patonce'),\n",
       " ('A', 'O', 'cross'),\n",
       " ('A', 'O', 'cross moline'),\n",
       " ('A', 'O', 'cross patonce'),\n",
       " ('A', 'S', 'cross'),\n",
       " ('A', 'S', 'cross moline'),\n",
       " ('A', 'S', 'cross patonce'),\n",
       " ('A', 'G', 'cross'),\n",
       " ('A', 'G', 'cross moline'),\n",
       " ('A', 'G', 'cross patonce'),\n",
       " ('A', 'V', 'cross'),\n",
       " ('A', 'V', 'cross moline'),\n",
       " ('A', 'V', 'cross patonce'),\n",
       " ('A', 'A', 'eagle'),\n",
       " ('A', 'A', 'eagle doubleheaded'),\n",
       " ('A', 'B', 'eagle'),\n",
       " ('A', 'B', 'eagle doubleheaded'),\n",
       " ('A', 'O', 'eagle'),\n",
       " ('A', 'O', 'eagle doubleheaded'),\n",
       " ('A', 'S', 'eagle'),\n",
       " ('A', 'S', 'eagle doubleheaded'),\n",
       " ('A', 'G', 'eagle'),\n",
       " ('A', 'G', 'eagle doubleheaded'),\n",
       " ('A', 'V', 'eagle'),\n",
       " ('A', 'V', 'eagle doubleheaded')]"
      ]
     },
     "execution_count": 8,
     "metadata": {},
     "output_type": "execute_result"
    }
   ],
   "source": [
    "all_possible_permutations = []\n",
    "\n",
    "# lion, modifiers and colors\n",
    "permutations1 = list(dict.fromkeys(itertools.product(['A'],list(COLORS_MAP.keys()), list( LION_MODIFIERS_MAP.keys()))))\n",
    "\n",
    "# cross, modifiers and colors\n",
    "permutations2 = list(dict.fromkeys(itertools.product(['A'], list(COLORS_MAP.keys()), list( CROSS_MODIFIERS_MAP.keys()))))\n",
    "\n",
    "# eagle, modifiers and colors\n",
    "permutations3 = list(dict.fromkeys(itertools.product(['A'], list(COLORS_MAP.keys()), list( EAGLE_MODIFIERS_MAP.keys()))))\n",
    "\n",
    "all_possible_permutations = permutations1 + permutations2 + permutations3\n",
    "\n",
    "print('Total number of permutations:', len(all_possible_permutations))\n",
    "all_possible_permutations"
   ]
  },
  {
   "cell_type": "code",
   "execution_count": 18,
   "id": "63f93e6f",
   "metadata": {},
   "outputs": [
    {
     "name": "stdout",
     "output_type": "stream",
     "text": [
      "Image \"generated-data-api-small/images/image_1.png\" for label \"A A lion\" has been generated succfully\n",
      "Image \"generated-data-api-small/images/image_2.png\" for label \"A A lion rampant\" has been generated succfully\n",
      "Image \"generated-data-api-small/images/image_3.png\" for label \"A A lion passt\" has been generated succfully\n",
      "Image \"generated-data-api-small/images/image_4.png\" for label \"A A lion passt guard\" has been generated succfully\n",
      "Image \"generated-data-api-small/images/image_5.png\" for label \"A A lion's head\" has been generated succfully\n",
      "Image \"generated-data-api-small/images/image_6.png\" for label \"A B lion\" has been generated succfully\n",
      "Image \"generated-data-api-small/images/image_7.png\" for label \"A B lion rampant\" has been generated succfully\n",
      "Image \"generated-data-api-small/images/image_8.png\" for label \"A B lion passt\" has been generated succfully\n",
      "Image \"generated-data-api-small/images/image_9.png\" for label \"A B lion passt guard\" has been generated succfully\n",
      "Image \"generated-data-api-small/images/image_10.png\" for label \"A B lion's head\" has been generated succfully\n",
      "Image \"generated-data-api-small/images/image_11.png\" for label \"A O lion\" has been generated succfully\n",
      "Image \"generated-data-api-small/images/image_12.png\" for label \"A O lion rampant\" has been generated succfully\n",
      "Image \"generated-data-api-small/images/image_13.png\" for label \"A O lion passt\" has been generated succfully\n",
      "Image \"generated-data-api-small/images/image_14.png\" for label \"A O lion passt guard\" has been generated succfully\n",
      "Image \"generated-data-api-small/images/image_15.png\" for label \"A O lion's head\" has been generated succfully\n",
      "Image \"generated-data-api-small/images/image_16.png\" for label \"A S lion\" has been generated succfully\n",
      "Image \"generated-data-api-small/images/image_17.png\" for label \"A S lion rampant\" has been generated succfully\n",
      "Image \"generated-data-api-small/images/image_18.png\" for label \"A S lion passt\" has been generated succfully\n",
      "Image \"generated-data-api-small/images/image_19.png\" for label \"A S lion passt guard\" has been generated succfully\n",
      "Image \"generated-data-api-small/images/image_20.png\" for label \"A S lion's head\" has been generated succfully\n",
      "Image \"generated-data-api-small/images/image_21.png\" for label \"A G lion\" has been generated succfully\n",
      "Image \"generated-data-api-small/images/image_22.png\" for label \"A G lion rampant\" has been generated succfully\n",
      "Image \"generated-data-api-small/images/image_23.png\" for label \"A G lion passt\" has been generated succfully\n",
      "Image \"generated-data-api-small/images/image_24.png\" for label \"A G lion passt guard\" has been generated succfully\n",
      "Image \"generated-data-api-small/images/image_25.png\" for label \"A G lion's head\" has been generated succfully\n",
      "Image \"generated-data-api-small/images/image_26.png\" for label \"A V lion\" has been generated succfully\n",
      "Image \"generated-data-api-small/images/image_27.png\" for label \"A V lion rampant\" has been generated succfully\n",
      "Image \"generated-data-api-small/images/image_28.png\" for label \"A V lion passt\" has been generated succfully\n",
      "Image \"generated-data-api-small/images/image_29.png\" for label \"A V lion passt guard\" has been generated succfully\n",
      "Image \"generated-data-api-small/images/image_30.png\" for label \"A V lion's head\" has been generated succfully\n",
      "Image \"generated-data-api-small/images/image_31.png\" for label \"A A cross\" has been generated succfully\n",
      "Image \"generated-data-api-small/images/image_32.png\" for label \"A A cross moline\" has been generated succfully\n",
      "Image \"generated-data-api-small/images/image_33.png\" for label \"A A cross patonce\" has been generated succfully\n",
      "Image \"generated-data-api-small/images/image_34.png\" for label \"A B cross\" has been generated succfully\n",
      "Image \"generated-data-api-small/images/image_35.png\" for label \"A B cross moline\" has been generated succfully\n",
      "Image \"generated-data-api-small/images/image_36.png\" for label \"A B cross patonce\" has been generated succfully\n",
      "Image \"generated-data-api-small/images/image_37.png\" for label \"A O cross\" has been generated succfully\n",
      "Image \"generated-data-api-small/images/image_38.png\" for label \"A O cross moline\" has been generated succfully\n",
      "Image \"generated-data-api-small/images/image_39.png\" for label \"A O cross patonce\" has been generated succfully\n",
      "Image \"generated-data-api-small/images/image_40.png\" for label \"A S cross\" has been generated succfully\n",
      "Image \"generated-data-api-small/images/image_41.png\" for label \"A S cross moline\" has been generated succfully\n",
      "Image \"generated-data-api-small/images/image_42.png\" for label \"A S cross patonce\" has been generated succfully\n",
      "Image \"generated-data-api-small/images/image_43.png\" for label \"A G cross\" has been generated succfully\n",
      "Image \"generated-data-api-small/images/image_44.png\" for label \"A G cross moline\" has been generated succfully\n",
      "Image \"generated-data-api-small/images/image_45.png\" for label \"A G cross patonce\" has been generated succfully\n",
      "Image \"generated-data-api-small/images/image_46.png\" for label \"A V cross\" has been generated succfully\n",
      "Image \"generated-data-api-small/images/image_47.png\" for label \"A V cross moline\" has been generated succfully\n",
      "Image \"generated-data-api-small/images/image_48.png\" for label \"A V cross patonce\" has been generated succfully\n",
      "Image \"generated-data-api-small/images/image_49.png\" for label \"A A eagle\" has been generated succfully\n",
      "Image \"generated-data-api-small/images/image_50.png\" for label \"A A eagle doubleheaded\" has been generated succfully\n",
      "Image \"generated-data-api-small/images/image_51.png\" for label \"A B eagle\" has been generated succfully\n",
      "Image \"generated-data-api-small/images/image_52.png\" for label \"A B eagle doubleheaded\" has been generated succfully\n",
      "Image \"generated-data-api-small/images/image_53.png\" for label \"A O eagle\" has been generated succfully\n",
      "Image \"generated-data-api-small/images/image_54.png\" for label \"A O eagle doubleheaded\" has been generated succfully\n",
      "Image \"generated-data-api-small/images/image_55.png\" for label \"A S eagle\" has been generated succfully\n",
      "Image \"generated-data-api-small/images/image_56.png\" for label \"A S eagle doubleheaded\" has been generated succfully\n",
      "Image \"generated-data-api-small/images/image_57.png\" for label \"A G eagle\" has been generated succfully\n",
      "Image \"generated-data-api-small/images/image_58.png\" for label \"A G eagle doubleheaded\" has been generated succfully\n",
      "Image \"generated-data-api-small/images/image_59.png\" for label \"A V eagle\" has been generated succfully\n",
      "Image \"generated-data-api-small/images/image_60.png\" for label \"A V eagle doubleheaded\" has been generated succfully\n"
     ]
    }
   ],
   "source": [
    "FOLDER_NAME = 'generated-data-api-small'\n",
    "generate_dataset(FOLDER_NAME, all_possible_permutations)"
   ]
  },
  {
   "cell_type": "code",
   "execution_count": null,
   "id": "f8770e9d",
   "metadata": {},
   "outputs": [],
   "source": []
  },
  {
   "cell_type": "code",
   "execution_count": null,
   "id": "6885ac0d",
   "metadata": {
    "collapsed": true
   },
   "outputs": [],
   "source": []
  }
 ],
 "metadata": {
  "kernelspec": {
   "display_name": "Python 3 (ipykernel)",
   "language": "python",
   "name": "python3"
  },
  "language_info": {
   "codemirror_mode": {
    "name": "ipython",
    "version": 3
   },
   "file_extension": ".py",
   "mimetype": "text/x-python",
   "name": "python",
   "nbconvert_exporter": "python",
   "pygments_lexer": "ipython3",
   "version": "3.8.10"
  }
 },
 "nbformat": 4,
 "nbformat_minor": 5
}
