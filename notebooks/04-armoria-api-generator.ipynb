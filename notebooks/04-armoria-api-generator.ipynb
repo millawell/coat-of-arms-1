{
 "cells": [
  {
   "cell_type": "markdown",
   "id": "101e5655",
   "metadata": {},
   "source": [
    "# Armoria API"
   ]
  },
  {
   "cell_type": "code",
   "execution_count": 1,
   "id": "afa9a8d3",
   "metadata": {},
   "outputs": [],
   "source": [
    "# auto-load when code changes outside\n",
    "%load_ext autoreload\n",
    "%autoreload 2\n",
    "%load_ext pyinstrument\n",
    "\n",
    "import sys\n",
    "sys.path.insert(0,'..')\n",
    "\n",
    "\n",
    "import os\n",
    "from src.armoria_api import ArmoriaAPIPayload, ArmoriaAPIWrapper\n",
    "from src.armoria_api_generator_helper import ArmoriaAPIGeneratorHelper\n",
    "\n",
    "from src.caption import Caption\n"
   ]
  },
  {
   "cell_type": "markdown",
   "id": "bd4d09b5",
   "metadata": {},
   "source": [
    "# Examples of using the ArmoriaAPIWrapper "
   ]
  },
  {
   "cell_type": "code",
   "execution_count": 2,
   "id": "e6698cfd",
   "metadata": {},
   "outputs": [],
   "source": [
    "coa_lion = {\"t1\":\"or\",\n",
    "       \"shield\":\"heater\",\n",
    "       \"charges\":[{\"charge\":\"lionRampant\",\"t\":\"gules\",\"p\":\"e\",\"size\":1.5}],\n",
    "       \"ordinaries\":[{\"ordinary\":\"bordure\",\"t\":\"azure\"}],\n",
    "      }\n",
    "\n",
    "api = ArmoriaAPIWrapper(size = 500,format=\"png\", coa=coa_lion)\n",
    "api.show_image()\n"
   ]
  },
  {
   "cell_type": "code",
   "execution_count": 3,
   "id": "b372925e",
   "metadata": {},
   "outputs": [
    {
     "name": "stderr",
     "output_type": "stream",
     "text": [
      "display-im6.q16: unable to open X server `' @ error/display.c/DisplayImageCommand/432.\n"
     ]
    }
   ],
   "source": [
    "\n",
    "coa_cross = {\"t1\":\"argent\",\n",
    "       \"shield\":\"heater\",\n",
    "       \"charges\":[{\"charge\":\"crossMoline\",\n",
    "                   \"t\":\"azure\",\n",
    "                   \"p\":\"e\",\n",
    "                   \"size\":1.5}]\n",
    "      }\n",
    "\n",
    "api = ArmoriaAPIWrapper(size = 500,format=\"png\", coa=coa_cross)\n",
    "api.show_image()"
   ]
  },
  {
   "cell_type": "code",
   "execution_count": 3,
   "id": "3bc6a9bc",
   "metadata": {},
   "outputs": [],
   "source": [
    "payload = {'t1': 'azure', 'shield': 'heater', \n",
    "             'charges': [{'charge': 'lionRampant', 't': 'argent', 'p': 'k', 'size': '0.7'},\n",
    "                        {'charge': 'eagle', 't': 'or', 'p': 'n', 'size': '0.7'}],\n",
    "             'ordinaries': []}\n",
    "api = ArmoriaAPIWrapper(size = 500,format=\"png\", coa=payload)\n",
    "api.show_image()\n"
   ]
  },
  {
   "cell_type": "code",
   "execution_count": 4,
   "id": "15fd59ff",
   "metadata": {},
   "outputs": [],
   "source": [
    "payload = {'t1': 'or', 'shield': 'heater', \n",
    "             'charges': [{'charge': 'lionRampant', 't': 'or', 'p': 'abc', 'size': '0.3'},\n",
    "                         {'charge': 'eagle', 't': 'azure', 'p': 'dfgz', 'size': '0.3'},\n",
    "                         {'charge': 'crossHummetty', 't': 'argent', 'p': 'i', 'size': '0.3'}],\n",
    "             'ordinaries': [{\"ordinary\":\"bordure\", \"t\":\"azure\"}]}\n",
    "\n",
    "api = ArmoriaAPIWrapper(size = 500,format=\"png\", coa=payload)\n",
    "api.show_image()\n"
   ]
  },
  {
   "cell_type": "markdown",
   "id": "70e6438b",
   "metadata": {},
   "source": [
    "# Generate Permutations"
   ]
  },
  {
   "cell_type": "code",
   "execution_count": 3,
   "id": "5b84e897",
   "metadata": {},
   "outputs": [],
   "source": [
    "import itertools\n",
    "import src.alphabet as alphabet\n",
    "from src.armoria_api import COLORS_MAP, SINGLE_LION_MODIFIERS_MAP, PLURAL_LION_MODIFIERS_MAP, CROSS_MODIFIERS_MAP, \\\n",
    "SINGLE_EAGLE_MODIFIERS_MAP, PLURAL_EAGLE_MODIFIERS_MAP, \\\n",
    "POSITIONS, SIZES, NUMBERS, NUMBERS_MULTI, SINGLE_POSITION\n",
    "\n",
    "BORDER_MOD = ['& border', '']"
   ]
  },
  {
   "cell_type": "markdown",
   "id": "5b2e308d",
   "metadata": {},
   "source": [
    "## Single object"
   ]
  },
  {
   "cell_type": "code",
   "execution_count": 4,
   "id": "9a4c943e",
   "metadata": {},
   "outputs": [
    {
     "name": "stdout",
     "output_type": "stream",
     "text": [
      "Total number of permutations: 720\n"
     ]
    }
   ],
   "source": [
    "\n",
    "# lion, modifiers and colors\n",
    "permutations1 = list(dict.fromkeys(itertools.product(list(COLORS_MAP.keys()), list(COLORS_MAP.keys()), list( SINGLE_LION_MODIFIERS_MAP.keys()),BORDER_MOD)))\n",
    "\n",
    "# cross, modifiers and colors\n",
    "permutations2 = list(dict.fromkeys(itertools.product(list(COLORS_MAP.keys()), list(COLORS_MAP.keys()), list( CROSS_MODIFIERS_MAP.keys()),BORDER_MOD)))\n",
    "\n",
    "# eagle, modifiers and colors\n",
    "permutations3 = list(dict.fromkeys(itertools.product(list(COLORS_MAP.keys()), list(COLORS_MAP.keys()), list( SINGLE_EAGLE_MODIFIERS_MAP.keys()),BORDER_MOD)))\n",
    "\n",
    "possible_single_permutations = permutations1 + permutations2 + permutations3\n",
    "\n",
    "print('Total number of permutations:', len(possible_single_permutations))"
   ]
  },
  {
   "cell_type": "markdown",
   "id": "5f4e278a",
   "metadata": {},
   "source": [
    "## Plural Object with Number"
   ]
  },
  {
   "cell_type": "code",
   "execution_count": 5,
   "id": "4174816e",
   "metadata": {},
   "outputs": [
    {
     "name": "stdout",
     "output_type": "stream",
     "text": [
      "Total number of plural permutations: 4320\n"
     ]
    }
   ],
   "source": [
    "# lion, modifiers and colors\n",
    "permutations1 = list(dict.fromkeys(itertools.product(list(COLORS_MAP.keys()), list(COLORS_MAP.keys()), list(NUMBERS), list( PLURAL_LION_MODIFIERS_MAP.keys()),BORDER_MOD)))\n",
    "\n",
    "# eagle, modifiers and colors\n",
    "permutations2 = list(dict.fromkeys(itertools.product(list(COLORS_MAP.keys()), list(COLORS_MAP.keys()), list(NUMBERS), list( PLURAL_EAGLE_MODIFIERS_MAP.keys()),BORDER_MOD)))\n",
    "\n",
    "possible_pl_permutations = permutations1 + permutations2\n",
    "\n",
    "print('Total number of plural permutations:', len(possible_pl_permutations))\n"
   ]
  },
  {
   "cell_type": "markdown",
   "id": "1e6e841a",
   "metadata": {},
   "source": [
    "## Multi Objects - single"
   ]
  },
  {
   "cell_type": "code",
   "execution_count": 6,
   "id": "cb0d933f",
   "metadata": {},
   "outputs": [
    {
     "name": "stdout",
     "output_type": "stream",
     "text": [
      "Total number of permutations: 91152\n"
     ]
    }
   ],
   "source": [
    "\n",
    "# lion & eagle\n",
    "permutations1 = list(dict.fromkeys(itertools.product(list(COLORS_MAP.keys()),list(COLORS_MAP.keys()), list(COLORS_MAP.keys()), list( SINGLE_LION_MODIFIERS_MAP.keys()), list( SINGLE_EAGLE_MODIFIERS_MAP.keys()),BORDER_MOD)))\n",
    "\n",
    "# lion & cross\n",
    "permutations2 = list(dict.fromkeys(itertools.product(list(COLORS_MAP.keys()),list(COLORS_MAP.keys()), list(COLORS_MAP.keys()), list( SINGLE_LION_MODIFIERS_MAP.keys()), list( CROSS_MODIFIERS_MAP.keys()),BORDER_MOD)))\n",
    "\n",
    "# eagle & cross\n",
    "permutations3 = list(dict.fromkeys(itertools.product(list(COLORS_MAP.keys()),list(COLORS_MAP.keys()), list(COLORS_MAP.keys()), list( SINGLE_EAGLE_MODIFIERS_MAP.keys()), list( CROSS_MODIFIERS_MAP.keys()),BORDER_MOD)))\n",
    "\n",
    "# lion & cross & eagle\n",
    "permutations4 = list(dict.fromkeys(itertools.product(list(COLORS_MAP.keys()),list(COLORS_MAP.keys()),list(COLORS_MAP.keys()), list(COLORS_MAP.keys()), list( SINGLE_LION_MODIFIERS_MAP.keys()), list( SINGLE_EAGLE_MODIFIERS_MAP.keys()), list( CROSS_MODIFIERS_MAP.keys()),BORDER_MOD)))\n",
    "\n",
    "possible_multi_single_permutations = permutations1 + permutations2 + permutations3 + permutations4\n",
    "\n",
    "print('Total number of permutations:', len(possible_multi_single_permutations))\n"
   ]
  },
  {
   "cell_type": "markdown",
   "id": "44f06b02",
   "metadata": {},
   "source": [
    "## Multi Objects - plural"
   ]
  },
  {
   "cell_type": "code",
   "execution_count": 7,
   "id": "12195c4a",
   "metadata": {},
   "outputs": [
    {
     "name": "stdout",
     "output_type": "stream",
     "text": [
      "Total number of plural permutations: 1081728\n"
     ]
    }
   ],
   "source": [
    "\n",
    "# lion & eagle\n",
    "permutations1 = list(dict.fromkeys(itertools.product(list(COLORS_MAP.keys()),list(COLORS_MAP.keys()), list(COLORS_MAP.keys()), list(NUMBERS_MULTI),list( PLURAL_LION_MODIFIERS_MAP.keys()), list(NUMBERS_MULTI), list( PLURAL_EAGLE_MODIFIERS_MAP.keys()),BORDER_MOD)))\n",
    "\n",
    "# lion & cross\n",
    "permutations2 = list(dict.fromkeys(itertools.product(list(COLORS_MAP.keys()),list(COLORS_MAP.keys()), list(COLORS_MAP.keys()), list(NUMBERS_MULTI),list( PLURAL_LION_MODIFIERS_MAP.keys()), list( CROSS_MODIFIERS_MAP.keys()),BORDER_MOD)))\n",
    "\n",
    "# eagle & cross\n",
    "permutations3 = list(dict.fromkeys(itertools.product(list(COLORS_MAP.keys()),list(COLORS_MAP.keys()), list(COLORS_MAP.keys()), list(NUMBERS_MULTI),list( PLURAL_EAGLE_MODIFIERS_MAP.keys()), list( CROSS_MODIFIERS_MAP.keys()),BORDER_MOD)))\n",
    "\n",
    "# lion & cross & eagle\n",
    "permutations4 = list(dict.fromkeys(itertools.product(list(COLORS_MAP.keys()),list(COLORS_MAP.keys()),list(COLORS_MAP.keys()), list(COLORS_MAP.keys()), list(NUMBERS_MULTI), list( PLURAL_LION_MODIFIERS_MAP.keys()), list(NUMBERS_MULTI),list( PLURAL_EAGLE_MODIFIERS_MAP.keys()), list( CROSS_MODIFIERS_MAP.keys()),BORDER_MOD)))\n",
    "\n",
    "possible_multi_plural_permutations = permutations1 + permutations2 + permutations3 + permutations4\n",
    "\n",
    "print('Total number of plural permutations:', len(possible_multi_plural_permutations))\n"
   ]
  },
  {
   "cell_type": "markdown",
   "id": "92a9c81e",
   "metadata": {},
   "source": [
    "## Total number of permutations before adding border (588960)"
   ]
  },
  {
   "cell_type": "markdown",
   "id": "6e7e5513",
   "metadata": {},
   "source": [
    "## Total number of permutations with/out borders (1177920)\n",
    "## __NOTE__: Not possible to generate this amount of images with the Armoria API"
   ]
  },
  {
   "cell_type": "code",
   "execution_count": 12,
   "id": "0375cc40",
   "metadata": {},
   "outputs": [
    {
     "data": {
      "text/plain": [
       "1177920"
      ]
     },
     "execution_count": 12,
     "metadata": {},
     "output_type": "execute_result"
    }
   ],
   "source": [
    "total_possible_permutations = possible_single_permutations + possible_pl_permutations + \\\n",
    "                            possible_multi_single_permutations  + possible_multi_plural_permutations\n",
    "len(total_possible_permutations)"
   ]
  },
  {
   "cell_type": "code",
   "execution_count": 13,
   "id": "8d30e5a3",
   "metadata": {},
   "outputs": [
    {
     "data": {
      "text/plain": [
       "('A', 'A', 'lion', '& border')"
      ]
     },
     "execution_count": 13,
     "metadata": {},
     "output_type": "execute_result"
    }
   ],
   "source": [
    "total_possible_permutations[0]"
   ]
  },
  {
   "cell_type": "markdown",
   "id": "b7339529",
   "metadata": {},
   "source": [
    "# Take only 2000 random sample from the permutation list"
   ]
  },
  {
   "cell_type": "code",
   "execution_count": 17,
   "id": "af83f9f2",
   "metadata": {},
   "outputs": [
    {
     "data": {
      "text/plain": [
       "2000"
      ]
     },
     "execution_count": 17,
     "metadata": {},
     "output_type": "execute_result"
    }
   ],
   "source": [
    "import random\n",
    "\n",
    "subset_permutations = random.sample(total_possible_permutations, 2000)\n",
    "len(subset_permutations)"
   ]
  },
  {
   "cell_type": "code",
   "execution_count": 20,
   "id": "29a56d30",
   "metadata": {},
   "outputs": [
    {
     "data": {
      "text/plain": [
       "[('O', 'A', 'O', 'O', '5', 'lions passt guard', '5', 'eagles', 'cross', ''),\n",
       " ('V',\n",
       "  'S',\n",
       "  'V',\n",
       "  'B',\n",
       "  '2',\n",
       "  'lions',\n",
       "  '3',\n",
       "  'eagles doubleheaded',\n",
       "  'cross patonce',\n",
       "  '& border'),\n",
       " ('A', 'S', 'G', 'eagle', 'cross', ''),\n",
       " ('A',\n",
       "  'G',\n",
       "  'B',\n",
       "  'O',\n",
       "  'lion rampant',\n",
       "  'eagle doubleheaded',\n",
       "  'cross moline',\n",
       "  ''),\n",
       " ('O',\n",
       "  'B',\n",
       "  'O',\n",
       "  'G',\n",
       "  '4',\n",
       "  'lions passt',\n",
       "  '4',\n",
       "  'eagles doubleheaded',\n",
       "  'cross patonce',\n",
       "  ''),\n",
       " ('S',\n",
       "  'V',\n",
       "  'S',\n",
       "  'O',\n",
       "  '3',\n",
       "  'lions passt guard',\n",
       "  '4',\n",
       "  'eagles',\n",
       "  'cross patonce',\n",
       "  '& border'),\n",
       " ('A', 'S', 'B', 'B', '4', 'lions', '4', 'eagles', 'cross patonce', ''),\n",
       " ('V',\n",
       "  'O',\n",
       "  'G',\n",
       "  'G',\n",
       "  '5',\n",
       "  'lions passt guard',\n",
       "  '4',\n",
       "  'eagles',\n",
       "  'cross',\n",
       "  '& border'),\n",
       " ('B',\n",
       "  'G',\n",
       "  'A',\n",
       "  'V',\n",
       "  '3',\n",
       "  'lions rampant',\n",
       "  '5',\n",
       "  'eagles',\n",
       "  'cross moline',\n",
       "  '& border'),\n",
       " ('S', 'S', 'G', 'V', \"lion's head\", 'eagle', 'cross moline', '')]"
      ]
     },
     "execution_count": 20,
     "metadata": {},
     "output_type": "execute_result"
    }
   ],
   "source": [
    "subset_permutations[:10]"
   ]
  },
  {
   "cell_type": "markdown",
   "id": "dddf4763",
   "metadata": {},
   "source": [
    "## Total number of single permutations +  position and scale"
   ]
  },
  {
   "cell_type": "code",
   "execution_count": 17,
   "id": "e9d4fd32",
   "metadata": {},
   "outputs": [],
   "source": [
    "FOLDER_NAME = '/home/space/datasets/COA/generated-data-api-subset-random'\n",
    "# FOLDER_NAME = '../generated'\n",
    "caption_file = FOLDER_NAME + '/' + 'captions.txt'\n",
    "api_gen_helper = ArmoriaAPIGeneratorHelper(caption_file, FOLDER_NAME, subset_permutations) "
   ]
  },
  {
   "cell_type": "code",
   "execution_count": 18,
   "id": "0ac35bcd",
   "metadata": {},
   "outputs": [],
   "source": [
    "api_gen_helper.creat_caption_file()"
   ]
  },
  {
   "cell_type": "code",
   "execution_count": null,
   "id": "61c32c67",
   "metadata": {},
   "outputs": [],
   "source": [
    "api_gen_helper.generate_caption_file()"
   ]
  },
  {
   "cell_type": "code",
   "execution_count": 22,
   "id": "b8609144",
   "metadata": {},
   "outputs": [
    {
     "name": "stdout",
     "output_type": "stream",
     "text": [
      "Image \"../generated/images/image_0.png.png\" for label \"A A lion & border\" has been generated succfully\n",
      "Image \"../generated/images/image_1.png.png\" for label \"A A lion\" has been generated succfully\n",
      "Image \"../generated/images/image_2.png.png\" for label \"A A lion rampant & border\" has been generated succfully\n",
      "Image \"../generated/images/image_3.png.png\" for label \"A A lion rampant\" has been generated succfully\n",
      "Image \"../generated/images/image_4.png.png\" for label \"A A lion passt & border\" has been generated succfully\n",
      "Image \"../generated/images/image_5.png.png\" for label \"A A lion passt\" has been generated succfully\n",
      "Image \"../generated/images/image_6.png.png\" for label \"A A lion passt guard & border\" has been generated succfully\n",
      "Image \"../generated/images/image_7.png.png\" for label \"A A lion passt guard\" has been generated succfully\n",
      "Image \"../generated/images/image_8.png.png\" for label \"A A lion's head & border\" has been generated succfully\n"
     ]
    },
    {
     "ename": "KeyboardInterrupt",
     "evalue": "",
     "output_type": "error",
     "traceback": [
      "\u001b[0;31m---------------------------------------------------------------------------\u001b[0m",
      "\u001b[0;31mKeyboardInterrupt\u001b[0m                         Traceback (most recent call last)",
      "\u001b[0;32m/var/folders/0d/kx07xpsn40v0mbjthb6sbc5h0000gq/T/ipykernel_24093/3649694634.py\u001b[0m in \u001b[0;36m<module>\u001b[0;34m\u001b[0m\n\u001b[0;32m----> 1\u001b[0;31m \u001b[0mapi_gen_helper\u001b[0m\u001b[0;34m.\u001b[0m\u001b[0mgenerate_dataset\u001b[0m\u001b[0;34m(\u001b[0m\u001b[0;34m)\u001b[0m\u001b[0;34m\u001b[0m\u001b[0;34m\u001b[0m\u001b[0m\n\u001b[0m",
      "\u001b[0;32m~/tub/coat-of-arms/notebooks/../src/armoria_api.py\u001b[0m in \u001b[0;36mgenerate_dataset\u001b[0;34m(self)\u001b[0m\n\u001b[1;32m    280\u001b[0m                     payload = ArmoriaAPIPayload(\n\u001b[1;32m    281\u001b[0m                         struc_label).get_armoria_payload()\n\u001b[0;32m--> 282\u001b[0;31m                     api = ArmoriaAPIWrapper(\n\u001b[0m\u001b[1;32m    283\u001b[0m                         size=500, format=\"png\", coa=payload)\n\u001b[1;32m    284\u001b[0m \u001b[0;34m\u001b[0m\u001b[0m\n",
      "\u001b[0;32m~/tub/coat-of-arms/notebooks/../src/armoria_api.py\u001b[0m in \u001b[0;36m__init__\u001b[0;34m(self, size, format, coa)\u001b[0m\n\u001b[1;32m    230\u001b[0m                    \u001b[0;34m\"coa\"\u001b[0m\u001b[0;34m:\u001b[0m \u001b[0mjson\u001b[0m\u001b[0;34m.\u001b[0m\u001b[0mdumps\u001b[0m\u001b[0;34m(\u001b[0m\u001b[0mcoa\u001b[0m\u001b[0;34m)\u001b[0m\u001b[0;34m\u001b[0m\u001b[0;34m\u001b[0m\u001b[0m\n\u001b[1;32m    231\u001b[0m                   }\n\u001b[0;32m--> 232\u001b[0;31m         \u001b[0mself\u001b[0m\u001b[0;34m.\u001b[0m\u001b[0mr\u001b[0m \u001b[0;34m=\u001b[0m \u001b[0mrequests\u001b[0m\u001b[0;34m.\u001b[0m\u001b[0mget\u001b[0m\u001b[0;34m(\u001b[0m\u001b[0;34m'https://armoria.herokuapp.com/'\u001b[0m\u001b[0;34m,\u001b[0m \u001b[0mparams\u001b[0m\u001b[0;34m=\u001b[0m\u001b[0mpayload\u001b[0m\u001b[0;34m)\u001b[0m\u001b[0;34m\u001b[0m\u001b[0;34m\u001b[0m\u001b[0m\n\u001b[0m\u001b[1;32m    233\u001b[0m \u001b[0;31m#         print(self.r.url)\u001b[0m\u001b[0;34m\u001b[0m\u001b[0;34m\u001b[0m\u001b[0;34m\u001b[0m\u001b[0m\n\u001b[1;32m    234\u001b[0m \u001b[0;34m\u001b[0m\u001b[0m\n",
      "\u001b[0;32m~/miniconda/envs/thesis-py38/lib/python3.8/site-packages/requests/api.py\u001b[0m in \u001b[0;36mget\u001b[0;34m(url, params, **kwargs)\u001b[0m\n\u001b[1;32m     73\u001b[0m     \"\"\"\n\u001b[1;32m     74\u001b[0m \u001b[0;34m\u001b[0m\u001b[0m\n\u001b[0;32m---> 75\u001b[0;31m     \u001b[0;32mreturn\u001b[0m \u001b[0mrequest\u001b[0m\u001b[0;34m(\u001b[0m\u001b[0;34m'get'\u001b[0m\u001b[0;34m,\u001b[0m \u001b[0murl\u001b[0m\u001b[0;34m,\u001b[0m \u001b[0mparams\u001b[0m\u001b[0;34m=\u001b[0m\u001b[0mparams\u001b[0m\u001b[0;34m,\u001b[0m \u001b[0;34m**\u001b[0m\u001b[0mkwargs\u001b[0m\u001b[0;34m)\u001b[0m\u001b[0;34m\u001b[0m\u001b[0;34m\u001b[0m\u001b[0m\n\u001b[0m\u001b[1;32m     76\u001b[0m \u001b[0;34m\u001b[0m\u001b[0m\n\u001b[1;32m     77\u001b[0m \u001b[0;34m\u001b[0m\u001b[0m\n",
      "\u001b[0;32m~/miniconda/envs/thesis-py38/lib/python3.8/site-packages/requests/api.py\u001b[0m in \u001b[0;36mrequest\u001b[0;34m(method, url, **kwargs)\u001b[0m\n\u001b[1;32m     59\u001b[0m     \u001b[0;31m# cases, and look like a memory leak in others.\u001b[0m\u001b[0;34m\u001b[0m\u001b[0;34m\u001b[0m\u001b[0;34m\u001b[0m\u001b[0m\n\u001b[1;32m     60\u001b[0m     \u001b[0;32mwith\u001b[0m \u001b[0msessions\u001b[0m\u001b[0;34m.\u001b[0m\u001b[0mSession\u001b[0m\u001b[0;34m(\u001b[0m\u001b[0;34m)\u001b[0m \u001b[0;32mas\u001b[0m \u001b[0msession\u001b[0m\u001b[0;34m:\u001b[0m\u001b[0;34m\u001b[0m\u001b[0;34m\u001b[0m\u001b[0m\n\u001b[0;32m---> 61\u001b[0;31m         \u001b[0;32mreturn\u001b[0m \u001b[0msession\u001b[0m\u001b[0;34m.\u001b[0m\u001b[0mrequest\u001b[0m\u001b[0;34m(\u001b[0m\u001b[0mmethod\u001b[0m\u001b[0;34m=\u001b[0m\u001b[0mmethod\u001b[0m\u001b[0;34m,\u001b[0m \u001b[0murl\u001b[0m\u001b[0;34m=\u001b[0m\u001b[0murl\u001b[0m\u001b[0;34m,\u001b[0m \u001b[0;34m**\u001b[0m\u001b[0mkwargs\u001b[0m\u001b[0;34m)\u001b[0m\u001b[0;34m\u001b[0m\u001b[0;34m\u001b[0m\u001b[0m\n\u001b[0m\u001b[1;32m     62\u001b[0m \u001b[0;34m\u001b[0m\u001b[0m\n\u001b[1;32m     63\u001b[0m \u001b[0;34m\u001b[0m\u001b[0m\n",
      "\u001b[0;32m~/miniconda/envs/thesis-py38/lib/python3.8/site-packages/requests/sessions.py\u001b[0m in \u001b[0;36mrequest\u001b[0;34m(self, method, url, params, data, headers, cookies, files, auth, timeout, allow_redirects, proxies, hooks, stream, verify, cert, json)\u001b[0m\n\u001b[1;32m    527\u001b[0m         }\n\u001b[1;32m    528\u001b[0m         \u001b[0msend_kwargs\u001b[0m\u001b[0;34m.\u001b[0m\u001b[0mupdate\u001b[0m\u001b[0;34m(\u001b[0m\u001b[0msettings\u001b[0m\u001b[0;34m)\u001b[0m\u001b[0;34m\u001b[0m\u001b[0;34m\u001b[0m\u001b[0m\n\u001b[0;32m--> 529\u001b[0;31m         \u001b[0mresp\u001b[0m \u001b[0;34m=\u001b[0m \u001b[0mself\u001b[0m\u001b[0;34m.\u001b[0m\u001b[0msend\u001b[0m\u001b[0;34m(\u001b[0m\u001b[0mprep\u001b[0m\u001b[0;34m,\u001b[0m \u001b[0;34m**\u001b[0m\u001b[0msend_kwargs\u001b[0m\u001b[0;34m)\u001b[0m\u001b[0;34m\u001b[0m\u001b[0;34m\u001b[0m\u001b[0m\n\u001b[0m\u001b[1;32m    530\u001b[0m \u001b[0;34m\u001b[0m\u001b[0m\n\u001b[1;32m    531\u001b[0m         \u001b[0;32mreturn\u001b[0m \u001b[0mresp\u001b[0m\u001b[0;34m\u001b[0m\u001b[0;34m\u001b[0m\u001b[0m\n",
      "\u001b[0;32m~/miniconda/envs/thesis-py38/lib/python3.8/site-packages/requests/sessions.py\u001b[0m in \u001b[0;36msend\u001b[0;34m(self, request, **kwargs)\u001b[0m\n\u001b[1;32m    643\u001b[0m \u001b[0;34m\u001b[0m\u001b[0m\n\u001b[1;32m    644\u001b[0m         \u001b[0;31m# Send the request\u001b[0m\u001b[0;34m\u001b[0m\u001b[0;34m\u001b[0m\u001b[0;34m\u001b[0m\u001b[0m\n\u001b[0;32m--> 645\u001b[0;31m         \u001b[0mr\u001b[0m \u001b[0;34m=\u001b[0m \u001b[0madapter\u001b[0m\u001b[0;34m.\u001b[0m\u001b[0msend\u001b[0m\u001b[0;34m(\u001b[0m\u001b[0mrequest\u001b[0m\u001b[0;34m,\u001b[0m \u001b[0;34m**\u001b[0m\u001b[0mkwargs\u001b[0m\u001b[0;34m)\u001b[0m\u001b[0;34m\u001b[0m\u001b[0;34m\u001b[0m\u001b[0m\n\u001b[0m\u001b[1;32m    646\u001b[0m \u001b[0;34m\u001b[0m\u001b[0m\n\u001b[1;32m    647\u001b[0m         \u001b[0;31m# Total elapsed time of the request (approximately)\u001b[0m\u001b[0;34m\u001b[0m\u001b[0;34m\u001b[0m\u001b[0;34m\u001b[0m\u001b[0m\n",
      "\u001b[0;32m~/miniconda/envs/thesis-py38/lib/python3.8/site-packages/requests/adapters.py\u001b[0m in \u001b[0;36msend\u001b[0;34m(self, request, stream, timeout, verify, cert, proxies)\u001b[0m\n\u001b[1;32m    438\u001b[0m         \u001b[0;32mtry\u001b[0m\u001b[0;34m:\u001b[0m\u001b[0;34m\u001b[0m\u001b[0;34m\u001b[0m\u001b[0m\n\u001b[1;32m    439\u001b[0m             \u001b[0;32mif\u001b[0m \u001b[0;32mnot\u001b[0m \u001b[0mchunked\u001b[0m\u001b[0;34m:\u001b[0m\u001b[0;34m\u001b[0m\u001b[0;34m\u001b[0m\u001b[0m\n\u001b[0;32m--> 440\u001b[0;31m                 resp = conn.urlopen(\n\u001b[0m\u001b[1;32m    441\u001b[0m                     \u001b[0mmethod\u001b[0m\u001b[0;34m=\u001b[0m\u001b[0mrequest\u001b[0m\u001b[0;34m.\u001b[0m\u001b[0mmethod\u001b[0m\u001b[0;34m,\u001b[0m\u001b[0;34m\u001b[0m\u001b[0;34m\u001b[0m\u001b[0m\n\u001b[1;32m    442\u001b[0m                     \u001b[0murl\u001b[0m\u001b[0;34m=\u001b[0m\u001b[0murl\u001b[0m\u001b[0;34m,\u001b[0m\u001b[0;34m\u001b[0m\u001b[0;34m\u001b[0m\u001b[0m\n",
      "\u001b[0;32m~/miniconda/envs/thesis-py38/lib/python3.8/site-packages/urllib3/connectionpool.py\u001b[0m in \u001b[0;36murlopen\u001b[0;34m(self, method, url, body, headers, retries, redirect, assert_same_host, timeout, pool_timeout, release_conn, chunked, body_pos, **response_kw)\u001b[0m\n\u001b[1;32m    701\u001b[0m \u001b[0;34m\u001b[0m\u001b[0m\n\u001b[1;32m    702\u001b[0m             \u001b[0;31m# Make the request on the httplib connection object.\u001b[0m\u001b[0;34m\u001b[0m\u001b[0;34m\u001b[0m\u001b[0;34m\u001b[0m\u001b[0m\n\u001b[0;32m--> 703\u001b[0;31m             httplib_response = self._make_request(\n\u001b[0m\u001b[1;32m    704\u001b[0m                 \u001b[0mconn\u001b[0m\u001b[0;34m,\u001b[0m\u001b[0;34m\u001b[0m\u001b[0;34m\u001b[0m\u001b[0m\n\u001b[1;32m    705\u001b[0m                 \u001b[0mmethod\u001b[0m\u001b[0;34m,\u001b[0m\u001b[0;34m\u001b[0m\u001b[0;34m\u001b[0m\u001b[0m\n",
      "\u001b[0;32m~/miniconda/envs/thesis-py38/lib/python3.8/site-packages/urllib3/connectionpool.py\u001b[0m in \u001b[0;36m_make_request\u001b[0;34m(self, conn, method, url, timeout, chunked, **httplib_request_kw)\u001b[0m\n\u001b[1;32m    384\u001b[0m         \u001b[0;31m# Trigger any extra validation we need to do.\u001b[0m\u001b[0;34m\u001b[0m\u001b[0;34m\u001b[0m\u001b[0;34m\u001b[0m\u001b[0m\n\u001b[1;32m    385\u001b[0m         \u001b[0;32mtry\u001b[0m\u001b[0;34m:\u001b[0m\u001b[0;34m\u001b[0m\u001b[0;34m\u001b[0m\u001b[0m\n\u001b[0;32m--> 386\u001b[0;31m             \u001b[0mself\u001b[0m\u001b[0;34m.\u001b[0m\u001b[0m_validate_conn\u001b[0m\u001b[0;34m(\u001b[0m\u001b[0mconn\u001b[0m\u001b[0;34m)\u001b[0m\u001b[0;34m\u001b[0m\u001b[0;34m\u001b[0m\u001b[0m\n\u001b[0m\u001b[1;32m    387\u001b[0m         \u001b[0;32mexcept\u001b[0m \u001b[0;34m(\u001b[0m\u001b[0mSocketTimeout\u001b[0m\u001b[0;34m,\u001b[0m \u001b[0mBaseSSLError\u001b[0m\u001b[0;34m)\u001b[0m \u001b[0;32mas\u001b[0m \u001b[0me\u001b[0m\u001b[0;34m:\u001b[0m\u001b[0;34m\u001b[0m\u001b[0;34m\u001b[0m\u001b[0m\n\u001b[1;32m    388\u001b[0m             \u001b[0;31m# Py2 raises this as a BaseSSLError, Py3 raises it as socket timeout.\u001b[0m\u001b[0;34m\u001b[0m\u001b[0;34m\u001b[0m\u001b[0;34m\u001b[0m\u001b[0m\n",
      "\u001b[0;32m~/miniconda/envs/thesis-py38/lib/python3.8/site-packages/urllib3/connectionpool.py\u001b[0m in \u001b[0;36m_validate_conn\u001b[0;34m(self, conn)\u001b[0m\n\u001b[1;32m   1038\u001b[0m         \u001b[0;31m# Force connect early to allow us to validate the connection.\u001b[0m\u001b[0;34m\u001b[0m\u001b[0;34m\u001b[0m\u001b[0;34m\u001b[0m\u001b[0m\n\u001b[1;32m   1039\u001b[0m         \u001b[0;32mif\u001b[0m \u001b[0;32mnot\u001b[0m \u001b[0mgetattr\u001b[0m\u001b[0;34m(\u001b[0m\u001b[0mconn\u001b[0m\u001b[0;34m,\u001b[0m \u001b[0;34m\"sock\"\u001b[0m\u001b[0;34m,\u001b[0m \u001b[0;32mNone\u001b[0m\u001b[0;34m)\u001b[0m\u001b[0;34m:\u001b[0m  \u001b[0;31m# AppEngine might not have  `.sock`\u001b[0m\u001b[0;34m\u001b[0m\u001b[0;34m\u001b[0m\u001b[0m\n\u001b[0;32m-> 1040\u001b[0;31m             \u001b[0mconn\u001b[0m\u001b[0;34m.\u001b[0m\u001b[0mconnect\u001b[0m\u001b[0;34m(\u001b[0m\u001b[0;34m)\u001b[0m\u001b[0;34m\u001b[0m\u001b[0;34m\u001b[0m\u001b[0m\n\u001b[0m\u001b[1;32m   1041\u001b[0m \u001b[0;34m\u001b[0m\u001b[0m\n\u001b[1;32m   1042\u001b[0m         \u001b[0;32mif\u001b[0m \u001b[0;32mnot\u001b[0m \u001b[0mconn\u001b[0m\u001b[0;34m.\u001b[0m\u001b[0mis_verified\u001b[0m\u001b[0;34m:\u001b[0m\u001b[0;34m\u001b[0m\u001b[0;34m\u001b[0m\u001b[0m\n",
      "\u001b[0;32m~/miniconda/envs/thesis-py38/lib/python3.8/site-packages/urllib3/connection.py\u001b[0m in \u001b[0;36mconnect\u001b[0;34m(self)\u001b[0m\n\u001b[1;32m    414\u001b[0m             \u001b[0mcontext\u001b[0m\u001b[0;34m.\u001b[0m\u001b[0mload_default_certs\u001b[0m\u001b[0;34m(\u001b[0m\u001b[0;34m)\u001b[0m\u001b[0;34m\u001b[0m\u001b[0;34m\u001b[0m\u001b[0m\n\u001b[1;32m    415\u001b[0m \u001b[0;34m\u001b[0m\u001b[0m\n\u001b[0;32m--> 416\u001b[0;31m         self.sock = ssl_wrap_socket(\n\u001b[0m\u001b[1;32m    417\u001b[0m             \u001b[0msock\u001b[0m\u001b[0;34m=\u001b[0m\u001b[0mconn\u001b[0m\u001b[0;34m,\u001b[0m\u001b[0;34m\u001b[0m\u001b[0;34m\u001b[0m\u001b[0m\n\u001b[1;32m    418\u001b[0m             \u001b[0mkeyfile\u001b[0m\u001b[0;34m=\u001b[0m\u001b[0mself\u001b[0m\u001b[0;34m.\u001b[0m\u001b[0mkey_file\u001b[0m\u001b[0;34m,\u001b[0m\u001b[0;34m\u001b[0m\u001b[0;34m\u001b[0m\u001b[0m\n",
      "\u001b[0;32m~/miniconda/envs/thesis-py38/lib/python3.8/site-packages/urllib3/util/ssl_.py\u001b[0m in \u001b[0;36mssl_wrap_socket\u001b[0;34m(sock, keyfile, certfile, cert_reqs, ca_certs, server_hostname, ssl_version, ciphers, ssl_context, ca_cert_dir, key_password, ca_cert_data, tls_in_tls)\u001b[0m\n\u001b[1;32m    447\u001b[0m \u001b[0;34m\u001b[0m\u001b[0m\n\u001b[1;32m    448\u001b[0m     \u001b[0;32mif\u001b[0m \u001b[0msend_sni\u001b[0m\u001b[0;34m:\u001b[0m\u001b[0;34m\u001b[0m\u001b[0;34m\u001b[0m\u001b[0m\n\u001b[0;32m--> 449\u001b[0;31m         ssl_sock = _ssl_wrap_socket_impl(\n\u001b[0m\u001b[1;32m    450\u001b[0m             \u001b[0msock\u001b[0m\u001b[0;34m,\u001b[0m \u001b[0mcontext\u001b[0m\u001b[0;34m,\u001b[0m \u001b[0mtls_in_tls\u001b[0m\u001b[0;34m,\u001b[0m \u001b[0mserver_hostname\u001b[0m\u001b[0;34m=\u001b[0m\u001b[0mserver_hostname\u001b[0m\u001b[0;34m\u001b[0m\u001b[0;34m\u001b[0m\u001b[0m\n\u001b[1;32m    451\u001b[0m         )\n",
      "\u001b[0;32m~/miniconda/envs/thesis-py38/lib/python3.8/site-packages/urllib3/util/ssl_.py\u001b[0m in \u001b[0;36m_ssl_wrap_socket_impl\u001b[0;34m(sock, ssl_context, tls_in_tls, server_hostname)\u001b[0m\n\u001b[1;32m    491\u001b[0m \u001b[0;34m\u001b[0m\u001b[0m\n\u001b[1;32m    492\u001b[0m     \u001b[0;32mif\u001b[0m \u001b[0mserver_hostname\u001b[0m\u001b[0;34m:\u001b[0m\u001b[0;34m\u001b[0m\u001b[0;34m\u001b[0m\u001b[0m\n\u001b[0;32m--> 493\u001b[0;31m         \u001b[0;32mreturn\u001b[0m \u001b[0mssl_context\u001b[0m\u001b[0;34m.\u001b[0m\u001b[0mwrap_socket\u001b[0m\u001b[0;34m(\u001b[0m\u001b[0msock\u001b[0m\u001b[0;34m,\u001b[0m \u001b[0mserver_hostname\u001b[0m\u001b[0;34m=\u001b[0m\u001b[0mserver_hostname\u001b[0m\u001b[0;34m)\u001b[0m\u001b[0;34m\u001b[0m\u001b[0;34m\u001b[0m\u001b[0m\n\u001b[0m\u001b[1;32m    494\u001b[0m     \u001b[0;32melse\u001b[0m\u001b[0;34m:\u001b[0m\u001b[0;34m\u001b[0m\u001b[0;34m\u001b[0m\u001b[0m\n\u001b[1;32m    495\u001b[0m         \u001b[0;32mreturn\u001b[0m \u001b[0mssl_context\u001b[0m\u001b[0;34m.\u001b[0m\u001b[0mwrap_socket\u001b[0m\u001b[0;34m(\u001b[0m\u001b[0msock\u001b[0m\u001b[0;34m)\u001b[0m\u001b[0;34m\u001b[0m\u001b[0;34m\u001b[0m\u001b[0m\n",
      "\u001b[0;32m~/miniconda/envs/thesis-py38/lib/python3.8/ssl.py\u001b[0m in \u001b[0;36mwrap_socket\u001b[0;34m(self, sock, server_side, do_handshake_on_connect, suppress_ragged_eofs, server_hostname, session)\u001b[0m\n\u001b[1;32m    498\u001b[0m         \u001b[0;31m# SSLSocket class handles server_hostname encoding before it calls\u001b[0m\u001b[0;34m\u001b[0m\u001b[0;34m\u001b[0m\u001b[0;34m\u001b[0m\u001b[0m\n\u001b[1;32m    499\u001b[0m         \u001b[0;31m# ctx._wrap_socket()\u001b[0m\u001b[0;34m\u001b[0m\u001b[0;34m\u001b[0m\u001b[0;34m\u001b[0m\u001b[0m\n\u001b[0;32m--> 500\u001b[0;31m         return self.sslsocket_class._create(\n\u001b[0m\u001b[1;32m    501\u001b[0m             \u001b[0msock\u001b[0m\u001b[0;34m=\u001b[0m\u001b[0msock\u001b[0m\u001b[0;34m,\u001b[0m\u001b[0;34m\u001b[0m\u001b[0;34m\u001b[0m\u001b[0m\n\u001b[1;32m    502\u001b[0m             \u001b[0mserver_side\u001b[0m\u001b[0;34m=\u001b[0m\u001b[0mserver_side\u001b[0m\u001b[0;34m,\u001b[0m\u001b[0;34m\u001b[0m\u001b[0;34m\u001b[0m\u001b[0m\n",
      "\u001b[0;32m~/miniconda/envs/thesis-py38/lib/python3.8/ssl.py\u001b[0m in \u001b[0;36m_create\u001b[0;34m(cls, sock, server_side, do_handshake_on_connect, suppress_ragged_eofs, server_hostname, context, session)\u001b[0m\n\u001b[1;32m   1038\u001b[0m                         \u001b[0;31m# non-blocking\u001b[0m\u001b[0;34m\u001b[0m\u001b[0;34m\u001b[0m\u001b[0;34m\u001b[0m\u001b[0m\n\u001b[1;32m   1039\u001b[0m                         \u001b[0;32mraise\u001b[0m \u001b[0mValueError\u001b[0m\u001b[0;34m(\u001b[0m\u001b[0;34m\"do_handshake_on_connect should not be specified for non-blocking sockets\"\u001b[0m\u001b[0;34m)\u001b[0m\u001b[0;34m\u001b[0m\u001b[0;34m\u001b[0m\u001b[0m\n\u001b[0;32m-> 1040\u001b[0;31m                     \u001b[0mself\u001b[0m\u001b[0;34m.\u001b[0m\u001b[0mdo_handshake\u001b[0m\u001b[0;34m(\u001b[0m\u001b[0;34m)\u001b[0m\u001b[0;34m\u001b[0m\u001b[0;34m\u001b[0m\u001b[0m\n\u001b[0m\u001b[1;32m   1041\u001b[0m             \u001b[0;32mexcept\u001b[0m \u001b[0;34m(\u001b[0m\u001b[0mOSError\u001b[0m\u001b[0;34m,\u001b[0m \u001b[0mValueError\u001b[0m\u001b[0;34m)\u001b[0m\u001b[0;34m:\u001b[0m\u001b[0;34m\u001b[0m\u001b[0;34m\u001b[0m\u001b[0m\n\u001b[1;32m   1042\u001b[0m                 \u001b[0mself\u001b[0m\u001b[0;34m.\u001b[0m\u001b[0mclose\u001b[0m\u001b[0;34m(\u001b[0m\u001b[0;34m)\u001b[0m\u001b[0;34m\u001b[0m\u001b[0;34m\u001b[0m\u001b[0m\n",
      "\u001b[0;32m~/miniconda/envs/thesis-py38/lib/python3.8/ssl.py\u001b[0m in \u001b[0;36mdo_handshake\u001b[0;34m(self, block)\u001b[0m\n\u001b[1;32m   1307\u001b[0m             \u001b[0;32mif\u001b[0m \u001b[0mtimeout\u001b[0m \u001b[0;34m==\u001b[0m \u001b[0;36m0.0\u001b[0m \u001b[0;32mand\u001b[0m \u001b[0mblock\u001b[0m\u001b[0;34m:\u001b[0m\u001b[0;34m\u001b[0m\u001b[0;34m\u001b[0m\u001b[0m\n\u001b[1;32m   1308\u001b[0m                 \u001b[0mself\u001b[0m\u001b[0;34m.\u001b[0m\u001b[0msettimeout\u001b[0m\u001b[0;34m(\u001b[0m\u001b[0;32mNone\u001b[0m\u001b[0;34m)\u001b[0m\u001b[0;34m\u001b[0m\u001b[0;34m\u001b[0m\u001b[0m\n\u001b[0;32m-> 1309\u001b[0;31m             \u001b[0mself\u001b[0m\u001b[0;34m.\u001b[0m\u001b[0m_sslobj\u001b[0m\u001b[0;34m.\u001b[0m\u001b[0mdo_handshake\u001b[0m\u001b[0;34m(\u001b[0m\u001b[0;34m)\u001b[0m\u001b[0;34m\u001b[0m\u001b[0;34m\u001b[0m\u001b[0m\n\u001b[0m\u001b[1;32m   1310\u001b[0m         \u001b[0;32mfinally\u001b[0m\u001b[0;34m:\u001b[0m\u001b[0;34m\u001b[0m\u001b[0;34m\u001b[0m\u001b[0m\n\u001b[1;32m   1311\u001b[0m             \u001b[0mself\u001b[0m\u001b[0;34m.\u001b[0m\u001b[0msettimeout\u001b[0m\u001b[0;34m(\u001b[0m\u001b[0mtimeout\u001b[0m\u001b[0;34m)\u001b[0m\u001b[0;34m\u001b[0m\u001b[0;34m\u001b[0m\u001b[0m\n",
      "\u001b[0;31mKeyboardInterrupt\u001b[0m: "
     ]
    }
   ],
   "source": [
    "api_gen_helper.generate_dataset()"
   ]
  },
  {
   "cell_type": "code",
   "execution_count": null,
   "id": "19359d8f",
   "metadata": {},
   "outputs": [],
   "source": [
    "#Image \"/home/space/datasets/COA/generated-data-api-large/images/image_507.png\" for label \"G A cross moline & border\" has been generated succfully\n",
    "# ProtocolError: ('Connection aborted.', RemoteDisconnected('Remote end closed connection without response'))\n"
   ]
  },
  {
   "cell_type": "markdown",
   "id": "6f3dfcce",
   "metadata": {},
   "source": [
    "### Generate the last missing photo!"
   ]
  },
  {
   "cell_type": "code",
   "execution_count": 16,
   "id": "ae2869e7",
   "metadata": {},
   "outputs": [
    {
     "data": {
      "text/plain": [
       "(('A', 'G', 'cross patonce'), 'e', '0.7')"
      ]
     },
     "execution_count": 16,
     "metadata": {},
     "output_type": "execute_result"
    }
   ],
   "source": [
    "all_possible_s_permutations[10691]"
   ]
  },
  {
   "cell_type": "markdown",
   "id": "94c0785e",
   "metadata": {},
   "source": [
    "# [outdated] Generate smaller dataset for local testing\n"
   ]
  },
  {
   "cell_type": "code",
   "execution_count": 8,
   "id": "fc04f190",
   "metadata": {},
   "outputs": [
    {
     "name": "stdout",
     "output_type": "stream",
     "text": [
      "Total number of permutations: 60\n"
     ]
    },
    {
     "data": {
      "text/plain": [
       "[('A', 'A', 'lion'),\n",
       " ('A', 'A', 'lion rampant'),\n",
       " ('A', 'A', 'lion passt'),\n",
       " ('A', 'A', 'lion passt guard'),\n",
       " ('A', 'A', \"lion's head\"),\n",
       " ('A', 'B', 'lion'),\n",
       " ('A', 'B', 'lion rampant'),\n",
       " ('A', 'B', 'lion passt'),\n",
       " ('A', 'B', 'lion passt guard'),\n",
       " ('A', 'B', \"lion's head\"),\n",
       " ('A', 'O', 'lion'),\n",
       " ('A', 'O', 'lion rampant'),\n",
       " ('A', 'O', 'lion passt'),\n",
       " ('A', 'O', 'lion passt guard'),\n",
       " ('A', 'O', \"lion's head\"),\n",
       " ('A', 'S', 'lion'),\n",
       " ('A', 'S', 'lion rampant'),\n",
       " ('A', 'S', 'lion passt'),\n",
       " ('A', 'S', 'lion passt guard'),\n",
       " ('A', 'S', \"lion's head\"),\n",
       " ('A', 'G', 'lion'),\n",
       " ('A', 'G', 'lion rampant'),\n",
       " ('A', 'G', 'lion passt'),\n",
       " ('A', 'G', 'lion passt guard'),\n",
       " ('A', 'G', \"lion's head\"),\n",
       " ('A', 'V', 'lion'),\n",
       " ('A', 'V', 'lion rampant'),\n",
       " ('A', 'V', 'lion passt'),\n",
       " ('A', 'V', 'lion passt guard'),\n",
       " ('A', 'V', \"lion's head\"),\n",
       " ('A', 'A', 'cross'),\n",
       " ('A', 'A', 'cross moline'),\n",
       " ('A', 'A', 'cross patonce'),\n",
       " ('A', 'B', 'cross'),\n",
       " ('A', 'B', 'cross moline'),\n",
       " ('A', 'B', 'cross patonce'),\n",
       " ('A', 'O', 'cross'),\n",
       " ('A', 'O', 'cross moline'),\n",
       " ('A', 'O', 'cross patonce'),\n",
       " ('A', 'S', 'cross'),\n",
       " ('A', 'S', 'cross moline'),\n",
       " ('A', 'S', 'cross patonce'),\n",
       " ('A', 'G', 'cross'),\n",
       " ('A', 'G', 'cross moline'),\n",
       " ('A', 'G', 'cross patonce'),\n",
       " ('A', 'V', 'cross'),\n",
       " ('A', 'V', 'cross moline'),\n",
       " ('A', 'V', 'cross patonce'),\n",
       " ('A', 'A', 'eagle'),\n",
       " ('A', 'A', 'eagle doubleheaded'),\n",
       " ('A', 'B', 'eagle'),\n",
       " ('A', 'B', 'eagle doubleheaded'),\n",
       " ('A', 'O', 'eagle'),\n",
       " ('A', 'O', 'eagle doubleheaded'),\n",
       " ('A', 'S', 'eagle'),\n",
       " ('A', 'S', 'eagle doubleheaded'),\n",
       " ('A', 'G', 'eagle'),\n",
       " ('A', 'G', 'eagle doubleheaded'),\n",
       " ('A', 'V', 'eagle'),\n",
       " ('A', 'V', 'eagle doubleheaded')]"
      ]
     },
     "execution_count": 8,
     "metadata": {},
     "output_type": "execute_result"
    }
   ],
   "source": [
    "all_possible_permutations = []\n",
    "\n",
    "# lion, modifiers and colors\n",
    "permutations1 = list(dict.fromkeys(itertools.product(['A'],list(COLORS_MAP.keys()), list( LION_MODIFIERS_MAP.keys()))))\n",
    "\n",
    "# cross, modifiers and colors\n",
    "permutations2 = list(dict.fromkeys(itertools.product(['A'], list(COLORS_MAP.keys()), list( CROSS_MODIFIERS_MAP.keys()))))\n",
    "\n",
    "# eagle, modifiers and colors\n",
    "permutations3 = list(dict.fromkeys(itertools.product(['A'], list(COLORS_MAP.keys()), list( EAGLE_MODIFIERS_MAP.keys()))))\n",
    "\n",
    "all_possible_permutations = permutations1 + permutations2 + permutations3\n",
    "\n",
    "print('Total number of permutations:', len(all_possible_permutations))\n",
    "all_possible_permutations"
   ]
  },
  {
   "cell_type": "code",
   "execution_count": 18,
   "id": "63f93e6f",
   "metadata": {},
   "outputs": [
    {
     "name": "stdout",
     "output_type": "stream",
     "text": [
      "Image \"generated-data-api-small/images/image_1.png\" for label \"A A lion\" has been generated succfully\n",
      "Image \"generated-data-api-small/images/image_2.png\" for label \"A A lion rampant\" has been generated succfully\n",
      "Image \"generated-data-api-small/images/image_3.png\" for label \"A A lion passt\" has been generated succfully\n",
      "Image \"generated-data-api-small/images/image_4.png\" for label \"A A lion passt guard\" has been generated succfully\n",
      "Image \"generated-data-api-small/images/image_5.png\" for label \"A A lion's head\" has been generated succfully\n",
      "Image \"generated-data-api-small/images/image_6.png\" for label \"A B lion\" has been generated succfully\n",
      "Image \"generated-data-api-small/images/image_7.png\" for label \"A B lion rampant\" has been generated succfully\n",
      "Image \"generated-data-api-small/images/image_8.png\" for label \"A B lion passt\" has been generated succfully\n",
      "Image \"generated-data-api-small/images/image_9.png\" for label \"A B lion passt guard\" has been generated succfully\n",
      "Image \"generated-data-api-small/images/image_10.png\" for label \"A B lion's head\" has been generated succfully\n",
      "Image \"generated-data-api-small/images/image_11.png\" for label \"A O lion\" has been generated succfully\n",
      "Image \"generated-data-api-small/images/image_12.png\" for label \"A O lion rampant\" has been generated succfully\n",
      "Image \"generated-data-api-small/images/image_13.png\" for label \"A O lion passt\" has been generated succfully\n",
      "Image \"generated-data-api-small/images/image_14.png\" for label \"A O lion passt guard\" has been generated succfully\n",
      "Image \"generated-data-api-small/images/image_15.png\" for label \"A O lion's head\" has been generated succfully\n",
      "Image \"generated-data-api-small/images/image_16.png\" for label \"A S lion\" has been generated succfully\n",
      "Image \"generated-data-api-small/images/image_17.png\" for label \"A S lion rampant\" has been generated succfully\n",
      "Image \"generated-data-api-small/images/image_18.png\" for label \"A S lion passt\" has been generated succfully\n",
      "Image \"generated-data-api-small/images/image_19.png\" for label \"A S lion passt guard\" has been generated succfully\n",
      "Image \"generated-data-api-small/images/image_20.png\" for label \"A S lion's head\" has been generated succfully\n",
      "Image \"generated-data-api-small/images/image_21.png\" for label \"A G lion\" has been generated succfully\n",
      "Image \"generated-data-api-small/images/image_22.png\" for label \"A G lion rampant\" has been generated succfully\n",
      "Image \"generated-data-api-small/images/image_23.png\" for label \"A G lion passt\" has been generated succfully\n",
      "Image \"generated-data-api-small/images/image_24.png\" for label \"A G lion passt guard\" has been generated succfully\n",
      "Image \"generated-data-api-small/images/image_25.png\" for label \"A G lion's head\" has been generated succfully\n",
      "Image \"generated-data-api-small/images/image_26.png\" for label \"A V lion\" has been generated succfully\n",
      "Image \"generated-data-api-small/images/image_27.png\" for label \"A V lion rampant\" has been generated succfully\n",
      "Image \"generated-data-api-small/images/image_28.png\" for label \"A V lion passt\" has been generated succfully\n",
      "Image \"generated-data-api-small/images/image_29.png\" for label \"A V lion passt guard\" has been generated succfully\n",
      "Image \"generated-data-api-small/images/image_30.png\" for label \"A V lion's head\" has been generated succfully\n",
      "Image \"generated-data-api-small/images/image_31.png\" for label \"A A cross\" has been generated succfully\n",
      "Image \"generated-data-api-small/images/image_32.png\" for label \"A A cross moline\" has been generated succfully\n",
      "Image \"generated-data-api-small/images/image_33.png\" for label \"A A cross patonce\" has been generated succfully\n",
      "Image \"generated-data-api-small/images/image_34.png\" for label \"A B cross\" has been generated succfully\n",
      "Image \"generated-data-api-small/images/image_35.png\" for label \"A B cross moline\" has been generated succfully\n",
      "Image \"generated-data-api-small/images/image_36.png\" for label \"A B cross patonce\" has been generated succfully\n",
      "Image \"generated-data-api-small/images/image_37.png\" for label \"A O cross\" has been generated succfully\n",
      "Image \"generated-data-api-small/images/image_38.png\" for label \"A O cross moline\" has been generated succfully\n",
      "Image \"generated-data-api-small/images/image_39.png\" for label \"A O cross patonce\" has been generated succfully\n",
      "Image \"generated-data-api-small/images/image_40.png\" for label \"A S cross\" has been generated succfully\n",
      "Image \"generated-data-api-small/images/image_41.png\" for label \"A S cross moline\" has been generated succfully\n",
      "Image \"generated-data-api-small/images/image_42.png\" for label \"A S cross patonce\" has been generated succfully\n",
      "Image \"generated-data-api-small/images/image_43.png\" for label \"A G cross\" has been generated succfully\n",
      "Image \"generated-data-api-small/images/image_44.png\" for label \"A G cross moline\" has been generated succfully\n",
      "Image \"generated-data-api-small/images/image_45.png\" for label \"A G cross patonce\" has been generated succfully\n",
      "Image \"generated-data-api-small/images/image_46.png\" for label \"A V cross\" has been generated succfully\n",
      "Image \"generated-data-api-small/images/image_47.png\" for label \"A V cross moline\" has been generated succfully\n",
      "Image \"generated-data-api-small/images/image_48.png\" for label \"A V cross patonce\" has been generated succfully\n",
      "Image \"generated-data-api-small/images/image_49.png\" for label \"A A eagle\" has been generated succfully\n",
      "Image \"generated-data-api-small/images/image_50.png\" for label \"A A eagle doubleheaded\" has been generated succfully\n",
      "Image \"generated-data-api-small/images/image_51.png\" for label \"A B eagle\" has been generated succfully\n",
      "Image \"generated-data-api-small/images/image_52.png\" for label \"A B eagle doubleheaded\" has been generated succfully\n",
      "Image \"generated-data-api-small/images/image_53.png\" for label \"A O eagle\" has been generated succfully\n",
      "Image \"generated-data-api-small/images/image_54.png\" for label \"A O eagle doubleheaded\" has been generated succfully\n",
      "Image \"generated-data-api-small/images/image_55.png\" for label \"A S eagle\" has been generated succfully\n",
      "Image \"generated-data-api-small/images/image_56.png\" for label \"A S eagle doubleheaded\" has been generated succfully\n",
      "Image \"generated-data-api-small/images/image_57.png\" for label \"A G eagle\" has been generated succfully\n",
      "Image \"generated-data-api-small/images/image_58.png\" for label \"A G eagle doubleheaded\" has been generated succfully\n",
      "Image \"generated-data-api-small/images/image_59.png\" for label \"A V eagle\" has been generated succfully\n",
      "Image \"generated-data-api-small/images/image_60.png\" for label \"A V eagle doubleheaded\" has been generated succfully\n"
     ]
    }
   ],
   "source": [
    "FOLDER_NAME = 'generated-data-api-small'\n",
    "generate_dataset(FOLDER_NAME, all_possible_permutations)"
   ]
  },
  {
   "cell_type": "code",
   "execution_count": null,
   "id": "f8770e9d",
   "metadata": {},
   "outputs": [],
   "source": []
  },
  {
   "cell_type": "code",
   "execution_count": null,
   "id": "6885ac0d",
   "metadata": {
    "collapsed": true
   },
   "outputs": [],
   "source": []
  }
 ],
 "metadata": {
  "kernelspec": {
   "display_name": "Python 3 (ipykernel)",
   "language": "python",
   "name": "python3"
  },
  "language_info": {
   "codemirror_mode": {
    "name": "ipython",
    "version": 3
   },
   "file_extension": ".py",
   "mimetype": "text/x-python",
   "name": "python",
   "nbconvert_exporter": "python",
   "pygments_lexer": "ipython3",
   "version": "3.8.12"
  }
 },
 "nbformat": 4,
 "nbformat_minor": 5
}
