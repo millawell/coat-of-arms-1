{
 "cells": [
  {
   "cell_type": "markdown",
   "id": "101e5655",
   "metadata": {},
   "source": [
    "# Armoria API"
   ]
  },
  {
   "cell_type": "code",
   "execution_count": 66,
   "id": "afa9a8d3",
   "metadata": {},
   "outputs": [
    {
     "name": "stdout",
     "output_type": "stream",
     "text": [
      "The autoreload extension is already loaded. To reload it, use:\n",
      "  %reload_ext autoreload\n",
      "The pyinstrument extension is already loaded. To reload it, use:\n",
      "  %reload_ext pyinstrument\n"
     ]
    }
   ],
   "source": [
    "# auto-load when code changes outside\n",
    "%load_ext autoreload\n",
    "%autoreload 2\n",
    "%load_ext pyinstrument\n",
    "\n",
    "import sys\n",
    "sys.path.insert(0,'..')\n",
    "\n",
    "\n",
    "import os\n",
    "from src.armoria_api import ArmoriaAPIPayload, ArmoriaAPIWrapper\n",
    "from src.caption import Caption\n"
   ]
  },
  {
   "cell_type": "markdown",
   "id": "bd4d09b5",
   "metadata": {},
   "source": [
    "# Examples of using the ArmoriaAPIWrapper "
   ]
  },
  {
   "cell_type": "code",
   "execution_count": 67,
   "id": "e6698cfd",
   "metadata": {},
   "outputs": [],
   "source": [
    "coa_lion = {\"t1\":\"or\",\n",
    "       \"shield\":\"heater\",\n",
    "       \"charges\":[{\"charge\":\"lionRampant\",\"t\":\"gules\",\"p\":\"e\",\"size\":1.5}],\n",
    "       \"ordinaries\":[{\"ordinary\":\"bordure\",\"t\":\"azure\"}],\n",
    "      }\n",
    "\n",
    "api = ArmoriaAPIWrapper(size = 500,format=\"png\", coa=coa_lion)\n",
    "api.show_image()\n",
    "\n",
    "coa_cross = {\"t1\":\"argent\",\n",
    "       \"shield\":\"heater\",\n",
    "       \"charges\":[{\"charge\":\"crossMoline\",\n",
    "                   \"t\":\"azure\",\n",
    "                   \"p\":\"e\",\n",
    "                   \"size\":1.5}]\n",
    "      }\n",
    "\n",
    "api = ArmoriaAPIWrapper(size = 500,format=\"png\", coa=coa_cross)\n",
    "api.show_image()"
   ]
  },
  {
   "cell_type": "code",
   "execution_count": 68,
   "id": "3bc6a9bc",
   "metadata": {},
   "outputs": [],
   "source": [
    "payload = {'t1': 'azure', 'shield': 'heater', \n",
    "             'charges': [{'charge': 'lionRampant', 't': 'argent', 'p': 'k', 'size': '0.7'},\n",
    "                        {'charge': 'eagle', 't': 'or', 'p': 'n', 'size': '0.7'}],\n",
    "             'ordinaries': []}\n",
    "api = ArmoriaAPIWrapper(size = 500,format=\"png\", coa=payload)\n",
    "api.show_image()\n"
   ]
  },
  {
   "cell_type": "code",
   "execution_count": 4,
   "id": "15fd59ff",
   "metadata": {},
   "outputs": [],
   "source": [
    "payload = {'t1': 'or', 'shield': 'heater', \n",
    "             'charges': [{'charge': 'lionRampant', 't': 'or', 'p': 'abc', 'size': '0.3'},\n",
    "                         {'charge': 'eagle', 't': 'azure', 'p': 'dfgz', 'size': '0.3'},\n",
    "                         {'charge': 'crossHummetty', 't': 'argent', 'p': 'i', 'size': '0.3'}],\n",
    "             'ordinaries': [{\"ordinary\":\"bordure\", \"t\":\"azure\"}]}\n",
    "\n",
    "api = ArmoriaAPIWrapper(size = 500,format=\"png\", coa=payload)\n",
    "api.show_image()\n"
   ]
  },
  {
   "cell_type": "code",
   "execution_count": 70,
   "id": "9cf1a740",
   "metadata": {},
   "outputs": [],
   "source": [
    "def generate_dataset(folder_name, permutations):\n",
    "    counter = 1\n",
    "\n",
    "    # create a file to store all generated images files names and labels\n",
    "    f = open(folder_name + '/' + 'captions.txt' ,\"w+\")\n",
    "    f.write('image,caption')\n",
    "    f.write('\\n')\n",
    "\n",
    "    for label in permutations:\n",
    "        text_label = ' '.join(label).strip()\n",
    "        \n",
    "        struc_label = Caption(text_label,support_plural=True).get_structured()\n",
    "        \n",
    "        payload = ArmoriaAPIPayload(struc_label).get_armoria_payload()\n",
    "\n",
    "        api = ArmoriaAPIWrapper(size = 500,format=\"png\", coa=payload)\n",
    "\n",
    "        sample_name = 'image_' + str(counter)\n",
    "\n",
    "        image_full_path = folder_name + '/images/' + sample_name + '.png'\n",
    "        \n",
    "        ensure_dir(image_full_path)\n",
    "\n",
    "        api.save_image(image_full_path)\n",
    "\n",
    "        print('Image \"{}\" for label \"{}\" has been generated succfully' .format(image_full_path, text_label) )\n",
    "\n",
    "        counter = counter + 1\n",
    "\n",
    "        ## store image labels in on txt file (needed for data loader) \n",
    "        f.write(sample_name + '.png,' + text_label)\n",
    "        f.write('\\n')\n",
    "\n",
    "    f.close()\n",
    "\n",
    "def ensure_dir(file_path):\n",
    "    directory = os.path.dirname(file_path)\n",
    "    if not os.path.exists(directory):\n",
    "        os.makedirs(directory)\n"
   ]
  },
  {
   "cell_type": "markdown",
   "id": "70e6438b",
   "metadata": {},
   "source": [
    "# Generate Permutations"
   ]
  },
  {
   "cell_type": "code",
   "execution_count": 49,
   "id": "5b84e897",
   "metadata": {},
   "outputs": [],
   "source": [
    "import itertools\n",
    "import src.alphabet as alphabet\n",
    "from src.armoria_api import COLORS_MAP, SINGLE_LION_MODIFIERS_MAP, PLURAL_LION_MODIFIERS_MAP, CROSS_MODIFIERS_MAP, \\\n",
    "SINGLE_EAGLE_MODIFIERS_MAP, PLURAL_EAGLE_MODIFIERS_MAP, \\\n",
    "POSITIONS, SIZES, NUMBERS, NUMBERS_MULTI, SINGLE_POSITION\n",
    "\n",
    "BORDER_MOD = ['& border', '']"
   ]
  },
  {
   "cell_type": "markdown",
   "id": "5b2e308d",
   "metadata": {},
   "source": [
    "## Single object"
   ]
  },
  {
   "cell_type": "code",
   "execution_count": 39,
   "id": "9a4c943e",
   "metadata": {},
   "outputs": [
    {
     "name": "stdout",
     "output_type": "stream",
     "text": [
      "Total number of permutations: 720\n"
     ]
    }
   ],
   "source": [
    "\n",
    "# lion, modifiers and colors\n",
    "permutations1 = list(dict.fromkeys(itertools.product(list(COLORS_MAP.keys()), list(COLORS_MAP.keys()), list( SINGLE_LION_MODIFIERS_MAP.keys()),BORDER_MOD)))\n",
    "\n",
    "# cross, modifiers and colors\n",
    "permutations2 = list(dict.fromkeys(itertools.product(list(COLORS_MAP.keys()), list(COLORS_MAP.keys()), list( CROSS_MODIFIERS_MAP.keys()),BORDER_MOD)))\n",
    "\n",
    "# eagle, modifiers and colors\n",
    "permutations3 = list(dict.fromkeys(itertools.product(list(COLORS_MAP.keys()), list(COLORS_MAP.keys()), list( SINGLE_EAGLE_MODIFIERS_MAP.keys()),BORDER_MOD)))\n",
    "\n",
    "possible_single_permutations = permutations1 + permutations2 + permutations3\n",
    "\n",
    "print('Total number of permutations:', len(possible_single_permutations))"
   ]
  },
  {
   "cell_type": "markdown",
   "id": "5f4e278a",
   "metadata": {},
   "source": [
    "## Plural Object with Number"
   ]
  },
  {
   "cell_type": "code",
   "execution_count": 40,
   "id": "4174816e",
   "metadata": {},
   "outputs": [
    {
     "name": "stdout",
     "output_type": "stream",
     "text": [
      "Total number of plural permutations: 4320\n"
     ]
    }
   ],
   "source": [
    "# lion, modifiers and colors\n",
    "permutations1 = list(dict.fromkeys(itertools.product(list(COLORS_MAP.keys()), list(COLORS_MAP.keys()), list(NUMBERS), list( PLURAL_LION_MODIFIERS_MAP.keys()),BORDER_MOD)))\n",
    "\n",
    "# eagle, modifiers and colors\n",
    "permutations2 = list(dict.fromkeys(itertools.product(list(COLORS_MAP.keys()), list(COLORS_MAP.keys()), list(NUMBERS), list( PLURAL_EAGLE_MODIFIERS_MAP.keys()),BORDER_MOD)))\n",
    "\n",
    "possible_pl_permutations = permutations1 + permutations2\n",
    "\n",
    "print('Total number of plural permutations:', len(possible_pl_permutations))\n"
   ]
  },
  {
   "cell_type": "markdown",
   "id": "1e6e841a",
   "metadata": {},
   "source": [
    "## Multi Objects - single"
   ]
  },
  {
   "cell_type": "code",
   "execution_count": 41,
   "id": "cb0d933f",
   "metadata": {},
   "outputs": [
    {
     "name": "stdout",
     "output_type": "stream",
     "text": [
      "Total number of permutations: 91152\n"
     ]
    }
   ],
   "source": [
    "\n",
    "# lion & eagle\n",
    "permutations1 = list(dict.fromkeys(itertools.product(list(COLORS_MAP.keys()),list(COLORS_MAP.keys()), list(COLORS_MAP.keys()), list( SINGLE_LION_MODIFIERS_MAP.keys()), list( SINGLE_EAGLE_MODIFIERS_MAP.keys()),BORDER_MOD)))\n",
    "\n",
    "# lion & cross\n",
    "permutations2 = list(dict.fromkeys(itertools.product(list(COLORS_MAP.keys()),list(COLORS_MAP.keys()), list(COLORS_MAP.keys()), list( SINGLE_LION_MODIFIERS_MAP.keys()), list( CROSS_MODIFIERS_MAP.keys()),BORDER_MOD)))\n",
    "\n",
    "# eagle & cross\n",
    "permutations3 = list(dict.fromkeys(itertools.product(list(COLORS_MAP.keys()),list(COLORS_MAP.keys()), list(COLORS_MAP.keys()), list( SINGLE_EAGLE_MODIFIERS_MAP.keys()), list( CROSS_MODIFIERS_MAP.keys()),BORDER_MOD)))\n",
    "\n",
    "# lion & cross & eagle\n",
    "permutations4 = list(dict.fromkeys(itertools.product(list(COLORS_MAP.keys()),list(COLORS_MAP.keys()),list(COLORS_MAP.keys()), list(COLORS_MAP.keys()), list( SINGLE_LION_MODIFIERS_MAP.keys()), list( SINGLE_EAGLE_MODIFIERS_MAP.keys()), list( CROSS_MODIFIERS_MAP.keys()),BORDER_MOD)))\n",
    "\n",
    "possible_multi_single_permutations = permutations1 + permutations2 + permutations3 + permutations4\n",
    "\n",
    "print('Total number of permutations:', len(possible_multi_single_permutations))\n"
   ]
  },
  {
   "cell_type": "markdown",
   "id": "44f06b02",
   "metadata": {},
   "source": [
    "## Multi Objects - plural"
   ]
  },
  {
   "cell_type": "code",
   "execution_count": 42,
   "id": "12195c4a",
   "metadata": {},
   "outputs": [
    {
     "name": "stdout",
     "output_type": "stream",
     "text": [
      "Total number of plural permutations: 1081728\n"
     ]
    }
   ],
   "source": [
    "\n",
    "# lion & eagle\n",
    "permutations1 = list(dict.fromkeys(itertools.product(list(COLORS_MAP.keys()),list(COLORS_MAP.keys()), list(COLORS_MAP.keys()), list(NUMBERS_MULTI),list( PLURAL_LION_MODIFIERS_MAP.keys()), list(NUMBERS_MULTI), list( PLURAL_EAGLE_MODIFIERS_MAP.keys()),BORDER_MOD)))\n",
    "\n",
    "# lion & cross\n",
    "permutations2 = list(dict.fromkeys(itertools.product(list(COLORS_MAP.keys()),list(COLORS_MAP.keys()), list(COLORS_MAP.keys()), list(NUMBERS_MULTI),list( PLURAL_LION_MODIFIERS_MAP.keys()), list( CROSS_MODIFIERS_MAP.keys()),BORDER_MOD)))\n",
    "\n",
    "# eagle & cross\n",
    "permutations3 = list(dict.fromkeys(itertools.product(list(COLORS_MAP.keys()),list(COLORS_MAP.keys()), list(COLORS_MAP.keys()), list(NUMBERS_MULTI),list( PLURAL_EAGLE_MODIFIERS_MAP.keys()), list( CROSS_MODIFIERS_MAP.keys()),BORDER_MOD)))\n",
    "\n",
    "# lion & cross & eagle\n",
    "permutations4 = list(dict.fromkeys(itertools.product(list(COLORS_MAP.keys()),list(COLORS_MAP.keys()),list(COLORS_MAP.keys()), list(COLORS_MAP.keys()), list(NUMBERS_MULTI), list( PLURAL_LION_MODIFIERS_MAP.keys()), list(NUMBERS_MULTI),list( PLURAL_EAGLE_MODIFIERS_MAP.keys()), list( CROSS_MODIFIERS_MAP.keys()),BORDER_MOD)))\n",
    "\n",
    "possible_multi_plural_permutations = permutations1 + permutations2 + permutations3 + permutations4\n",
    "\n",
    "print('Total number of plural permutations:', len(possible_multi_plural_permutations))\n"
   ]
  },
  {
   "cell_type": "markdown",
   "id": "92a9c81e",
   "metadata": {},
   "source": [
    "## Total number of permutations before adding border (588960)"
   ]
  },
  {
   "cell_type": "markdown",
   "id": "6e7e5513",
   "metadata": {},
   "source": [
    "## Total number of permutations with/out borders (1177920)"
   ]
  },
  {
   "cell_type": "code",
   "execution_count": 45,
   "id": "0375cc40",
   "metadata": {},
   "outputs": [
    {
     "data": {
      "text/plain": [
       "1177920"
      ]
     },
     "execution_count": 45,
     "metadata": {},
     "output_type": "execute_result"
    }
   ],
   "source": [
    "total_possible_permutations = possible_single_permutations + possible_pl_permutations + \\\n",
    "                            possible_multi_single_permutations  + possible_multi_plural_permutations\n",
    "len(total_possible_permutations)"
   ]
  },
  {
   "cell_type": "code",
   "execution_count": 46,
   "id": "8d30e5a3",
   "metadata": {},
   "outputs": [
    {
     "data": {
      "text/plain": [
       "('A', 'A', 'lion', '& border')"
      ]
     },
     "execution_count": 46,
     "metadata": {},
     "output_type": "execute_result"
    }
   ],
   "source": [
    "total_possible_permutations[0]"
   ]
  },
  {
   "cell_type": "markdown",
   "id": "dddf4763",
   "metadata": {},
   "source": [
    "## Total number of single permutations +  position and scale"
   ]
  },
  {
   "cell_type": "code",
   "execution_count": 72,
   "id": "b5359438",
   "metadata": {},
   "outputs": [
    {
     "name": "stdout",
     "output_type": "stream",
     "text": [
      "Image \"../generated/images/image_1.png\" for label \"A A lion & border\" has been generated succfully\n",
      "Image \"../generated/images/image_2.png\" for label \"A A lion\" has been generated succfully\n"
     ]
    },
    {
     "ename": "KeyboardInterrupt",
     "evalue": "",
     "output_type": "error",
     "traceback": [
      "\u001b[0;31m---------------------------------------------------------------------------\u001b[0m",
      "\u001b[0;31mKeyboardInterrupt\u001b[0m                         Traceback (most recent call last)",
      "\u001b[0;32m/var/folders/63/rjyvh__j05s68hsx_zrl_h140000gp/T/ipykernel_11460/2996015466.py\u001b[0m in \u001b[0;36m<module>\u001b[0;34m\u001b[0m\n\u001b[1;32m      1\u001b[0m \u001b[0;31m# FOLDER_NAME = '/home/space/datasets/COA/generated-data-api-large'\u001b[0m\u001b[0;34m\u001b[0m\u001b[0;34m\u001b[0m\u001b[0;34m\u001b[0m\u001b[0m\n\u001b[1;32m      2\u001b[0m \u001b[0mFOLDER_NAME\u001b[0m \u001b[0;34m=\u001b[0m \u001b[0;34m'../generated'\u001b[0m\u001b[0;34m\u001b[0m\u001b[0;34m\u001b[0m\u001b[0m\n\u001b[0;32m----> 3\u001b[0;31m \u001b[0mgenerate_dataset\u001b[0m\u001b[0;34m(\u001b[0m\u001b[0mFOLDER_NAME\u001b[0m\u001b[0;34m,\u001b[0m \u001b[0mtotal_possible_permutations\u001b[0m\u001b[0;34m)\u001b[0m\u001b[0;34m\u001b[0m\u001b[0;34m\u001b[0m\u001b[0m\n\u001b[0m",
      "\u001b[0;32m/var/folders/63/rjyvh__j05s68hsx_zrl_h140000gp/T/ipykernel_11460/1084709042.py\u001b[0m in \u001b[0;36mgenerate_dataset\u001b[0;34m(folder_name, permutations)\u001b[0m\n\u001b[1;32m     14\u001b[0m         \u001b[0mpayload\u001b[0m \u001b[0;34m=\u001b[0m \u001b[0mArmoriaAPIPayload\u001b[0m\u001b[0;34m(\u001b[0m\u001b[0mstruc_label\u001b[0m\u001b[0;34m)\u001b[0m\u001b[0;34m.\u001b[0m\u001b[0mget_armoria_payload\u001b[0m\u001b[0;34m(\u001b[0m\u001b[0;34m)\u001b[0m\u001b[0;34m\u001b[0m\u001b[0;34m\u001b[0m\u001b[0m\n\u001b[1;32m     15\u001b[0m \u001b[0;34m\u001b[0m\u001b[0m\n\u001b[0;32m---> 16\u001b[0;31m         \u001b[0mapi\u001b[0m \u001b[0;34m=\u001b[0m \u001b[0mArmoriaAPIWrapper\u001b[0m\u001b[0;34m(\u001b[0m\u001b[0msize\u001b[0m \u001b[0;34m=\u001b[0m \u001b[0;36m500\u001b[0m\u001b[0;34m,\u001b[0m\u001b[0mformat\u001b[0m\u001b[0;34m=\u001b[0m\u001b[0;34m\"png\"\u001b[0m\u001b[0;34m,\u001b[0m \u001b[0mcoa\u001b[0m\u001b[0;34m=\u001b[0m\u001b[0mpayload\u001b[0m\u001b[0;34m)\u001b[0m\u001b[0;34m\u001b[0m\u001b[0;34m\u001b[0m\u001b[0m\n\u001b[0m\u001b[1;32m     17\u001b[0m \u001b[0;34m\u001b[0m\u001b[0m\n\u001b[1;32m     18\u001b[0m         \u001b[0msample_name\u001b[0m \u001b[0;34m=\u001b[0m \u001b[0;34m'image_'\u001b[0m \u001b[0;34m+\u001b[0m \u001b[0mstr\u001b[0m\u001b[0;34m(\u001b[0m\u001b[0mcounter\u001b[0m\u001b[0;34m)\u001b[0m\u001b[0;34m\u001b[0m\u001b[0;34m\u001b[0m\u001b[0m\n",
      "\u001b[0;32m~/tub/MT/coat-of-arms/notebooks/../src/armoria_api.py\u001b[0m in \u001b[0;36m__init__\u001b[0;34m(self, size, format, coa)\u001b[0m\n\u001b[1;32m    227\u001b[0m                    \u001b[0;34m\"coa\"\u001b[0m\u001b[0;34m:\u001b[0m \u001b[0mjson\u001b[0m\u001b[0;34m.\u001b[0m\u001b[0mdumps\u001b[0m\u001b[0;34m(\u001b[0m\u001b[0mcoa\u001b[0m\u001b[0;34m)\u001b[0m\u001b[0;34m\u001b[0m\u001b[0;34m\u001b[0m\u001b[0m\n\u001b[1;32m    228\u001b[0m                   }\n\u001b[0;32m--> 229\u001b[0;31m         \u001b[0mself\u001b[0m\u001b[0;34m.\u001b[0m\u001b[0mr\u001b[0m \u001b[0;34m=\u001b[0m \u001b[0mrequests\u001b[0m\u001b[0;34m.\u001b[0m\u001b[0mget\u001b[0m\u001b[0;34m(\u001b[0m\u001b[0;34m'https://armoria.herokuapp.com/'\u001b[0m\u001b[0;34m,\u001b[0m \u001b[0mparams\u001b[0m\u001b[0;34m=\u001b[0m\u001b[0mpayload\u001b[0m\u001b[0;34m)\u001b[0m\u001b[0;34m\u001b[0m\u001b[0;34m\u001b[0m\u001b[0m\n\u001b[0m\u001b[1;32m    230\u001b[0m \u001b[0;31m#         print(self.r.url)\u001b[0m\u001b[0;34m\u001b[0m\u001b[0;34m\u001b[0m\u001b[0;34m\u001b[0m\u001b[0m\n\u001b[1;32m    231\u001b[0m \u001b[0;34m\u001b[0m\u001b[0m\n",
      "\u001b[0;32m~/miniconda3/envs/thesis-py38/lib/python3.8/site-packages/requests/api.py\u001b[0m in \u001b[0;36mget\u001b[0;34m(url, params, **kwargs)\u001b[0m\n\u001b[1;32m     73\u001b[0m     \"\"\"\n\u001b[1;32m     74\u001b[0m \u001b[0;34m\u001b[0m\u001b[0m\n\u001b[0;32m---> 75\u001b[0;31m     \u001b[0;32mreturn\u001b[0m \u001b[0mrequest\u001b[0m\u001b[0;34m(\u001b[0m\u001b[0;34m'get'\u001b[0m\u001b[0;34m,\u001b[0m \u001b[0murl\u001b[0m\u001b[0;34m,\u001b[0m \u001b[0mparams\u001b[0m\u001b[0;34m=\u001b[0m\u001b[0mparams\u001b[0m\u001b[0;34m,\u001b[0m \u001b[0;34m**\u001b[0m\u001b[0mkwargs\u001b[0m\u001b[0;34m)\u001b[0m\u001b[0;34m\u001b[0m\u001b[0;34m\u001b[0m\u001b[0m\n\u001b[0m\u001b[1;32m     76\u001b[0m \u001b[0;34m\u001b[0m\u001b[0m\n\u001b[1;32m     77\u001b[0m \u001b[0;34m\u001b[0m\u001b[0m\n",
      "\u001b[0;32m~/miniconda3/envs/thesis-py38/lib/python3.8/site-packages/requests/api.py\u001b[0m in \u001b[0;36mrequest\u001b[0;34m(method, url, **kwargs)\u001b[0m\n\u001b[1;32m     59\u001b[0m     \u001b[0;31m# cases, and look like a memory leak in others.\u001b[0m\u001b[0;34m\u001b[0m\u001b[0;34m\u001b[0m\u001b[0;34m\u001b[0m\u001b[0m\n\u001b[1;32m     60\u001b[0m     \u001b[0;32mwith\u001b[0m \u001b[0msessions\u001b[0m\u001b[0;34m.\u001b[0m\u001b[0mSession\u001b[0m\u001b[0;34m(\u001b[0m\u001b[0;34m)\u001b[0m \u001b[0;32mas\u001b[0m \u001b[0msession\u001b[0m\u001b[0;34m:\u001b[0m\u001b[0;34m\u001b[0m\u001b[0;34m\u001b[0m\u001b[0m\n\u001b[0;32m---> 61\u001b[0;31m         \u001b[0;32mreturn\u001b[0m \u001b[0msession\u001b[0m\u001b[0;34m.\u001b[0m\u001b[0mrequest\u001b[0m\u001b[0;34m(\u001b[0m\u001b[0mmethod\u001b[0m\u001b[0;34m=\u001b[0m\u001b[0mmethod\u001b[0m\u001b[0;34m,\u001b[0m \u001b[0murl\u001b[0m\u001b[0;34m=\u001b[0m\u001b[0murl\u001b[0m\u001b[0;34m,\u001b[0m \u001b[0;34m**\u001b[0m\u001b[0mkwargs\u001b[0m\u001b[0;34m)\u001b[0m\u001b[0;34m\u001b[0m\u001b[0;34m\u001b[0m\u001b[0m\n\u001b[0m\u001b[1;32m     62\u001b[0m \u001b[0;34m\u001b[0m\u001b[0m\n\u001b[1;32m     63\u001b[0m \u001b[0;34m\u001b[0m\u001b[0m\n",
      "\u001b[0;32m~/miniconda3/envs/thesis-py38/lib/python3.8/site-packages/requests/sessions.py\u001b[0m in \u001b[0;36mrequest\u001b[0;34m(self, method, url, params, data, headers, cookies, files, auth, timeout, allow_redirects, proxies, hooks, stream, verify, cert, json)\u001b[0m\n\u001b[1;32m    540\u001b[0m         }\n\u001b[1;32m    541\u001b[0m         \u001b[0msend_kwargs\u001b[0m\u001b[0;34m.\u001b[0m\u001b[0mupdate\u001b[0m\u001b[0;34m(\u001b[0m\u001b[0msettings\u001b[0m\u001b[0;34m)\u001b[0m\u001b[0;34m\u001b[0m\u001b[0;34m\u001b[0m\u001b[0m\n\u001b[0;32m--> 542\u001b[0;31m         \u001b[0mresp\u001b[0m \u001b[0;34m=\u001b[0m \u001b[0mself\u001b[0m\u001b[0;34m.\u001b[0m\u001b[0msend\u001b[0m\u001b[0;34m(\u001b[0m\u001b[0mprep\u001b[0m\u001b[0;34m,\u001b[0m \u001b[0;34m**\u001b[0m\u001b[0msend_kwargs\u001b[0m\u001b[0;34m)\u001b[0m\u001b[0;34m\u001b[0m\u001b[0;34m\u001b[0m\u001b[0m\n\u001b[0m\u001b[1;32m    543\u001b[0m \u001b[0;34m\u001b[0m\u001b[0m\n\u001b[1;32m    544\u001b[0m         \u001b[0;32mreturn\u001b[0m \u001b[0mresp\u001b[0m\u001b[0;34m\u001b[0m\u001b[0;34m\u001b[0m\u001b[0m\n",
      "\u001b[0;32m~/miniconda3/envs/thesis-py38/lib/python3.8/site-packages/requests/sessions.py\u001b[0m in \u001b[0;36msend\u001b[0;34m(self, request, **kwargs)\u001b[0m\n\u001b[1;32m    653\u001b[0m \u001b[0;34m\u001b[0m\u001b[0m\n\u001b[1;32m    654\u001b[0m         \u001b[0;31m# Send the request\u001b[0m\u001b[0;34m\u001b[0m\u001b[0;34m\u001b[0m\u001b[0;34m\u001b[0m\u001b[0m\n\u001b[0;32m--> 655\u001b[0;31m         \u001b[0mr\u001b[0m \u001b[0;34m=\u001b[0m \u001b[0madapter\u001b[0m\u001b[0;34m.\u001b[0m\u001b[0msend\u001b[0m\u001b[0;34m(\u001b[0m\u001b[0mrequest\u001b[0m\u001b[0;34m,\u001b[0m \u001b[0;34m**\u001b[0m\u001b[0mkwargs\u001b[0m\u001b[0;34m)\u001b[0m\u001b[0;34m\u001b[0m\u001b[0;34m\u001b[0m\u001b[0m\n\u001b[0m\u001b[1;32m    656\u001b[0m \u001b[0;34m\u001b[0m\u001b[0m\n\u001b[1;32m    657\u001b[0m         \u001b[0;31m# Total elapsed time of the request (approximately)\u001b[0m\u001b[0;34m\u001b[0m\u001b[0;34m\u001b[0m\u001b[0;34m\u001b[0m\u001b[0m\n",
      "\u001b[0;32m~/miniconda3/envs/thesis-py38/lib/python3.8/site-packages/requests/adapters.py\u001b[0m in \u001b[0;36msend\u001b[0;34m(self, request, stream, timeout, verify, cert, proxies)\u001b[0m\n\u001b[1;32m    437\u001b[0m         \u001b[0;32mtry\u001b[0m\u001b[0;34m:\u001b[0m\u001b[0;34m\u001b[0m\u001b[0;34m\u001b[0m\u001b[0m\n\u001b[1;32m    438\u001b[0m             \u001b[0;32mif\u001b[0m \u001b[0;32mnot\u001b[0m \u001b[0mchunked\u001b[0m\u001b[0;34m:\u001b[0m\u001b[0;34m\u001b[0m\u001b[0;34m\u001b[0m\u001b[0m\n\u001b[0;32m--> 439\u001b[0;31m                 resp = conn.urlopen(\n\u001b[0m\u001b[1;32m    440\u001b[0m                     \u001b[0mmethod\u001b[0m\u001b[0;34m=\u001b[0m\u001b[0mrequest\u001b[0m\u001b[0;34m.\u001b[0m\u001b[0mmethod\u001b[0m\u001b[0;34m,\u001b[0m\u001b[0;34m\u001b[0m\u001b[0;34m\u001b[0m\u001b[0m\n\u001b[1;32m    441\u001b[0m                     \u001b[0murl\u001b[0m\u001b[0;34m=\u001b[0m\u001b[0murl\u001b[0m\u001b[0;34m,\u001b[0m\u001b[0;34m\u001b[0m\u001b[0;34m\u001b[0m\u001b[0m\n",
      "\u001b[0;32m~/miniconda3/envs/thesis-py38/lib/python3.8/site-packages/urllib3/connectionpool.py\u001b[0m in \u001b[0;36murlopen\u001b[0;34m(self, method, url, body, headers, retries, redirect, assert_same_host, timeout, pool_timeout, release_conn, chunked, body_pos, **response_kw)\u001b[0m\n\u001b[1;32m    697\u001b[0m \u001b[0;34m\u001b[0m\u001b[0m\n\u001b[1;32m    698\u001b[0m             \u001b[0;31m# Make the request on the httplib connection object.\u001b[0m\u001b[0;34m\u001b[0m\u001b[0;34m\u001b[0m\u001b[0;34m\u001b[0m\u001b[0m\n\u001b[0;32m--> 699\u001b[0;31m             httplib_response = self._make_request(\n\u001b[0m\u001b[1;32m    700\u001b[0m                 \u001b[0mconn\u001b[0m\u001b[0;34m,\u001b[0m\u001b[0;34m\u001b[0m\u001b[0;34m\u001b[0m\u001b[0m\n\u001b[1;32m    701\u001b[0m                 \u001b[0mmethod\u001b[0m\u001b[0;34m,\u001b[0m\u001b[0;34m\u001b[0m\u001b[0;34m\u001b[0m\u001b[0m\n",
      "\u001b[0;32m~/miniconda3/envs/thesis-py38/lib/python3.8/site-packages/urllib3/connectionpool.py\u001b[0m in \u001b[0;36m_make_request\u001b[0;34m(self, conn, method, url, timeout, chunked, **httplib_request_kw)\u001b[0m\n\u001b[1;32m    443\u001b[0m                     \u001b[0;31m# Python 3 (including for exceptions like SystemExit).\u001b[0m\u001b[0;34m\u001b[0m\u001b[0;34m\u001b[0m\u001b[0;34m\u001b[0m\u001b[0m\n\u001b[1;32m    444\u001b[0m                     \u001b[0;31m# Otherwise it looks like a bug in the code.\u001b[0m\u001b[0;34m\u001b[0m\u001b[0;34m\u001b[0m\u001b[0;34m\u001b[0m\u001b[0m\n\u001b[0;32m--> 445\u001b[0;31m                     \u001b[0msix\u001b[0m\u001b[0;34m.\u001b[0m\u001b[0mraise_from\u001b[0m\u001b[0;34m(\u001b[0m\u001b[0me\u001b[0m\u001b[0;34m,\u001b[0m \u001b[0;32mNone\u001b[0m\u001b[0;34m)\u001b[0m\u001b[0;34m\u001b[0m\u001b[0;34m\u001b[0m\u001b[0m\n\u001b[0m\u001b[1;32m    446\u001b[0m         \u001b[0;32mexcept\u001b[0m \u001b[0;34m(\u001b[0m\u001b[0mSocketTimeout\u001b[0m\u001b[0;34m,\u001b[0m \u001b[0mBaseSSLError\u001b[0m\u001b[0;34m,\u001b[0m \u001b[0mSocketError\u001b[0m\u001b[0;34m)\u001b[0m \u001b[0;32mas\u001b[0m \u001b[0me\u001b[0m\u001b[0;34m:\u001b[0m\u001b[0;34m\u001b[0m\u001b[0;34m\u001b[0m\u001b[0m\n\u001b[1;32m    447\u001b[0m             \u001b[0mself\u001b[0m\u001b[0;34m.\u001b[0m\u001b[0m_raise_timeout\u001b[0m\u001b[0;34m(\u001b[0m\u001b[0merr\u001b[0m\u001b[0;34m=\u001b[0m\u001b[0me\u001b[0m\u001b[0;34m,\u001b[0m \u001b[0murl\u001b[0m\u001b[0;34m=\u001b[0m\u001b[0murl\u001b[0m\u001b[0;34m,\u001b[0m \u001b[0mtimeout_value\u001b[0m\u001b[0;34m=\u001b[0m\u001b[0mread_timeout\u001b[0m\u001b[0;34m)\u001b[0m\u001b[0;34m\u001b[0m\u001b[0;34m\u001b[0m\u001b[0m\n",
      "\u001b[0;32m~/miniconda3/envs/thesis-py38/lib/python3.8/site-packages/urllib3/packages/six.py\u001b[0m in \u001b[0;36mraise_from\u001b[0;34m(value, from_value)\u001b[0m\n",
      "\u001b[0;32m~/miniconda3/envs/thesis-py38/lib/python3.8/site-packages/urllib3/connectionpool.py\u001b[0m in \u001b[0;36m_make_request\u001b[0;34m(self, conn, method, url, timeout, chunked, **httplib_request_kw)\u001b[0m\n\u001b[1;32m    438\u001b[0m                 \u001b[0;31m# Python 3\u001b[0m\u001b[0;34m\u001b[0m\u001b[0;34m\u001b[0m\u001b[0;34m\u001b[0m\u001b[0m\n\u001b[1;32m    439\u001b[0m                 \u001b[0;32mtry\u001b[0m\u001b[0;34m:\u001b[0m\u001b[0;34m\u001b[0m\u001b[0;34m\u001b[0m\u001b[0m\n\u001b[0;32m--> 440\u001b[0;31m                     \u001b[0mhttplib_response\u001b[0m \u001b[0;34m=\u001b[0m \u001b[0mconn\u001b[0m\u001b[0;34m.\u001b[0m\u001b[0mgetresponse\u001b[0m\u001b[0;34m(\u001b[0m\u001b[0;34m)\u001b[0m\u001b[0;34m\u001b[0m\u001b[0;34m\u001b[0m\u001b[0m\n\u001b[0m\u001b[1;32m    441\u001b[0m                 \u001b[0;32mexcept\u001b[0m \u001b[0mBaseException\u001b[0m \u001b[0;32mas\u001b[0m \u001b[0me\u001b[0m\u001b[0;34m:\u001b[0m\u001b[0;34m\u001b[0m\u001b[0;34m\u001b[0m\u001b[0m\n\u001b[1;32m    442\u001b[0m                     \u001b[0;31m# Remove the TypeError from the exception chain in\u001b[0m\u001b[0;34m\u001b[0m\u001b[0;34m\u001b[0m\u001b[0;34m\u001b[0m\u001b[0m\n",
      "\u001b[0;32m~/miniconda3/envs/thesis-py38/lib/python3.8/http/client.py\u001b[0m in \u001b[0;36mgetresponse\u001b[0;34m(self)\u001b[0m\n\u001b[1;32m   1346\u001b[0m         \u001b[0;32mtry\u001b[0m\u001b[0;34m:\u001b[0m\u001b[0;34m\u001b[0m\u001b[0;34m\u001b[0m\u001b[0m\n\u001b[1;32m   1347\u001b[0m             \u001b[0;32mtry\u001b[0m\u001b[0;34m:\u001b[0m\u001b[0;34m\u001b[0m\u001b[0;34m\u001b[0m\u001b[0m\n\u001b[0;32m-> 1348\u001b[0;31m                 \u001b[0mresponse\u001b[0m\u001b[0;34m.\u001b[0m\u001b[0mbegin\u001b[0m\u001b[0;34m(\u001b[0m\u001b[0;34m)\u001b[0m\u001b[0;34m\u001b[0m\u001b[0;34m\u001b[0m\u001b[0m\n\u001b[0m\u001b[1;32m   1349\u001b[0m             \u001b[0;32mexcept\u001b[0m \u001b[0mConnectionError\u001b[0m\u001b[0;34m:\u001b[0m\u001b[0;34m\u001b[0m\u001b[0;34m\u001b[0m\u001b[0m\n\u001b[1;32m   1350\u001b[0m                 \u001b[0mself\u001b[0m\u001b[0;34m.\u001b[0m\u001b[0mclose\u001b[0m\u001b[0;34m(\u001b[0m\u001b[0;34m)\u001b[0m\u001b[0;34m\u001b[0m\u001b[0;34m\u001b[0m\u001b[0m\n",
      "\u001b[0;32m~/miniconda3/envs/thesis-py38/lib/python3.8/http/client.py\u001b[0m in \u001b[0;36mbegin\u001b[0;34m(self)\u001b[0m\n\u001b[1;32m    314\u001b[0m         \u001b[0;31m# read until we get a non-100 response\u001b[0m\u001b[0;34m\u001b[0m\u001b[0;34m\u001b[0m\u001b[0;34m\u001b[0m\u001b[0m\n\u001b[1;32m    315\u001b[0m         \u001b[0;32mwhile\u001b[0m \u001b[0;32mTrue\u001b[0m\u001b[0;34m:\u001b[0m\u001b[0;34m\u001b[0m\u001b[0;34m\u001b[0m\u001b[0m\n\u001b[0;32m--> 316\u001b[0;31m             \u001b[0mversion\u001b[0m\u001b[0;34m,\u001b[0m \u001b[0mstatus\u001b[0m\u001b[0;34m,\u001b[0m \u001b[0mreason\u001b[0m \u001b[0;34m=\u001b[0m \u001b[0mself\u001b[0m\u001b[0;34m.\u001b[0m\u001b[0m_read_status\u001b[0m\u001b[0;34m(\u001b[0m\u001b[0;34m)\u001b[0m\u001b[0;34m\u001b[0m\u001b[0;34m\u001b[0m\u001b[0m\n\u001b[0m\u001b[1;32m    317\u001b[0m             \u001b[0;32mif\u001b[0m \u001b[0mstatus\u001b[0m \u001b[0;34m!=\u001b[0m \u001b[0mCONTINUE\u001b[0m\u001b[0;34m:\u001b[0m\u001b[0;34m\u001b[0m\u001b[0;34m\u001b[0m\u001b[0m\n\u001b[1;32m    318\u001b[0m                 \u001b[0;32mbreak\u001b[0m\u001b[0;34m\u001b[0m\u001b[0;34m\u001b[0m\u001b[0m\n",
      "\u001b[0;32m~/miniconda3/envs/thesis-py38/lib/python3.8/http/client.py\u001b[0m in \u001b[0;36m_read_status\u001b[0;34m(self)\u001b[0m\n\u001b[1;32m    275\u001b[0m \u001b[0;34m\u001b[0m\u001b[0m\n\u001b[1;32m    276\u001b[0m     \u001b[0;32mdef\u001b[0m \u001b[0m_read_status\u001b[0m\u001b[0;34m(\u001b[0m\u001b[0mself\u001b[0m\u001b[0;34m)\u001b[0m\u001b[0;34m:\u001b[0m\u001b[0;34m\u001b[0m\u001b[0;34m\u001b[0m\u001b[0m\n\u001b[0;32m--> 277\u001b[0;31m         \u001b[0mline\u001b[0m \u001b[0;34m=\u001b[0m \u001b[0mstr\u001b[0m\u001b[0;34m(\u001b[0m\u001b[0mself\u001b[0m\u001b[0;34m.\u001b[0m\u001b[0mfp\u001b[0m\u001b[0;34m.\u001b[0m\u001b[0mreadline\u001b[0m\u001b[0;34m(\u001b[0m\u001b[0m_MAXLINE\u001b[0m \u001b[0;34m+\u001b[0m \u001b[0;36m1\u001b[0m\u001b[0;34m)\u001b[0m\u001b[0;34m,\u001b[0m \u001b[0;34m\"iso-8859-1\"\u001b[0m\u001b[0;34m)\u001b[0m\u001b[0;34m\u001b[0m\u001b[0;34m\u001b[0m\u001b[0m\n\u001b[0m\u001b[1;32m    278\u001b[0m         \u001b[0;32mif\u001b[0m \u001b[0mlen\u001b[0m\u001b[0;34m(\u001b[0m\u001b[0mline\u001b[0m\u001b[0;34m)\u001b[0m \u001b[0;34m>\u001b[0m \u001b[0m_MAXLINE\u001b[0m\u001b[0;34m:\u001b[0m\u001b[0;34m\u001b[0m\u001b[0;34m\u001b[0m\u001b[0m\n\u001b[1;32m    279\u001b[0m             \u001b[0;32mraise\u001b[0m \u001b[0mLineTooLong\u001b[0m\u001b[0;34m(\u001b[0m\u001b[0;34m\"status line\"\u001b[0m\u001b[0;34m)\u001b[0m\u001b[0;34m\u001b[0m\u001b[0;34m\u001b[0m\u001b[0m\n",
      "\u001b[0;32m~/miniconda3/envs/thesis-py38/lib/python3.8/socket.py\u001b[0m in \u001b[0;36mreadinto\u001b[0;34m(self, b)\u001b[0m\n\u001b[1;32m    667\u001b[0m         \u001b[0;32mwhile\u001b[0m \u001b[0;32mTrue\u001b[0m\u001b[0;34m:\u001b[0m\u001b[0;34m\u001b[0m\u001b[0;34m\u001b[0m\u001b[0m\n\u001b[1;32m    668\u001b[0m             \u001b[0;32mtry\u001b[0m\u001b[0;34m:\u001b[0m\u001b[0;34m\u001b[0m\u001b[0;34m\u001b[0m\u001b[0m\n\u001b[0;32m--> 669\u001b[0;31m                 \u001b[0;32mreturn\u001b[0m \u001b[0mself\u001b[0m\u001b[0;34m.\u001b[0m\u001b[0m_sock\u001b[0m\u001b[0;34m.\u001b[0m\u001b[0mrecv_into\u001b[0m\u001b[0;34m(\u001b[0m\u001b[0mb\u001b[0m\u001b[0;34m)\u001b[0m\u001b[0;34m\u001b[0m\u001b[0;34m\u001b[0m\u001b[0m\n\u001b[0m\u001b[1;32m    670\u001b[0m             \u001b[0;32mexcept\u001b[0m \u001b[0mtimeout\u001b[0m\u001b[0;34m:\u001b[0m\u001b[0;34m\u001b[0m\u001b[0;34m\u001b[0m\u001b[0m\n\u001b[1;32m    671\u001b[0m                 \u001b[0mself\u001b[0m\u001b[0;34m.\u001b[0m\u001b[0m_timeout_occurred\u001b[0m \u001b[0;34m=\u001b[0m \u001b[0;32mTrue\u001b[0m\u001b[0;34m\u001b[0m\u001b[0;34m\u001b[0m\u001b[0m\n",
      "\u001b[0;32m~/miniconda3/envs/thesis-py38/lib/python3.8/ssl.py\u001b[0m in \u001b[0;36mrecv_into\u001b[0;34m(self, buffer, nbytes, flags)\u001b[0m\n\u001b[1;32m   1239\u001b[0m                   \u001b[0;34m\"non-zero flags not allowed in calls to recv_into() on %s\"\u001b[0m \u001b[0;34m%\u001b[0m\u001b[0;34m\u001b[0m\u001b[0;34m\u001b[0m\u001b[0m\n\u001b[1;32m   1240\u001b[0m                   self.__class__)\n\u001b[0;32m-> 1241\u001b[0;31m             \u001b[0;32mreturn\u001b[0m \u001b[0mself\u001b[0m\u001b[0;34m.\u001b[0m\u001b[0mread\u001b[0m\u001b[0;34m(\u001b[0m\u001b[0mnbytes\u001b[0m\u001b[0;34m,\u001b[0m \u001b[0mbuffer\u001b[0m\u001b[0;34m)\u001b[0m\u001b[0;34m\u001b[0m\u001b[0;34m\u001b[0m\u001b[0m\n\u001b[0m\u001b[1;32m   1242\u001b[0m         \u001b[0;32melse\u001b[0m\u001b[0;34m:\u001b[0m\u001b[0;34m\u001b[0m\u001b[0;34m\u001b[0m\u001b[0m\n\u001b[1;32m   1243\u001b[0m             \u001b[0;32mreturn\u001b[0m \u001b[0msuper\u001b[0m\u001b[0;34m(\u001b[0m\u001b[0;34m)\u001b[0m\u001b[0;34m.\u001b[0m\u001b[0mrecv_into\u001b[0m\u001b[0;34m(\u001b[0m\u001b[0mbuffer\u001b[0m\u001b[0;34m,\u001b[0m \u001b[0mnbytes\u001b[0m\u001b[0;34m,\u001b[0m \u001b[0mflags\u001b[0m\u001b[0;34m)\u001b[0m\u001b[0;34m\u001b[0m\u001b[0;34m\u001b[0m\u001b[0m\n",
      "\u001b[0;32m~/miniconda3/envs/thesis-py38/lib/python3.8/ssl.py\u001b[0m in \u001b[0;36mread\u001b[0;34m(self, len, buffer)\u001b[0m\n\u001b[1;32m   1097\u001b[0m         \u001b[0;32mtry\u001b[0m\u001b[0;34m:\u001b[0m\u001b[0;34m\u001b[0m\u001b[0;34m\u001b[0m\u001b[0m\n\u001b[1;32m   1098\u001b[0m             \u001b[0;32mif\u001b[0m \u001b[0mbuffer\u001b[0m \u001b[0;32mis\u001b[0m \u001b[0;32mnot\u001b[0m \u001b[0;32mNone\u001b[0m\u001b[0;34m:\u001b[0m\u001b[0;34m\u001b[0m\u001b[0;34m\u001b[0m\u001b[0m\n\u001b[0;32m-> 1099\u001b[0;31m                 \u001b[0;32mreturn\u001b[0m \u001b[0mself\u001b[0m\u001b[0;34m.\u001b[0m\u001b[0m_sslobj\u001b[0m\u001b[0;34m.\u001b[0m\u001b[0mread\u001b[0m\u001b[0;34m(\u001b[0m\u001b[0mlen\u001b[0m\u001b[0;34m,\u001b[0m \u001b[0mbuffer\u001b[0m\u001b[0;34m)\u001b[0m\u001b[0;34m\u001b[0m\u001b[0;34m\u001b[0m\u001b[0m\n\u001b[0m\u001b[1;32m   1100\u001b[0m             \u001b[0;32melse\u001b[0m\u001b[0;34m:\u001b[0m\u001b[0;34m\u001b[0m\u001b[0;34m\u001b[0m\u001b[0m\n\u001b[1;32m   1101\u001b[0m                 \u001b[0;32mreturn\u001b[0m \u001b[0mself\u001b[0m\u001b[0;34m.\u001b[0m\u001b[0m_sslobj\u001b[0m\u001b[0;34m.\u001b[0m\u001b[0mread\u001b[0m\u001b[0;34m(\u001b[0m\u001b[0mlen\u001b[0m\u001b[0;34m)\u001b[0m\u001b[0;34m\u001b[0m\u001b[0;34m\u001b[0m\u001b[0m\n",
      "\u001b[0;31mKeyboardInterrupt\u001b[0m: "
     ]
    }
   ],
   "source": [
    "FOLDER_NAME = '/home/space/datasets/COA/generated-data-api-large'\n",
    "# FOLDER_NAME = '../generated'\n",
    "generate_dataset(FOLDER_NAME, total_possible_permutations)"
   ]
  },
  {
   "cell_type": "markdown",
   "id": "6f3dfcce",
   "metadata": {},
   "source": [
    "### Generate the last missing photo!"
   ]
  },
  {
   "cell_type": "code",
   "execution_count": 16,
   "id": "ae2869e7",
   "metadata": {},
   "outputs": [
    {
     "data": {
      "text/plain": [
       "(('A', 'G', 'cross patonce'), 'e', '0.7')"
      ]
     },
     "execution_count": 16,
     "metadata": {},
     "output_type": "execute_result"
    }
   ],
   "source": [
    "all_possible_s_permutations[10691]"
   ]
  },
  {
   "cell_type": "markdown",
   "id": "94c0785e",
   "metadata": {},
   "source": [
    "# Generate smaller dataset for local testing\n"
   ]
  },
  {
   "cell_type": "code",
   "execution_count": 51,
   "id": "124a3fae",
   "metadata": {},
   "outputs": [
    {
     "ename": "NameError",
     "evalue": "name 'all_possible_permutations' is not defined",
     "output_type": "error",
     "traceback": [
      "\u001b[0;31m---------------------------------------------------------------------------\u001b[0m",
      "\u001b[0;31mNameError\u001b[0m                                 Traceback (most recent call last)",
      "\u001b[0;32m/var/folders/63/rjyvh__j05s68hsx_zrl_h140000gp/T/ipykernel_11460/4064521378.py\u001b[0m in \u001b[0;36m<module>\u001b[0;34m\u001b[0m\n\u001b[1;32m      1\u001b[0m \u001b[0mcounter\u001b[0m \u001b[0;34m=\u001b[0m \u001b[0;36m10691\u001b[0m\u001b[0;34m\u001b[0m\u001b[0;34m\u001b[0m\u001b[0m\n\u001b[0;32m----> 2\u001b[0;31m \u001b[0mlabel\u001b[0m \u001b[0;34m=\u001b[0m \u001b[0mall_possible_permutations\u001b[0m\u001b[0;34m[\u001b[0m\u001b[0;36m10691\u001b[0m\u001b[0;34m]\u001b[0m\u001b[0;34m\u001b[0m\u001b[0;34m\u001b[0m\u001b[0m\n\u001b[0m\u001b[1;32m      3\u001b[0m \u001b[0mlabel_ls\u001b[0m \u001b[0;34m=\u001b[0m \u001b[0;34m[\u001b[0m\u001b[0;34m*\u001b[0m\u001b[0mlabel\u001b[0m\u001b[0;34m[\u001b[0m\u001b[0;36m0\u001b[0m\u001b[0;34m]\u001b[0m\u001b[0;34m,\u001b[0m \u001b[0mlabel\u001b[0m\u001b[0;34m[\u001b[0m\u001b[0;36m1\u001b[0m\u001b[0;34m]\u001b[0m\u001b[0;34m,\u001b[0m \u001b[0mlabel\u001b[0m\u001b[0;34m[\u001b[0m\u001b[0;36m2\u001b[0m\u001b[0;34m]\u001b[0m\u001b[0;34m]\u001b[0m\u001b[0;34m\u001b[0m\u001b[0;34m\u001b[0m\u001b[0m\n\u001b[1;32m      4\u001b[0m \u001b[0mprint\u001b[0m\u001b[0;34m(\u001b[0m\u001b[0mlabel_ls\u001b[0m\u001b[0;34m)\u001b[0m\u001b[0;34m\u001b[0m\u001b[0;34m\u001b[0m\u001b[0m\n\u001b[1;32m      5\u001b[0m \u001b[0mfolder_name\u001b[0m \u001b[0;34m=\u001b[0m \u001b[0;34m'/home/space/datasets/COA/generated-data-api'\u001b[0m\u001b[0;34m\u001b[0m\u001b[0;34m\u001b[0m\u001b[0m\n",
      "\u001b[0;31mNameError\u001b[0m: name 'all_possible_permutations' is not defined"
     ]
    }
   ],
   "source": [
    "counter = 10691\n",
    "label = all_possible_permutations[10691]\n",
    "label_ls = [*label[0], label[1], label[2]]\n",
    "print(label_ls)\n",
    "folder_name = '/home/space/datasets/COA/generated-data-api'\n",
    "payload = ArmoriaAPIPayload(label_ls).get_armoria_payload()\n",
    "print(payload)\n",
    "api = ArmoriaAPIWrapper(size = 500,format=\"png\", coa=payload)\n",
    "\n",
    "sample_name = 'image_' + str(counter+1)\n",
    "\n",
    "image_full_path = folder_name + '/images/' + sample_name + '.png'\n",
    "text_label = ' '.join(label[0])\n",
    "\n",
    "api.save_image(image_full_path)\n",
    "\n",
    "print('Image \"{}\" for label \"{}\" has been generated succfully' .format(image_full_path, text_label) )\n"
   ]
  },
  {
   "cell_type": "code",
   "execution_count": 8,
   "id": "fc04f190",
   "metadata": {},
   "outputs": [
    {
     "name": "stdout",
     "output_type": "stream",
     "text": [
      "Total number of permutations: 60\n"
     ]
    },
    {
     "data": {
      "text/plain": [
       "[('A', 'A', 'lion'),\n",
       " ('A', 'A', 'lion rampant'),\n",
       " ('A', 'A', 'lion passt'),\n",
       " ('A', 'A', 'lion passt guard'),\n",
       " ('A', 'A', \"lion's head\"),\n",
       " ('A', 'B', 'lion'),\n",
       " ('A', 'B', 'lion rampant'),\n",
       " ('A', 'B', 'lion passt'),\n",
       " ('A', 'B', 'lion passt guard'),\n",
       " ('A', 'B', \"lion's head\"),\n",
       " ('A', 'O', 'lion'),\n",
       " ('A', 'O', 'lion rampant'),\n",
       " ('A', 'O', 'lion passt'),\n",
       " ('A', 'O', 'lion passt guard'),\n",
       " ('A', 'O', \"lion's head\"),\n",
       " ('A', 'S', 'lion'),\n",
       " ('A', 'S', 'lion rampant'),\n",
       " ('A', 'S', 'lion passt'),\n",
       " ('A', 'S', 'lion passt guard'),\n",
       " ('A', 'S', \"lion's head\"),\n",
       " ('A', 'G', 'lion'),\n",
       " ('A', 'G', 'lion rampant'),\n",
       " ('A', 'G', 'lion passt'),\n",
       " ('A', 'G', 'lion passt guard'),\n",
       " ('A', 'G', \"lion's head\"),\n",
       " ('A', 'V', 'lion'),\n",
       " ('A', 'V', 'lion rampant'),\n",
       " ('A', 'V', 'lion passt'),\n",
       " ('A', 'V', 'lion passt guard'),\n",
       " ('A', 'V', \"lion's head\"),\n",
       " ('A', 'A', 'cross'),\n",
       " ('A', 'A', 'cross moline'),\n",
       " ('A', 'A', 'cross patonce'),\n",
       " ('A', 'B', 'cross'),\n",
       " ('A', 'B', 'cross moline'),\n",
       " ('A', 'B', 'cross patonce'),\n",
       " ('A', 'O', 'cross'),\n",
       " ('A', 'O', 'cross moline'),\n",
       " ('A', 'O', 'cross patonce'),\n",
       " ('A', 'S', 'cross'),\n",
       " ('A', 'S', 'cross moline'),\n",
       " ('A', 'S', 'cross patonce'),\n",
       " ('A', 'G', 'cross'),\n",
       " ('A', 'G', 'cross moline'),\n",
       " ('A', 'G', 'cross patonce'),\n",
       " ('A', 'V', 'cross'),\n",
       " ('A', 'V', 'cross moline'),\n",
       " ('A', 'V', 'cross patonce'),\n",
       " ('A', 'A', 'eagle'),\n",
       " ('A', 'A', 'eagle doubleheaded'),\n",
       " ('A', 'B', 'eagle'),\n",
       " ('A', 'B', 'eagle doubleheaded'),\n",
       " ('A', 'O', 'eagle'),\n",
       " ('A', 'O', 'eagle doubleheaded'),\n",
       " ('A', 'S', 'eagle'),\n",
       " ('A', 'S', 'eagle doubleheaded'),\n",
       " ('A', 'G', 'eagle'),\n",
       " ('A', 'G', 'eagle doubleheaded'),\n",
       " ('A', 'V', 'eagle'),\n",
       " ('A', 'V', 'eagle doubleheaded')]"
      ]
     },
     "execution_count": 8,
     "metadata": {},
     "output_type": "execute_result"
    }
   ],
   "source": [
    "all_possible_permutations = []\n",
    "\n",
    "# lion, modifiers and colors\n",
    "permutations1 = list(dict.fromkeys(itertools.product(['A'],list(COLORS_MAP.keys()), list( LION_MODIFIERS_MAP.keys()))))\n",
    "\n",
    "# cross, modifiers and colors\n",
    "permutations2 = list(dict.fromkeys(itertools.product(['A'], list(COLORS_MAP.keys()), list( CROSS_MODIFIERS_MAP.keys()))))\n",
    "\n",
    "# eagle, modifiers and colors\n",
    "permutations3 = list(dict.fromkeys(itertools.product(['A'], list(COLORS_MAP.keys()), list( EAGLE_MODIFIERS_MAP.keys()))))\n",
    "\n",
    "all_possible_permutations = permutations1 + permutations2 + permutations3\n",
    "\n",
    "print('Total number of permutations:', len(all_possible_permutations))\n",
    "all_possible_permutations"
   ]
  },
  {
   "cell_type": "code",
   "execution_count": 18,
   "id": "63f93e6f",
   "metadata": {},
   "outputs": [
    {
     "name": "stdout",
     "output_type": "stream",
     "text": [
      "Image \"generated-data-api-small/images/image_1.png\" for label \"A A lion\" has been generated succfully\n",
      "Image \"generated-data-api-small/images/image_2.png\" for label \"A A lion rampant\" has been generated succfully\n",
      "Image \"generated-data-api-small/images/image_3.png\" for label \"A A lion passt\" has been generated succfully\n",
      "Image \"generated-data-api-small/images/image_4.png\" for label \"A A lion passt guard\" has been generated succfully\n",
      "Image \"generated-data-api-small/images/image_5.png\" for label \"A A lion's head\" has been generated succfully\n",
      "Image \"generated-data-api-small/images/image_6.png\" for label \"A B lion\" has been generated succfully\n",
      "Image \"generated-data-api-small/images/image_7.png\" for label \"A B lion rampant\" has been generated succfully\n",
      "Image \"generated-data-api-small/images/image_8.png\" for label \"A B lion passt\" has been generated succfully\n",
      "Image \"generated-data-api-small/images/image_9.png\" for label \"A B lion passt guard\" has been generated succfully\n",
      "Image \"generated-data-api-small/images/image_10.png\" for label \"A B lion's head\" has been generated succfully\n",
      "Image \"generated-data-api-small/images/image_11.png\" for label \"A O lion\" has been generated succfully\n",
      "Image \"generated-data-api-small/images/image_12.png\" for label \"A O lion rampant\" has been generated succfully\n",
      "Image \"generated-data-api-small/images/image_13.png\" for label \"A O lion passt\" has been generated succfully\n",
      "Image \"generated-data-api-small/images/image_14.png\" for label \"A O lion passt guard\" has been generated succfully\n",
      "Image \"generated-data-api-small/images/image_15.png\" for label \"A O lion's head\" has been generated succfully\n",
      "Image \"generated-data-api-small/images/image_16.png\" for label \"A S lion\" has been generated succfully\n",
      "Image \"generated-data-api-small/images/image_17.png\" for label \"A S lion rampant\" has been generated succfully\n",
      "Image \"generated-data-api-small/images/image_18.png\" for label \"A S lion passt\" has been generated succfully\n",
      "Image \"generated-data-api-small/images/image_19.png\" for label \"A S lion passt guard\" has been generated succfully\n",
      "Image \"generated-data-api-small/images/image_20.png\" for label \"A S lion's head\" has been generated succfully\n",
      "Image \"generated-data-api-small/images/image_21.png\" for label \"A G lion\" has been generated succfully\n",
      "Image \"generated-data-api-small/images/image_22.png\" for label \"A G lion rampant\" has been generated succfully\n",
      "Image \"generated-data-api-small/images/image_23.png\" for label \"A G lion passt\" has been generated succfully\n",
      "Image \"generated-data-api-small/images/image_24.png\" for label \"A G lion passt guard\" has been generated succfully\n",
      "Image \"generated-data-api-small/images/image_25.png\" for label \"A G lion's head\" has been generated succfully\n",
      "Image \"generated-data-api-small/images/image_26.png\" for label \"A V lion\" has been generated succfully\n",
      "Image \"generated-data-api-small/images/image_27.png\" for label \"A V lion rampant\" has been generated succfully\n",
      "Image \"generated-data-api-small/images/image_28.png\" for label \"A V lion passt\" has been generated succfully\n",
      "Image \"generated-data-api-small/images/image_29.png\" for label \"A V lion passt guard\" has been generated succfully\n",
      "Image \"generated-data-api-small/images/image_30.png\" for label \"A V lion's head\" has been generated succfully\n",
      "Image \"generated-data-api-small/images/image_31.png\" for label \"A A cross\" has been generated succfully\n",
      "Image \"generated-data-api-small/images/image_32.png\" for label \"A A cross moline\" has been generated succfully\n",
      "Image \"generated-data-api-small/images/image_33.png\" for label \"A A cross patonce\" has been generated succfully\n",
      "Image \"generated-data-api-small/images/image_34.png\" for label \"A B cross\" has been generated succfully\n",
      "Image \"generated-data-api-small/images/image_35.png\" for label \"A B cross moline\" has been generated succfully\n",
      "Image \"generated-data-api-small/images/image_36.png\" for label \"A B cross patonce\" has been generated succfully\n",
      "Image \"generated-data-api-small/images/image_37.png\" for label \"A O cross\" has been generated succfully\n",
      "Image \"generated-data-api-small/images/image_38.png\" for label \"A O cross moline\" has been generated succfully\n",
      "Image \"generated-data-api-small/images/image_39.png\" for label \"A O cross patonce\" has been generated succfully\n",
      "Image \"generated-data-api-small/images/image_40.png\" for label \"A S cross\" has been generated succfully\n",
      "Image \"generated-data-api-small/images/image_41.png\" for label \"A S cross moline\" has been generated succfully\n",
      "Image \"generated-data-api-small/images/image_42.png\" for label \"A S cross patonce\" has been generated succfully\n",
      "Image \"generated-data-api-small/images/image_43.png\" for label \"A G cross\" has been generated succfully\n",
      "Image \"generated-data-api-small/images/image_44.png\" for label \"A G cross moline\" has been generated succfully\n",
      "Image \"generated-data-api-small/images/image_45.png\" for label \"A G cross patonce\" has been generated succfully\n",
      "Image \"generated-data-api-small/images/image_46.png\" for label \"A V cross\" has been generated succfully\n",
      "Image \"generated-data-api-small/images/image_47.png\" for label \"A V cross moline\" has been generated succfully\n",
      "Image \"generated-data-api-small/images/image_48.png\" for label \"A V cross patonce\" has been generated succfully\n",
      "Image \"generated-data-api-small/images/image_49.png\" for label \"A A eagle\" has been generated succfully\n",
      "Image \"generated-data-api-small/images/image_50.png\" for label \"A A eagle doubleheaded\" has been generated succfully\n",
      "Image \"generated-data-api-small/images/image_51.png\" for label \"A B eagle\" has been generated succfully\n",
      "Image \"generated-data-api-small/images/image_52.png\" for label \"A B eagle doubleheaded\" has been generated succfully\n",
      "Image \"generated-data-api-small/images/image_53.png\" for label \"A O eagle\" has been generated succfully\n",
      "Image \"generated-data-api-small/images/image_54.png\" for label \"A O eagle doubleheaded\" has been generated succfully\n",
      "Image \"generated-data-api-small/images/image_55.png\" for label \"A S eagle\" has been generated succfully\n",
      "Image \"generated-data-api-small/images/image_56.png\" for label \"A S eagle doubleheaded\" has been generated succfully\n",
      "Image \"generated-data-api-small/images/image_57.png\" for label \"A G eagle\" has been generated succfully\n",
      "Image \"generated-data-api-small/images/image_58.png\" for label \"A G eagle doubleheaded\" has been generated succfully\n",
      "Image \"generated-data-api-small/images/image_59.png\" for label \"A V eagle\" has been generated succfully\n",
      "Image \"generated-data-api-small/images/image_60.png\" for label \"A V eagle doubleheaded\" has been generated succfully\n"
     ]
    }
   ],
   "source": [
    "FOLDER_NAME = 'generated-data-api-small'\n",
    "generate_dataset(FOLDER_NAME, all_possible_permutations)"
   ]
  },
  {
   "cell_type": "code",
   "execution_count": null,
   "id": "f8770e9d",
   "metadata": {},
   "outputs": [],
   "source": []
  },
  {
   "cell_type": "code",
   "execution_count": null,
   "id": "6885ac0d",
   "metadata": {
    "collapsed": true
   },
   "outputs": [],
   "source": []
  }
 ],
 "metadata": {
  "kernelspec": {
   "display_name": "Python 3 (ipykernel)",
   "language": "python",
   "name": "python3"
  },
  "language_info": {
   "codemirror_mode": {
    "name": "ipython",
    "version": 3
   },
   "file_extension": ".py",
   "mimetype": "text/x-python",
   "name": "python",
   "nbconvert_exporter": "python",
   "pygments_lexer": "ipython3",
   "version": "3.8.11"
  }
 },
 "nbformat": 4,
 "nbformat_minor": 5
}
