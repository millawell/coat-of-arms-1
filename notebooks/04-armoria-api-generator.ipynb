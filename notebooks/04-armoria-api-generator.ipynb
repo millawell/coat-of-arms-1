{
 "cells": [
  {
   "cell_type": "markdown",
   "id": "101e5655",
   "metadata": {},
   "source": [
    "# Armoria API"
   ]
  },
  {
   "cell_type": "code",
   "execution_count": 1,
   "id": "afa9a8d3",
   "metadata": {},
   "outputs": [],
   "source": [
    "# auto-load when code changes outside\n",
    "%load_ext autoreload\n",
    "%autoreload 2\n",
    "%load_ext pyinstrument\n",
    "\n",
    "import sys\n",
    "sys.path.insert(0,'..')\n",
    "\n",
    "\n",
    "import os\n",
    "from src.armoria_api import ArmoriaAPIPayload, ArmoriaAPIWrapper\n",
    "from src.armoria_api_generator_helper import ArmoriaAPIGeneratorHelper\n",
    "\n",
    "from src.caption import Caption\n"
   ]
  },
  {
   "cell_type": "markdown",
   "id": "bd4d09b5",
   "metadata": {},
   "source": [
    "# Examples of using the ArmoriaAPIWrapper "
   ]
  },
  {
   "cell_type": "code",
   "execution_count": 2,
   "id": "e6698cfd",
   "metadata": {},
   "outputs": [],
   "source": [
    "coa_lion = {\"t1\":\"or\",\n",
    "       \"shield\":\"heater\",\n",
    "       \"charges\":[{\"charge\":\"lionRampant\",\"t\":\"gules\",\"p\":\"e\",\"size\":1.5}],\n",
    "       \"ordinaries\":[{\"ordinary\":\"bordure\",\"t\":\"azure\"}],\n",
    "      }\n",
    "\n",
    "api = ArmoriaAPIWrapper(size = 500,format=\"png\", coa=coa_lion)\n",
    "api.show_image()\n"
   ]
  },
  {
   "cell_type": "code",
   "execution_count": 3,
   "id": "b372925e",
   "metadata": {},
   "outputs": [],
   "source": [
    "\n",
    "coa_cross = {\"t1\":\"argent\",\n",
    "       \"shield\":\"heater\",\n",
    "       \"charges\":[{\"charge\":\"crossMoline\",\n",
    "                   \"t\":\"azure\",\n",
    "                   \"p\":\"e\",\n",
    "                   \"size\":1.5}]\n",
    "      }\n",
    "\n",
    "api = ArmoriaAPIWrapper(size = 500,format=\"png\", coa=coa_cross)\n",
    "api.show_image()"
   ]
  },
  {
   "cell_type": "code",
   "execution_count": 4,
   "id": "3bc6a9bc",
   "metadata": {},
   "outputs": [],
   "source": [
    "payload = {'t1': 'azure', 'shield': 'heater', \n",
    "             'charges': [{'charge': 'lionRampant', 't': 'argent', 'p': 'k', 'size': '0.7'},\n",
    "                        {'charge': 'eagle', 't': 'or', 'p': 'n', 'size': '0.7'}],\n",
    "             'ordinaries': []}\n",
    "api = ArmoriaAPIWrapper(size = 500,format=\"png\", coa=payload)\n",
    "api.show_image()\n"
   ]
  },
  {
   "cell_type": "code",
   "execution_count": 5,
   "id": "15fd59ff",
   "metadata": {},
   "outputs": [],
   "source": [
    "payload = {'t1': 'or', 'shield': 'heater', \n",
    "             'charges': [{'charge': 'lionRampant', 't': 'or', 'p': 'abc', 'size': '0.3'},\n",
    "                         {'charge': 'eagle', 't': 'azure', 'p': 'dfgz', 'size': '0.3'},\n",
    "                         {'charge': 'crossHummetty', 't': 'argent', 'p': 'i', 'size': '0.3'}],\n",
    "             'ordinaries': [{\"ordinary\":\"bordure\", \"t\":\"azure\"}]}\n",
    "\n",
    "api = ArmoriaAPIWrapper(size = 500,format=\"png\", coa=payload)\n",
    "api.show_image()\n"
   ]
  },
  {
   "cell_type": "markdown",
   "id": "70e6438b",
   "metadata": {},
   "source": [
    "# Generate Permutations"
   ]
  },
  {
   "cell_type": "code",
   "execution_count": 3,
   "id": "5b84e897",
   "metadata": {},
   "outputs": [],
   "source": [
    "import itertools\n",
    "import src.alphabet as alphabet\n",
    "from src.armoria_api import COLORS_MAP, SINGLE_LION_MODIFIERS_MAP, PLURAL_LION_MODIFIERS_MAP, CROSS_MODIFIERS_MAP, \\\n",
    "SINGLE_EAGLE_MODIFIERS_MAP, PLURAL_EAGLE_MODIFIERS_MAP, \\\n",
    "POSITIONS, SIZES, NUMBERS, NUMBERS_MULTI, SINGLE_POSITION\n",
    "\n",
    "BORDER_MOD = ['& border', '']"
   ]
  },
  {
   "cell_type": "markdown",
   "id": "5b2e308d",
   "metadata": {},
   "source": [
    "## Single object"
   ]
  },
  {
   "cell_type": "code",
   "execution_count": 4,
   "id": "9a4c943e",
   "metadata": {},
   "outputs": [
    {
     "name": "stdout",
     "output_type": "stream",
     "text": [
      "Total number of permutations: 720\n"
     ]
    }
   ],
   "source": [
    "\n",
    "# lion, modifiers and colors\n",
    "permutations1 = list(dict.fromkeys(itertools.product(list(COLORS_MAP.keys()), list(COLORS_MAP.keys()), list( SINGLE_LION_MODIFIERS_MAP.keys()),BORDER_MOD)))\n",
    "\n",
    "# cross, modifiers and colors\n",
    "permutations2 = list(dict.fromkeys(itertools.product(list(COLORS_MAP.keys()), list(COLORS_MAP.keys()), list( CROSS_MODIFIERS_MAP.keys()),BORDER_MOD)))\n",
    "\n",
    "# eagle, modifiers and colors\n",
    "permutations3 = list(dict.fromkeys(itertools.product(list(COLORS_MAP.keys()), list(COLORS_MAP.keys()), list( SINGLE_EAGLE_MODIFIERS_MAP.keys()),BORDER_MOD)))\n",
    "\n",
    "possible_single_permutations = permutations1 + permutations2 + permutations3\n",
    "\n",
    "print('Total number of permutations:', len(possible_single_permutations))"
   ]
  },
  {
   "cell_type": "markdown",
   "id": "5f4e278a",
   "metadata": {},
   "source": [
    "## Plural Object with Number"
   ]
  },
  {
   "cell_type": "code",
   "execution_count": 8,
   "id": "4174816e",
   "metadata": {},
   "outputs": [
    {
     "name": "stdout",
     "output_type": "stream",
     "text": [
      "Total number of plural permutations: 4320\n"
     ]
    }
   ],
   "source": [
    "# lion, modifiers and colors\n",
    "permutations1 = list(dict.fromkeys(itertools.product(list(COLORS_MAP.keys()), list(COLORS_MAP.keys()), list(NUMBERS), list( PLURAL_LION_MODIFIERS_MAP.keys()),BORDER_MOD)))\n",
    "\n",
    "# eagle, modifiers and colors\n",
    "permutations2 = list(dict.fromkeys(itertools.product(list(COLORS_MAP.keys()), list(COLORS_MAP.keys()), list(NUMBERS), list( PLURAL_EAGLE_MODIFIERS_MAP.keys()),BORDER_MOD)))\n",
    "\n",
    "possible_pl_permutations = permutations1 + permutations2\n",
    "\n",
    "print('Total number of plural permutations:', len(possible_pl_permutations))\n"
   ]
  },
  {
   "cell_type": "markdown",
   "id": "1e6e841a",
   "metadata": {},
   "source": [
    "## Multi Objects - single"
   ]
  },
  {
   "cell_type": "code",
   "execution_count": 9,
   "id": "cb0d933f",
   "metadata": {},
   "outputs": [
    {
     "name": "stdout",
     "output_type": "stream",
     "text": [
      "Total number of permutations: 91152\n"
     ]
    }
   ],
   "source": [
    "\n",
    "# lion & eagle\n",
    "permutations1 = list(dict.fromkeys(itertools.product(list(COLORS_MAP.keys()),list(COLORS_MAP.keys()), list(COLORS_MAP.keys()), list( SINGLE_LION_MODIFIERS_MAP.keys()), list( SINGLE_EAGLE_MODIFIERS_MAP.keys()),BORDER_MOD)))\n",
    "\n",
    "# lion & cross\n",
    "permutations2 = list(dict.fromkeys(itertools.product(list(COLORS_MAP.keys()),list(COLORS_MAP.keys()), list(COLORS_MAP.keys()), list( SINGLE_LION_MODIFIERS_MAP.keys()), list( CROSS_MODIFIERS_MAP.keys()),BORDER_MOD)))\n",
    "\n",
    "# eagle & cross\n",
    "permutations3 = list(dict.fromkeys(itertools.product(list(COLORS_MAP.keys()),list(COLORS_MAP.keys()), list(COLORS_MAP.keys()), list( SINGLE_EAGLE_MODIFIERS_MAP.keys()), list( CROSS_MODIFIERS_MAP.keys()),BORDER_MOD)))\n",
    "\n",
    "# lion & cross & eagle\n",
    "permutations4 = list(dict.fromkeys(itertools.product(list(COLORS_MAP.keys()),list(COLORS_MAP.keys()),list(COLORS_MAP.keys()), list(COLORS_MAP.keys()), list( SINGLE_LION_MODIFIERS_MAP.keys()), list( SINGLE_EAGLE_MODIFIERS_MAP.keys()), list( CROSS_MODIFIERS_MAP.keys()),BORDER_MOD)))\n",
    "\n",
    "possible_multi_single_permutations = permutations1 + permutations2 + permutations3 + permutations4\n",
    "\n",
    "print('Total number of permutations:', len(possible_multi_single_permutations))\n"
   ]
  },
  {
   "cell_type": "markdown",
   "id": "44f06b02",
   "metadata": {},
   "source": [
    "## Multi Objects - plural"
   ]
  },
  {
   "cell_type": "code",
   "execution_count": 10,
   "id": "12195c4a",
   "metadata": {},
   "outputs": [
    {
     "name": "stdout",
     "output_type": "stream",
     "text": [
      "Total number of plural permutations: 1081728\n"
     ]
    }
   ],
   "source": [
    "\n",
    "# lion & eagle\n",
    "permutations1 = list(dict.fromkeys(itertools.product(list(COLORS_MAP.keys()),list(COLORS_MAP.keys()), list(COLORS_MAP.keys()), list(NUMBERS_MULTI),list( PLURAL_LION_MODIFIERS_MAP.keys()), list(NUMBERS_MULTI), list( PLURAL_EAGLE_MODIFIERS_MAP.keys()),BORDER_MOD)))\n",
    "\n",
    "# lion & cross\n",
    "permutations2 = list(dict.fromkeys(itertools.product(list(COLORS_MAP.keys()),list(COLORS_MAP.keys()), list(COLORS_MAP.keys()), list(NUMBERS_MULTI),list( PLURAL_LION_MODIFIERS_MAP.keys()), list( CROSS_MODIFIERS_MAP.keys()),BORDER_MOD)))\n",
    "\n",
    "# eagle & cross\n",
    "permutations3 = list(dict.fromkeys(itertools.product(list(COLORS_MAP.keys()),list(COLORS_MAP.keys()), list(COLORS_MAP.keys()), list(NUMBERS_MULTI),list( PLURAL_EAGLE_MODIFIERS_MAP.keys()), list( CROSS_MODIFIERS_MAP.keys()),BORDER_MOD)))\n",
    "\n",
    "# lion & cross & eagle\n",
    "permutations4 = list(dict.fromkeys(itertools.product(list(COLORS_MAP.keys()),list(COLORS_MAP.keys()),list(COLORS_MAP.keys()), list(COLORS_MAP.keys()), list(NUMBERS_MULTI), list( PLURAL_LION_MODIFIERS_MAP.keys()), list(NUMBERS_MULTI),list( PLURAL_EAGLE_MODIFIERS_MAP.keys()), list( CROSS_MODIFIERS_MAP.keys()),BORDER_MOD)))\n",
    "\n",
    "possible_multi_plural_permutations = permutations1 + permutations2 + permutations3 + permutations4\n",
    "\n",
    "print('Total number of plural permutations:', len(possible_multi_plural_permutations))\n"
   ]
  },
  {
   "cell_type": "markdown",
   "id": "92a9c81e",
   "metadata": {},
   "source": [
    "## Total number of permutations before adding border (588960)"
   ]
  },
  {
   "cell_type": "markdown",
   "id": "6e7e5513",
   "metadata": {},
   "source": [
    "## Total number of permutations with/out borders (1177920)\n",
    "## __NOTE__: Not possible to generate this amount of images with the Armoria API"
   ]
  },
  {
   "cell_type": "code",
   "execution_count": 11,
   "id": "0375cc40",
   "metadata": {},
   "outputs": [
    {
     "data": {
      "text/plain": [
       "1177920"
      ]
     },
     "execution_count": 11,
     "metadata": {},
     "output_type": "execute_result"
    }
   ],
   "source": [
    "total_possible_permutations = possible_single_permutations + possible_pl_permutations + \\\n",
    "                            possible_multi_single_permutations  + possible_multi_plural_permutations\n",
    "len(total_possible_permutations)"
   ]
  },
  {
   "cell_type": "code",
   "execution_count": 12,
   "id": "8d30e5a3",
   "metadata": {},
   "outputs": [
    {
     "data": {
      "text/plain": [
       "('A', 'A', 'lion', '& border')"
      ]
     },
     "execution_count": 12,
     "metadata": {},
     "output_type": "execute_result"
    }
   ],
   "source": [
    "total_possible_permutations[0]"
   ]
  },
  {
   "cell_type": "markdown",
   "id": "b7339529",
   "metadata": {},
   "source": [
    "# Take only 2000 random sample from the permutation list"
   ]
  },
  {
   "cell_type": "code",
   "execution_count": 20,
   "id": "af83f9f2",
   "metadata": {},
   "outputs": [
    {
     "data": {
      "text/plain": [
       "2000"
      ]
     },
     "execution_count": 20,
     "metadata": {},
     "output_type": "execute_result"
    }
   ],
   "source": [
    "import random\n",
    "\n",
    "subset_permutations = random.sample(total_possible_permutations, 2000)\n",
    "len(subset_permutations)"
   ]
  },
  {
   "cell_type": "code",
   "execution_count": 21,
   "id": "29a56d30",
   "metadata": {
    "scrolled": true
   },
   "outputs": [
    {
     "data": {
      "text/plain": [
       "[('V',\n",
       "  'O',\n",
       "  'S',\n",
       "  'O',\n",
       "  '4',\n",
       "  'lions',\n",
       "  '3',\n",
       "  'eagles doubleheaded',\n",
       "  'cross patonce',\n",
       "  '& border'),\n",
       " ('O', 'S', 'O', 'B', '5', 'lions passt', '5', 'eagles', 'cross', ''),\n",
       " ('V',\n",
       "  'G',\n",
       "  'O',\n",
       "  'B',\n",
       "  '4',\n",
       "  'lions passt',\n",
       "  '2',\n",
       "  'eagles doubleheaded',\n",
       "  'cross',\n",
       "  '& border'),\n",
       " ('S',\n",
       "  'A',\n",
       "  'S',\n",
       "  'A',\n",
       "  '5',\n",
       "  'lions passt guard',\n",
       "  '5',\n",
       "  'eagles doubleheaded',\n",
       "  'cross',\n",
       "  '& border'),\n",
       " ('V', 'S', 'B', '3', 'lions', '5', 'eagles', ''),\n",
       " ('V',\n",
       "  'G',\n",
       "  'B',\n",
       "  'G',\n",
       "  '2',\n",
       "  'lions rampant',\n",
       "  '5',\n",
       "  'eagles doubleheaded',\n",
       "  'cross',\n",
       "  ''),\n",
       " ('O', 'A', 'A', 'V', '5', 'lions passt', '3', 'eagles', 'cross', ''),\n",
       " ('G',\n",
       "  'G',\n",
       "  'A',\n",
       "  'V',\n",
       "  '5',\n",
       "  'lions rampant',\n",
       "  '3',\n",
       "  'eagles',\n",
       "  'cross',\n",
       "  '& border'),\n",
       " ('B',\n",
       "  'V',\n",
       "  'S',\n",
       "  'V',\n",
       "  '4',\n",
       "  'lions passt guard',\n",
       "  '3',\n",
       "  'eagles doubleheaded',\n",
       "  'cross',\n",
       "  ''),\n",
       " ('G', 'B', 'B', 'V', '3', 'lions rampant', '3', 'eagles', 'cross moline', '')]"
      ]
     },
     "execution_count": 21,
     "metadata": {},
     "output_type": "execute_result"
    }
   ],
   "source": [
    "subset_permutations[:10]"
   ]
  },
  {
   "cell_type": "markdown",
   "id": "dddf4763",
   "metadata": {},
   "source": [
    "## Total number of single permutations +  position and scale"
   ]
  },
  {
   "cell_type": "code",
   "execution_count": 5,
   "id": "e9d4fd32",
   "metadata": {},
   "outputs": [],
   "source": [
    "# FOLDER_NAME = '/home/space/datasets/COA/generated-data-api-subset-random'\n",
    "FOLDER_NAME = '../generated'\n",
    "caption_file = FOLDER_NAME + '/' + 'captions.txt'\n",
    "api_gen_helper = ArmoriaAPIGeneratorHelper(caption_file, FOLDER_NAME, subset_permutations) "
   ]
  },
  {
   "cell_type": "code",
   "execution_count": 6,
   "id": "0ac35bcd",
   "metadata": {},
   "outputs": [],
   "source": [
    "api_gen_helper.creat_caption_file()"
   ]
  },
  {
   "cell_type": "code",
   "execution_count": 7,
   "id": "61c32c67",
   "metadata": {},
   "outputs": [],
   "source": [
    "api_gen_helper.generate_caption_file()"
   ]
  },
  {
   "cell_type": "code",
   "execution_count": null,
   "id": "b8609144",
   "metadata": {
    "scrolled": true
   },
   "outputs": [],
   "source": [
    "api_gen_helper.generate_dataset()"
   ]
  }
 ],
 "metadata": {
  "kernelspec": {
   "display_name": "Python 3 (ipykernel)",
   "language": "python",
   "name": "python3"
  },
  "language_info": {
   "codemirror_mode": {
    "name": "ipython",
    "version": 3
   },
   "file_extension": ".py",
   "mimetype": "text/x-python",
   "name": "python",
   "nbconvert_exporter": "python",
   "pygments_lexer": "ipython3",
   "version": "3.8.12"
  }
 },
 "nbformat": 4,
 "nbformat_minor": 5
}
