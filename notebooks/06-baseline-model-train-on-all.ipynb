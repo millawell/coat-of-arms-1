{
 "cells": [
  {
   "cell_type": "code",
   "execution_count": 2,
   "id": "e5cdbcf3",
   "metadata": {},
   "outputs": [
    {
     "name": "stdout",
     "output_type": "stream",
     "text": [
      "The autoreload extension is already loaded. To reload it, use:\n",
      "  %reload_ext autoreload\n",
      "The pyinstrument extension is already loaded. To reload it, use:\n",
      "  %reload_ext pyinstrument\n"
     ]
    }
   ],
   "source": [
    "# auto-load when code changes outside\n",
    "%load_ext autoreload\n",
    "%autoreload 2\n",
    "%load_ext pyinstrument\n",
    "\n",
    "import sys\n",
    "sys.path.insert(0,'..')\n"
   ]
  },
  {
   "cell_type": "code",
   "execution_count": 3,
   "id": "12fa6a61",
   "metadata": {},
   "outputs": [],
   "source": [
    "#imports \n",
    "import os\n",
    "import nltk\n",
    "import spacy\n",
    "import numpy as np\n",
    "import pandas as pd\n",
    "import torch\n",
    "import torch.nn as nn\n",
    "import torch.onnx as onnx\n",
    "import torch.optim as optim\n",
    "import torchvision.models as models\n",
    "import torchvision.transforms as T\n",
    "import matplotlib.pyplot as plt\n",
    "import matplotlib.image as mpimg\n",
    "\n",
    "from torch.utils.data import DataLoader,Dataset\n",
    "from PIL import Image\n",
    "from tqdm import tqdm\n",
    "from time import sleep\n",
    "\n",
    "from src.baseline.vocabulary import Vocabulary\n",
    "from src.baseline.data_loader import get_loader, get_loaders, get_mean_std\n",
    "from src.baseline.coa_model import save_model, load_model, get_new_model, validate_model, train_model, train_validate_test_split\n",
    "from src.utils import print_time, zip_dir_to_file, unzip_file_to_dir, list_of_tensors_to_numpy_arr\n",
    "from src.pytorchtools import EarlyStopping, EarlyStoppingAccuracy\n",
    "from src.accuracy import Accuracy\n",
    "\n",
    "from pyinstrument import Profiler\n",
    "from datetime import datetime\n",
    "from shutil import copyfile\n",
    "\n",
    "# torch.cuda.empty_cache()\n"
   ]
  },
  {
   "cell_type": "markdown",
   "id": "814ad5d2",
   "metadata": {},
   "source": [
    "## Torch data-loader\n",
    "https://www.kaggle.com/mdteach/torch-data-loader-flicker-8k"
   ]
  },
  {
   "cell_type": "markdown",
   "id": "587ed02f",
   "metadata": {},
   "source": [
    "# Split Data into Training/Test datasets "
   ]
  },
  {
   "cell_type": "code",
   "execution_count": 11,
   "id": "c61fc8d4",
   "metadata": {},
   "outputs": [
    {
     "name": "stdout",
     "output_type": "stream",
     "text": [
      "There are 82 train images\n",
      "There are 27 val images\n",
      "There are 29 test images\n"
     ]
    }
   ],
   "source": [
    "\n",
    "# data_location = '/home/space/datasets/COA/generated-data-api'\n",
    "data_location =  '/home/space/datasets/COA/generated-data-api-small'\n",
    "# data_location =  '../baseline-gen-data/large'\n",
    "# data_location =  '../baseline-gen-data/medium'\n",
    "\n",
    "caption_file = data_location + '/captions.txt'\n",
    "root_folder_images = data_location + '/images'\n",
    "df = pd.read_csv(caption_file)\n",
    "\n",
    "# train, validate, test = train_validate_test_split(df, train_percent=.6, validate_percent=.2, seed=None)\n",
    "\n",
    "\n",
    "train_annotation_file = data_location + '/train_captions.txt'\n",
    "val_annotation_file  = data_location + '/val_captions.txt'\n",
    "test_annotation_file  = data_location + '/test_captions.txt'\n",
    "\n",
    "# train.to_csv(train_annotation_file, sep=',',index=False)\n",
    "# test.to_csv(test_annotation_file, sep=',',index=False)\n",
    "# validate.to_csv(val_annotation_file, sep=',',index=False)\n",
    "\n",
    "\n",
    "# print(\"There are {} total images\".format(len(df)))\n",
    "\n",
    "caption_file = data_location + '/train_captions.txt'\n",
    "df1 = pd.read_csv(caption_file)\n",
    "print(\"There are {} train images\".format(len(df1)))\n",
    "\n",
    "caption_file = data_location + '/val_captions.txt'\n",
    "df2 = pd.read_csv(caption_file)\n",
    "print(\"There are {} val images\".format(len(df2)))\n",
    "\n",
    "caption_file = data_location + '/test_captions.txt'\n",
    "df3 = pd.read_csv(caption_file)\n",
    "print(\"There are {} test images\".format(len(df3)))"
   ]
  },
  {
   "cell_type": "code",
   "execution_count": 12,
   "id": "e779ff1a",
   "metadata": {
    "scrolled": false
   },
   "outputs": [
    {
     "name": "stdout",
     "output_type": "stream",
     "text": [
      "Caption: image_2.png A A lion rampant\n",
      "(500, 500, 4)\n"
     ]
    },
    {
     "data": {
      "image/png": "[encoded data removed]",
      "text/plain": [
       "<Figure size 432x288 with 1 Axes>"
      ]
     },
     "metadata": {
      "needs_background": "light"
     },
     "output_type": "display_data"
    }
   ],
   "source": [
    "for i in range(1, 2):\n",
    "    image_path = data_location + '/images/'+ df.iloc[i,0]\n",
    "    print(\"Caption:\", df.iloc[i,0], df.iloc[i,1])\n",
    "    img=mpimg.imread(image_path)\n",
    "    print(img.shape)\n",
    "    plt.imshow(img)\n",
    "    plt.show()\n"
   ]
  },
  {
   "cell_type": "code",
   "execution_count": 37,
   "id": "25fd47a2",
   "metadata": {},
   "outputs": [],
   "source": [
    "!export CUDA_VISIBLE_DEVICES=0\n",
    "!export CUDA_LAUNCH_BLOCKING=1"
   ]
  },
  {
   "cell_type": "code",
   "execution_count": 13,
   "id": "cf67d490",
   "metadata": {},
   "outputs": [
    {
     "data": {
      "text/plain": [
       "device(type='cuda', index=0)"
      ]
     },
     "execution_count": 13,
     "metadata": {},
     "output_type": "execute_result"
    }
   ],
   "source": [
    "# device = torch.device(\"cuda:0\" if torch.cuda.is_available() else \"cpu\")\n",
    "device = torch.device(\"cuda:0\" if torch.cuda.is_available() else \"cpu\")\n",
    "# device = torch.device(\"cpu\")\n",
    "\n",
    "device"
   ]
  },
  {
   "cell_type": "code",
   "execution_count": 19,
   "id": "0a13d222",
   "metadata": {
    "scrolled": true
   },
   "outputs": [
    {
     "data": {
      "text/plain": [
       "'NVIDIA GeForce GTX 1080'"
      ]
     },
     "execution_count": 19,
     "metadata": {},
     "output_type": "execute_result"
    }
   ],
   "source": [
    "torch.cuda.get_device_name(0)"
   ]
  },
  {
   "cell_type": "markdown",
   "id": "5d1e7cfd",
   "metadata": {},
   "source": [
    "# Image Captioning With Attention - Pytorch"
   ]
  },
  {
   "cell_type": "code",
   "execution_count": 20,
   "id": "ae69600a",
   "metadata": {},
   "outputs": [
    {
     "name": "stdout",
     "output_type": "stream",
     "text": [
      "{'<PAD>': 0, '<SOS>': 1, '<EOS>': 2, '<UNK>': 3, 'lion': 4, 'rampant': 5, 'passt': 6, 'guard': 7, 'head': 8, 'lions': 9, 'cross': 10, 'moline': 11, 'patonce': 12, 'eagle': 13, 'doubleheaded': 14, 'eagles': 15, 'a': 16, 'b': 17, 'o': 18, 's': 19, 'g': 20, 'e': 21, 'v': 22, '1': 23, '2': 24, '3': 25, '4': 26, '5': 27, '6': 28, '7': 29, '8': 30, '9': 31, '10': 32, '11': 33, 'border': 34, '&': 35}\n",
      "[16, 4, 5]\n",
      "{0: '<PAD>', 1: '<SOS>', 2: '<EOS>', 3: '<UNK>', 4: 'lion', 5: 'rampant', 6: 'passt', 7: 'guard', 8: 'head', 9: 'lions', 10: 'cross', 11: 'moline', 12: 'patonce', 13: 'eagle', 14: 'doubleheaded', 15: 'eagles', 16: 'a', 17: 'b', 18: 'o', 19: 's', 20: 'g', 21: 'e', 22: 'v', 23: '1', 24: '2', 25: '3', 26: '4', 27: '5', 28: '6', 29: '7', 30: '8', 31: '9', 32: '10', 33: '11', 34: 'border', 35: '&'}\n"
     ]
    }
   ],
   "source": [
    "from src.baseline.vocabulary import Vocabulary\n",
    "\n",
    "# BATCH_SIZE = 5\n",
    "NUM_WORKER = 2 #### this needs multi-core\n",
    "\n",
    "#testing the vicab class \n",
    "v = Vocabulary(freq_threshold=1)\n",
    "\n",
    "v.build_vocab([ 'lion','lion rampant', 'lion passt', 'lion passt guard', \"lion's head\",\n",
    "                'lions','lions rampant', 'lions passt', 'lions passt guard',\n",
    "               'cross', 'cross moline', 'cross patonce',\n",
    "               'eagle', 'eagle doubleheaded', 'eagles', 'eagles doubleheaded',\n",
    "              'A', 'B', 'O', 'S', 'G', 'E', 'V',\n",
    "              '1', '2', '3', '4', '5', '6', '7', '8', '9', '10','11',\n",
    "              'border', '&'])\n",
    "\n",
    "print(v.stoi)\n",
    "print(v.numericalize(\"A lion rampant\"))\n",
    "print(v.itos)\n"
   ]
  },
  {
   "cell_type": "code",
   "execution_count": 24,
   "id": "e5cc0bba",
   "metadata": {},
   "outputs": [],
   "source": [
    "freq_threshold = 5\n",
    "# # 30 minutes to create those, as it's baseline, i ran it several times and it's the same\n",
    "vocab = Vocabulary(freq_threshold)\n",
    "vocab.stoi = {'<PAD>': 0, '<SOS>': 1, '<EOS>': 2, '<UNK>': 3, 'lion': 4, 'rampant': 5, 'passt': 6, 'guard': 7, 'head': 8, 'lions': 9, 'cross': 10, 'moline': 11, 'patonce': 12, 'eagle': 13, 'doubleheaded': 14, 'eagles': 15, 'a': 16, 'b': 17, 'o': 18, 's': 19, 'g': 20, 'e': 21, 'v': 22, '1': 23, '2': 24, '3': 25, '4': 26, '5': 27, '6': 28, '7': 29, '8': 30, '9': 31, '10': 32, '11': 33, 'border': 34, '&': 35}\n",
    "vocab.itos = {0: '<PAD>', 1: '<SOS>', 2: '<EOS>', 3: '<UNK>', 4: 'lion', 5: 'rampant', 6: 'passt', 7: 'guard', 8: 'head', 9: 'lions', 10: 'cross', 11: 'moline', 12: 'patonce', 13: 'eagle', 14: 'doubleheaded', 15: 'eagles', 16: 'a', 17: 'b', 18: 'o', 19: 's', 20: 'g', 21: 'e', 22: 'v', 23: '1', 24: '2', 25: '3', 26: '4', 27: '5', 28: '6', 29: '7', 30: '8', 31: '9', 32: '10', 33: '11', 34: 'border', 35: '&'}\n",
    "\n",
    "# old before extending to multi object, plural and border\n",
    "# vocab.stoi = {'<PAD>': 0, '<SOS>': 1, '<EOS>': 2, '<UNK>': 3, 'g': 4, 'v': 5, 'b': 6, 'cross': 7, 'lion': 8, 'passt': 9, 's': 10, 'a': 11, 'eagle': 12, 'o': 13, 'doubleheaded': 14, \"'s\": 15, 'head': 16, 'patonce': 17, 'moline': 18, 'guard': 19, 'rampant': 20}\n",
    "# vocab.itos = {0: '<PAD>', 1: '<SOS>', 2: '<EOS>', 3: '<UNK>', 4: 'g', 5: 'v', 6: 'b', 7: 'cross', 8: 'lion', 9: 'passt', 10: 's', 11: 'a', 12: 'eagle', 13: 'o', 14: 'doubleheaded', 15: \"'s\", 16: 'head', 17: 'patonce', 18: 'moline', 19: 'guard', 20: 'rampant'}\n"
   ]
  },
  {
   "cell_type": "markdown",
   "id": "24d3afbe",
   "metadata": {},
   "source": [
    "## Calcualte the mean and std of training dataset\n",
    "\n",
    "https://deeplizard.com/learn/video/lu7TCu7HeYc\n",
    "\n",
    "https://discuss.pytorch.org/t/understanding-transform-normalize/21730"
   ]
  },
  {
   "cell_type": "code",
   "execution_count": 25,
   "id": "74295564",
   "metadata": {},
   "outputs": [
    {
     "name": "stdout",
     "output_type": "stream",
     "text": [
      "\n",
      " ------------------------ \n",
      " before DataLoader @ Time = 11:55:39\n",
      "\n",
      "  _     ._   __/__   _ _  _  _ _/_   Recorded: 11:55:39  Samples:  515\n",
      " /_//_/// /_\\ / //_// / //_'/ //     Duration: 1.037     CPU time: 1.340\n",
      "/   _/                      v4.1.1\n",
      "\n",
      "Program: /home/salnabulsi/.thesis-py38/lib/python3.8/site-packages/ipykernel_launcher.py -f /home/salnabulsi/.local/share/jupyter/runtime/kernel-f5c3ac01-eda5-43ff-9e8e-601069971ba3.json\n",
      "\n",
      "1.037 run_ast_nodes  IPython/core/interactiveshell.py:3252\n",
      "└─ 1.036 run_code  IPython/core/interactiveshell.py:3403\n",
      "   └─ 1.036 <module>  ../../../tmp/ipykernel_1069187/3773756206.py:5\n",
      "      └─ 1.036 get_loader  src/baseline/data_loader.py:11\n",
      "         └─ 1.036 __init__  src/baseline/coa_dataset.py:15\n",
      "            └─ 1.027 load_images  src/baseline/coa_dataset.py:37\n",
      "               ├─ 0.494 __call__  torchvision/transforms/transforms.py:90\n",
      "               │     [30 frames hidden]  torchvision, <built-in>, PIL\n",
      "               ├─ 0.386 convert  PIL/Image.py:873\n",
      "               │     [12 frames hidden]  PIL, <built-in>\n",
      "               │        0.374 ImagingDecoder.decode  <built-in>:0\n",
      "               ├─ 0.131 open  PIL/Image.py:2925\n",
      "               │     [5 frames hidden]  PIL, <built-in>\n",
      "               └─ 0.013 exists  pathlib.py:1402\n",
      "                     [6 frames hidden]  pathlib, <built-in>\n",
      "\n",
      "\n",
      "\n",
      " ------------------------ \n",
      " after DataLoader @ Time = 11:55:40\n"
     ]
    }
   ],
   "source": [
    "\n",
    "print_time('\\n ------------------------ \\n before DataLoader')\n",
    "profiler = Profiler(async_mode='disabled')\n",
    "\n",
    "profiler.start()\n",
    "train_loader, train_dataset = get_loader(\n",
    "    root_folder=root_folder_images,\n",
    "    annotation_file=train_annotation_file,\n",
    "    transform=None,  # <=======================\n",
    "    num_workers=NUM_WORKER,\n",
    "    vocab=vocab,\n",
    "    batch_size=256,\n",
    "    device=device,\n",
    "    pin_memory=False\n",
    ")\n",
    "\n",
    "profiler.stop()\n",
    "\n",
    "profiler.print()\n",
    "\n",
    "print_time('\\n ------------------------ \\n after DataLoader')"
   ]
  },
  {
   "cell_type": "code",
   "execution_count": 26,
   "id": "6722cc45",
   "metadata": {},
   "outputs": [
    {
     "name": "stdout",
     "output_type": "stream",
     "text": [
      "\n",
      " ------------------------ \n",
      " before get_mean_std @ Time = 11:55:42\n",
      "mean, std: tensor(1.0170) tensor(1.3582)\n",
      "\n",
      "  _     ._   __/__   _ _  _  _ _/_   Recorded: 11:55:39  Samples:  574\n",
      " /_//_/// /_\\ / //_// / //_'/ //     Duration: 3.089     CPU time: 2.102\n",
      "/   _/                      v4.1.1\n",
      "\n",
      "Program: /home/salnabulsi/.thesis-py38/lib/python3.8/site-packages/ipykernel_launcher.py -f /home/salnabulsi/.local/share/jupyter/runtime/kernel-f5c3ac01-eda5-43ff-9e8e-601069971ba3.json\n",
      "\n",
      "3.089 run_ast_nodes  IPython/core/interactiveshell.py:3252\n",
      "└─ 3.088 run_code  IPython/core/interactiveshell.py:3403\n",
      "   ├─ 2.029 <module>  ../../../tmp/ipykernel_1069187/2842918350.py:4\n",
      "   │  ├─ 1.995 get_mean_std  src/baseline/data_loader.py:52\n",
      "   │  │  ├─ 1.049 __next__  torch/utils/data/dataloader.py:517\n",
      "   │  │  │     [51 frames hidden]  torch, multiprocessing, selectors, <b...\n",
      "   │  │  │        0.973 poll.poll  <built-in>:0\n",
      "   │  │  ├─ 0.613 __iter__  torch/utils/data/dataloader.py:346\n",
      "   │  │  │     [62 frames hidden]  torch, multiprocessing, <built-in>, l...\n",
      "   │  │  ├─ 0.161 [self]  \n",
      "   │  │  ├─ 0.118 Tensor.pow  <built-in>:0\n",
      "   │  │  │     [2 frames hidden]  <built-in>\n",
      "   │  │  └─ 0.050 Tensor.sum  <built-in>:0\n",
      "   │  │        [2 frames hidden]  <built-in>\n",
      "   │  └─ 0.034 [self]  \n",
      "   └─ 1.036 <module>  ../../../tmp/ipykernel_1069187/3773756206.py:5\n",
      "      └─ 1.036 get_loader  src/baseline/data_loader.py:11\n",
      "         └─ 1.036 __init__  src/baseline/coa_dataset.py:15\n",
      "            └─ 1.027 load_images  src/baseline/coa_dataset.py:37\n",
      "               ├─ 0.494 __call__  torchvision/transforms/transforms.py:90\n",
      "               │     [30 frames hidden]  torchvision, <built-in>, PIL\n",
      "               ├─ 0.386 convert  PIL/Image.py:873\n",
      "               │     [12 frames hidden]  PIL, <built-in>\n",
      "               └─ 0.131 open  PIL/Image.py:2925\n",
      "                     [5 frames hidden]  PIL, <built-in>\n",
      "\n",
      "\n",
      "\n",
      " ------------------------ \n",
      " after get_mean_std @ Time = 11:55:44\n"
     ]
    }
   ],
   "source": [
    "print_time('\\n ------------------------ \\n before get_mean_std')\n",
    "\n",
    "profiler.start()\n",
    "mean, std = get_mean_std(train_dataset, train_loader, 500 , 500)\n",
    "print('mean, std:', mean, std)\n",
    "profiler.stop()\n",
    "\n",
    "profiler.print()\n",
    "\n",
    "print_time('\\n ------------------------ \\n after get_mean_std')\n"
   ]
  },
  {
   "cell_type": "code",
   "execution_count": 27,
   "id": "7a51a352",
   "metadata": {},
   "outputs": [],
   "source": [
    "#defining the transform to be applied\n",
    "\n",
    "transform = T.Compose([\n",
    "    T.Resize(226),                     \n",
    "    T.RandomCrop(224),                 \n",
    "    T.ToTensor(),                               \n",
    "    T.Normalize(mean, std) \n",
    "])\n"
   ]
  },
  {
   "cell_type": "code",
   "execution_count": 28,
   "id": "d3e2222f",
   "metadata": {},
   "outputs": [
    {
     "name": "stdout",
     "output_type": "stream",
     "text": [
      "writing the dataloader @ Time = 11:55:49\n",
      "finished writing the dataloader @ Time = 11:55:50\n"
     ]
    }
   ],
   "source": [
    "#Initiate the Dataset and Dataloader\n",
    "BATCH_SIZE = 256\n",
    "\n",
    "print_time('writing the dataloader')\n",
    "\n",
    "train_loader, val_loader, test_loader, train_dataset, val_dataset, test_dataset = get_loaders(\n",
    "    root_folder=root_folder_images,\n",
    "    train_annotation_file=train_annotation_file,\n",
    "    val_annotation_file=val_annotation_file,\n",
    "    test_annotation_file=test_annotation_file,\n",
    "    transform=transform,\n",
    "    num_workers=NUM_WORKER,\n",
    "    vocab=vocab,\n",
    "    batch_size=BATCH_SIZE,\n",
    "    device=device,\n",
    "    pin_memory=False\n",
    ")\n",
    "len(train_loader), len(val_loader), len(test_loader), len(train_dataset), len(val_dataset), len(test_dataset)\n",
    "print_time('finished writing the dataloader')"
   ]
  },
  {
   "cell_type": "code",
   "execution_count": 29,
   "id": "bc829f4c",
   "metadata": {},
   "outputs": [
    {
     "data": {
      "text/plain": [
       "{'<PAD>': 0,\n",
       " '<SOS>': 1,\n",
       " '<EOS>': 2,\n",
       " '<UNK>': 3,\n",
       " 'lion': 4,\n",
       " 'rampant': 5,\n",
       " 'passt': 6,\n",
       " 'guard': 7,\n",
       " 'head': 8,\n",
       " 'lions': 9,\n",
       " 'cross': 10,\n",
       " 'moline': 11,\n",
       " 'patonce': 12,\n",
       " 'eagle': 13,\n",
       " 'doubleheaded': 14,\n",
       " 'eagles': 15,\n",
       " 'a': 16,\n",
       " 'b': 17,\n",
       " 'o': 18,\n",
       " 's': 19,\n",
       " 'g': 20,\n",
       " 'e': 21,\n",
       " 'v': 22,\n",
       " '1': 23,\n",
       " '2': 24,\n",
       " '3': 25,\n",
       " '4': 26,\n",
       " '5': 27,\n",
       " '6': 28,\n",
       " '7': 29,\n",
       " '8': 30,\n",
       " '9': 31,\n",
       " '10': 32,\n",
       " '11': 33,\n",
       " 'border': 34,\n",
       " '&': 35}"
      ]
     },
     "execution_count": 29,
     "metadata": {},
     "output_type": "execute_result"
    }
   ],
   "source": [
    "train_dataset.vocab.stoi"
   ]
  },
  {
   "cell_type": "markdown",
   "id": "83bb6b3a",
   "metadata": {},
   "source": [
    "# Defining the Model Architecture\n",
    "\n",
    "Model is seq2seq model. In the **encoder** pretrained ResNet model is used to extract the features. Decoder, is the implementation of the Bahdanau Attention Decoder. In the decoder model **LSTM cell**."
   ]
  },
  {
   "cell_type": "markdown",
   "id": "332143d9",
   "metadata": {},
   "source": [
    "https://blog.floydhub.com/attention-mechanism/"
   ]
  },
  {
   "cell_type": "markdown",
   "id": "d939ae8d",
   "metadata": {},
   "source": [
    "https://machinelearningmastery.com/develop-a-deep-learning-caption-generation-model-in-python/\n",
    "    "
   ]
  },
  {
   "cell_type": "markdown",
   "id": "5808f315",
   "metadata": {},
   "source": [
    "### Setting Hypperparameter and Init the model"
   ]
  },
  {
   "cell_type": "code",
   "execution_count": 30,
   "id": "556bf00b",
   "metadata": {},
   "outputs": [
    {
     "data": {
      "text/plain": [
       "0"
      ]
     },
     "execution_count": 30,
     "metadata": {},
     "output_type": "execute_result"
    }
   ],
   "source": [
    "train_dataset.vocab.stoi[\"<PAD>\"]"
   ]
  },
  {
   "cell_type": "code",
   "execution_count": 31,
   "id": "9f14a2aa",
   "metadata": {},
   "outputs": [
    {
     "data": {
      "text/plain": [
       "36"
      ]
     },
     "execution_count": 31,
     "metadata": {},
     "output_type": "execute_result"
    }
   ],
   "source": [
    "vocab_size = len(train_dataset.vocab)\n",
    "vocab_size"
   ]
  },
  {
   "cell_type": "code",
   "execution_count": 32,
   "id": "a5fe96b4",
   "metadata": {},
   "outputs": [],
   "source": [
    "#Hyperparams\n",
    "embed_size=300\n",
    "vocab_size = len(train_dataset.vocab)\n",
    "attention_dim=256\n",
    "encoder_dim=2048\n",
    "decoder_dim=512\n",
    "learning_rate = 3e-4\n",
    "drop_prob=0.3\n",
    "ignored_idx = train_dataset.vocab.stoi[\"<PAD>\"]\n",
    "\n",
    "hyper_params = {'embed_size': embed_size,\n",
    "                'attention_dim': attention_dim,\n",
    "                'encoder_dim': encoder_dim,\n",
    "                'decoder_dim': decoder_dim,\n",
    "                'vocab_size': vocab_size\n",
    "              }"
   ]
  },
  {
   "cell_type": "code",
   "execution_count": 50,
   "id": "47a69030",
   "metadata": {},
   "outputs": [],
   "source": [
    "\n",
    "#initialize new model, loss etc\n",
    "model, optimizer, criterion = get_new_model(hyper_params, learning_rate, ignored_idx, drop_prob, device)"
   ]
  },
  {
   "cell_type": "markdown",
   "id": "781b80e8",
   "metadata": {},
   "source": [
    "## Training Job from above configs"
   ]
  },
  {
   "cell_type": "code",
   "execution_count": 51,
   "id": "53074260",
   "metadata": {},
   "outputs": [],
   "source": [
    "!export CUDA_LAUNCH_BLOCKING=1\n",
    "!export CUDA_VISIBLE_DEVICES=2"
   ]
  },
  {
   "cell_type": "markdown",
   "id": "54b47431",
   "metadata": {},
   "source": [
    "## Train the Model using Early Stopping\n"
   ]
  },
  {
   "cell_type": "code",
   "execution_count": 52,
   "id": "f1552fa2",
   "metadata": {},
   "outputs": [
    {
     "name": "stdout",
     "output_type": "stream",
     "text": [
      "device is cpu\n"
     ]
    },
    {
     "name": "stderr",
     "output_type": "stream",
     "text": [
      "Epoch 1: 100%|█| 2/2 [02:15<00:00, 67.96s/\n",
      "/Users/salnabulsi/miniconda/envs/thesis-py38/lib/python3.8/site-packages/nltk/translate/bleu_score.py:552: UserWarning: \n",
      "The hypothesis contains 0 counts of 2-gram overlaps.\n",
      "Therefore the BLEU score evaluates to 0, independently of\n",
      "how many N-gram overlaps of lower order it contains.\n",
      "Consider using lower n-gram order or use SmoothingFunction()\n",
      "  warnings.warn(_msg)\n"
     ]
    },
    {
     "name": "stdout",
     "output_type": "stream",
     "text": [
      "[1/5] train_loss: 3.37618 , valid_loss: 2.96565 , accuracy: 0.50000\n",
      "Accuracy increased (0.000000 --> 0.500000).  Saving model ...\n"
     ]
    },
    {
     "name": "stderr",
     "output_type": "stream",
     "text": [
      "Epoch 2: 100%|█| 2/2 [02:18<00:00, 69.33s/\n"
     ]
    },
    {
     "name": "stdout",
     "output_type": "stream",
     "text": [
      "[2/5] train_loss: 2.70979 , valid_loss: 2.49930 , accuracy: 0.00000\n",
      "EarlyStopping counter: 1 out of 3\n"
     ]
    },
    {
     "name": "stderr",
     "output_type": "stream",
     "text": [
      "Epoch 3: 100%|█| 2/2 [02:23<00:00, 71.82s/\n"
     ]
    },
    {
     "name": "stdout",
     "output_type": "stream",
     "text": [
      "[3/5] train_loss: 2.31652 , valid_loss: 2.16766 , accuracy: 0.33500\n",
      "EarlyStopping counter: 2 out of 3\n"
     ]
    },
    {
     "name": "stderr",
     "output_type": "stream",
     "text": [
      "Epoch 4: 100%|█| 2/2 [02:24<00:00, 72.36s/\n"
     ]
    },
    {
     "name": "stdout",
     "output_type": "stream",
     "text": [
      "[4/5] train_loss: 2.03123 , valid_loss: 1.91464 , accuracy: 0.33500\n",
      "EarlyStopping counter: 3 out of 3\n",
      "Early stopping\n"
     ]
    }
   ],
   "source": [
    "\n",
    "batch_size = 256\n",
    "n_epochs = 5\n",
    "\n",
    "# early stopping patience; how long to wait after last time validation loss improved.\n",
    "patience = 3\n",
    "device = torch.device(\"cuda\" if torch.cuda.is_available() else \"cpu\")\n",
    "print(f'device is {device}')\n",
    "\n",
    "model, train_loss, valid_loss, avg_acc, bleu_score = train_model(model, optimizer, criterion, train_loader, val_loader, val_dataset, vocab_size, batch_size, patience, n_epochs, device)\n"
   ]
  },
  {
   "cell_type": "code",
   "execution_count": 53,
   "id": "2cf47557",
   "metadata": {},
   "outputs": [
    {
     "data": {
      "image/png": "[encoded data removed]",
      "text/plain": [
       "<Figure size 432x288 with 1 Axes>"
      ]
     },
     "metadata": {
      "needs_background": "light"
     },
     "output_type": "display_data"
    },
    {
     "data": {
      "image/png": "[encoded data removed]",
      "text/plain": [
       "<Figure size 432x288 with 1 Axes>"
      ]
     },
     "metadata": {
      "needs_background": "light"
     },
     "output_type": "display_data"
    },
    {
     "data": {
      "image/png": "[encoded data removed]",
      "text/plain": [
       "<Figure size 432x288 with 1 Axes>"
      ]
     },
     "metadata": {
      "needs_background": "light"
     },
     "output_type": "display_data"
    }
   ],
   "source": [
    "plt.plot(train_loss)\n",
    "plt.xlabel(\"Iteration\")\n",
    "plt.ylabel(\"Train loss\")\n",
    "plt.show()\n",
    "\n",
    "plt.plot(valid_loss)\n",
    "plt.xlabel(\"Iteration\")\n",
    "plt.ylabel(\"Validation loss\")\n",
    "plt.show()\n",
    "\n",
    "plt.plot(avg_acc)\n",
    "plt.xlabel(\"Iteration\")\n",
    "plt.ylabel(\"Accuracy\")\n",
    "plt.show()"
   ]
  },
  {
   "cell_type": "markdown",
   "id": "8687a206",
   "metadata": {},
   "source": [
    "## Visualizing the Accuracy (and loss) and the Early Stopping Checkpoint\n"
   ]
  },
  {
   "cell_type": "code",
   "execution_count": 56,
   "id": "92731be7",
   "metadata": {},
   "outputs": [
    {
     "data": {
      "image/png": "[encoded data removed]",
      "text/plain": [
       "<Figure size 720x576 with 1 Axes>"
      ]
     },
     "metadata": {
      "needs_background": "light"
     },
     "output_type": "display_data"
    }
   ],
   "source": [
    "# visualize the loss as the network trained\n",
    "fig = plt.figure(figsize=(10,8))\n",
    "plt.plot(range(1,len(train_loss)+1),train_loss, label='Training Loss')\n",
    "\n",
    "# valid_loss_arr = list_of_tensors_to_numpy_arr(valid_loss)\n",
    "plt.plot(range(1,len(valid_loss)+1),valid_loss, label='Validation Loss')\n",
    "\n",
    "# find position of lowest validation loss\n",
    "# minposs = valid_loss.index(min(valid_loss))+1 \n",
    "# plt.axvline(minposs, linestyle='--', color='r',label='Early Stopping Checkpoint')\n",
    "\n",
    "# find position of lowest validation loss\n",
    "maxposs = avg_acc.index(max(avg_acc))-1 \n",
    "plt.axvline(maxposs, linestyle='--', color='r',label='Early Stopping Checkpoint - Accuracy')\n",
    "\n",
    "plt.plot(range(1,len(avg_acc)+1),avg_acc,label='Accuracy')\n",
    "\n",
    "plt.xlabel('epochs')\n",
    "plt.ylabel('loss')\n",
    "# plt.ylim(0, 0.5) # consistent scale\n",
    "# plt.xlim(0, len(train_loss)+1) # consistent scale\n",
    "plt.grid(True)\n",
    "plt.legend()\n",
    "plt.tight_layout()\n",
    "\n",
    "plt.show()\n",
    "fig.savefig('loss_plot.png', bbox_inches='tight')\n"
   ]
  },
  {
   "cell_type": "markdown",
   "id": "b0071858",
   "metadata": {},
   "source": [
    "# Test the Trained Network\n"
   ]
  },
  {
   "cell_type": "code",
   "execution_count": 54,
   "id": "6e03b455",
   "metadata": {},
   "outputs": [],
   "source": [
    "save_model(model, optimizer, train_loss, accuracy, '../medium-model.pt', hyper_params)"
   ]
  },
  {
   "cell_type": "code",
   "execution_count": 38,
   "id": "9f0783f6",
   "metadata": {},
   "outputs": [],
   "source": [
    "device = torch.device(\"cuda:0\" if torch.cuda.is_available() else \"cpu\")\n",
    "ignored_idx = train_dataset.vocab.stoi[\"<PAD>\"]\n",
    "\n",
    "model, optimizer, loss,criterion = load_model(f'/home/space/datasets/COA/models/baseline/model-4-4.pth', hyper_params, learning_rate, drop_prob, ignored_idx)"
   ]
  },
  {
   "cell_type": "code",
   "execution_count": 39,
   "id": "50937565",
   "metadata": {},
   "outputs": [
    {
     "name": "stdout",
     "output_type": "stream",
     "text": [
      "a a\n",
      "Test Acuuracy (in progress): 0.500000\n",
      "\n",
      "Test Loss (final): 0.111927\n",
      "\n",
      "Test Accuracy (Overall): 50.0%\n"
     ]
    }
   ],
   "source": [
    "# initialize lists to monitor test loss and accuracy\n",
    "test_loss = 0.0\n",
    "test_losses=[]\n",
    "accuracy_test_list=[]\n",
    "\n",
    "model.eval()\n",
    "with torch.no_grad():\n",
    "    for idx, (img, correct_cap) in enumerate(iter(test_loader)):\n",
    "        features = model.encoder(img.to(device))\n",
    "\n",
    "        features_tensors = img[0].detach().clone().unsqueeze(0)\n",
    "        features = model.encoder(features_tensors.to(device))\n",
    "\n",
    "        caps,_ = model.decoder.generate_caption(features, vocab=val_dataset.vocab)   \n",
    "        caps = caps[:-1]\n",
    "        predicted_caption = ' '.join(caps)\n",
    "        print(predicted_caption)\n",
    "        # compare predictions to true label\n",
    "        correct_caption = []\n",
    "        for j in correct_cap.T[0]:\n",
    "            if j.item() not in [0, 1, 2 , 3]:\n",
    "                correct_caption.append(val_dataset.vocab.itos[j.item()])\n",
    "        correct_caption_s = ' '.join(correct_caption)\n",
    "        \n",
    "        # calc metrics\n",
    "        acc_test = Accuracy(predicted_caption,correct_caption_s).get()\n",
    "        accuracy_test_list.append(acc_test)\n",
    "        print(f'Test Acuuracy (in progress): {acc_test:.6f}\\n')\n",
    "\n",
    "        # ------------------------------------------\n",
    "        # calc losses and take the average \n",
    "        image, captions = img.to(device), correct_cap.to(device)\n",
    "        outputs, _ = model(image, captions.T)\n",
    "        targets    = captions.T[:,1:] \n",
    "        loss       = criterion(outputs.view(-1, vocab_size), targets.reshape(-1))\n",
    "        test_losses.append(loss)\n",
    "\n",
    "        # ------------------------------------------\n",
    "\n",
    "# calculate and print avg test loss\n",
    "test_loss = sum(test_losses)/len(test_dataset)\n",
    "print('Test Loss (final): {:.6f}\\n'.format(test_loss))\n",
    "\n",
    "acc_test_score = (100. * sum(accuracy_test_list) / len(accuracy_test_list))\n",
    "\n",
    "print(f'Test Accuracy (Overall): {acc_test_score}%')\n"
   ]
  },
  {
   "cell_type": "markdown",
   "id": "1927f99b",
   "metadata": {},
   "source": [
    "##  Visualizing the attentions\n",
    "Defining helper functions\n",
    "<li>Given the image generate captions and attention scores</li>\n",
    "<li>Plot the attention scores in the image</li>"
   ]
  },
  {
   "cell_type": "code",
   "execution_count": 71,
   "id": "064b8fcf",
   "metadata": {},
   "outputs": [],
   "source": [
    "#generate caption\n",
    "def get_caps_from(model, features_tensors):\n",
    "    #generate the caption\n",
    "    model.eval()\n",
    "    with torch.no_grad():\n",
    "        features = model.encoder(features_tensors.to(device))\n",
    "        caps,alphas = model.decoder.generate_caption(features,vocab=test_dataset.vocab)\n",
    "        caption = ' '.join(caps)\n",
    "        show_image(features_tensors[0],title=caption)\n",
    "    \n",
    "    return caps,alphas\n",
    "#Show attention\n",
    "def plot_attention(img, result, attention_plot):\n",
    "    #untransform\n",
    "    img[0] = img[0] * 0.229\n",
    "    img[1] = img[1] * 0.224 \n",
    "    img[2] = img[2] * 0.225 \n",
    "    img[0] += 0.485 \n",
    "    img[1] += 0.456 \n",
    "    img[2] += 0.406\n",
    "    \n",
    "    img = img.numpy().transpose((1, 2, 0))\n",
    "    temp_image = img\n",
    "\n",
    "    fig = plt.figure(figsize=(15, 15))\n",
    "\n",
    "    len_result = len(result)\n",
    "    for l in range(len_result):\n",
    "        temp_att = attention_plot[l].reshape(7,7)\n",
    "        \n",
    "        ax = fig.add_subplot(len_result//2,len_result//2, l+1)\n",
    "        ax.set_title(result[l])\n",
    "        img = ax.imshow(temp_image)\n",
    "        ax.imshow(temp_att, cmap='gray', alpha=0.7, extent=img.get_extent())\n",
    "        \n",
    "\n",
    "    plt.tight_layout()\n",
    "    plt.show()\n",
    "    \n",
    "def test_rand_image(model, test_loader):\n",
    "    dataiter = iter(test_loader)\n",
    "    images,_ = next(dataiter)\n",
    "\n",
    "    img = images[0].detach().clone()\n",
    "    img1 = images[0].detach().clone()\n",
    "    caps,alphas = get_caps_from(model, img.unsqueeze(0))\n",
    "\n",
    "    plot_attention(img1, caps, alphas)\n",
    "\n",
    "    #show the tensor image\n",
    "def show_image(img, title=None):\n",
    "    \"\"\"Imshow for Tensor.\"\"\"\n",
    "    \n",
    "    #unnormalize \n",
    "    img[0] = img[0] * 0.229\n",
    "    img[1] = img[1] * 0.224 \n",
    "    img[2] = img[2] * 0.225 \n",
    "    img[0] += 0.485 \n",
    "    img[1] += 0.456 \n",
    "    img[2] += 0.406\n",
    "    \n",
    "    img = img.numpy().transpose((1, 2, 0))\n",
    "      \n",
    "    plt.imshow(img)\n",
    "    if title is not None:\n",
    "        plt.title(title)\n",
    "    plt.pause(0.001)  # pause a bit so that plots are updated\n"
   ]
  },
  {
   "cell_type": "code",
   "execution_count": 72,
   "id": "ebe98616",
   "metadata": {},
   "outputs": [
    {
     "data": {
      "image/png": "[encoded data removed]",
      "text/plain": [
       "<Figure size 432x288 with 1 Axes>"
      ]
     },
     "metadata": {
      "needs_background": "light"
     },
     "output_type": "display_data"
    },
    {
     "ename": "ValueError",
     "evalue": "num must be 1 <= num <= 1, not 2",
     "output_type": "error",
     "traceback": [
      "\u001b[0;31m---------------------------------------------------------------------------\u001b[0m",
      "\u001b[0;31mValueError\u001b[0m                                Traceback (most recent call last)",
      "\u001b[0;32m/var/folders/0d/kx07xpsn40v0mbjthb6sbc5h0000gq/T/ipykernel_14629/3972265883.py\u001b[0m in \u001b[0;36m<module>\u001b[0;34m\u001b[0m\n\u001b[1;32m      4\u001b[0m \u001b[0;31m# local_model_path = 'simple-model.pth'\u001b[0m\u001b[0;34m\u001b[0m\u001b[0;34m\u001b[0m\u001b[0;34m\u001b[0m\u001b[0m\n\u001b[1;32m      5\u001b[0m \u001b[0;31m# model = load_model(local_model_path)\u001b[0m\u001b[0;34m\u001b[0m\u001b[0;34m\u001b[0m\u001b[0;34m\u001b[0m\u001b[0m\n\u001b[0;32m----> 6\u001b[0;31m \u001b[0mtest_rand_image\u001b[0m\u001b[0;34m(\u001b[0m\u001b[0mmodel\u001b[0m\u001b[0;34m,\u001b[0m\u001b[0mtest_loader\u001b[0m\u001b[0;34m)\u001b[0m\u001b[0;34m\u001b[0m\u001b[0;34m\u001b[0m\u001b[0m\n\u001b[0m",
      "\u001b[0;32m/var/folders/0d/kx07xpsn40v0mbjthb6sbc5h0000gq/T/ipykernel_14629/2338537856.py\u001b[0m in \u001b[0;36mtest_rand_image\u001b[0;34m(model, test_loader)\u001b[0m\n\u001b[1;32m     46\u001b[0m     \u001b[0mcaps\u001b[0m\u001b[0;34m,\u001b[0m\u001b[0malphas\u001b[0m \u001b[0;34m=\u001b[0m \u001b[0mget_caps_from\u001b[0m\u001b[0;34m(\u001b[0m\u001b[0mmodel\u001b[0m\u001b[0;34m,\u001b[0m \u001b[0mimg\u001b[0m\u001b[0;34m.\u001b[0m\u001b[0munsqueeze\u001b[0m\u001b[0;34m(\u001b[0m\u001b[0;36m0\u001b[0m\u001b[0;34m)\u001b[0m\u001b[0;34m)\u001b[0m\u001b[0;34m\u001b[0m\u001b[0;34m\u001b[0m\u001b[0m\n\u001b[1;32m     47\u001b[0m \u001b[0;34m\u001b[0m\u001b[0m\n\u001b[0;32m---> 48\u001b[0;31m     \u001b[0mplot_attention\u001b[0m\u001b[0;34m(\u001b[0m\u001b[0mimg1\u001b[0m\u001b[0;34m,\u001b[0m \u001b[0mcaps\u001b[0m\u001b[0;34m,\u001b[0m \u001b[0malphas\u001b[0m\u001b[0;34m)\u001b[0m\u001b[0;34m\u001b[0m\u001b[0;34m\u001b[0m\u001b[0m\n\u001b[0m\u001b[1;32m     49\u001b[0m \u001b[0;34m\u001b[0m\u001b[0m\n\u001b[1;32m     50\u001b[0m     \u001b[0;31m#show the tensor image\u001b[0m\u001b[0;34m\u001b[0m\u001b[0;34m\u001b[0m\u001b[0;34m\u001b[0m\u001b[0m\n",
      "\u001b[0;32m/var/folders/0d/kx07xpsn40v0mbjthb6sbc5h0000gq/T/ipykernel_14629/2338537856.py\u001b[0m in \u001b[0;36mplot_attention\u001b[0;34m(img, result, attention_plot)\u001b[0m\n\u001b[1;32m     29\u001b[0m         \u001b[0mtemp_att\u001b[0m \u001b[0;34m=\u001b[0m \u001b[0mattention_plot\u001b[0m\u001b[0;34m[\u001b[0m\u001b[0ml\u001b[0m\u001b[0;34m]\u001b[0m\u001b[0;34m.\u001b[0m\u001b[0mreshape\u001b[0m\u001b[0;34m(\u001b[0m\u001b[0;36m7\u001b[0m\u001b[0;34m,\u001b[0m\u001b[0;36m7\u001b[0m\u001b[0;34m)\u001b[0m\u001b[0;34m\u001b[0m\u001b[0;34m\u001b[0m\u001b[0m\n\u001b[1;32m     30\u001b[0m \u001b[0;34m\u001b[0m\u001b[0m\n\u001b[0;32m---> 31\u001b[0;31m         \u001b[0max\u001b[0m \u001b[0;34m=\u001b[0m \u001b[0mfig\u001b[0m\u001b[0;34m.\u001b[0m\u001b[0madd_subplot\u001b[0m\u001b[0;34m(\u001b[0m\u001b[0mlen_result\u001b[0m\u001b[0;34m//\u001b[0m\u001b[0;36m2\u001b[0m\u001b[0;34m,\u001b[0m\u001b[0mlen_result\u001b[0m\u001b[0;34m//\u001b[0m\u001b[0;36m2\u001b[0m\u001b[0;34m,\u001b[0m \u001b[0ml\u001b[0m\u001b[0;34m+\u001b[0m\u001b[0;36m1\u001b[0m\u001b[0;34m)\u001b[0m\u001b[0;34m\u001b[0m\u001b[0;34m\u001b[0m\u001b[0m\n\u001b[0m\u001b[1;32m     32\u001b[0m         \u001b[0max\u001b[0m\u001b[0;34m.\u001b[0m\u001b[0mset_title\u001b[0m\u001b[0;34m(\u001b[0m\u001b[0mresult\u001b[0m\u001b[0;34m[\u001b[0m\u001b[0ml\u001b[0m\u001b[0;34m]\u001b[0m\u001b[0;34m)\u001b[0m\u001b[0;34m\u001b[0m\u001b[0;34m\u001b[0m\u001b[0m\n\u001b[1;32m     33\u001b[0m         \u001b[0mimg\u001b[0m \u001b[0;34m=\u001b[0m \u001b[0max\u001b[0m\u001b[0;34m.\u001b[0m\u001b[0mimshow\u001b[0m\u001b[0;34m(\u001b[0m\u001b[0mtemp_image\u001b[0m\u001b[0;34m)\u001b[0m\u001b[0;34m\u001b[0m\u001b[0;34m\u001b[0m\u001b[0m\n",
      "\u001b[0;32m~/miniconda/envs/thesis-py38/lib/python3.8/site-packages/matplotlib/figure.py\u001b[0m in \u001b[0;36madd_subplot\u001b[0;34m(self, *args, **kwargs)\u001b[0m\n\u001b[1;32m    770\u001b[0m             projection_class, pkw = self._process_projection_requirements(\n\u001b[1;32m    771\u001b[0m                 *args, **kwargs)\n\u001b[0;32m--> 772\u001b[0;31m             \u001b[0max\u001b[0m \u001b[0;34m=\u001b[0m \u001b[0msubplot_class_factory\u001b[0m\u001b[0;34m(\u001b[0m\u001b[0mprojection_class\u001b[0m\u001b[0;34m)\u001b[0m\u001b[0;34m(\u001b[0m\u001b[0mself\u001b[0m\u001b[0;34m,\u001b[0m \u001b[0;34m*\u001b[0m\u001b[0margs\u001b[0m\u001b[0;34m,\u001b[0m \u001b[0;34m**\u001b[0m\u001b[0mpkw\u001b[0m\u001b[0;34m)\u001b[0m\u001b[0;34m\u001b[0m\u001b[0;34m\u001b[0m\u001b[0m\n\u001b[0m\u001b[1;32m    773\u001b[0m             \u001b[0mkey\u001b[0m \u001b[0;34m=\u001b[0m \u001b[0;34m(\u001b[0m\u001b[0mprojection_class\u001b[0m\u001b[0;34m,\u001b[0m \u001b[0mpkw\u001b[0m\u001b[0;34m)\u001b[0m\u001b[0;34m\u001b[0m\u001b[0;34m\u001b[0m\u001b[0m\n\u001b[1;32m    774\u001b[0m         \u001b[0;32mreturn\u001b[0m \u001b[0mself\u001b[0m\u001b[0;34m.\u001b[0m\u001b[0m_add_axes_internal\u001b[0m\u001b[0;34m(\u001b[0m\u001b[0max\u001b[0m\u001b[0;34m,\u001b[0m \u001b[0mkey\u001b[0m\u001b[0;34m)\u001b[0m\u001b[0;34m\u001b[0m\u001b[0;34m\u001b[0m\u001b[0m\n",
      "\u001b[0;32m~/miniconda/envs/thesis-py38/lib/python3.8/site-packages/matplotlib/axes/_subplots.py\u001b[0m in \u001b[0;36m__init__\u001b[0;34m(self, fig, *args, **kwargs)\u001b[0m\n\u001b[1;32m     34\u001b[0m         \u001b[0mself\u001b[0m\u001b[0;34m.\u001b[0m\u001b[0m_axes_class\u001b[0m\u001b[0;34m.\u001b[0m\u001b[0m__init__\u001b[0m\u001b[0;34m(\u001b[0m\u001b[0mself\u001b[0m\u001b[0;34m,\u001b[0m \u001b[0mfig\u001b[0m\u001b[0;34m,\u001b[0m \u001b[0;34m[\u001b[0m\u001b[0;36m0\u001b[0m\u001b[0;34m,\u001b[0m \u001b[0;36m0\u001b[0m\u001b[0;34m,\u001b[0m \u001b[0;36m1\u001b[0m\u001b[0;34m,\u001b[0m \u001b[0;36m1\u001b[0m\u001b[0;34m]\u001b[0m\u001b[0;34m,\u001b[0m \u001b[0;34m**\u001b[0m\u001b[0mkwargs\u001b[0m\u001b[0;34m)\u001b[0m\u001b[0;34m\u001b[0m\u001b[0;34m\u001b[0m\u001b[0m\n\u001b[1;32m     35\u001b[0m         \u001b[0;31m# This will also update the axes position.\u001b[0m\u001b[0;34m\u001b[0m\u001b[0;34m\u001b[0m\u001b[0;34m\u001b[0m\u001b[0m\n\u001b[0;32m---> 36\u001b[0;31m         \u001b[0mself\u001b[0m\u001b[0;34m.\u001b[0m\u001b[0mset_subplotspec\u001b[0m\u001b[0;34m(\u001b[0m\u001b[0mSubplotSpec\u001b[0m\u001b[0;34m.\u001b[0m\u001b[0m_from_subplot_args\u001b[0m\u001b[0;34m(\u001b[0m\u001b[0mfig\u001b[0m\u001b[0;34m,\u001b[0m \u001b[0margs\u001b[0m\u001b[0;34m)\u001b[0m\u001b[0;34m)\u001b[0m\u001b[0;34m\u001b[0m\u001b[0;34m\u001b[0m\u001b[0m\n\u001b[0m\u001b[1;32m     37\u001b[0m \u001b[0;34m\u001b[0m\u001b[0m\n\u001b[1;32m     38\u001b[0m     @_api.deprecated(\n",
      "\u001b[0;32m~/miniconda/envs/thesis-py38/lib/python3.8/site-packages/matplotlib/gridspec.py\u001b[0m in \u001b[0;36m_from_subplot_args\u001b[0;34m(figure, args)\u001b[0m\n\u001b[1;32m    606\u001b[0m         \u001b[0;32melse\u001b[0m\u001b[0;34m:\u001b[0m\u001b[0;34m\u001b[0m\u001b[0;34m\u001b[0m\u001b[0m\n\u001b[1;32m    607\u001b[0m             \u001b[0;32mif\u001b[0m \u001b[0;32mnot\u001b[0m \u001b[0misinstance\u001b[0m\u001b[0;34m(\u001b[0m\u001b[0mnum\u001b[0m\u001b[0;34m,\u001b[0m \u001b[0mIntegral\u001b[0m\u001b[0;34m)\u001b[0m \u001b[0;32mor\u001b[0m \u001b[0mnum\u001b[0m \u001b[0;34m<\u001b[0m \u001b[0;36m1\u001b[0m \u001b[0;32mor\u001b[0m \u001b[0mnum\u001b[0m \u001b[0;34m>\u001b[0m \u001b[0mrows\u001b[0m\u001b[0;34m*\u001b[0m\u001b[0mcols\u001b[0m\u001b[0;34m:\u001b[0m\u001b[0;34m\u001b[0m\u001b[0;34m\u001b[0m\u001b[0m\n\u001b[0;32m--> 608\u001b[0;31m                 raise ValueError(\n\u001b[0m\u001b[1;32m    609\u001b[0m                     f\"num must be 1 <= num <= {rows*cols}, not {num!r}\")\n\u001b[1;32m    610\u001b[0m             \u001b[0mi\u001b[0m \u001b[0;34m=\u001b[0m \u001b[0mj\u001b[0m \u001b[0;34m=\u001b[0m \u001b[0mnum\u001b[0m\u001b[0;34m\u001b[0m\u001b[0;34m\u001b[0m\u001b[0m\n",
      "\u001b[0;31mValueError\u001b[0m: num must be 1 <= num <= 1, not 2"
     ]
    },
    {
     "data": {
      "image/png": "[encoded data removed]",
      "text/plain": [
       "<Figure size 1080x1080 with 1 Axes>"
      ]
     },
     "metadata": {
      "needs_background": "light"
     },
     "output_type": "display_data"
    }
   ],
   "source": [
    "# torch.cuda.empty_cache()\n",
    "\n",
    "# model_path = '/home/space/datasets/COA/models/baseline/attention_model_state.pth'\n",
    "# local_model_path = 'simple-model.pth'\n",
    "# model = load_model(local_model_path)\n",
    "test_rand_image(model,test_loader)"
   ]
  }
 ],
 "metadata": {
  "kernelspec": {
   "display_name": "Python 3 (ipykernel)",
   "language": "python",
   "name": "python3"
  },
  "language_info": {
   "codemirror_mode": {
    "name": "ipython",
    "version": 3
   },
   "file_extension": ".py",
   "mimetype": "text/x-python",
   "name": "python",
   "nbconvert_exporter": "python",
   "pygments_lexer": "ipython3",
   "version": "3.8.10"
  }
 },
 "nbformat": 4,
 "nbformat_minor": 5
}
