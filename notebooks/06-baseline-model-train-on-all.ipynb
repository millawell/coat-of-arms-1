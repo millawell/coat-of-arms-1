{
 "cells": [
  {
   "cell_type": "code",
   "execution_count": 2,
   "id": "e5cdbcf3",
   "metadata": {},
   "outputs": [
    {
     "name": "stdout",
     "output_type": "stream",
     "text": [
      "The autoreload extension is already loaded. To reload it, use:\n",
      "  %reload_ext autoreload\n"
     ]
    }
   ],
   "source": [
    "# auto-load when code changes outside\n",
    "%load_ext autoreload\n",
    "%autoreload 2\n",
    "\n",
    "import sys\n",
    "sys.path.insert(0,'..')\n"
   ]
  },
  {
   "cell_type": "markdown",
   "id": "814ad5d2",
   "metadata": {},
   "source": [
    "## Torch data-loader\n",
    "https://www.kaggle.com/mdteach/torch-data-loader-flicker-8k"
   ]
  },
  {
   "cell_type": "code",
   "execution_count": 3,
   "id": "a8c2c97b",
   "metadata": {},
   "outputs": [],
   "source": [
    "import pandas as pd\n",
    "import numpy as np\n",
    "import matplotlib.pyplot as plt\n",
    "import matplotlib.image as mpimg\n"
   ]
  },
  {
   "cell_type": "code",
   "execution_count": 4,
   "id": "cd6645ae",
   "metadata": {},
   "outputs": [
    {
     "name": "stdout",
     "output_type": "stream",
     "text": [
      "captions.txt  images  test_captions.txt  train_captions.txt  val_captions.txt\n",
      "There are 137 image to captions\n"
     ]
    },
    {
     "data": {
      "text/html": [
       "<div>\n",
       "<style scoped>\n",
       "    .dataframe tbody tr th:only-of-type {\n",
       "        vertical-align: middle;\n",
       "    }\n",
       "\n",
       "    .dataframe tbody tr th {\n",
       "        vertical-align: top;\n",
       "    }\n",
       "\n",
       "    .dataframe thead th {\n",
       "        text-align: right;\n",
       "    }\n",
       "</style>\n",
       "<table border=\"1\" class=\"dataframe\">\n",
       "  <thead>\n",
       "    <tr style=\"text-align: right;\">\n",
       "      <th></th>\n",
       "      <th>image</th>\n",
       "      <th>caption</th>\n",
       "    </tr>\n",
       "  </thead>\n",
       "  <tbody>\n",
       "    <tr>\n",
       "      <th>0</th>\n",
       "      <td>image_1.png</td>\n",
       "      <td>A A lion rampant</td>\n",
       "    </tr>\n",
       "    <tr>\n",
       "      <th>1</th>\n",
       "      <td>image_2.png</td>\n",
       "      <td>A A lion rampant</td>\n",
       "    </tr>\n",
       "    <tr>\n",
       "      <th>2</th>\n",
       "      <td>image_3.png</td>\n",
       "      <td>A A lion rampant</td>\n",
       "    </tr>\n",
       "    <tr>\n",
       "      <th>3</th>\n",
       "      <td>image_4.png</td>\n",
       "      <td>A A lion rampant</td>\n",
       "    </tr>\n",
       "    <tr>\n",
       "      <th>4</th>\n",
       "      <td>image_5.png</td>\n",
       "      <td>A A lion rampant</td>\n",
       "    </tr>\n",
       "    <tr>\n",
       "      <th>5</th>\n",
       "      <td>image_100.png</td>\n",
       "      <td>A A lion's head</td>\n",
       "    </tr>\n",
       "    <tr>\n",
       "      <th>6</th>\n",
       "      <td>image_101.png</td>\n",
       "      <td>A A lion's head</td>\n",
       "    </tr>\n",
       "  </tbody>\n",
       "</table>\n",
       "</div>"
      ],
      "text/plain": [
       "           image           caption\n",
       "0    image_1.png  A A lion rampant\n",
       "1    image_2.png  A A lion rampant\n",
       "2    image_3.png  A A lion rampant\n",
       "3    image_4.png  A A lion rampant\n",
       "4    image_5.png  A A lion rampant\n",
       "5  image_100.png   A A lion's head\n",
       "6  image_101.png   A A lion's head"
      ]
     },
     "execution_count": 4,
     "metadata": {},
     "output_type": "execute_result"
    }
   ],
   "source": [
    "#location of the data \n",
    "data_location =  '/home/space/datasets/COA/generated-data-api-small'\n",
    "# data_location =  '../generated-data-api-small'\n",
    "!ls $data_location\n",
    "\n",
    "#reading the text data \n",
    "\n",
    "caption_file = data_location + '/captions.txt'\n",
    "root_folder_images = data_location + '/images'\n",
    "df = pd.read_csv(caption_file)\n",
    "print(\"There are {} image to captions\".format(len(df)))\n",
    "df.head(7)\n"
   ]
  },
  {
   "cell_type": "code",
   "execution_count": 5,
   "id": "df9320df",
   "metadata": {},
   "outputs": [],
   "source": [
    "#select any index from the whole dataset \n",
    "#single image has 5 captions\n",
    "# #so, select indx as: 1,6,11,16...\n",
    "# for i in range(11, 21):\n",
    "#     image_path = data_location + '/images/'+ df.iloc[i,0]\n",
    "#     print(\"Caption:\", df.iloc[i,1])\n",
    "#     img=mpimg.imread(image_path)\n",
    "#     plt.imshow(img)\n",
    "#     plt.show()\n",
    "\n"
   ]
  },
  {
   "cell_type": "markdown",
   "id": "587ed02f",
   "metadata": {},
   "source": [
    "# Split Data into Training/Test datasets "
   ]
  },
  {
   "cell_type": "code",
   "execution_count": 5,
   "id": "c61fc8d4",
   "metadata": {},
   "outputs": [
    {
     "name": "stdout",
     "output_type": "stream",
     "text": [
      "There are 137 total images\n",
      "There are 82 train images\n",
      "There are 27 val images\n",
      "There are 28 test images\n"
     ]
    }
   ],
   "source": [
    "def train_validate_test_split(df, train_percent=.6, validate_percent=.2, seed=None):\n",
    "    np.random.seed(seed)\n",
    "    perm = np.random.permutation(df.index)\n",
    "    m = len(df.index)\n",
    "    train_end = int(train_percent * m)\n",
    "    validate_end = int(validate_percent * m) + train_end\n",
    "    train = df.iloc[perm[:train_end]]\n",
    "    validate = df.iloc[perm[train_end:validate_end]]\n",
    "    test = df.iloc[perm[validate_end:]]\n",
    "    return train, validate, test\n",
    "\n",
    "\n",
    "# data_location = '/home/space/datasets/COA/generated-data-api'\n",
    "data_location =  '/home/space/datasets/COA/generated-data-api-small'\n",
    "# data_location =  '../generated-data-api-small'\n",
    "caption_file = data_location + '/captions.txt'\n",
    "root_folder_images = data_location + '/images'\n",
    "df = pd.read_csv(caption_file)\n",
    "\n",
    "train, validate, test = train_validate_test_split(df, train_percent=.6, validate_percent=.2, seed=None)\n",
    "\n",
    "\n",
    "train_annotation_file = data_location + '/train_captions.txt'\n",
    "val_annotation_file  = data_location + '/val_captions.txt'\n",
    "test_annotation_file  = data_location + '/test_captions.txt'\n",
    "\n",
    "train.to_csv(train_annotation_file, sep=',',index=False)\n",
    "test.to_csv(test_annotation_file, sep=',',index=False)\n",
    "validate.to_csv(val_annotation_file, sep=',',index=False)\n",
    "\n",
    "\n",
    "print(\"There are {} total images\".format(len(df)))\n",
    "\n",
    "caption_file = data_location + '/train_captions.txt'\n",
    "df1 = pd.read_csv(caption_file)\n",
    "print(\"There are {} train images\".format(len(df1)))\n",
    "\n",
    "caption_file = data_location + '/val_captions.txt'\n",
    "df2 = pd.read_csv(caption_file)\n",
    "print(\"There are {} val images\".format(len(df2)))\n",
    "\n",
    "caption_file = data_location + '/test_captions.txt'\n",
    "df3 = pd.read_csv(caption_file)\n",
    "print(\"There are {} test images\".format(len(df3)))"
   ]
  },
  {
   "cell_type": "code",
   "execution_count": 7,
   "id": "e779ff1a",
   "metadata": {
    "scrolled": false
   },
   "outputs": [
    {
     "name": "stdout",
     "output_type": "stream",
     "text": [
      "Caption: image_2.png A A lion rampant\n",
      "(500, 500, 4)\n"
     ]
    },
    {
     "data": {
      "image/png": "[encoded data removed]",
      "text/plain": [
       "<Figure size 432x288 with 1 Axes>"
      ]
     },
     "metadata": {
      "needs_background": "light"
     },
     "output_type": "display_data"
    },
    {
     "name": "stdout",
     "output_type": "stream",
     "text": [
      "Caption: image_3.png A A lion rampant\n",
      "(500, 500, 4)\n"
     ]
    },
    {
     "data": {
      "image/png": "[encoded data removed]",
      "text/plain": [
       "<Figure size 432x288 with 1 Axes>"
      ]
     },
     "metadata": {
      "needs_background": "light"
     },
     "output_type": "display_data"
    },
    {
     "name": "stdout",
     "output_type": "stream",
     "text": [
      "Caption: image_4.png A A lion rampant\n",
      "(500, 500, 4)\n"
     ]
    },
    {
     "data": {
      "image/png": "[encoded data removed]",
      "text/plain": [
       "<Figure size 432x288 with 1 Axes>"
      ]
     },
     "metadata": {
      "needs_background": "light"
     },
     "output_type": "display_data"
    },
    {
     "name": "stdout",
     "output_type": "stream",
     "text": [
      "Caption: image_5.png A A lion rampant\n",
      "(500, 500, 4)\n"
     ]
    },
    {
     "data": {
      "image/png": "[encoded data removed]",
      "text/plain": [
       "<Figure size 432x288 with 1 Axes>"
      ]
     },
     "metadata": {
      "needs_background": "light"
     },
     "output_type": "display_data"
    }
   ],
   "source": [
    "for i in range(1, 5):\n",
    "    image_path = data_location + '/images/'+ df.iloc[i,0]\n",
    "    print(\"Caption:\", df.iloc[i,0], df.iloc[i,1])\n",
    "    img=mpimg.imread(image_path)\n",
    "    print(img.shape)\n",
    "    plt.imshow(img)\n",
    "    plt.show()\n"
   ]
  },
  {
   "cell_type": "code",
   "execution_count": null,
   "id": "59fc6bd0",
   "metadata": {},
   "outputs": [],
   "source": []
  },
  {
   "cell_type": "code",
   "execution_count": 6,
   "id": "12fa6a61",
   "metadata": {},
   "outputs": [
    {
     "name": "stderr",
     "output_type": "stream",
     "text": [
      "--------------------------------------------------------------------------\n",
      "No OpenFabrics connection schemes reported that they were able to be\n",
      "used on a specific port.  As such, the openib BTL (OpenFabrics\n",
      "support) will be disabled for this port.\n",
      "\n",
      "  Local host:           node26\n",
      "  Local device:         mlx5_0\n",
      "  Local port:           1\n",
      "  CPCs attempted:       udcm\n",
      "--------------------------------------------------------------------------\n"
     ]
    }
   ],
   "source": [
    "#imports \n",
    "import os\n",
    "import torch\n",
    "import spacy\n",
    "import torchvision.transforms as T\n",
    "import matplotlib.pyplot as plt\n",
    "from torch.utils.data import DataLoader,Dataset\n",
    "from PIL import Image\n",
    "from datetime import datetime\n",
    "from tqdm import tqdm\n",
    "from time import sleep\n",
    "\n",
    "from src.baseline.vocabulary import Vocabulary\n",
    "from src.baseline.coa_dataset import CoADataset\n",
    "from src.baseline.caps_collate import CapsCollate\n",
    "from src.baseline.data_loader import get_loader, get_loaders, get_mean_std\n",
    "\n",
    "# torch.cuda.empty_cache()\n"
   ]
  },
  {
   "cell_type": "code",
   "execution_count": 7,
   "id": "25fd47a2",
   "metadata": {},
   "outputs": [],
   "source": [
    "!export CUDA_VISIBLE_DEVICES=0\n",
    "!export CUDA_LAUNCH_BLOCKING"
   ]
  },
  {
   "cell_type": "code",
   "execution_count": 8,
   "id": "cf67d490",
   "metadata": {},
   "outputs": [
    {
     "data": {
      "text/plain": [
       "device(type='cuda', index=0)"
      ]
     },
     "execution_count": 8,
     "metadata": {},
     "output_type": "execute_result"
    },
    {
     "name": "stderr",
     "output_type": "stream",
     "text": [
      "[node26:4038318] 1 more process has sent help message help-mpi-btl-openib-cpc-base.txt / no cpcs for port\n",
      "[node26:4038318] Set MCA parameter \"orte_base_help_aggregate\" to 0 to see all help / error messages\n"
     ]
    }
   ],
   "source": [
    "# device = torch.device(\"cuda:0\" if torch.cuda.is_available() else \"cpu\")\n",
    "device = torch.device(\"cuda:0\" if torch.cuda.is_available() else \"cpu\")\n",
    "# device = torch.device(\"cpu\")\n",
    "\n",
    "device"
   ]
  },
  {
   "cell_type": "code",
   "execution_count": 9,
   "id": "0a13d222",
   "metadata": {},
   "outputs": [
    {
     "data": {
      "text/plain": [
       "'Quadro RTX 6000'"
      ]
     },
     "execution_count": 9,
     "metadata": {},
     "output_type": "execute_result"
    }
   ],
   "source": [
    "torch.cuda.get_device_name(0)"
   ]
  },
  {
   "cell_type": "markdown",
   "id": "5d1e7cfd",
   "metadata": {},
   "source": [
    "# Image Captioning With Attention - Pytorch"
   ]
  },
  {
   "cell_type": "code",
   "execution_count": 10,
   "id": "640b3eb0",
   "metadata": {},
   "outputs": [],
   "source": [
    "#show the tensor image\n",
    "def show_image(img, title=None):\n",
    "    \"\"\"Imshow for Tensor.\"\"\"\n",
    "    \n",
    "    #unnormalize \n",
    "    img[0] = img[0] * 0.229\n",
    "    img[1] = img[1] * 0.224 \n",
    "    img[2] = img[2] * 0.225 \n",
    "    img[0] += 0.485 \n",
    "    img[1] += 0.456 \n",
    "    img[2] += 0.406\n",
    "    \n",
    "    img = img.numpy().transpose((1, 2, 0))\n",
    "    \n",
    "    \n",
    "    plt.imshow(img)\n",
    "    if title is not None:\n",
    "        plt.title(title)\n",
    "    plt.pause(0.001)  # pause a bit so that plots are updated\n",
    "    \n",
    "\n",
    "def print_time(text):\n",
    "    now = datetime.now()\n",
    "    current_time = now.strftime(\"%H:%M:%S\")\n",
    "    print(\"{} @ Time = {}\".format(text, current_time))\n"
   ]
  },
  {
   "cell_type": "code",
   "execution_count": 11,
   "id": "e5cc0bba",
   "metadata": {},
   "outputs": [],
   "source": [
    "#setting the constants\n",
    "BATCH_SIZE = 125\n",
    "# BATCH_SIZE = 5\n",
    "NUM_WORKER = 1 #### this needs multi-core\n",
    "freq_threshold = 5\n",
    "# 30 minutes to create those, as it's baseline, i ran it several times and it's the same\n",
    "vocab = Vocabulary(freq_threshold)\n",
    "vocab.stoi = {'<PAD>': 0, '<SOS>': 1, '<EOS>': 2, '<UNK>': 3, 'g': 4, 'v': 5, 'b': 6, 'cross': 7, 'lion': 8, 'passt': 9, 's': 10, 'a': 11, 'eagle': 12, 'o': 13, 'doubleheaded': 14, \"'s\": 15, 'head': 16, 'patonce': 17, 'moline': 18, 'guard': 19, 'rampant': 20}\n",
    "vocab.itos = {0: '<PAD>', 1: '<SOS>', 2: '<EOS>', 3: '<UNK>', 4: 'g', 5: 'v', 6: 'b', 7: 'cross', 8: 'lion', 9: 'passt', 10: 's', 11: 'a', 12: 'eagle', 13: 'o', 14: 'doubleheaded', 15: \"'s\", 16: 'head', 17: 'patonce', 18: 'moline', 19: 'guard', 20: 'rampant'}\n",
    "        "
   ]
  },
  {
   "cell_type": "markdown",
   "id": "24d3afbe",
   "metadata": {},
   "source": [
    "## Calcualte the mean and std of training dataset\n",
    "\n",
    "https://deeplizard.com/learn/video/lu7TCu7HeYc\n",
    "\n",
    "https://discuss.pytorch.org/t/understanding-transform-normalize/21730"
   ]
  },
  {
   "cell_type": "code",
   "execution_count": 14,
   "id": "f8bbb754",
   "metadata": {},
   "outputs": [],
   "source": [
    "import gc\n",
    "\n",
    "gc.collect()\n",
    "\n",
    "torch.cuda.empty_cache()\n"
   ]
  },
  {
   "cell_type": "code",
   "execution_count": 12,
   "id": "4f314c68",
   "metadata": {},
   "outputs": [
    {
     "data": {
      "text/plain": [
       "True"
      ]
     },
     "execution_count": 12,
     "metadata": {},
     "output_type": "execute_result"
    }
   ],
   "source": [
    "torch.cuda.is_available()\n"
   ]
  },
  {
   "cell_type": "code",
   "execution_count": 13,
   "id": "d3b51731",
   "metadata": {},
   "outputs": [],
   "source": [
    "import torch.multiprocessing as mp\n",
    "\n",
    "mp.set_start_method('spawn')"
   ]
  },
  {
   "cell_type": "code",
   "execution_count": 14,
   "id": "6722cc45",
   "metadata": {},
   "outputs": [
    {
     "name": "stderr",
     "output_type": "stream",
     "text": [
      "--------------------------------------------------------------------------\n",
      "No OpenFabrics connection schemes reported that they were able to be\n",
      "used on a specific port.  As such, the openib BTL (OpenFabrics\n",
      "support) will be disabled for this port.\n",
      "\n",
      "  Local host:           node26\n",
      "  Local device:         mlx5_0\n",
      "  Local port:           1\n",
      "  CPCs attempted:       udcm\n",
      "--------------------------------------------------------------------------\n",
      "[node26:4038832] 1 more process has sent help message help-mpi-btl-openib-cpc-base.txt / no cpcs for port\n",
      "[node26:4038832] Set MCA parameter \"orte_base_help_aggregate\" to 0 to see all help / error messages\n",
      "--------------------------------------------------------------------------\n",
      "No OpenFabrics connection schemes reported that they were able to be\n",
      "used on a specific port.  As such, the openib BTL (OpenFabrics\n",
      "support) will be disabled for this port.\n",
      "\n",
      "  Local host:           node26\n",
      "  Local device:         mlx5_0\n",
      "  Local port:           1\n",
      "  CPCs attempted:       udcm\n",
      "--------------------------------------------------------------------------\n"
     ]
    },
    {
     "name": "stdout",
     "output_type": "stream",
     "text": [
      "mean, std: tensor(1.0056) tensor(1.3442)\n"
     ]
    },
    {
     "name": "stderr",
     "output_type": "stream",
     "text": [
      "[node26:4039439] 1 more process has sent help message help-mpi-btl-openib-cpc-base.txt / no cpcs for port\n",
      "[node26:4039439] Set MCA parameter \"orte_base_help_aggregate\" to 0 to see all help / error messages\n"
     ]
    }
   ],
   "source": [
    "train_loader, train_dataset = get_loader(\n",
    "    root_folder=root_folder_images,\n",
    "    annotation_file=train_annotation_file,\n",
    "    transform=None,  # <=======================\n",
    "    num_workers=NUM_WORKER,\n",
    "    vocab=vocab,\n",
    "    batch_size=10,\n",
    "    device=device,\n",
    "    pin_memory=False\n",
    ")\n",
    "mean, std = get_mean_std(train_dataset, train_loader, 500 , 500)\n",
    "print('mean, std:', mean, std)"
   ]
  },
  {
   "cell_type": "code",
   "execution_count": 15,
   "id": "7a51a352",
   "metadata": {},
   "outputs": [],
   "source": [
    "#defining the transform to be applied\n",
    "\n",
    "transform = T.Compose([\n",
    "    T.Resize(226),                     \n",
    "    T.RandomCrop(224),                 \n",
    "    T.ToTensor(),                               \n",
    "    T.Normalize(mean, std) \n",
    "])\n"
   ]
  },
  {
   "cell_type": "code",
   "execution_count": 16,
   "id": "d3e2222f",
   "metadata": {},
   "outputs": [
    {
     "name": "stdout",
     "output_type": "stream",
     "text": [
      "writing the dataloader @ Time = 15:55:36\n",
      "finished writing the dataloader @ Time = 15:55:51\n"
     ]
    }
   ],
   "source": [
    "#Initiate the Dataset and Dataloader\n",
    "BATCH_SIZE = 56\n",
    "\n",
    "\n",
    "print_time('writing the dataloader')\n",
    "\n",
    "train_loader, val_loader, test_loader, train_dataset, val_dataset, test_dataset = get_loaders(\n",
    "    root_folder=root_folder_images,\n",
    "    train_annotation_file=train_annotation_file,\n",
    "    val_annotation_file=val_annotation_file,\n",
    "    test_annotation_file=test_annotation_file,\n",
    "    transform=transform,\n",
    "    num_workers=NUM_WORKER,\n",
    "    vocab=vocab,\n",
    "    batch_size=BATCH_SIZE,\n",
    "    device=device,\n",
    "    pin_memory=False\n",
    ")\n",
    "\n",
    "print_time('finished writing the dataloader')"
   ]
  },
  {
   "cell_type": "code",
   "execution_count": 17,
   "id": "25f373f1",
   "metadata": {},
   "outputs": [
    {
     "data": {
      "text/plain": [
       "(2, 1, 1, 82, 27, 28)"
      ]
     },
     "execution_count": 17,
     "metadata": {},
     "output_type": "execute_result"
    }
   ],
   "source": [
    "len(train_loader), len(val_loader), len(test_loader), len(train_dataset), len(val_dataset), len(test_dataset)"
   ]
  },
  {
   "cell_type": "code",
   "execution_count": 33,
   "id": "bc829f4c",
   "metadata": {},
   "outputs": [
    {
     "data": {
      "text/plain": [
       "{'<PAD>': 0,\n",
       " '<SOS>': 1,\n",
       " '<EOS>': 2,\n",
       " '<UNK>': 3,\n",
       " 'g': 4,\n",
       " 'v': 5,\n",
       " 'b': 6,\n",
       " 'cross': 7,\n",
       " 'lion': 8,\n",
       " 'passt': 9,\n",
       " 's': 10,\n",
       " 'a': 11,\n",
       " 'eagle': 12,\n",
       " 'o': 13,\n",
       " 'doubleheaded': 14,\n",
       " \"'s\": 15,\n",
       " 'head': 16,\n",
       " 'patonce': 17,\n",
       " 'moline': 18,\n",
       " 'guard': 19,\n",
       " 'rampant': 20}"
      ]
     },
     "execution_count": 33,
     "metadata": {},
     "output_type": "execute_result"
    }
   ],
   "source": [
    "train_dataset.vocab.stoi"
   ]
  },
  {
   "cell_type": "code",
   "execution_count": 34,
   "id": "2476a565",
   "metadata": {},
   "outputs": [
    {
     "data": {
      "text/plain": [
       "{0: '<PAD>',\n",
       " 1: '<SOS>',\n",
       " 2: '<EOS>',\n",
       " 3: '<UNK>',\n",
       " 4: 'g',\n",
       " 5: 'v',\n",
       " 6: 'b',\n",
       " 7: 'cross',\n",
       " 8: 'lion',\n",
       " 9: 'passt',\n",
       " 10: 's',\n",
       " 11: 'a',\n",
       " 12: 'eagle',\n",
       " 13: 'o',\n",
       " 14: 'doubleheaded',\n",
       " 15: \"'s\",\n",
       " 16: 'head',\n",
       " 17: 'patonce',\n",
       " 18: 'moline',\n",
       " 19: 'guard',\n",
       " 20: 'rampant'}"
      ]
     },
     "execution_count": 34,
     "metadata": {},
     "output_type": "execute_result"
    }
   ],
   "source": [
    "train_dataset.vocab.itos"
   ]
  },
  {
   "cell_type": "code",
   "execution_count": 24,
   "id": "e1f3ef25",
   "metadata": {},
   "outputs": [],
   "source": [
    "# [11, 13, 12, 14,  2,  0]\n",
    "# a o eagle doublehead eos pad"
   ]
  },
  {
   "cell_type": "markdown",
   "id": "83bb6b3a",
   "metadata": {},
   "source": [
    "# Defining the Model Architecture\n",
    "\n",
    "Model is seq2seq model. In the **encoder** pretrained ResNet model is used to extract the features. Decoder, is the implementation of the Bahdanau Attention Decoder. In the decoder model **LSTM cell**."
   ]
  },
  {
   "cell_type": "markdown",
   "id": "332143d9",
   "metadata": {},
   "source": [
    "https://blog.floydhub.com/attention-mechanism/"
   ]
  },
  {
   "cell_type": "markdown",
   "id": "d939ae8d",
   "metadata": {},
   "source": [
    "https://machinelearningmastery.com/develop-a-deep-learning-caption-generation-model-in-python/\n",
    "    "
   ]
  },
  {
   "cell_type": "code",
   "execution_count": 18,
   "id": "0314177a",
   "metadata": {},
   "outputs": [],
   "source": [
    "import torch\n",
    "import nltk\n",
    "import numpy as np\n",
    "import torch.nn as nn\n",
    "import torch.onnx as onnx\n",
    "import torch.optim as optim\n",
    "import torchvision.models as models\n",
    "from torch.utils.data import DataLoader,Dataset\n",
    "from src.baseline.model import EncoderCNN, Attention, DecoderRNN, EncoderDecoder\n"
   ]
  },
  {
   "cell_type": "code",
   "execution_count": 19,
   "id": "7cdd8476",
   "metadata": {},
   "outputs": [],
   "source": [
    "#helper function to save the model\n",
    "#helper function to save the model\n",
    "def save_model(model, optimizer, epoch, loss, accuracy, model_full_path):\n",
    "    model.cpu()\n",
    "    model_state = {\n",
    "        'epoch': epoch,\n",
    "        'embed_size': embed_size,\n",
    "        'vocab_size': len(train_dataset.vocab),\n",
    "        'attention_dim': attention_dim,\n",
    "        'encoder_dim': encoder_dim,\n",
    "        'decoder_dim': decoder_dim,\n",
    "        'state_dict': model.state_dict(),\n",
    "        'model_state_dict': model.state_dict(),\n",
    "        'optimizer_state_dict': optimizer.state_dict(),\n",
    "        'loss': loss,\n",
    "        'accuracy':accuracy\n",
    "    }\n",
    "    \n",
    "    torch.save(model_state, model_full_path)\n",
    "    \n",
    "\n",
    "def get_new_model():\n",
    "    model = EncoderDecoder(embed_size, len(train_dataset.vocab), attention_dim, encoder_dim, decoder_dim, drop_prob=0.3).to(device)\n",
    "    optimizer = optim.Adam(model.parameters(), lr=learning_rate)\n",
    "    criterion = nn.CrossEntropyLoss(ignore_index=train_dataset.vocab.stoi[\"<PAD>\"])\n",
    "\n",
    "    return model, optimizer, criterion\n",
    "\n",
    "\n",
    "def load_model(model_path):\n",
    "    device = torch.device(\"cuda:0\" if torch.cuda.is_available() else \"cpu\")\n",
    "    \n",
    "    model, _, _ = get_new_model()\n",
    "    \n",
    "    model.load_state_dict(torch.load(model_path))\n",
    "\n",
    "    return model\n",
    "\n",
    "def load_model_checkpoint(model_path):\n",
    "    checkpoint = torch.load(model_path)\n",
    "    \n",
    "    model, optimizer, criterion = get_new_model()\n",
    "    \n",
    "    model.load_state_dict(checkpoint['model_state_dict'])\n",
    "    optimizer.load_state_dict(checkpoint['optimizer_state_dict'])\n",
    "    epoch = checkpoint['epoch']\n",
    "    loss = checkpoint['loss']\n",
    "    \n",
    "    return model, optimizer, epoch, loss\n",
    "\n"
   ]
  },
  {
   "cell_type": "markdown",
   "id": "5808f315",
   "metadata": {},
   "source": [
    "### Setting Hypperparameter and Init the model"
   ]
  },
  {
   "cell_type": "code",
   "execution_count": 20,
   "id": "47a69030",
   "metadata": {},
   "outputs": [],
   "source": [
    "#Hyperparams\n",
    "embed_size=300\n",
    "vocab_size = len(train_dataset.vocab)\n",
    "attention_dim=256\n",
    "encoder_dim=2048\n",
    "decoder_dim=512\n",
    "learning_rate = 3e-4\n"
   ]
  },
  {
   "cell_type": "code",
   "execution_count": 21,
   "id": "cd7d1650",
   "metadata": {},
   "outputs": [],
   "source": [
    "# model_path = '/home/space/datasets/COA/models/baseline/attention_model_state.pth'\n",
    "# model = load_trained_model(model_path)"
   ]
  },
  {
   "cell_type": "markdown",
   "id": "781b80e8",
   "metadata": {},
   "source": [
    "## Training Job from above configs"
   ]
  },
  {
   "cell_type": "code",
   "execution_count": 22,
   "id": "6f104b96",
   "metadata": {},
   "outputs": [],
   "source": [
    "# model_full_path = '/home/space/datasets/COA/models/baseline/attention_model_state-smalll-mon.pth'\n",
    "# model, optimizer, epoch, loss = load_model_checkpoint(model_full_path)\n"
   ]
  },
  {
   "cell_type": "code",
   "execution_count": 23,
   "id": "77052dc0",
   "metadata": {},
   "outputs": [],
   "source": [
    "#initialize new model, loss etc\n",
    "model, optimizer, criterion = get_new_model()"
   ]
  },
  {
   "cell_type": "code",
   "execution_count": 24,
   "id": "1dbf378c",
   "metadata": {},
   "outputs": [],
   "source": [
    "from src.accuracy import Accuracy\n",
    "\n",
    "# Function to test the model with the val dataset and print the accuracy for the test images\n",
    "def validate(model):\n",
    "#     print('validate function called')\n",
    "    accuracy_list = list()\n",
    "    total = len(val_loader)\n",
    "    bleu_score = 0\n",
    "    correct = 0\n",
    "    val_losses = list()\n",
    "    avg_loss = 0\n",
    "    model.eval()\n",
    "    with torch.no_grad():\n",
    "        for idx, (img, correct_cap) in enumerate(iter(val_loader)):\n",
    "            features = model.encoder(img.to(device))\n",
    "\n",
    "            features_tensors = img[0].detach().clone().unsqueeze(0)\n",
    "            features = model.encoder(features_tensors.to(device))\n",
    "                        \n",
    "            caps,_ = model.decoder.generate_caption(features, vocab=val_dataset.vocab)   \n",
    "            caps = caps[:-1]\n",
    "            predicted_caption = ' '.join(caps)\n",
    "\n",
    "            correct_caption = []\n",
    "            for j in correct_cap.T[0]:\n",
    "                if j.item() not in [0, 1, 2 , 3]:\n",
    "                    correct_caption.append(val_dataset.vocab.itos[j.item()])\n",
    "            correct_caption_s = ' '.join(correct_caption)\n",
    "\n",
    "#             print('correct_caption: ', correct_caption_s)\n",
    "#             print('predicted_caption: ', predicted_caption)\n",
    "            \n",
    "#             show_image(img[0], title=predicted_caption)\n",
    "                    \n",
    "            # ------------------------------------------\n",
    "            # calc metrics\n",
    "#             print_time('Before Accuracy')\n",
    "\n",
    "            accuracy_list.append(Accuracy(predicted_caption,correct_caption_s).get())\n",
    "\n",
    "#             print_time('After Accuracy')\n",
    "\n",
    "            bleu = nltk.translate.bleu_score.sentence_bleu([correct_caption], caps, weights=(0.5, 0.5))\n",
    "            bleu_score += bleu\n",
    "\n",
    "            # ------------------------------------------\n",
    "            # calc losses and take the average \n",
    "            image, captions = img.to(device), correct_cap.to(device)\n",
    "            outputs, _ = model(image, captions.T)\n",
    "            targets = captions.T[:,1:] \n",
    "            loss = criterion(outputs.view(-1, vocab_size), targets.reshape(-1))\n",
    "            val_losses.append(loss)\n",
    "            \n",
    "            # ------------------------------------------\n",
    "           \n",
    "    # compute the accuracy over all test images\n",
    "    acc_score = (100 * sum(accuracy_list) / len(accuracy_list))\n",
    "    avg_loss = sum(val_losses) / len(val_losses)\n",
    "#     print('avg_loss, bleu_score, acc_score', avg_loss, bleu_score, acc_score)\n",
    "\n",
    "    return avg_loss, bleu_score, acc_score\n",
    "\n"
   ]
  },
  {
   "cell_type": "code",
   "execution_count": 25,
   "id": "53074260",
   "metadata": {},
   "outputs": [],
   "source": [
    "!export CUDA_LAUNCH_BLOCKING=1\n",
    "!export CUDA_VISIBLE_DEVICES=2"
   ]
  },
  {
   "cell_type": "code",
   "execution_count": null,
   "id": "fc2bb5a5",
   "metadata": {},
   "outputs": [
    {
     "name": "stdout",
     "output_type": "stream",
     "text": [
      "cuda\n"
     ]
    },
    {
     "name": "stderr",
     "output_type": "stream",
     "text": [
      "  0%|                                                                                               | 0/2 [00:00<?, ?batch/s]--------------------------------------------------------------------------\n",
      "No OpenFabrics connection schemes reported that they were able to be\n",
      "used on a specific port.  As such, the openib BTL (OpenFabrics\n",
      "support) will be disabled for this port.\n",
      "\n",
      "  Local host:           node26\n",
      "  Local device:         mlx5_0\n",
      "  Local port:           1\n",
      "  CPCs attempted:       udcm\n",
      "--------------------------------------------------------------------------\n",
      "Epoch 1:   0%|                                                                           | 0/2 [00:12<?, ?batch/s, loss=3.08][node26:4041450] 1 more process has sent help message help-mpi-btl-openib-cpc-base.txt / no cpcs for port\n",
      "[node26:4041450] Set MCA parameter \"orte_base_help_aggregate\" to 0 to see all help / error messages\n",
      "--------------------------------------------------------------------------\n",
      "No OpenFabrics connection schemes reported that they were able to be\n",
      "used on a specific port.  As such, the openib BTL (OpenFabrics\n",
      "support) will be disabled for this port.\n",
      "\n",
      "  Local host:           node26\n",
      "  Local device:         mlx5_0\n",
      "  Local port:           1\n",
      "  CPCs attempted:       udcm\n",
      "--------------------------------------------------------------------------\n",
      "/home/salnabulsi/.thesis-py38/lib/python3.8/site-packages/nltk/translate/bleu_score.py:515: UserWarning: \n",
      "The hypothesis contains 0 counts of 2-gram overlaps.\n",
      "Therefore the BLEU score evaluates to 0, independently of\n",
      "how many N-gram overlaps of lower order it contains.\n",
      "Consider using lower n-gram order or use SmoothingFunction()\n",
      "  warnings.warn(_msg)\n",
      "[node26:4041770] 1 more process has sent help message help-mpi-btl-openib-cpc-base.txt / no cpcs for port\n",
      "[node26:4041770] Set MCA parameter \"orte_base_help_aggregate\" to 0 to see all help / error messages\n",
      "Epoch 1:  50%|█████████████████████████████████▌                                 | 1/2 [00:25<00:25, 25.39s/batch, loss=2.74]--------------------------------------------------------------------------\n",
      "No OpenFabrics connection schemes reported that they were able to be\n",
      "used on a specific port.  As such, the openib BTL (OpenFabrics\n",
      "support) will be disabled for this port.\n",
      "\n",
      "  Local host:           node26\n",
      "  Local device:         mlx5_0\n",
      "  Local port:           1\n",
      "  CPCs attempted:       udcm\n",
      "--------------------------------------------------------------------------\n",
      "[node26:4041858] 1 more process has sent help message help-mpi-btl-openib-cpc-base.txt / no cpcs for port\n",
      "[node26:4041858] Set MCA parameter \"orte_base_help_aggregate\" to 0 to see all help / error messages\n",
      "Epoch 1: 100%|███████████████████████████████████████████████████████████████████| 2/2 [00:38<00:00, 19.28s/batch, loss=2.74]\n",
      "  0%|                                                                                               | 0/2 [00:00<?, ?batch/s]--------------------------------------------------------------------------\n",
      "No OpenFabrics connection schemes reported that they were able to be\n",
      "used on a specific port.  As such, the openib BTL (OpenFabrics\n",
      "support) will be disabled for this port.\n",
      "\n",
      "  Local host:           node26\n",
      "  Local device:         mlx5_0\n",
      "  Local port:           1\n",
      "  CPCs attempted:       udcm\n",
      "--------------------------------------------------------------------------\n",
      "Epoch 2:   0%|                                                                           | 0/2 [00:12<?, ?batch/s, loss=2.48][node26:4042185] 1 more process has sent help message help-mpi-btl-openib-cpc-base.txt / no cpcs for port\n",
      "[node26:4042185] Set MCA parameter \"orte_base_help_aggregate\" to 0 to see all help / error messages\n",
      "--------------------------------------------------------------------------\n",
      "No OpenFabrics connection schemes reported that they were able to be\n",
      "used on a specific port.  As such, the openib BTL (OpenFabrics\n",
      "support) will be disabled for this port.\n",
      "\n",
      "  Local host:           node26\n",
      "  Local device:         mlx5_0\n",
      "  Local port:           1\n",
      "  CPCs attempted:       udcm\n",
      "--------------------------------------------------------------------------\n",
      "[node26:4042272] 1 more process has sent help message help-mpi-btl-openib-cpc-base.txt / no cpcs for port\n",
      "[node26:4042272] Set MCA parameter \"orte_base_help_aggregate\" to 0 to see all help / error messages\n",
      "Epoch 2:  50%|█████████████████████████████████▌                                 | 1/2 [00:25<00:25, 25.30s/batch, loss=2.26]--------------------------------------------------------------------------\n",
      "No OpenFabrics connection schemes reported that they were able to be\n",
      "used on a specific port.  As such, the openib BTL (OpenFabrics\n",
      "support) will be disabled for this port.\n",
      "\n",
      "  Local host:           node26\n",
      "  Local device:         mlx5_0\n",
      "  Local port:           1\n",
      "  CPCs attempted:       udcm\n",
      "--------------------------------------------------------------------------\n",
      "[node26:4042360] 1 more process has sent help message help-mpi-btl-openib-cpc-base.txt / no cpcs for port\n",
      "[node26:4042360] Set MCA parameter \"orte_base_help_aggregate\" to 0 to see all help / error messages\n",
      "Epoch 2: 100%|███████████████████████████████████████████████████████████████████| 2/2 [00:38<00:00, 19.29s/batch, loss=2.26]\n",
      "  0%|                                | 0/2 [00:00<?, ?batch/s]--------------------------------------------------------------------------\n",
      "No OpenFabrics connection schemes reported that they were able to be\n",
      "used on a specific port.  As such, the openib BTL (OpenFabrics\n",
      "support) will be disabled for this port.\n",
      "\n",
      "  Local host:           node26\n",
      "  Local device:         mlx5_0\n",
      "  Local port:           1\n",
      "  CPCs attempted:       udcm\n",
      "--------------------------------------------------------------------------\n",
      "Epoch 3:   0%|            | 0/2 [00:12<?, ?batch/s, loss=2.13][node26:4042696] 1 more process has sent help message help-mpi-btl-openib-cpc-base.txt / no cpcs for port\n",
      "[node26:4042696] Set MCA parameter \"orte_base_help_aggregate\" to 0 to see all help / error messages\n",
      "--------------------------------------------------------------------------\n",
      "No OpenFabrics connection schemes reported that they were able to be\n",
      "used on a specific port.  As such, the openib BTL (OpenFabrics\n",
      "support) will be disabled for this port.\n",
      "\n",
      "  Local host:           node26\n",
      "  Local device:         mlx5_0\n",
      "  Local port:           1\n",
      "  CPCs attempted:       udcm\n",
      "--------------------------------------------------------------------------\n"
     ]
    }
   ],
   "source": [
    "losses = list()\n",
    "losses_batch = list()\n",
    "val_losses = list()\n",
    "accuracy_list = list()\n",
    "\n",
    "model_full_path = '/home/space/datasets/COA/models/baseline/attention_model_ac12c.pth'\n",
    "num_epochs = 5\n",
    "print_every = 5\n",
    "\n",
    "device = torch.device(\"cuda\" if torch.cuda.is_available() else \"cpu\")\n",
    "print(device)\n",
    "# if model is None:\n",
    "\n",
    "for epoch in range(1, num_epochs + 1): \n",
    "#     if model is None:\n",
    "#         model, optimizer, epoch, loss = load_model_checkpoint(model_full_path)\n",
    "\n",
    "    with tqdm(train_loader, unit=\"batch\") as tepoch:\n",
    "        idx = 0\n",
    "        for image, captions in tepoch:\n",
    "            idx+=1\n",
    "            tepoch.set_description(f\"Epoch {epoch}\")\n",
    "            image, captions = image.to(device), captions.to(device)\n",
    "\n",
    "            # Zero the gradients.\n",
    "            optimizer.zero_grad()\n",
    "            \n",
    "            # Feed forward\n",
    "            outputs, attentions = model(image, captions.T)\n",
    "            \n",
    "            # Calculate the batch loss.\n",
    "            targets = captions.T[:,1:]  ####### the fix in here\n",
    "#             print(targets)\n",
    "            loss = criterion(outputs.view(-1, vocab_size), targets.reshape(-1))\n",
    "#             print(outputs.view(-1, vocab_size))\n",
    "            \n",
    "            # Backward pass. \n",
    "            loss.backward()\n",
    "            \n",
    "            # Update the parameters in the optimizer.\n",
    "            optimizer.step()\n",
    "            \n",
    "            tepoch.set_postfix(loss=loss.item())\n",
    "            sleep(0.1)\n",
    " \n",
    "            avg_val_loss, bleu_score, accuracy = validate(model)\n",
    "            model.train()\n",
    "#             tepoch.set_postfix(accuracy=accuracy)\n",
    "#             tepoch.set_postfix(vallidation_loss=avg_val_loss)\n",
    "\n",
    "            losses_batch.append(loss) # in here 17 batches * 5 epochs = 85 , you can get the average\n",
    "            val_losses.append(avg_val_loss)\n",
    "            accuracy_list.append(accuracy)\n",
    "        \n",
    "        avg_batch_loss = sum(losses_batch) / len(losses_batch)\n",
    "        losses.append(avg_batch_loss)\n",
    "            \n",
    "accuracy = sum(accuracy_list)/len(accuracy_list)\n",
    "\n",
    "print('Bleu Score: ',bleu_score/8091)\n",
    "print('Final accuracy: ', accuracy)\n",
    "\n",
    "                \n",
    "# save the latest model\n",
    "save_model(model, optimizer, epoch, loss, accuracy, model_full_path)\n"
   ]
  },
  {
   "cell_type": "code",
   "execution_count": 25,
   "id": "068ba422",
   "metadata": {},
   "outputs": [
    {
     "data": {
      "text/plain": [
       "5"
      ]
     },
     "execution_count": 25,
     "metadata": {},
     "output_type": "execute_result"
    }
   ],
   "source": [
    "# losses = list()\n",
    "# for epoch in tqdm(range(5)):\n",
    "#     epoch_losses = train_epoch(model, device, train_loader, optimizer)\n",
    "#     print(f\"Average loss in epoch {epoch}: {np.mean(epoch_losses):.5f}\")\n",
    "#     losses.extend(epoch_losses)\n",
    "len(losses)\n"
   ]
  },
  {
   "cell_type": "code",
   "execution_count": 26,
   "id": "eaeeaedc",
   "metadata": {},
   "outputs": [
    {
     "data": {
      "image/png": "[encoded data removed]",
      "text/plain": [
       "<Figure size 432x288 with 1 Axes>"
      ]
     },
     "metadata": {
      "needs_background": "light"
     },
     "output_type": "display_data"
    }
   ],
   "source": [
    "plt.plot(losses)\n",
    "plt.xlabel(\"Iteration\")\n",
    "plt.ylabel(\"Train loss\")\n",
    "plt.show()"
   ]
  },
  {
   "cell_type": "code",
   "execution_count": 27,
   "id": "78c901cf",
   "metadata": {},
   "outputs": [
    {
     "data": {
      "image/png": "[encoded data removed]",
      "text/plain": [
       "<Figure size 432x288 with 1 Axes>"
      ]
     },
     "metadata": {
      "needs_background": "light"
     },
     "output_type": "display_data"
    }
   ],
   "source": [
    "plt.plot(val_losses)\n",
    "plt.xlabel(\"Iteration\")\n",
    "plt.ylabel(\"Validation loss\")\n",
    "plt.show()"
   ]
  },
  {
   "cell_type": "code",
   "execution_count": 28,
   "id": "6821e855",
   "metadata": {},
   "outputs": [
    {
     "data": {
      "image/png": "[encoded data removed]",
      "text/plain": [
       "<Figure size 432x288 with 1 Axes>"
      ]
     },
     "metadata": {
      "needs_background": "light"
     },
     "output_type": "display_data"
    }
   ],
   "source": [
    "plt.plot(accuracy_list)\n",
    "plt.xlabel(\"Iteration\")\n",
    "plt.ylabel(\"Validation Accuracy\")\n",
    "plt.show()"
   ]
  },
  {
   "cell_type": "code",
   "execution_count": null,
   "id": "b22f6fee",
   "metadata": {},
   "outputs": [],
   "source": [
    "torch.cuda.empty_cache()\n"
   ]
  },
  {
   "cell_type": "markdown",
   "id": "1927f99b",
   "metadata": {},
   "source": [
    "##  Visualizing the attentions\n",
    "Defining helper functions\n",
    "<li>Given the image generate captions and attention scores</li>\n",
    "<li>Plot the attention scores in the image</li>"
   ]
  },
  {
   "cell_type": "code",
   "execution_count": 29,
   "id": "1cac2ecf",
   "metadata": {},
   "outputs": [],
   "source": [
    "#generate caption\n",
    "def get_caps_from(model, features_tensors):\n",
    "    #generate the caption\n",
    "    model.eval()\n",
    "    with torch.no_grad():\n",
    "        features = model.encoder(features_tensors.to(device))\n",
    "        caps,alphas = model.decoder.generate_caption(features,vocab=test_dataset.vocab)\n",
    "        caption = ' '.join(caps)\n",
    "        show_image(features_tensors[0],title=caption)\n",
    "    \n",
    "    return caps,alphas\n",
    "\n",
    "#Show attention\n",
    "def plot_attention(img, result, attention_plot):\n",
    "    #untransform\n",
    "    img[0] = img[0] * 0.229\n",
    "    img[1] = img[1] * 0.224 \n",
    "    img[2] = img[2] * 0.225 \n",
    "    img[0] += 0.485 \n",
    "    img[1] += 0.456 \n",
    "    img[2] += 0.406\n",
    "    \n",
    "    img = img.numpy().transpose((1, 2, 0))\n",
    "    temp_image = img\n",
    "\n",
    "    fig = plt.figure(figsize=(15, 15))\n",
    "\n",
    "    len_result = len(result)\n",
    "    for l in range(len_result):\n",
    "        temp_att = attention_plot[l].reshape(7,7)\n",
    "        \n",
    "        ax = fig.add_subplot(len_result//2,len_result//2, l+1)\n",
    "        ax.set_title(result[l])\n",
    "        img = ax.imshow(temp_image)\n",
    "        ax.imshow(temp_att, cmap='gray', alpha=0.7, extent=img.get_extent())\n",
    "        \n",
    "\n",
    "    plt.tight_layout()\n",
    "    plt.show()\n",
    "    \n",
    "def test_rand_image(model):\n",
    "    dataiter = iter(test_loader)\n",
    "    images,_ = next(dataiter)\n",
    "\n",
    "    img = images[0].detach().clone()\n",
    "    img1 = images[0].detach().clone()\n",
    "    caps,alphas = get_caps_from(model, img.unsqueeze(0))\n",
    "\n",
    "    plot_attention(img1, caps, alphas)\n",
    "    \n"
   ]
  },
  {
   "cell_type": "code",
   "execution_count": null,
   "id": "ebe98616",
   "metadata": {},
   "outputs": [],
   "source": [
    "# torch.cuda.empty_cache()\n",
    "\n",
    "# model_path = '/home/space/datasets/COA/models/baseline/attention_model_state.pth'\n",
    "# local_model_path = 'simple-model.pth'\n",
    "# model = load_model(local_model_path)\n",
    "test_rand_image(model)"
   ]
  },
  {
   "cell_type": "code",
   "execution_count": null,
   "id": "4619980c",
   "metadata": {},
   "outputs": [],
   "source": []
  }
 ],
 "metadata": {
  "kernelspec": {
   "display_name": "Python 3 (ipykernel)",
   "language": "python",
   "name": "python3"
  },
  "language_info": {
   "codemirror_mode": {
    "name": "ipython",
    "version": 3
   },
   "file_extension": ".py",
   "mimetype": "text/x-python",
   "name": "python",
   "nbconvert_exporter": "python",
   "pygments_lexer": "ipython3",
   "version": "3.8.10"
  }
 },
 "nbformat": 4,
 "nbformat_minor": 5
}
