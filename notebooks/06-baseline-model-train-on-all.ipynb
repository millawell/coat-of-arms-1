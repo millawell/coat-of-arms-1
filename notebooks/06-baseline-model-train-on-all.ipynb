{
 "cells": [
  {
   "cell_type": "code",
   "execution_count": 1,
   "id": "e5cdbcf3",
   "metadata": {},
   "outputs": [],
   "source": [
    "# auto-load when code changes outside\n",
    "%load_ext autoreload\n",
    "%autoreload 2\n",
    "%load_ext pyinstrument\n",
    "\n",
    "import sys\n",
    "sys.path.insert(0,'..')\n"
   ]
  },
  {
   "cell_type": "code",
   "execution_count": 2,
   "id": "12fa6a61",
   "metadata": {},
   "outputs": [],
   "source": [
    "#imports \n",
    "import os\n",
    "import nltk\n",
    "import spacy\n",
    "import numpy as np\n",
    "import pandas as pd\n",
    "import torch\n",
    "import torch.nn as nn\n",
    "import torch.onnx as onnx\n",
    "import torch.optim as optim\n",
    "import torchvision.models as models\n",
    "import torchvision.transforms as T\n",
    "import matplotlib.pyplot as plt\n",
    "import matplotlib.image as mpimg\n",
    "\n",
    "from torch.utils.data import DataLoader,Dataset\n",
    "from PIL import Image\n",
    "from tqdm import tqdm\n",
    "from time import sleep\n",
    "\n",
    "from src.baseline.vocabulary import Vocabulary\n",
    "from src.baseline.data_loader import get_loader, get_loaders, get_mean_std\n",
    "from src.baseline.coa_model import save_model, get_new_model, validate_model, train_model, train_validate_test_split\n",
    "from src.utils import print_time, zip_dir_to_file, unzip_file_to_dir, list_of_tensors_to_numpy_arr\n",
    "from src.pytorchtools import EarlyStopping, EarlyStoppingAccuracy\n",
    "\n",
    "from pyinstrument import Profiler\n",
    "from datetime import datetime\n",
    "from shutil import copyfile\n",
    "\n",
    "# torch.cuda.empty_cache()\n"
   ]
  },
  {
   "cell_type": "markdown",
   "id": "814ad5d2",
   "metadata": {},
   "source": [
    "## Torch data-loader\n",
    "https://www.kaggle.com/mdteach/torch-data-loader-flicker-8k"
   ]
  },
  {
   "cell_type": "markdown",
   "id": "587ed02f",
   "metadata": {},
   "source": [
    "# Split Data into Training/Test datasets "
   ]
  },
  {
   "cell_type": "code",
   "execution_count": 3,
   "id": "c61fc8d4",
   "metadata": {},
   "outputs": [
    {
     "name": "stdout",
     "output_type": "stream",
     "text": [
      "There are 10692 total images\n",
      "There are 6415 train images\n",
      "There are 2138 val images\n",
      "There are 2139 test images\n"
     ]
    }
   ],
   "source": [
    "\n",
    "data_location = '/home/space/datasets/COA/generated-data-api'\n",
    "# data_location =  '/home/space/datasets/COA/generated-data-api-small'\n",
    "# data_location =  '../generated-data-api-small'\n",
    "caption_file = data_location + '/captions.txt'\n",
    "root_folder_images = data_location + '/images'\n",
    "df = pd.read_csv(caption_file)\n",
    "\n",
    "train, validate, test = train_validate_test_split(df, train_percent=.6, validate_percent=.2, seed=None)\n",
    "\n",
    "\n",
    "train_annotation_file = data_location + '/train_captions.txt'\n",
    "val_annotation_file  = data_location + '/val_captions.txt'\n",
    "test_annotation_file  = data_location + '/test_captions.txt'\n",
    "\n",
    "train.to_csv(train_annotation_file, sep=',',index=False)\n",
    "test.to_csv(test_annotation_file, sep=',',index=False)\n",
    "validate.to_csv(val_annotation_file, sep=',',index=False)\n",
    "\n",
    "\n",
    "print(\"There are {} total images\".format(len(df)))\n",
    "\n",
    "caption_file = data_location + '/train_captions.txt'\n",
    "df1 = pd.read_csv(caption_file)\n",
    "print(\"There are {} train images\".format(len(df1)))\n",
    "\n",
    "caption_file = data_location + '/val_captions.txt'\n",
    "df2 = pd.read_csv(caption_file)\n",
    "print(\"There are {} val images\".format(len(df2)))\n",
    "\n",
    "caption_file = data_location + '/test_captions.txt'\n",
    "df3 = pd.read_csv(caption_file)\n",
    "print(\"There are {} test images\".format(len(df3)))"
   ]
  },
  {
   "cell_type": "code",
   "execution_count": 4,
   "id": "e779ff1a",
   "metadata": {
    "scrolled": false
   },
   "outputs": [
    {
     "name": "stdout",
     "output_type": "stream",
     "text": [
      "Caption: image_2.png A A lion rampant\n",
      "(500, 500, 4)\n"
     ]
    },
    {
     "data": {
      "image/png": "[encoded data removed]",
      "text/plain": [
       "<Figure size 432x288 with 1 Axes>"
      ]
     },
     "metadata": {
      "needs_background": "light"
     },
     "output_type": "display_data"
    }
   ],
   "source": [
    "for i in range(1, 2):\n",
    "    image_path = data_location + '/images/'+ df.iloc[i,0]\n",
    "    print(\"Caption:\", df.iloc[i,0], df.iloc[i,1])\n",
    "    img=mpimg.imread(image_path)\n",
    "    print(img.shape)\n",
    "    plt.imshow(img)\n",
    "    plt.show()\n"
   ]
  },
  {
   "cell_type": "code",
   "execution_count": 5,
   "id": "25fd47a2",
   "metadata": {},
   "outputs": [],
   "source": [
    "!export CUDA_VISIBLE_DEVICES=0\n",
    "!export CUDA_LAUNCH_BLOCKING=1"
   ]
  },
  {
   "cell_type": "code",
   "execution_count": 6,
   "id": "cf67d490",
   "metadata": {},
   "outputs": [
    {
     "data": {
      "text/plain": [
       "device(type='cuda', index=0)"
      ]
     },
     "execution_count": 6,
     "metadata": {},
     "output_type": "execute_result"
    }
   ],
   "source": [
    "# device = torch.device(\"cuda:0\" if torch.cuda.is_available() else \"cpu\")\n",
    "device = torch.device(\"cuda:0\" if torch.cuda.is_available() else \"cpu\")\n",
    "# device = torch.device(\"cpu\")\n",
    "\n",
    "device"
   ]
  },
  {
   "cell_type": "code",
   "execution_count": 7,
   "id": "0a13d222",
   "metadata": {},
   "outputs": [
    {
     "data": {
      "text/plain": [
       "'Tesla P100-PCIE-12GB'"
      ]
     },
     "execution_count": 7,
     "metadata": {},
     "output_type": "execute_result"
    }
   ],
   "source": [
    "torch.cuda.get_device_name(0)"
   ]
  },
  {
   "cell_type": "code",
   "execution_count": 8,
   "id": "f8bbb754",
   "metadata": {},
   "outputs": [],
   "source": [
    "# import gc\n",
    "\n",
    "# gc.collect()\n",
    "\n",
    "# torch.cuda.empty_cache()\n"
   ]
  },
  {
   "cell_type": "code",
   "execution_count": 9,
   "id": "d3b51731",
   "metadata": {},
   "outputs": [],
   "source": [
    "# import torch.multiprocessing as mp\n",
    "\n",
    "# mp.set_start_method('spawn')"
   ]
  },
  {
   "cell_type": "markdown",
   "id": "78024cbd",
   "metadata": {},
   "source": [
    "## Zipping images to (/tmp) folder on the node"
   ]
  },
  {
   "cell_type": "code",
   "execution_count": 10,
   "id": "0a5078f9",
   "metadata": {},
   "outputs": [],
   "source": [
    "# print_time('\\n ------------------------ \\n started Zipping images')\n",
    "\n",
    "# path_to_zip_file = '/tmp/coa-images-alln.zip'\n",
    "# zip_dir_to_file(path_to_zip_file, root_folder_images)\n",
    "\n",
    "# print_time('\\n ------------------------ \\n finished Zipping images')\n"
   ]
  },
  {
   "cell_type": "code",
   "execution_count": 11,
   "id": "0be741a4",
   "metadata": {},
   "outputs": [],
   "source": [
    "\n",
    "\n",
    "# tmp_data_location = '/tmp/generated-data-api'\n",
    "# # tmp_data_location =  '/tmp/generated-data-api-small'\n",
    "# tmp_root_folder_images = tmp_data_location + '/images'\n",
    "\n",
    "# tmp_train_annotation_file = tmp_data_location + '/train_captions.txt'\n",
    "# tmp_val_annotation_file  = tmp_data_location + '/val_captions.txt'\n",
    "# tmp_test_annotation_file  = tmp_data_location + '/test_captions.txt'\n",
    "# tmp_caption_file = tmp_data_location + '/captions.txt'\n"
   ]
  },
  {
   "cell_type": "code",
   "execution_count": 12,
   "id": "4adf4c8b",
   "metadata": {},
   "outputs": [],
   "source": [
    "\n",
    "# print_time('\\n ------------------------ \\n started unzipping dataset')\n",
    "\n",
    "# unzip_file_to_dir(path_to_zip_file, tmp_data_location)\n",
    "\n",
    "# print_time('\\n ------------------------ \\n finished unzipping dataset')\n",
    "\n",
    "\n",
    "# copyfile(caption_file, tmp_caption_file)\n",
    "# copyfile(train_annotation_file, tmp_train_annotation_file)\n",
    "# copyfile(val_annotation_file, tmp_val_annotation_file)\n",
    "# copyfile(test_annotation_file, tmp_test_annotation_file)\n"
   ]
  },
  {
   "cell_type": "markdown",
   "id": "5d1e7cfd",
   "metadata": {},
   "source": [
    "# Image Captioning With Attention - Pytorch"
   ]
  },
  {
   "cell_type": "code",
   "execution_count": 13,
   "id": "e5cc0bba",
   "metadata": {},
   "outputs": [],
   "source": [
    "# BATCH_SIZE = 5\n",
    "NUM_WORKER = 2 #### this needs multi-core\n",
    "freq_threshold = 5\n",
    "# 30 minutes to create those, as it's baseline, i ran it several times and it's the same\n",
    "vocab = Vocabulary(freq_threshold)\n",
    "vocab.stoi = {'<PAD>': 0, '<SOS>': 1, '<EOS>': 2, '<UNK>': 3, 'g': 4, 'v': 5, 'b': 6, 'cross': 7, 'lion': 8, 'passt': 9, 's': 10, 'a': 11, 'eagle': 12, 'o': 13, 'doubleheaded': 14, \"'s\": 15, 'head': 16, 'patonce': 17, 'moline': 18, 'guard': 19, 'rampant': 20}\n",
    "vocab.itos = {0: '<PAD>', 1: '<SOS>', 2: '<EOS>', 3: '<UNK>', 4: 'g', 5: 'v', 6: 'b', 7: 'cross', 8: 'lion', 9: 'passt', 10: 's', 11: 'a', 12: 'eagle', 13: 'o', 14: 'doubleheaded', 15: \"'s\", 16: 'head', 17: 'patonce', 18: 'moline', 19: 'guard', 20: 'rampant'}\n",
    "   "
   ]
  },
  {
   "cell_type": "markdown",
   "id": "24d3afbe",
   "metadata": {},
   "source": [
    "## Calcualte the mean and std of training dataset\n",
    "\n",
    "https://deeplizard.com/learn/video/lu7TCu7HeYc\n",
    "\n",
    "https://discuss.pytorch.org/t/understanding-transform-normalize/21730"
   ]
  },
  {
   "cell_type": "code",
   "execution_count": 14,
   "id": "74295564",
   "metadata": {},
   "outputs": [
    {
     "name": "stdout",
     "output_type": "stream",
     "text": [
      "\n",
      " ------------------------ \n",
      " before DataLoader @ Time = 11:50:58\n",
      "\n",
      "  _     ._   __/__   _ _  _  _ _/_   Recorded: 11:50:58  Samples:  33065\n",
      " /_//_/// /_\\ / //_// / //_'/ //     Duration: 59.404    CPU time: 72.567\n",
      "/   _/                      v4.1.1\n",
      "\n",
      "Program: /home/salnabulsi/.thesis-py38/lib/python3.8/site-packages/ipykernel_launcher.py -f /home/salnabulsi/.local/share/jupyter/runtime/kernel-4eefba2e-26e5-4ed0-b4e9-861bff59f4ce.json\n",
      "\n",
      "59.404 run_ast_nodes  IPython/core/interactiveshell.py:3252\n",
      "└─ 59.403 run_code  IPython/core/interactiveshell.py:3403\n",
      "   └─ 59.403 <module>  ../../../tmp/ipykernel_3024131/3773756206.py:5\n",
      "      └─ 59.403 get_loader  src/baseline/data_loader.py:11\n",
      "         └─ 59.403 __init__  src/baseline/coa_dataset.py:15\n",
      "            └─ 59.382 load_images  src/baseline/coa_dataset.py:37\n",
      "               ├─ 25.051 __call__  torchvision/transforms/transforms.py:90\n",
      "               │     [72 frames hidden]  torchvision, <built-in>, PIL\n",
      "               ├─ 24.651 convert  PIL/Image.py:873\n",
      "               │     [46 frames hidden]  PIL, <built-in>\n",
      "               │        23.480 ImagingDecoder.decode  <built-in>:0\n",
      "               └─ 9.327 open  PIL/Image.py:2925\n",
      "                     [31 frames hidden]  PIL, <built-in>\n",
      "\n",
      "\n",
      "\n",
      " ------------------------ \n",
      " after DataLoader @ Time = 11:51:59\n"
     ]
    }
   ],
   "source": [
    "\n",
    "print_time('\\n ------------------------ \\n before DataLoader')\n",
    "profiler = Profiler(async_mode='disabled')\n",
    "\n",
    "profiler.start()\n",
    "train_loader, train_dataset = get_loader(\n",
    "    root_folder=root_folder_images,\n",
    "    annotation_file=train_annotation_file,\n",
    "    transform=None,  # <=======================\n",
    "    num_workers=NUM_WORKER,\n",
    "    vocab=vocab,\n",
    "    batch_size=256,\n",
    "    device=device,\n",
    "    pin_memory=False\n",
    ")\n",
    "\n",
    "profiler.stop()\n",
    "\n",
    "profiler.print()\n",
    "\n",
    "print_time('\\n ------------------------ \\n after DataLoader')"
   ]
  },
  {
   "cell_type": "code",
   "execution_count": 15,
   "id": "173f61ac",
   "metadata": {},
   "outputs": [],
   "source": [
    "# def get_m(loader):\n",
    "#     mean = 0.\n",
    "#     std = 0.\n",
    "#     for images, _ in loader:\n",
    "#         batch_samples = images.size(0) # batch size (the last batch can have smaller size!)\n",
    "#         images = images.view(batch_samples, images.size(1), -1)\n",
    "#         mean += images.mean(2).sum(0)\n",
    "#         std += images.std(2).sum(0)\n",
    "\n",
    "#     mean /= len(loader.dataset)\n",
    "#     std /= len(loader.dataset)\n",
    "    \n",
    "#     return mean, std"
   ]
  },
  {
   "cell_type": "code",
   "execution_count": 16,
   "id": "88ed54bf",
   "metadata": {},
   "outputs": [],
   "source": [
    "# print_time('before')\n",
    "# mean, std = get_m(train_loader )\n",
    "# print('mean, std:', mean, std)\n",
    "# print_time('after')\n"
   ]
  },
  {
   "cell_type": "code",
   "execution_count": 17,
   "id": "6722cc45",
   "metadata": {},
   "outputs": [
    {
     "name": "stdout",
     "output_type": "stream",
     "text": [
      "\n",
      " ------------------------ \n",
      " before get_mean_std @ Time = 11:52:02\n",
      "mean, std: tensor(0.8607) tensor(1.1650)\n",
      "\n",
      "  _     ._   __/__   _ _  _  _ _/_   Recorded: 11:50:58  Samples:  33425\n",
      " /_//_/// /_\\ / //_// / //_'/ //     Duration: 129.172   CPU time: 122.976\n",
      "/   _/                      v4.1.1\n",
      "\n",
      "Program: /home/salnabulsi/.thesis-py38/lib/python3.8/site-packages/ipykernel_launcher.py -f /home/salnabulsi/.local/share/jupyter/runtime/kernel-4eefba2e-26e5-4ed0-b4e9-861bff59f4ce.json\n",
      "\n",
      "129.171 run_ast_nodes  IPython/core/interactiveshell.py:3252\n",
      "└─ 129.170 run_code  IPython/core/interactiveshell.py:3403\n",
      "   ├─ 69.740 <module>  ../../../tmp/ipykernel_3024131/2842918350.py:4\n",
      "   │  └─ 69.734 get_mean_std  src/baseline/data_loader.py:52\n",
      "   │     ├─ 23.374 [self]  \n",
      "   │     ├─ 20.525 __next__  torch/utils/data/dataloader.py:517\n",
      "   │     │     [139 frames hidden]  torch, multiprocessing, selectors, <b...\n",
      "   │     ├─ 13.431 Tensor.pow  <built-in>:0\n",
      "   │     │     [2 frames hidden]  <built-in>\n",
      "   │     ├─ 10.530 Tensor.sum  <built-in>:0\n",
      "   │     │     [2 frames hidden]  <built-in>\n",
      "   │     └─ 1.870 __iter__  torch/utils/data/dataloader.py:346\n",
      "   │           [68 frames hidden]  torch, multiprocessing, <built-in>, i...\n",
      "   └─ 59.403 <module>  ../../../tmp/ipykernel_3024131/3773756206.py:5\n",
      "      └─ 59.403 get_loader  src/baseline/data_loader.py:11\n",
      "         └─ 59.403 __init__  src/baseline/coa_dataset.py:15\n",
      "            └─ 59.382 load_images  src/baseline/coa_dataset.py:37\n",
      "               ├─ 25.051 __call__  torchvision/transforms/transforms.py:90\n",
      "               │     [72 frames hidden]  torchvision, <built-in>, PIL\n",
      "               ├─ 24.651 convert  PIL/Image.py:873\n",
      "               │     [46 frames hidden]  PIL, <built-in>\n",
      "               └─ 9.327 open  PIL/Image.py:2925\n",
      "                     [31 frames hidden]  PIL, <built-in>\n",
      "\n",
      "\n",
      "\n",
      " ------------------------ \n",
      " after get_mean_std @ Time = 11:53:14\n"
     ]
    }
   ],
   "source": [
    "print_time('\\n ------------------------ \\n before get_mean_std')\n",
    "\n",
    "profiler.start()\n",
    "mean, std = get_mean_std(train_dataset, train_loader, 500 , 500)\n",
    "print('mean, std:', mean, std)\n",
    "profiler.stop()\n",
    "\n",
    "profiler.print()\n",
    "\n",
    "print_time('\\n ------------------------ \\n after get_mean_std')\n"
   ]
  },
  {
   "cell_type": "code",
   "execution_count": 18,
   "id": "7a51a352",
   "metadata": {},
   "outputs": [],
   "source": [
    "#defining the transform to be applied\n",
    "\n",
    "transform = T.Compose([\n",
    "    T.Resize(226),                     \n",
    "    T.RandomCrop(224),                 \n",
    "    T.ToTensor(),                               \n",
    "    T.Normalize(mean, std) \n",
    "])\n"
   ]
  },
  {
   "cell_type": "code",
   "execution_count": 19,
   "id": "d3e2222f",
   "metadata": {},
   "outputs": [
    {
     "name": "stdout",
     "output_type": "stream",
     "text": [
      "writing the dataloader @ Time = 11:53:15\n",
      "finished writing the dataloader @ Time = 11:54:49\n"
     ]
    }
   ],
   "source": [
    "#Initiate the Dataset and Dataloader\n",
    "BATCH_SIZE = 518\n",
    "\n",
    "print_time('writing the dataloader')\n",
    "\n",
    "train_loader, val_loader, test_loader, train_dataset, val_dataset, test_dataset = get_loaders(\n",
    "    root_folder=root_folder_images,\n",
    "    train_annotation_file=train_annotation_file,\n",
    "    val_annotation_file=val_annotation_file,\n",
    "    test_annotation_file=test_annotation_file,\n",
    "    transform=transform,\n",
    "    num_workers=NUM_WORKER,\n",
    "    vocab=vocab,\n",
    "    batch_size=BATCH_SIZE,\n",
    "    device=device,\n",
    "    pin_memory=False\n",
    ")\n",
    "len(train_loader), len(val_loader), len(test_loader), len(train_dataset), len(val_dataset), len(test_dataset)\n",
    "print_time('finished writing the dataloader')"
   ]
  },
  {
   "cell_type": "code",
   "execution_count": 20,
   "id": "bc829f4c",
   "metadata": {},
   "outputs": [
    {
     "data": {
      "text/plain": [
       "{'<PAD>': 0,\n",
       " '<SOS>': 1,\n",
       " '<EOS>': 2,\n",
       " '<UNK>': 3,\n",
       " 'g': 4,\n",
       " 'v': 5,\n",
       " 'b': 6,\n",
       " 'cross': 7,\n",
       " 'lion': 8,\n",
       " 'passt': 9,\n",
       " 's': 10,\n",
       " 'a': 11,\n",
       " 'eagle': 12,\n",
       " 'o': 13,\n",
       " 'doubleheaded': 14,\n",
       " \"'s\": 15,\n",
       " 'head': 16,\n",
       " 'patonce': 17,\n",
       " 'moline': 18,\n",
       " 'guard': 19,\n",
       " 'rampant': 20}"
      ]
     },
     "execution_count": 20,
     "metadata": {},
     "output_type": "execute_result"
    }
   ],
   "source": [
    "train_dataset.vocab.stoi"
   ]
  },
  {
   "cell_type": "markdown",
   "id": "83bb6b3a",
   "metadata": {},
   "source": [
    "# Defining the Model Architecture\n",
    "\n",
    "Model is seq2seq model. In the **encoder** pretrained ResNet model is used to extract the features. Decoder, is the implementation of the Bahdanau Attention Decoder. In the decoder model **LSTM cell**."
   ]
  },
  {
   "cell_type": "markdown",
   "id": "332143d9",
   "metadata": {},
   "source": [
    "https://blog.floydhub.com/attention-mechanism/"
   ]
  },
  {
   "cell_type": "markdown",
   "id": "d939ae8d",
   "metadata": {},
   "source": [
    "https://machinelearningmastery.com/develop-a-deep-learning-caption-generation-model-in-python/\n",
    "    "
   ]
  },
  {
   "cell_type": "markdown",
   "id": "5808f315",
   "metadata": {},
   "source": [
    "### Setting Hypperparameter and Init the model"
   ]
  },
  {
   "cell_type": "code",
   "execution_count": 21,
   "id": "47a69030",
   "metadata": {},
   "outputs": [],
   "source": [
    "#Hyperparams\n",
    "embed_size=300\n",
    "vocab_size = len(train_dataset.vocab)\n",
    "attention_dim=256\n",
    "encoder_dim=2048\n",
    "decoder_dim=512\n",
    "learning_rate = 3e-4\n",
    "drop_prob=0.3\n",
    "ignored_idx = train_dataset.vocab.stoi[\"<PAD>\"]\n",
    "\n",
    "hyper_params = {'embed_size': embed_size,\n",
    "                'attention_dim': attention_dim,\n",
    "                'encoder_dim': encoder_dim,\n",
    "                'decoder_dim': decoder_dim,\n",
    "                'vocap_size': vocab_size\n",
    "              }\n",
    "#initialize new model, loss etc\n",
    "model, optimizer, criterion = get_new_model(embed_size, vocab_size, attention_dim, encoder_dim,\n",
    "                                            decoder_dim, learning_rate,drop_prob,ignored_idx, device)"
   ]
  },
  {
   "cell_type": "markdown",
   "id": "781b80e8",
   "metadata": {},
   "source": [
    "## Training Job from above configs"
   ]
  },
  {
   "cell_type": "code",
   "execution_count": 22,
   "id": "53074260",
   "metadata": {},
   "outputs": [],
   "source": [
    "!export CUDA_LAUNCH_BLOCKING=1\n",
    "!export CUDA_VISIBLE_DEVICES=2"
   ]
  },
  {
   "cell_type": "markdown",
   "id": "54b47431",
   "metadata": {},
   "source": [
    "## Train the Model using Early Stopping\n"
   ]
  },
  {
   "cell_type": "code",
   "execution_count": 23,
   "id": "f1552fa2",
   "metadata": {},
   "outputs": [
    {
     "name": "stdout",
     "output_type": "stream",
     "text": [
      "device is cuda\n"
     ]
    },
    {
     "name": "stderr",
     "output_type": "stream",
     "text": [
      "Epoch 1: 100%|██████████████████████| 13/13 [00:17<00:00,  1.31s/batch, Train loss (in progress)=1.4]\n",
      "/home/salnabulsi/.thesis-py38/lib/python3.8/site-packages/nltk/translate/bleu_score.py:515: UserWarning: \n",
      "The hypothesis contains 0 counts of 2-gram overlaps.\n",
      "Therefore the BLEU score evaluates to 0, independently of\n",
      "how many N-gram overlaps of lower order it contains.\n",
      "Consider using lower n-gram order or use SmoothingFunction()\n",
      "  warnings.warn(_msg)\n"
     ]
    },
    {
     "name": "stdout",
     "output_type": "stream",
     "text": [
      "[1/5] train_loss: 2.02507 , valid_loss: 1.40396 , accuracy: 0.50000\n",
      "Accuracy increased (0.000000 --> 0.500000).  Saving model ...\n"
     ]
    },
    {
     "name": "stderr",
     "output_type": "stream",
     "text": [
      "Epoch 2: 100%|████████████████████| 13/13 [00:17<00:00,  1.32s/batch, Train loss (in progress)=0.725]\n"
     ]
    },
    {
     "name": "stdout",
     "output_type": "stream",
     "text": [
      "[2/5] train_loss: 0.98447 , valid_loss: 0.75940 , accuracy: 0.76800\n",
      "Accuracy increased (0.500000 --> 0.768000).  Saving model ...\n"
     ]
    },
    {
     "name": "stderr",
     "output_type": "stream",
     "text": [
      "Epoch 3: 100%|█████████████████████| 13/13 [00:16<00:00,  1.30s/batch, Train loss (in progress)=0.42]\n"
     ]
    },
    {
     "name": "stdout",
     "output_type": "stream",
     "text": [
      "[3/5] train_loss: 0.53864 , valid_loss: 0.42185 , accuracy: 0.93300\n",
      "Accuracy increased (0.768000 --> 0.933000).  Saving model ...\n"
     ]
    },
    {
     "name": "stderr",
     "output_type": "stream",
     "text": [
      "Epoch 4: 100%|████████████████████| 13/13 [00:17<00:00,  1.32s/batch, Train loss (in progress)=0.291]\n"
     ]
    },
    {
     "name": "stdout",
     "output_type": "stream",
     "text": [
      "[4/5] train_loss: 0.33678 , valid_loss: 0.26932 , accuracy: 1.00000\n",
      "Accuracy increased (0.933000 --> 1.000000).  Saving model ...\n"
     ]
    },
    {
     "name": "stderr",
     "output_type": "stream",
     "text": [
      "Epoch 5: 100%|████████████████████| 13/13 [00:17<00:00,  1.32s/batch, Train loss (in progress)=0.193]\n"
     ]
    },
    {
     "name": "stdout",
     "output_type": "stream",
     "text": [
      "[5/5] train_loss: 0.23048 , valid_loss: 0.19535 , accuracy: 0.96700\n",
      "EarlyStopping counter: 1 out of 3\n"
     ]
    }
   ],
   "source": [
    "\n",
    "batch_size = 256\n",
    "n_epochs = 5\n",
    "\n",
    "# early stopping patience; how long to wait after last time validation loss improved.\n",
    "patience = 3\n",
    "device = torch.device(\"cuda\" if torch.cuda.is_available() else \"cpu\")\n",
    "print(f'device is {device}')\n",
    "\n",
    "model, train_loss, valid_loss, avg_acc, bleu_score = train_model(model, optimizer, criterion, train_loader, val_loader, val_dataset, vocab_size, batch_size, patience, n_epochs, device)\n"
   ]
  },
  {
   "cell_type": "code",
   "execution_count": 28,
   "id": "2cf47557",
   "metadata": {},
   "outputs": [
    {
     "data": {
      "image/png": "[encoded data removed]",
      "text/plain": [
       "<Figure size 432x288 with 1 Axes>"
      ]
     },
     "metadata": {
      "needs_background": "light"
     },
     "output_type": "display_data"
    },
    {
     "data": {
      "image/png": "[encoded data removed]",
      "text/plain": [
       "<Figure size 432x288 with 1 Axes>"
      ]
     },
     "metadata": {
      "needs_background": "light"
     },
     "output_type": "display_data"
    },
    {
     "data": {
      "image/png": "[encoded data removed]",
      "text/plain": [
       "<Figure size 432x288 with 1 Axes>"
      ]
     },
     "metadata": {
      "needs_background": "light"
     },
     "output_type": "display_data"
    }
   ],
   "source": [
    "plt.plot(train_loss)\n",
    "plt.xlabel(\"Iteration\")\n",
    "plt.ylabel(\"Train loss\")\n",
    "plt.show()\n",
    "\n",
    "plt.plot(valid_loss)\n",
    "plt.xlabel(\"Iteration\")\n",
    "plt.ylabel(\"Validation loss\")\n",
    "plt.show()\n",
    "\n",
    "plt.plot(avg_acc)\n",
    "plt.xlabel(\"Iteration\")\n",
    "plt.ylabel(\"Accuracy\")\n",
    "plt.show()"
   ]
  },
  {
   "cell_type": "markdown",
   "id": "8687a206",
   "metadata": {},
   "source": [
    "## Visualizing the Accuracy (and loss) and the Early Stopping Checkpoint\n"
   ]
  },
  {
   "cell_type": "code",
   "execution_count": 41,
   "id": "92731be7",
   "metadata": {},
   "outputs": [
    {
     "data": {
      "image/png": "[encoded data removed]",
      "text/plain": [
       "<Figure size 720x576 with 1 Axes>"
      ]
     },
     "metadata": {
      "needs_background": "light"
     },
     "output_type": "display_data"
    }
   ],
   "source": [
    "# visualize the loss as the network trained\n",
    "fig = plt.figure(figsize=(10,8))\n",
    "plt.plot(range(1,len(train_loss)+1),train_loss, label='Training Loss')\n",
    "\n",
    "# valid_loss_arr = list_of_tensors_to_numpy_arr(valid_loss)\n",
    "plt.plot(range(1,len(valid_loss)+1),valid_loss, label='Validation Loss')\n",
    "\n",
    "# find position of lowest validation loss\n",
    "# minposs = valid_loss.index(min(valid_loss))+1 \n",
    "# plt.axvline(minposs, linestyle='--', color='r',label='Early Stopping Checkpoint')\n",
    "\n",
    "# find position of lowest validation loss\n",
    "maxposs = avg_acc.index(max(avg_acc))-1 \n",
    "plt.axvline(maxposs, linestyle='--', color='r',label='Early Stopping Checkpoint - Accuracy')\n",
    "\n",
    "plt.plot(range(1,len(avg_acc)+1),avg_acc,label='Accuracy')\n",
    "\n",
    "plt.xlabel('epochs')\n",
    "plt.ylabel('loss')\n",
    "# plt.ylim(0, 0.5) # consistent scale\n",
    "# plt.xlim(0, len(train_loss)+1) # consistent scale\n",
    "plt.grid(True)\n",
    "plt.legend()\n",
    "plt.tight_layout()\n",
    "\n",
    "plt.show()\n",
    "fig.savefig('loss_plot.png', bbox_inches='tight')\n"
   ]
  },
  {
   "cell_type": "markdown",
   "id": "1927f99b",
   "metadata": {},
   "source": [
    "##  Visualizing the attentions\n",
    "Defining helper functions\n",
    "<li>Given the image generate captions and attention scores</li>\n",
    "<li>Plot the attention scores in the image</li>"
   ]
  },
  {
   "cell_type": "code",
   "execution_count": 42,
   "id": "064b8fcf",
   "metadata": {},
   "outputs": [],
   "source": [
    "#generate caption\n",
    "def get_caps_from(model, features_tensors):\n",
    "    #generate the caption\n",
    "    model.eval()\n",
    "    with torch.no_grad():\n",
    "        features = model.encoder(features_tensors.to(device))\n",
    "        caps,alphas = model.decoder.generate_caption(features,vocab=test_dataset.vocab)\n",
    "        caption = ' '.join(caps)\n",
    "        show_image(features_tensors[0],title=caption)\n",
    "    \n",
    "    return caps,alphas\n",
    "#Show attention\n",
    "def plot_attention(img, result, attention_plot):\n",
    "    #untransform\n",
    "    img[0] = img[0] * 0.229\n",
    "    img[1] = img[1] * 0.224 \n",
    "    img[2] = img[2] * 0.225 \n",
    "    img[0] += 0.485 \n",
    "    img[1] += 0.456 \n",
    "    img[2] += 0.406\n",
    "    \n",
    "    img = img.numpy().transpose((1, 2, 0))\n",
    "    temp_image = img\n",
    "\n",
    "    fig = plt.figure(figsize=(15, 15))\n",
    "\n",
    "    len_result = len(result)\n",
    "    for l in range(len_result):\n",
    "        temp_att = attention_plot[l].reshape(7,7)\n",
    "        \n",
    "        ax = fig.add_subplot(len_result//2,len_result//2, l+1)\n",
    "        ax.set_title(result[l])\n",
    "        img = ax.imshow(temp_image)\n",
    "        ax.imshow(temp_att, cmap='gray', alpha=0.7, extent=img.get_extent())\n",
    "        \n",
    "\n",
    "    plt.tight_layout()\n",
    "    plt.show()\n",
    "    \n",
    "def test_rand_image(model, test_loader):\n",
    "    dataiter = iter(test_loader)\n",
    "    images,_ = next(dataiter)\n",
    "\n",
    "    img = images[0].detach().clone()\n",
    "    img1 = images[0].detach().clone()\n",
    "    caps,alphas = get_caps_from(model, img.unsqueeze(0))\n",
    "\n",
    "    plot_attention(img1, caps, alphas)\n",
    "\n",
    "    #show the tensor image\n",
    "def show_image(img, title=None):\n",
    "    \"\"\"Imshow for Tensor.\"\"\"\n",
    "    \n",
    "    #unnormalize \n",
    "    img[0] = img[0] * 0.229\n",
    "    img[1] = img[1] * 0.224 \n",
    "    img[2] = img[2] * 0.225 \n",
    "    img[0] += 0.485 \n",
    "    img[1] += 0.456 \n",
    "    img[2] += 0.406\n",
    "    \n",
    "    img = img.numpy().transpose((1, 2, 0))\n",
    "      \n",
    "    plt.imshow(img)\n",
    "    if title is not None:\n",
    "        plt.title(title)\n",
    "    plt.pause(0.001)  # pause a bit so that plots are updated\n"
   ]
  },
  {
   "cell_type": "code",
   "execution_count": null,
   "id": "ebe98616",
   "metadata": {},
   "outputs": [],
   "source": [
    "# torch.cuda.empty_cache()\n",
    "\n",
    "# model_path = '/home/space/datasets/COA/models/baseline/attention_model_state.pth'\n",
    "# local_model_path = 'simple-model.pth'\n",
    "# model = load_model(local_model_path)\n",
    "test_rand_image(model,test_loader)"
   ]
  },
  {
   "cell_type": "code",
   "execution_count": null,
   "id": "4619980c",
   "metadata": {},
   "outputs": [],
   "source": []
  }
 ],
 "metadata": {
  "kernelspec": {
   "display_name": "Python 3 (ipykernel)",
   "language": "python",
   "name": "python3"
  },
  "language_info": {
   "codemirror_mode": {
    "name": "ipython",
    "version": 3
   },
   "file_extension": ".py",
   "mimetype": "text/x-python",
   "name": "python",
   "nbconvert_exporter": "python",
   "pygments_lexer": "ipython3",
   "version": "3.8.10"
  }
 },
 "nbformat": 4,
 "nbformat_minor": 5
}
