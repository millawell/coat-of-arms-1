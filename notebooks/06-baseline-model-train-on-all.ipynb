{
 "cells": [
  {
   "cell_type": "code",
   "execution_count": 1,
   "id": "e5cdbcf3",
   "metadata": {},
   "outputs": [],
   "source": [
    "# auto-load when code changes outside\n",
    "%load_ext autoreload\n",
    "%autoreload 2\n",
    "\n",
    "import sys\n",
    "sys.path.insert(0,'..')\n"
   ]
  },
  {
   "cell_type": "code",
   "execution_count": 2,
   "id": "12fa6a61",
   "metadata": {},
   "outputs": [],
   "source": [
    "#imports \n",
    "import os\n",
    "import nltk\n",
    "import spacy\n",
    "import numpy as np\n",
    "import pandas as pd\n",
    "import torch\n",
    "import torch.nn as nn\n",
    "import torch.onnx as onnx\n",
    "import torch.optim as optim\n",
    "import torchvision.models as models\n",
    "import torchvision.transforms as T\n",
    "import matplotlib.pyplot as plt\n",
    "import matplotlib.image as mpimg\n",
    "\n",
    "from torch.utils.data import DataLoader,Dataset\n",
    "from PIL import Image\n",
    "from datetime import datetime\n",
    "from tqdm import tqdm\n",
    "from time import sleep\n",
    "\n",
    "from src.baseline.vocabulary import Vocabulary\n",
    "from src.baseline.data_loader import get_loader, get_loaders, get_mean_std\n",
    "from src.baseline.coa_model import save_model, get_new_model, validate_model, train_validate_test_split, print_time\n",
    "\n",
    "# torch.cuda.empty_cache()\n"
   ]
  },
  {
   "cell_type": "markdown",
   "id": "814ad5d2",
   "metadata": {},
   "source": [
    "## Torch data-loader\n",
    "https://www.kaggle.com/mdteach/torch-data-loader-flicker-8k"
   ]
  },
  {
   "cell_type": "markdown",
   "id": "587ed02f",
   "metadata": {},
   "source": [
    "# Split Data into Training/Test datasets "
   ]
  },
  {
   "cell_type": "code",
   "execution_count": 23,
   "id": "c61fc8d4",
   "metadata": {},
   "outputs": [
    {
     "name": "stdout",
     "output_type": "stream",
     "text": [
      "There are 10692 total images\n",
      "There are 6415 train images\n",
      "There are 2138 val images\n",
      "There are 2139 test images\n"
     ]
    }
   ],
   "source": [
    "\n",
    "data_location = '/home/space/datasets/COA/generated-data-api'\n",
    "# data_location =  '/home/space/datasets/COA/generated-data-api-small'\n",
    "# data_location =  '../generated-data-api-small'\n",
    "caption_file = data_location + '/captions.txt'\n",
    "root_folder_images = data_location + '/images'\n",
    "df = pd.read_csv(caption_file)\n",
    "\n",
    "train, validate, test = train_validate_test_split(df, train_percent=.6, validate_percent=.2, seed=None)\n",
    "\n",
    "\n",
    "train_annotation_file = data_location + '/train_captions.txt'\n",
    "val_annotation_file  = data_location + '/val_captions.txt'\n",
    "test_annotation_file  = data_location + '/test_captions.txt'\n",
    "\n",
    "train.to_csv(train_annotation_file, sep=',',index=False)\n",
    "test.to_csv(test_annotation_file, sep=',',index=False)\n",
    "validate.to_csv(val_annotation_file, sep=',',index=False)\n",
    "\n",
    "\n",
    "print(\"There are {} total images\".format(len(df)))\n",
    "\n",
    "caption_file = data_location + '/train_captions.txt'\n",
    "df1 = pd.read_csv(caption_file)\n",
    "print(\"There are {} train images\".format(len(df1)))\n",
    "\n",
    "caption_file = data_location + '/val_captions.txt'\n",
    "df2 = pd.read_csv(caption_file)\n",
    "print(\"There are {} val images\".format(len(df2)))\n",
    "\n",
    "caption_file = data_location + '/test_captions.txt'\n",
    "df3 = pd.read_csv(caption_file)\n",
    "print(\"There are {} test images\".format(len(df3)))"
   ]
  },
  {
   "cell_type": "code",
   "execution_count": 24,
   "id": "e779ff1a",
   "metadata": {
    "scrolled": false
   },
   "outputs": [
    {
     "name": "stdout",
     "output_type": "stream",
     "text": [
      "Caption: image_2.png A A lion rampant\n",
      "(500, 500, 4)\n"
     ]
    },
    {
     "data": {
      "image/png": "[encoded data removed]",
      "text/plain": [
       "<Figure size 432x288 with 1 Axes>"
      ]
     },
     "metadata": {
      "needs_background": "light"
     },
     "output_type": "display_data"
    }
   ],
   "source": [
    "for i in range(1, 2):\n",
    "    image_path = data_location + '/images/'+ df.iloc[i,0]\n",
    "    print(\"Caption:\", df.iloc[i,0], df.iloc[i,1])\n",
    "    img=mpimg.imread(image_path)\n",
    "    print(img.shape)\n",
    "    plt.imshow(img)\n",
    "    plt.show()\n"
   ]
  },
  {
   "cell_type": "code",
   "execution_count": 25,
   "id": "25fd47a2",
   "metadata": {},
   "outputs": [],
   "source": [
    "!export CUDA_VISIBLE_DEVICES=0\n",
    "!export CUDA_LAUNCH_BLOCKING=1"
   ]
  },
  {
   "cell_type": "code",
   "execution_count": 19,
   "id": "cf67d490",
   "metadata": {},
   "outputs": [
    {
     "data": {
      "text/plain": [
       "device(type='cuda', index=0)"
      ]
     },
     "execution_count": 19,
     "metadata": {},
     "output_type": "execute_result"
    }
   ],
   "source": [
    "# device = torch.device(\"cuda:0\" if torch.cuda.is_available() else \"cpu\")\n",
    "device = torch.device(\"cuda:0\" if torch.cuda.is_available() else \"cpu\")\n",
    "# device = torch.device(\"cpu\")\n",
    "\n",
    "device"
   ]
  },
  {
   "cell_type": "code",
   "execution_count": 7,
   "id": "0a13d222",
   "metadata": {},
   "outputs": [
    {
     "data": {
      "text/plain": [
       "'Tesla P100-PCIE-12GB'"
      ]
     },
     "execution_count": 7,
     "metadata": {},
     "output_type": "execute_result"
    }
   ],
   "source": [
    "torch.cuda.get_device_name(0)"
   ]
  },
  {
   "cell_type": "code",
   "execution_count": null,
   "id": "f8bbb754",
   "metadata": {},
   "outputs": [],
   "source": [
    "import gc\n",
    "\n",
    "gc.collect()\n",
    "\n",
    "torch.cuda.empty_cache()\n"
   ]
  },
  {
   "cell_type": "code",
   "execution_count": null,
   "id": "d3b51731",
   "metadata": {},
   "outputs": [],
   "source": [
    "import torch.multiprocessing as mp\n",
    "\n",
    "mp.set_start_method('spawn')"
   ]
  },
  {
   "cell_type": "markdown",
   "id": "5d1e7cfd",
   "metadata": {},
   "source": [
    "# Image Captioning With Attention - Pytorch"
   ]
  },
  {
   "cell_type": "code",
   "execution_count": 8,
   "id": "e5cc0bba",
   "metadata": {},
   "outputs": [],
   "source": [
    "#setting the constants\n",
    "BATCH_SIZE = 128\n",
    "# BATCH_SIZE = 5\n",
    "NUM_WORKER = 1 #### this needs multi-core\n",
    "freq_threshold = 5\n",
    "# 30 minutes to create those, as it's baseline, i ran it several times and it's the same\n",
    "vocab = Vocabulary(freq_threshold)\n",
    "vocab.stoi = {'<PAD>': 0, '<SOS>': 1, '<EOS>': 2, '<UNK>': 3, 'g': 4, 'v': 5, 'b': 6, 'cross': 7, 'lion': 8, 'passt': 9, 's': 10, 'a': 11, 'eagle': 12, 'o': 13, 'doubleheaded': 14, \"'s\": 15, 'head': 16, 'patonce': 17, 'moline': 18, 'guard': 19, 'rampant': 20}\n",
    "vocab.itos = {0: '<PAD>', 1: '<SOS>', 2: '<EOS>', 3: '<UNK>', 4: 'g', 5: 'v', 6: 'b', 7: 'cross', 8: 'lion', 9: 'passt', 10: 's', 11: 'a', 12: 'eagle', 13: 'o', 14: 'doubleheaded', 15: \"'s\", 16: 'head', 17: 'patonce', 18: 'moline', 19: 'guard', 20: 'rampant'}\n",
    "        "
   ]
  },
  {
   "cell_type": "markdown",
   "id": "24d3afbe",
   "metadata": {},
   "source": [
    "## Calcualte the mean and std of training dataset\n",
    "\n",
    "https://deeplizard.com/learn/video/lu7TCu7HeYc\n",
    "\n",
    "https://discuss.pytorch.org/t/understanding-transform-normalize/21730"
   ]
  },
  {
   "cell_type": "code",
   "execution_count": 20,
   "id": "173f61ac",
   "metadata": {},
   "outputs": [],
   "source": [
    "def get_m(loader):\n",
    "    mean = 0.\n",
    "    std = 0.\n",
    "    for images, _ in loader:\n",
    "        batch_samples = images.size(0) # batch size (the last batch can have smaller size!)\n",
    "        images = images.view(batch_samples, images.size(1), -1)\n",
    "        mean += images.mean(2).sum(0)\n",
    "        std += images.std(2).sum(0)\n",
    "\n",
    "    mean /= len(loader.dataset)\n",
    "    std /= len(loader.dataset)\n",
    "    \n",
    "    return mean, std"
   ]
  },
  {
   "cell_type": "code",
   "execution_count": 28,
   "id": "74295564",
   "metadata": {},
   "outputs": [
    {
     "name": "stdout",
     "output_type": "stream",
     "text": [
      "before @ Time = 14:46:04\n"
     ]
    },
    {
     "ename": "AttributeError",
     "evalue": "'str' object has no attribute 'mkdir'",
     "output_type": "error",
     "traceback": [
      "\u001b[0;31m---------------------------------------------------------------------------\u001b[0m",
      "\u001b[0;31mAttributeError\u001b[0m                            Traceback (most recent call last)",
      "\u001b[0;32m/tmp/ipykernel_2637249/2323195864.py\u001b[0m in \u001b[0;36m<module>\u001b[0;34m\u001b[0m\n\u001b[1;32m      3\u001b[0m \u001b[0mprint_time\u001b[0m\u001b[0;34m(\u001b[0m\u001b[0;34m'before'\u001b[0m\u001b[0;34m)\u001b[0m\u001b[0;34m\u001b[0m\u001b[0;34m\u001b[0m\u001b[0m\n\u001b[1;32m      4\u001b[0m \u001b[0;34m\u001b[0m\u001b[0m\n\u001b[0;32m----> 5\u001b[0;31m train_loader, train_dataset = get_loader(\n\u001b[0m\u001b[1;32m      6\u001b[0m     \u001b[0mroot_folder\u001b[0m\u001b[0;34m=\u001b[0m\u001b[0mroot_folder_images\u001b[0m\u001b[0;34m,\u001b[0m\u001b[0;34m\u001b[0m\u001b[0;34m\u001b[0m\u001b[0m\n\u001b[1;32m      7\u001b[0m     \u001b[0mannotation_file\u001b[0m\u001b[0;34m=\u001b[0m\u001b[0mtrain_annotation_file\u001b[0m\u001b[0;34m,\u001b[0m\u001b[0;34m\u001b[0m\u001b[0;34m\u001b[0m\u001b[0m\n",
      "\u001b[0;32m~/coat-of-arms/notebooks/../src/baseline/data_loader.py\u001b[0m in \u001b[0;36mget_loader\u001b[0;34m(root_folder, annotation_file, transform, batch_size, num_workers, shuffle, pin_memory, vocab, device)\u001b[0m\n\u001b[1;32m     16\u001b[0m                          \u001b[0mtransform\u001b[0m\u001b[0;34m=\u001b[0m\u001b[0mtransform\u001b[0m\u001b[0;34m,\u001b[0m\u001b[0;34m\u001b[0m\u001b[0;34m\u001b[0m\u001b[0m\n\u001b[1;32m     17\u001b[0m                          \u001b[0mvocab\u001b[0m\u001b[0;34m=\u001b[0m\u001b[0mvocab\u001b[0m\u001b[0;34m,\u001b[0m\u001b[0;34m\u001b[0m\u001b[0;34m\u001b[0m\u001b[0m\n\u001b[0;32m---> 18\u001b[0;31m                          device=device).map(torchvision.transforms.ToTensor()).cache(td.modifiers.UpToIndex(500, td.cachers.Memory())).cache(td.modifiers.FromIndex(500, td.cachers.Pickle(\"./cache\")))\n\u001b[0m\u001b[1;32m     19\u001b[0m \u001b[0;31m#     .cache()\u001b[0m\u001b[0;34m\u001b[0m\u001b[0;34m\u001b[0m\u001b[0;34m\u001b[0m\u001b[0m\n\u001b[1;32m     20\u001b[0m \u001b[0;31m# #                         # First 1000 samples in memory\u001b[0m\u001b[0;34m\u001b[0m\u001b[0;34m\u001b[0m\u001b[0;34m\u001b[0m\u001b[0m\n",
      "\u001b[0;32m~/.local/lib/python3.8/site-packages/torchdatasets/cachers.py\u001b[0m in \u001b[0;36m__init__\u001b[0;34m(self, path, extension)\u001b[0m\n\u001b[1;32m    133\u001b[0m     \u001b[0;32mdef\u001b[0m \u001b[0m__init__\u001b[0m\u001b[0;34m(\u001b[0m\u001b[0mself\u001b[0m\u001b[0;34m,\u001b[0m \u001b[0mpath\u001b[0m\u001b[0;34m:\u001b[0m \u001b[0mpathlib\u001b[0m\u001b[0;34m.\u001b[0m\u001b[0mPath\u001b[0m\u001b[0;34m,\u001b[0m \u001b[0mextension\u001b[0m\u001b[0;34m:\u001b[0m \u001b[0mstr\u001b[0m \u001b[0;34m=\u001b[0m \u001b[0;34m\".pkl\"\u001b[0m\u001b[0;34m)\u001b[0m\u001b[0;34m:\u001b[0m\u001b[0;34m\u001b[0m\u001b[0;34m\u001b[0m\u001b[0m\n\u001b[1;32m    134\u001b[0m         \u001b[0mself\u001b[0m\u001b[0;34m.\u001b[0m\u001b[0mpath\u001b[0m \u001b[0;34m=\u001b[0m \u001b[0mpath\u001b[0m\u001b[0;34m\u001b[0m\u001b[0;34m\u001b[0m\u001b[0m\n\u001b[0;32m--> 135\u001b[0;31m         \u001b[0mself\u001b[0m\u001b[0;34m.\u001b[0m\u001b[0mpath\u001b[0m\u001b[0;34m.\u001b[0m\u001b[0mmkdir\u001b[0m\u001b[0;34m(\u001b[0m\u001b[0mparents\u001b[0m\u001b[0;34m=\u001b[0m\u001b[0;32mTrue\u001b[0m\u001b[0;34m,\u001b[0m \u001b[0mexist_ok\u001b[0m\u001b[0;34m=\u001b[0m\u001b[0;32mTrue\u001b[0m\u001b[0;34m)\u001b[0m\u001b[0;34m\u001b[0m\u001b[0;34m\u001b[0m\u001b[0m\n\u001b[0m\u001b[1;32m    136\u001b[0m         \u001b[0mself\u001b[0m\u001b[0;34m.\u001b[0m\u001b[0mextension\u001b[0m \u001b[0;34m=\u001b[0m \u001b[0mextension\u001b[0m\u001b[0;34m\u001b[0m\u001b[0;34m\u001b[0m\u001b[0m\n\u001b[1;32m    137\u001b[0m \u001b[0;34m\u001b[0m\u001b[0m\n",
      "\u001b[0;31mAttributeError\u001b[0m: 'str' object has no attribute 'mkdir'"
     ]
    }
   ],
   "source": [
    "# improved after reading https://stackoverflow.com/a/61396543 and using https://github.com/szymonmaszke/torchdatasets\n",
    "\n",
    "print_time('before')\n",
    "\n",
    "train_loader, train_dataset = get_loader(\n",
    "    root_folder=root_folder_images,\n",
    "    annotation_file=train_annotation_file,\n",
    "    transform=None,  # <=======================\n",
    "    num_workers=NUM_WORKER,\n",
    "    vocab=vocab,\n",
    "    batch_size=512,\n",
    "    device=device,\n",
    "    pin_memory=True\n",
    ")\n",
    "print_time('after')\n",
    "\n",
    "# Regular torch Dataset\n",
    "# batch 128  = 35 minutes\n",
    "# batch 512  = 15 minutes\n",
    "\n",
    "# torchdatasets  with .map(torchvision.transforms.ToTensor()).cache()\n",
    "# batch 512  = 13 minutes\n",
    "\n",
    "# torchdatasets  with using cache to ram\n",
    "# batch 512  = 15 minutes\n"
   ]
  },
  {
   "cell_type": "code",
   "execution_count": 23,
   "id": "6722cc45",
   "metadata": {},
   "outputs": [
    {
     "name": "stdout",
     "output_type": "stream",
     "text": [
      "before @ Time = 12:46:30\n",
      "mean, std: tensor(0.8587) tensor(1.1624)\n",
      "after @ Time = 12:47:53\n"
     ]
    }
   ],
   "source": [
    "print_time('before')\n",
    "mean, std = get_mean_std(train_dataset, train_loader, 500 , 500)\n",
    "print('mean, std:', mean, std)\n",
    "print_time('after')\n"
   ]
  },
  {
   "cell_type": "code",
   "execution_count": 22,
   "id": "88ed54bf",
   "metadata": {},
   "outputs": [
    {
     "name": "stdout",
     "output_type": "stream",
     "text": [
      "before @ Time = 12:45:31\n",
      "mean, std: tensor([0.2903, 0.3006, 0.2678]) tensor([0.3048, 0.3074, 0.2730])\n",
      "after @ Time = 12:46:17\n"
     ]
    }
   ],
   "source": [
    "print_time('before')\n",
    "mean, std = get_m(train_loader )\n",
    "print('mean, std:', mean, std)\n",
    "print_time('after')\n"
   ]
  },
  {
   "cell_type": "code",
   "execution_count": 38,
   "id": "7a51a352",
   "metadata": {},
   "outputs": [],
   "source": [
    "#defining the transform to be applied\n",
    "\n",
    "transform = T.Compose([\n",
    "    T.Resize(226),                     \n",
    "    T.RandomCrop(224),                 \n",
    "    T.ToTensor(),                               \n",
    "    T.Normalize(mean, std) \n",
    "])\n"
   ]
  },
  {
   "cell_type": "code",
   "execution_count": 39,
   "id": "d3e2222f",
   "metadata": {},
   "outputs": [
    {
     "data": {
      "text/plain": [
       "(2, 1, 1, 82, 27, 28)"
      ]
     },
     "execution_count": 39,
     "metadata": {},
     "output_type": "execute_result"
    }
   ],
   "source": [
    "#Initiate the Dataset and Dataloader\n",
    "BATCH_SIZE = 56\n",
    "\n",
    "# print_time('writing the dataloader')\n",
    "\n",
    "train_loader, val_loader, test_loader, train_dataset, val_dataset, test_dataset = get_loaders(\n",
    "    root_folder=root_folder_images,\n",
    "    train_annotation_file=train_annotation_file,\n",
    "    val_annotation_file=val_annotation_file,\n",
    "    test_annotation_file=test_annotation_file,\n",
    "    transform=transform,\n",
    "    num_workers=NUM_WORKER,\n",
    "    vocab=vocab,\n",
    "    batch_size=BATCH_SIZE,\n",
    "    device=device,\n",
    "    pin_memory=False\n",
    ")\n",
    "len(train_loader), len(val_loader), len(test_loader), len(train_dataset), len(val_dataset), len(test_dataset)\n",
    "# print_time('finished writing the dataloader')"
   ]
  },
  {
   "cell_type": "code",
   "execution_count": 17,
   "id": "bc829f4c",
   "metadata": {},
   "outputs": [
    {
     "data": {
      "text/plain": [
       "{'<PAD>': 0,\n",
       " '<SOS>': 1,\n",
       " '<EOS>': 2,\n",
       " '<UNK>': 3,\n",
       " 'g': 4,\n",
       " 'v': 5,\n",
       " 'b': 6,\n",
       " 'cross': 7,\n",
       " 'lion': 8,\n",
       " 'passt': 9,\n",
       " 's': 10,\n",
       " 'a': 11,\n",
       " 'eagle': 12,\n",
       " 'o': 13,\n",
       " 'doubleheaded': 14,\n",
       " \"'s\": 15,\n",
       " 'head': 16,\n",
       " 'patonce': 17,\n",
       " 'moline': 18,\n",
       " 'guard': 19,\n",
       " 'rampant': 20}"
      ]
     },
     "execution_count": 17,
     "metadata": {},
     "output_type": "execute_result"
    }
   ],
   "source": [
    "train_dataset.vocab.stoi"
   ]
  },
  {
   "cell_type": "markdown",
   "id": "83bb6b3a",
   "metadata": {},
   "source": [
    "# Defining the Model Architecture\n",
    "\n",
    "Model is seq2seq model. In the **encoder** pretrained ResNet model is used to extract the features. Decoder, is the implementation of the Bahdanau Attention Decoder. In the decoder model **LSTM cell**."
   ]
  },
  {
   "cell_type": "markdown",
   "id": "332143d9",
   "metadata": {},
   "source": [
    "https://blog.floydhub.com/attention-mechanism/"
   ]
  },
  {
   "cell_type": "markdown",
   "id": "d939ae8d",
   "metadata": {},
   "source": [
    "https://machinelearningmastery.com/develop-a-deep-learning-caption-generation-model-in-python/\n",
    "    "
   ]
  },
  {
   "cell_type": "code",
   "execution_count": 18,
   "id": "0314177a",
   "metadata": {},
   "outputs": [],
   "source": []
  },
  {
   "cell_type": "markdown",
   "id": "5808f315",
   "metadata": {},
   "source": [
    "### Setting Hypperparameter and Init the model"
   ]
  },
  {
   "cell_type": "code",
   "execution_count": 41,
   "id": "47a69030",
   "metadata": {},
   "outputs": [],
   "source": [
    "#Hyperparams\n",
    "embed_size=300\n",
    "vocab_size = len(train_dataset.vocab)\n",
    "attention_dim=256\n",
    "encoder_dim=2048\n",
    "decoder_dim=512\n",
    "learning_rate = 3e-4\n",
    "drop_prob=0.3\n",
    "ignored_idx = train_dataset.vocab.stoi[\"<PAD>\"]\n",
    "\n",
    "hyper_params = {'embed_size': embed_size,\n",
    "                'attention_dim': attention_dim,\n",
    "                'encoder_dim': encoder_dim,\n",
    "                'decoder_dim': decoder_dim,\n",
    "                'vocap_size': vocab_size\n",
    "              }\n",
    "#initialize new model, loss etc\n",
    "model, optimizer, criterion = get_new_model(embed_size, vocab_size, attention_dim, encoder_dim,\n",
    "                                            decoder_dim, learning_rate,drop_prob,ignored_idx, device)"
   ]
  },
  {
   "cell_type": "markdown",
   "id": "781b80e8",
   "metadata": {},
   "source": [
    "## Training Job from above configs"
   ]
  },
  {
   "cell_type": "code",
   "execution_count": 42,
   "id": "53074260",
   "metadata": {},
   "outputs": [],
   "source": [
    "!export CUDA_LAUNCH_BLOCKING=1\n",
    "!export CUDA_VISIBLE_DEVICES=2"
   ]
  },
  {
   "cell_type": "code",
   "execution_count": 43,
   "id": "fc2bb5a5",
   "metadata": {},
   "outputs": [
    {
     "name": "stdout",
     "output_type": "stream",
     "text": [
      "cuda\n"
     ]
    },
    {
     "name": "stderr",
     "output_type": "stream",
     "text": [
      "Epoch 1: 100%|████| 2/2 [00:01<00:00,  1.06batch/s, loss=2.72]\n",
      "Epoch 2: 100%|█████| 2/2 [00:02<00:00,  1.01s/batch, loss=2.3]\n",
      "Epoch 3: 100%|████| 2/2 [00:02<00:00,  1.01s/batch, loss=1.96]\n",
      "Epoch 4: 100%|████| 2/2 [00:02<00:00,  1.02s/batch, loss=1.82]\n",
      "Epoch 5: 100%|████| 2/2 [00:01<00:00,  1.03batch/s, loss=1.58]\n"
     ]
    },
    {
     "name": "stdout",
     "output_type": "stream",
     "text": [
      "Bleu Score:  5.112959399858763e-05\n",
      "Final accuracy:  28.35\n"
     ]
    }
   ],
   "source": [
    "losses = list()\n",
    "losses_batch = list()\n",
    "val_losses = list()\n",
    "accuracy_list = list()\n",
    "\n",
    "model_full_path = '/home/space/datasets/COA/models/baseline/attention_model_ac12c.pth'\n",
    "num_epochs = 5\n",
    "print_every = 5\n",
    "\n",
    "device = torch.device(\"cuda\" if torch.cuda.is_available() else \"cpu\")\n",
    "print(device)\n",
    "# if model is None:\n",
    "\n",
    "for epoch in range(1, num_epochs + 1): \n",
    "#     if model is None:\n",
    "#         model, optimizer, epoch, loss = load_model_checkpoint(model_full_path)\n",
    "\n",
    "    with tqdm(train_loader, unit=\"batch\") as tepoch:\n",
    "        idx = 0\n",
    "        for image, captions in tepoch:\n",
    "            idx+=1\n",
    "            tepoch.set_description(f\"Epoch {epoch}\")\n",
    "            image, captions = image.to(device), captions.to(device)\n",
    "\n",
    "            # Zero the gradients.\n",
    "            optimizer.zero_grad()\n",
    "            \n",
    "            # Feed forward\n",
    "            outputs, attentions = model(image, captions.T)\n",
    "            \n",
    "            # Calculate the batch loss.\n",
    "            targets = captions.T[:,1:]  ####### the fix in here\n",
    "#             print(targets)\n",
    "            loss = criterion(outputs.view(-1, vocab_size), targets.reshape(-1))\n",
    "#             print(outputs.view(-1, vocab_size))\n",
    "            \n",
    "            # Backward pass. \n",
    "            loss.backward()\n",
    "            \n",
    "            # Update the parameters in the optimizer.\n",
    "            optimizer.step()\n",
    "            \n",
    "            tepoch.set_postfix(loss=loss.item())\n",
    "            sleep(0.1)\n",
    " \n",
    "            avg_val_loss, bleu_score, accuracy = validate_model(model, criterion, val_loader, val_dataset, vocab_size, device)\n",
    "            model.train()\n",
    "#             tepoch.set_postfix(accuracy=accuracy)\n",
    "#             tepoch.set_postfix(vallidation_loss=avg_val_loss)\n",
    "\n",
    "            losses_batch.append(loss) # in here 17 batches * 5 epochs = 85 , you can get the average\n",
    "            val_losses.append(avg_val_loss)\n",
    "            accuracy_list.append(accuracy)\n",
    "        \n",
    "        avg_batch_loss = sum(losses_batch) / len(losses_batch)\n",
    "        losses.append(avg_batch_loss)\n",
    "            \n",
    "accuracy = sum(accuracy_list)/len(accuracy_list)\n",
    "\n",
    "print('Bleu Score: ',bleu_score/8091)\n",
    "print('Final accuracy: ', accuracy)\n",
    "\n",
    "                \n",
    "# save the latest model\n",
    "save_model(model, optimizer, epoch, loss, accuracy, model_full_path, hyper_params)\n"
   ]
  },
  {
   "cell_type": "code",
   "execution_count": 22,
   "id": "068ba422",
   "metadata": {},
   "outputs": [
    {
     "data": {
      "text/plain": [
       "5"
      ]
     },
     "execution_count": 22,
     "metadata": {},
     "output_type": "execute_result"
    }
   ],
   "source": [
    "# losses = list()\n",
    "# for epoch in tqdm(range(5)):\n",
    "#     epoch_losses = train_epoch(model, device, train_loader, optimizer)\n",
    "#     print(f\"Average loss in epoch {epoch}: {np.mean(epoch_losses):.5f}\")\n",
    "#     losses.extend(epoch_losses)\n",
    "len(losses)\n"
   ]
  },
  {
   "cell_type": "code",
   "execution_count": 23,
   "id": "eaeeaedc",
   "metadata": {},
   "outputs": [
    {
     "data": {
      "image/png": "[encoded data removed]",
      "text/plain": [
       "<Figure size 432x288 with 1 Axes>"
      ]
     },
     "metadata": {
      "needs_background": "light"
     },
     "output_type": "display_data"
    }
   ],
   "source": [
    "plt.plot(losses)\n",
    "plt.xlabel(\"Iteration\")\n",
    "plt.ylabel(\"Train loss\")\n",
    "plt.show()"
   ]
  },
  {
   "cell_type": "code",
   "execution_count": 24,
   "id": "78c901cf",
   "metadata": {},
   "outputs": [
    {
     "data": {
      "image/png": "[encoded data removed]",
      "text/plain": [
       "<Figure size 432x288 with 1 Axes>"
      ]
     },
     "metadata": {
      "needs_background": "light"
     },
     "output_type": "display_data"
    }
   ],
   "source": [
    "plt.plot(val_losses)\n",
    "plt.xlabel(\"Iteration\")\n",
    "plt.ylabel(\"Validation loss\")\n",
    "plt.show()"
   ]
  },
  {
   "cell_type": "code",
   "execution_count": 28,
   "id": "6821e855",
   "metadata": {},
   "outputs": [
    {
     "data": {
      "image/png": "[encoded data removed]",
      "text/plain": [
       "<Figure size 432x288 with 1 Axes>"
      ]
     },
     "metadata": {
      "needs_background": "light"
     },
     "output_type": "display_data"
    }
   ],
   "source": [
    "plt.plot(accuracy_list)\n",
    "plt.xlabel(\"Iteration\")\n",
    "plt.ylabel(\"Validation Accuracy\")\n",
    "plt.show()"
   ]
  },
  {
   "cell_type": "code",
   "execution_count": null,
   "id": "b22f6fee",
   "metadata": {},
   "outputs": [],
   "source": [
    "torch.cuda.empty_cache()\n"
   ]
  },
  {
   "cell_type": "markdown",
   "id": "1927f99b",
   "metadata": {},
   "source": [
    "##  Visualizing the attentions\n",
    "Defining helper functions\n",
    "<li>Given the image generate captions and attention scores</li>\n",
    "<li>Plot the attention scores in the image</li>"
   ]
  },
  {
   "cell_type": "code",
   "execution_count": 29,
   "id": "1cac2ecf",
   "metadata": {},
   "outputs": [],
   "source": [
    "#generate caption\n",
    "def get_caps_from(model, features_tensors):\n",
    "    #generate the caption\n",
    "    model.eval()\n",
    "    with torch.no_grad():\n",
    "        features = model.encoder(features_tensors.to(device))\n",
    "        caps,alphas = model.decoder.generate_caption(features,vocab=test_dataset.vocab)\n",
    "        caption = ' '.join(caps)\n",
    "        show_image(features_tensors[0],title=caption)\n",
    "    \n",
    "    return caps,alphas\n",
    "\n",
    "#Show attention\n",
    "def plot_attention(img, result, attention_plot):\n",
    "    #untransform\n",
    "    img[0] = img[0] * 0.229\n",
    "    img[1] = img[1] * 0.224 \n",
    "    img[2] = img[2] * 0.225 \n",
    "    img[0] += 0.485 \n",
    "    img[1] += 0.456 \n",
    "    img[2] += 0.406\n",
    "    \n",
    "    img = img.numpy().transpose((1, 2, 0))\n",
    "    temp_image = img\n",
    "\n",
    "    fig = plt.figure(figsize=(15, 15))\n",
    "\n",
    "    len_result = len(result)\n",
    "    for l in range(len_result):\n",
    "        temp_att = attention_plot[l].reshape(7,7)\n",
    "        \n",
    "        ax = fig.add_subplot(len_result//2,len_result//2, l+1)\n",
    "        ax.set_title(result[l])\n",
    "        img = ax.imshow(temp_image)\n",
    "        ax.imshow(temp_att, cmap='gray', alpha=0.7, extent=img.get_extent())\n",
    "        \n",
    "\n",
    "    plt.tight_layout()\n",
    "    plt.show()\n",
    "    \n",
    "def test_rand_image(model):\n",
    "    dataiter = iter(test_loader)\n",
    "    images,_ = next(dataiter)\n",
    "\n",
    "    img = images[0].detach().clone()\n",
    "    img1 = images[0].detach().clone()\n",
    "    caps,alphas = get_caps_from(model, img.unsqueeze(0))\n",
    "\n",
    "    plot_attention(img1, caps, alphas)\n",
    "    \n"
   ]
  },
  {
   "cell_type": "code",
   "execution_count": null,
   "id": "ebe98616",
   "metadata": {},
   "outputs": [],
   "source": [
    "# torch.cuda.empty_cache()\n",
    "\n",
    "# model_path = '/home/space/datasets/COA/models/baseline/attention_model_state.pth'\n",
    "# local_model_path = 'simple-model.pth'\n",
    "# model = load_model(local_model_path)\n",
    "test_rand_image(model)"
   ]
  },
  {
   "cell_type": "code",
   "execution_count": null,
   "id": "4619980c",
   "metadata": {},
   "outputs": [],
   "source": []
  }
 ],
 "metadata": {
  "kernelspec": {
   "display_name": "Python 3 (ipykernel)",
   "language": "python",
   "name": "python3"
  },
  "language_info": {
   "codemirror_mode": {
    "name": "ipython",
    "version": 3
   },
   "file_extension": ".py",
   "mimetype": "text/x-python",
   "name": "python",
   "nbconvert_exporter": "python",
   "pygments_lexer": "ipython3",
   "version": "3.8.10"
  }
 },
 "nbformat": 4,
 "nbformat_minor": 5
}
