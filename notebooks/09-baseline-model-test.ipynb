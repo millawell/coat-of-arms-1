{
 "cells": [
  {
   "cell_type": "code",
   "execution_count": 47,
   "id": "e5cdbcf3",
   "metadata": {},
   "outputs": [
    {
     "name": "stdout",
     "output_type": "stream",
     "text": [
      "The autoreload extension is already loaded. To reload it, use:\n",
      "  %reload_ext autoreload\n",
      "The pyinstrument extension is already loaded. To reload it, use:\n",
      "  %reload_ext pyinstrument\n"
     ]
    }
   ],
   "source": [
    "# auto-load when code changes outside\n",
    "%load_ext autoreload\n",
    "%autoreload 2\n",
    "%load_ext pyinstrument\n",
    "\n",
    "import sys\n",
    "sys.path.insert(0,'..')\n"
   ]
  },
  {
   "cell_type": "code",
   "execution_count": 74,
   "id": "12fa6a61",
   "metadata": {},
   "outputs": [],
   "source": [
    "#imports \n",
    "import os\n",
    "import nltk\n",
    "import spacy\n",
    "import numpy as np\n",
    "import pandas as pd\n",
    "import torch\n",
    "import torch.nn as nn\n",
    "import torch.onnx as onnx\n",
    "import torch.optim as optim\n",
    "import torchvision.models as models\n",
    "\n",
    "from src.baseline.vocabulary import Vocabulary\n",
    "from src.utils import print_time, list_of_tensors_to_numpy_arr, plot_image, plot_im\n",
    "from src.accuracy import Accuracy\n",
    "from src.baseline.coa_model import get_new_model,load_model, train_validate_test_split, init_testing_model, test_model, test_rand_image\n"
   ]
  },
  {
   "cell_type": "code",
   "execution_count": 49,
   "id": "25fd47a2",
   "metadata": {},
   "outputs": [],
   "source": [
    "!export CUDA_VISIBLE_DEVICES=0\n",
    "!export CUDA_LAUNCH_BLOCKING=1"
   ]
  },
  {
   "cell_type": "code",
   "execution_count": 50,
   "id": "cf67d490",
   "metadata": {},
   "outputs": [
    {
     "data": {
      "text/plain": [
       "device(type='cpu')"
      ]
     },
     "execution_count": 50,
     "metadata": {},
     "output_type": "execute_result"
    }
   ],
   "source": [
    "# device = torch.device(\"cuda:0\" if torch.cuda.is_available() else \"cpu\")\n",
    "device = torch.device(\"cuda:0\" if torch.cuda.is_available() else \"cpu\")\n",
    "# device = torch.device(\"cpu\")\n",
    "\n",
    "device"
   ]
  },
  {
   "cell_type": "code",
   "execution_count": 51,
   "id": "0a13d222",
   "metadata": {},
   "outputs": [],
   "source": [
    "# torch.cuda.get_device_name(0)"
   ]
  },
  {
   "cell_type": "code",
   "execution_count": 52,
   "id": "82cc65cc",
   "metadata": {},
   "outputs": [],
   "source": [
    "# Hyperparams\n",
    "\n",
    "embed_size=300\n",
    "vocab_size = 36\n",
    "attention_dim=256\n",
    "encoder_dim=2048\n",
    "decoder_dim=512\n",
    "learning_rate = 3e-4\n",
    "drop_prob=0.3\n",
    "ignored_idx = 0\n",
    "\n",
    "device = torch.device(\"cuda:0\" if torch.cuda.is_available() else \"cpu\")\n",
    "\n",
    "hyper_params = {'embed_size': embed_size,\n",
    "                'attention_dim': attention_dim,\n",
    "                'encoder_dim': encoder_dim,\n",
    "                'decoder_dim': decoder_dim,\n",
    "                'vocab_size': vocab_size\n",
    "              }\n"
   ]
  },
  {
   "cell_type": "markdown",
   "id": "781b80e8",
   "metadata": {},
   "source": [
    "# Test the loaded model on synthetic data"
   ]
  },
  {
   "cell_type": "code",
   "execution_count": 53,
   "id": "c61fc8d4",
   "metadata": {},
   "outputs": [
    {
     "name": "stdout",
     "output_type": "stream",
     "text": [
      "There are 30 test images\n"
     ]
    }
   ],
   "source": [
    "# data_location = '/home/space/datasets/COA/generated-data-api'\n",
    "# data_location =  '/home/space/datasets/COA/generated-data-api-small'\n",
    "# data_location =  '/home/space/datasets/COA/generated-data-api-large'\n",
    "\n",
    "data_location =  '../baseline-gen-data/small'\n",
    "root_folder_images = data_location + '/images'\n",
    "\n",
    "test_caption_file = data_location + '/test_captions_psumsq.txt'\n",
    "df = pd.read_csv(test_caption_file)\n",
    "\n",
    "print(\"There are {} test images\".format(len(df)))"
   ]
  },
  {
   "cell_type": "code",
   "execution_count": 54,
   "id": "f6db3dba",
   "metadata": {},
   "outputs": [],
   "source": [
    "model_path = '../models/baseline/attention_model_03.14.2022-22:14:21.pth'\n",
    "\n",
    "model, optimizer, loss,criterion = load_model(model_path, \n",
    "                                    hyper_params, \n",
    "                                    learning_rate,\n",
    "                                    drop_prob, \n",
    "                                    ignored_idx)"
   ]
  },
  {
   "cell_type": "code",
   "execution_count": 10,
   "id": "53074260",
   "metadata": {},
   "outputs": [],
   "source": [
    "!export CUDA_LAUNCH_BLOCKING=1\n",
    "!export CUDA_VISIBLE_DEVICES=2"
   ]
  },
  {
   "cell_type": "code",
   "execution_count": 11,
   "id": "e5cc0bba",
   "metadata": {},
   "outputs": [],
   "source": [
    "# BATCH_SIZE = 5\n",
    "NUM_WORKER = 2 #### this needs multi-core\n",
    "freq_threshold = 5\n",
    "batch_size = 256\n",
    "\n",
    "# 30 minutes to create those, as it's baseline, i ran it several times and it's the same\n",
    "vocab = Vocabulary(freq_threshold)\n",
    "vocab.stoi = {'<PAD>': 0, '<SOS>': 1, '<EOS>': 2, '<UNK>': 3, 'lion': 4, 'rampant': 5, 'passt': 6, 'guard': 7, 'head': 8, 'lions': 9, 'cross': 10, 'moline': 11, 'patonce': 12, 'eagle': 13, 'doubleheaded': 14, 'eagles': 15, 'a': 16, 'b': 17, 'o': 18, 's': 19, 'g': 20, 'e': 21, 'v': 22, '1': 23, '2': 24, '3': 25, '4': 26, '5': 27, '6': 28, '7': 29, '8': 30, '9': 31, '10': 32, '11': 33, 'border': 34, '&': 35}\n",
    "vocab.itos = {0: '<PAD>', 1: '<SOS>', 2: '<EOS>', 3: '<UNK>', 4: 'lion', 5: 'rampant', 6: 'passt', 7: 'guard', 8: 'head', 9: 'lions', 10: 'cross', 11: 'moline', 12: 'patonce', 13: 'eagle', 14: 'doubleheaded', 15: 'eagles', 16: 'a', 17: 'b', 18: 'o', 19: 's', 20: 'g', 21: 'e', 22: 'v', 23: '1', 24: '2', 25: '3', 26: '4', 27: '5', 28: '6', 29: '7', 30: '8', 31: '9', 32: '10', 33: '11', 34: 'border', 35: '&'}\n"
   ]
  },
  {
   "cell_type": "code",
   "execution_count": 12,
   "id": "04960f04",
   "metadata": {},
   "outputs": [
    {
     "name": "stdout",
     "output_type": "stream",
     "text": [
      "torch.Size([1, 3, 500, 500])\n",
      "torch.Size([1, 3, 500, 500])\n",
      "torch.Size([1, 3, 500, 500])\n",
      "torch.Size([1, 3, 500, 500])\n",
      "torch.Size([1, 3, 500, 500])\n",
      "torch.Size([1, 3, 500, 500])\n",
      "torch.Size([1, 3, 500, 500])\n",
      "torch.Size([1, 3, 500, 500])\n",
      "torch.Size([1, 3, 500, 500])\n",
      "torch.Size([1, 3, 500, 500])\n",
      "torch.Size([1, 3, 500, 500])\n",
      "torch.Size([1, 3, 500, 500])\n",
      "torch.Size([1, 3, 500, 500])\n",
      "torch.Size([1, 3, 500, 500])\n",
      "torch.Size([1, 3, 500, 500])\n",
      "torch.Size([1, 3, 500, 500])\n",
      "torch.Size([1, 3, 500, 500])\n",
      "torch.Size([1, 3, 500, 500])\n",
      "torch.Size([1, 3, 500, 500])\n",
      "torch.Size([1, 3, 500, 500])\n",
      "torch.Size([1, 3, 500, 500])\n",
      "torch.Size([1, 3, 500, 500])\n",
      "torch.Size([1, 3, 500, 500])\n",
      "torch.Size([1, 3, 500, 500])\n",
      "torch.Size([1, 3, 500, 500])\n",
      "torch.Size([1, 3, 500, 500])\n",
      "torch.Size([1, 3, 500, 500])\n",
      "torch.Size([1, 3, 500, 500])\n",
      "torch.Size([1, 3, 500, 500])\n",
      "torch.Size([1, 3, 500, 500])\n",
      "torch.Size([1, 3, 500, 500])\n",
      "torch.Size([1, 3, 500, 500])\n",
      "torch.Size([1, 3, 500, 500])\n",
      "torch.Size([1, 3, 500, 500])\n",
      "torch.Size([1, 3, 500, 500])\n",
      "torch.Size([1, 3, 500, 500])\n",
      "torch.Size([1, 3, 500, 500])\n",
      "torch.Size([1, 3, 500, 500])\n",
      "torch.Size([1, 3, 500, 500])\n",
      "torch.Size([1, 3, 500, 500])\n",
      "torch.Size([1, 3, 500, 500])\n",
      "torch.Size([1, 3, 500, 500])\n",
      "torch.Size([1, 3, 500, 500])\n",
      "torch.Size([1, 3, 500, 500])\n",
      "torch.Size([1, 3, 500, 500])\n",
      "torch.Size([1, 3, 500, 500])\n",
      "torch.Size([1, 3, 500, 500])\n",
      "torch.Size([1, 3, 500, 500])\n",
      "torch.Size([1, 3, 500, 500])\n",
      "torch.Size([1, 3, 500, 500])\n",
      "torch.Size([1, 3, 500, 500])\n",
      "torch.Size([1, 3, 500, 500])\n",
      "torch.Size([1, 3, 500, 500])\n",
      "torch.Size([1, 3, 500, 500])\n",
      "torch.Size([1, 3, 500, 500])\n",
      "torch.Size([1, 3, 500, 500])\n",
      "torch.Size([1, 3, 500, 500])\n",
      "torch.Size([1, 3, 500, 500])\n",
      "torch.Size([1, 3, 500, 500])\n",
      "torch.Size([1, 3, 500, 500])\n",
      "mean, std: tensor(0.9773) tensor(nan)\n"
     ]
    }
   ],
   "source": [
    "test_loader, test_dataset = init_testing_model(test_caption_file, \n",
    "                                               root_folder_images, \n",
    "                                               NUM_WORKER,\n",
    "                                               vocab,\n",
    "                                               batch_size, \n",
    "                                               device, \n",
    "                                               pin_memory=False)\n"
   ]
  },
  {
   "cell_type": "code",
   "execution_count": 13,
   "id": "57536b17",
   "metadata": {},
   "outputs": [
    {
     "name": "stdout",
     "output_type": "stream",
     "text": [
      "<PAD> <PAD> <PAD> <PAD> <PAD> <PAD> <PAD> <PAD> <PAD> <PAD> <PAD> <PAD> <PAD> <PAD> <PAD> <PAD> <PAD> <PAD> <PAD>\n",
      "label \"<PAD> <PAD> <PAD> <PAD> <PAD> <PAD> <PAD> <PAD> <PAD> <PAD> <PAD> <PAD> <PAD> <PAD> <PAD> <PAD> <PAD> <PAD> <PAD>\" cannot be parsed. The chunk \"<PAD>\" cannot be fit into any category.\n",
      "label \"<PAD> <PAD> <PAD> <PAD> <PAD> <PAD> <PAD> <PAD> <PAD> <PAD> <PAD> <PAD> <PAD> <PAD> <PAD> <PAD> <PAD> <PAD> <PAD>\" cannot be parsed. The chunk \"<PAD>\" cannot be fit into any category.\n",
      "label \"<PAD> <PAD> <PAD> <PAD> <PAD> <PAD> <PAD> <PAD> <PAD> <PAD> <PAD> <PAD> <PAD> <PAD> <PAD> <PAD> <PAD> <PAD> <PAD>\" cannot be parsed. The chunk \"<PAD>\" cannot be fit into any category.\n",
      "label \"<PAD> <PAD> <PAD> <PAD> <PAD> <PAD> <PAD> <PAD> <PAD> <PAD> <PAD> <PAD> <PAD> <PAD> <PAD> <PAD> <PAD> <PAD> <PAD>\" cannot be parsed. The chunk \"<PAD>\" cannot be fit into any category.\n",
      "label \"<PAD> <PAD> <PAD> <PAD> <PAD> <PAD> <PAD> <PAD> <PAD> <PAD> <PAD> <PAD> <PAD> <PAD> <PAD> <PAD> <PAD> <PAD> <PAD>\" cannot be parsed. The chunk \"<PAD>\" cannot be fit into any category.\n",
      "label \"<PAD> <PAD> <PAD> <PAD> <PAD> <PAD> <PAD> <PAD> <PAD> <PAD> <PAD> <PAD> <PAD> <PAD> <PAD> <PAD> <PAD> <PAD> <PAD>\" cannot be parsed. The chunk \"<PAD>\" cannot be fit into any category.\n",
      "label \"<PAD> <PAD> <PAD> <PAD> <PAD> <PAD> <PAD> <PAD> <PAD> <PAD> <PAD> <PAD> <PAD> <PAD> <PAD> <PAD> <PAD> <PAD> <PAD>\" cannot be parsed. The chunk \"<PAD>\" cannot be fit into any category.\n",
      "label \"<PAD> <PAD> <PAD> <PAD> <PAD> <PAD> <PAD> <PAD> <PAD> <PAD> <PAD> <PAD> <PAD> <PAD> <PAD> <PAD> <PAD> <PAD> <PAD>\" cannot be parsed. The chunk \"<PAD>\" cannot be fit into any category.\n",
      "label \"<PAD> <PAD> <PAD> <PAD> <PAD> <PAD> <PAD> <PAD> <PAD> <PAD> <PAD> <PAD> <PAD> <PAD> <PAD> <PAD> <PAD> <PAD> <PAD>\" cannot be parsed. The chunk \"<PAD>\" cannot be fit into any category.\n",
      "label \"<PAD> <PAD> <PAD> <PAD> <PAD> <PAD> <PAD> <PAD> <PAD> <PAD> <PAD> <PAD> <PAD> <PAD> <PAD> <PAD> <PAD> <PAD> <PAD>\" cannot be parsed. The chunk \"<PAD>\" cannot be fit into any category.\n",
      "label \"<PAD> <PAD> <PAD> <PAD> <PAD> <PAD> <PAD> <PAD> <PAD> <PAD> <PAD> <PAD> <PAD> <PAD> <PAD> <PAD> <PAD> <PAD> <PAD>\" cannot be parsed. The chunk \"<PAD>\" cannot be fit into any category.\n",
      "label \"<PAD> <PAD> <PAD> <PAD> <PAD> <PAD> <PAD> <PAD> <PAD> <PAD> <PAD> <PAD> <PAD> <PAD> <PAD> <PAD> <PAD> <PAD> <PAD>\" cannot be parsed. The chunk \"<PAD>\" cannot be fit into any category.\n",
      "label \"<PAD> <PAD> <PAD> <PAD> <PAD> <PAD> <PAD> <PAD> <PAD> <PAD> <PAD> <PAD> <PAD> <PAD> <PAD> <PAD> <PAD> <PAD> <PAD>\" cannot be parsed. The chunk \"<PAD>\" cannot be fit into any category.\n",
      "label \"<PAD> <PAD> <PAD> <PAD> <PAD> <PAD> <PAD> <PAD> <PAD> <PAD> <PAD> <PAD> <PAD> <PAD> <PAD> <PAD> <PAD> <PAD> <PAD>\" cannot be parsed. The chunk \"<PAD>\" cannot be fit into any category.\n",
      "label \"<PAD> <PAD> <PAD> <PAD> <PAD> <PAD> <PAD> <PAD> <PAD> <PAD> <PAD> <PAD> <PAD> <PAD> <PAD> <PAD> <PAD> <PAD> <PAD>\" cannot be parsed. The chunk \"<PAD>\" cannot be fit into any category.\n",
      "label \"<PAD> <PAD> <PAD> <PAD> <PAD> <PAD> <PAD> <PAD> <PAD> <PAD> <PAD> <PAD> <PAD> <PAD> <PAD> <PAD> <PAD> <PAD> <PAD>\" cannot be parsed. The chunk \"<PAD>\" cannot be fit into any category.\n",
      "label \"<PAD> <PAD> <PAD> <PAD> <PAD> <PAD> <PAD> <PAD> <PAD> <PAD> <PAD> <PAD> <PAD> <PAD> <PAD> <PAD> <PAD> <PAD> <PAD>\" cannot be parsed. The chunk \"<PAD>\" cannot be fit into any category.\n",
      "label \"<PAD> <PAD> <PAD> <PAD> <PAD> <PAD> <PAD> <PAD> <PAD> <PAD> <PAD> <PAD> <PAD> <PAD> <PAD> <PAD> <PAD> <PAD> <PAD>\" cannot be parsed. The chunk \"<PAD>\" cannot be fit into any category.\n",
      "label \"<PAD> <PAD> <PAD> <PAD> <PAD> <PAD> <PAD> <PAD> <PAD> <PAD> <PAD> <PAD> <PAD> <PAD> <PAD> <PAD> <PAD> <PAD> <PAD>\" cannot be parsed. The chunk \"<PAD>\" cannot be fit into any category.\n",
      "No shield color found in this label: \"<PAD> <PAD> <PAD> <PAD> <PAD> <PAD> <PAD> <PAD> <PAD> <PAD> <PAD> <PAD> <PAD> <PAD> <PAD> <PAD> <PAD> <PAD> <PAD>\"\n",
      "Test Acuuracy (in progress): 0.000000\n",
      "\n",
      "torch.Size([1, 3, 224, 224])\n",
      "torch.Size([1, 3, 224, 224])\n",
      "torch.Size([1, 3, 224, 224])\n",
      "torch.Size([1, 3, 224, 224])\n",
      "torch.Size([1, 3, 224, 224])\n",
      "torch.Size([1, 3, 224, 224])\n",
      "torch.Size([1, 3, 224, 224])\n",
      "torch.Size([1, 3, 224, 224])\n",
      "torch.Size([1, 3, 224, 224])\n",
      "torch.Size([1, 3, 224, 224])\n",
      "torch.Size([1, 3, 224, 224])\n",
      "torch.Size([1, 3, 224, 224])\n",
      "torch.Size([1, 3, 224, 224])\n",
      "torch.Size([1, 3, 224, 224])\n",
      "torch.Size([1, 3, 224, 224])\n",
      "torch.Size([1, 3, 224, 224])\n",
      "torch.Size([1, 3, 224, 224])\n",
      "torch.Size([1, 3, 224, 224])\n",
      "torch.Size([1, 3, 224, 224])\n",
      "torch.Size([1, 3, 224, 224])\n",
      "torch.Size([1, 3, 224, 224])\n",
      "torch.Size([1, 3, 224, 224])\n",
      "torch.Size([1, 3, 224, 224])\n",
      "torch.Size([1, 3, 224, 224])\n",
      "torch.Size([1, 3, 224, 224])\n",
      "torch.Size([1, 3, 224, 224])\n",
      "torch.Size([1, 3, 224, 224])\n",
      "torch.Size([1, 3, 224, 224])\n",
      "torch.Size([1, 3, 224, 224])\n",
      "torch.Size([1, 3, 224, 224])\n",
      "Test Loss (final): nan\n",
      "\n",
      "Test Accuracy (Overall): 0.0%\n"
     ]
    }
   ],
   "source": [
    "test_losses, accuracy_test_list, acc_test_score, test_loss = test_model(model, \n",
    "                                                                        criterion,\n",
    "                                                                        test_loader, \n",
    "                                                                        test_dataset, \n",
    "                                                                        vocab_size, \n",
    "                                                                        device)"
   ]
  },
  {
   "cell_type": "markdown",
   "id": "1927f99b",
   "metadata": {},
   "source": [
    "## Visualizing the attentions"
   ]
  },
  {
   "cell_type": "code",
   "execution_count": 14,
   "id": "ebe98616",
   "metadata": {},
   "outputs": [
    {
     "data": {
      "image/png": "[encoded data removed]",
      "text/plain": [
       "<Figure size 432x288 with 1 Axes>"
      ]
     },
     "metadata": {
      "needs_background": "light"
     },
     "output_type": "display_data"
    },
    {
     "data": {
      "image/png": "[encoded data removed]",
      "text/plain": [
       "<Figure size 1080x1080 with 20 Axes>"
      ]
     },
     "metadata": {
      "needs_background": "light"
     },
     "output_type": "display_data"
    },
    {
     "name": "stdout",
     "output_type": "stream",
     "text": [
      "torch.Size([1, 3, 224, 224])\n",
      "torch.Size([1, 3, 224, 224])\n",
      "torch.Size([1, 3, 224, 224])\n",
      "torch.Size([1, 3, 224, 224])\n",
      "torch.Size([1, 3, 224, 224])\n",
      "torch.Size([1, 3, 224, 224])\n",
      "torch.Size([1, 3, 224, 224])\n",
      "torch.Size([1, 3, 224, 224])\n",
      "torch.Size([1, 3, 224, 224])\n",
      "torch.Size([1, 3, 224, 224])\n",
      "torch.Size([1, 3, 224, 224])\n",
      "torch.Size([1, 3, 224, 224])\n",
      "torch.Size([1, 3, 224, 224])\n",
      "torch.Size([1, 3, 224, 224])\n",
      "torch.Size([1, 3, 224, 224])\n",
      "torch.Size([1, 3, 224, 224])\n",
      "torch.Size([1, 3, 224, 224])\n",
      "torch.Size([1, 3, 224, 224])\n",
      "torch.Size([1, 3, 224, 224])\n",
      "torch.Size([1, 3, 224, 224])\n",
      "torch.Size([1, 3, 224, 224])\n",
      "torch.Size([1, 3, 224, 224])\n",
      "torch.Size([1, 3, 224, 224])\n",
      "torch.Size([1, 3, 224, 224])\n",
      "torch.Size([1, 3, 224, 224])\n",
      "torch.Size([1, 3, 224, 224])\n",
      "torch.Size([1, 3, 224, 224])\n",
      "torch.Size([1, 3, 224, 224])\n",
      "torch.Size([1, 3, 224, 224])\n",
      "torch.Size([1, 3, 224, 224])\n"
     ]
    }
   ],
   "source": [
    "# torch.cuda.empty_cache()\n",
    "test_rand_image(model,test_dataset,test_loader,device)"
   ]
  },
  {
   "cell_type": "markdown",
   "id": "dfa0f7a1",
   "metadata": {},
   "source": [
    "# Test the loaded model on real data\n"
   ]
  },
  {
   "cell_type": "code",
   "execution_count": 55,
   "id": "afdf3b08",
   "metadata": {},
   "outputs": [
    {
     "name": "stdout",
     "output_type": "stream",
     "text": [
      "There are 269 test images\n"
     ]
    },
    {
     "data": {
      "text/html": [
       "<div>\n",
       "<style scoped>\n",
       "    .dataframe tbody tr th:only-of-type {\n",
       "        vertical-align: middle;\n",
       "    }\n",
       "\n",
       "    .dataframe tbody tr th {\n",
       "        vertical-align: top;\n",
       "    }\n",
       "\n",
       "    .dataframe thead th {\n",
       "        text-align: right;\n",
       "    }\n",
       "</style>\n",
       "<table border=\"1\" class=\"dataframe\">\n",
       "  <thead>\n",
       "    <tr style=\"text-align: right;\">\n",
       "      <th></th>\n",
       "      <th>image</th>\n",
       "      <th>caption</th>\n",
       "      <th>psum</th>\n",
       "      <th>psum_sq</th>\n",
       "    </tr>\n",
       "  </thead>\n",
       "  <tbody>\n",
       "    <tr>\n",
       "      <th>0</th>\n",
       "      <td>1739_A G cross patonce.jpg</td>\n",
       "      <td>A G cross patonce</td>\n",
       "      <td>724933.00000</td>\n",
       "      <td>557413.50000</td>\n",
       "    </tr>\n",
       "    <tr>\n",
       "      <th>1</th>\n",
       "      <td>22117_O B cross patriarchal.jpg</td>\n",
       "      <td>O B cross patriarchal</td>\n",
       "      <td>696633.87500</td>\n",
       "      <td>521719.93750</td>\n",
       "    </tr>\n",
       "    <tr>\n",
       "      <th>2</th>\n",
       "      <td>2870_O S lion rampant.jpg</td>\n",
       "      <td>O S lion rampant</td>\n",
       "      <td>370219.71875</td>\n",
       "      <td>231043.09375</td>\n",
       "    </tr>\n",
       "    <tr>\n",
       "      <th>3</th>\n",
       "      <td>6870_S O eagle.jpg</td>\n",
       "      <td>S O eagle</td>\n",
       "      <td>840800.62500</td>\n",
       "      <td>661782.93750</td>\n",
       "    </tr>\n",
       "    <tr>\n",
       "      <th>4</th>\n",
       "      <td>18746_S A eagle.jpg</td>\n",
       "      <td>S A eagle</td>\n",
       "      <td>880971.43750</td>\n",
       "      <td>601956.43750</td>\n",
       "    </tr>\n",
       "    <tr>\n",
       "      <th>...</th>\n",
       "      <td>...</td>\n",
       "      <td>...</td>\n",
       "      <td>...</td>\n",
       "      <td>...</td>\n",
       "    </tr>\n",
       "    <tr>\n",
       "      <th>264</th>\n",
       "      <td>398_A S lion rampant.jpg</td>\n",
       "      <td>A S lion rampant</td>\n",
       "      <td>673480.62500</td>\n",
       "      <td>517651.34375</td>\n",
       "    </tr>\n",
       "    <tr>\n",
       "      <th>265</th>\n",
       "      <td>249_O G 2 lions passt.jpg</td>\n",
       "      <td>O G 2 lions passt</td>\n",
       "      <td>871046.06250</td>\n",
       "      <td>677358.06250</td>\n",
       "    </tr>\n",
       "    <tr>\n",
       "      <th>266</th>\n",
       "      <td>4459_B O eagle.jpg</td>\n",
       "      <td>B O eagle</td>\n",
       "      <td>621500.62500</td>\n",
       "      <td>425808.43750</td>\n",
       "    </tr>\n",
       "    <tr>\n",
       "      <th>267</th>\n",
       "      <td>5302_O B cross moline.jpg</td>\n",
       "      <td>O B cross moline</td>\n",
       "      <td>736149.62500</td>\n",
       "      <td>530970.68750</td>\n",
       "    </tr>\n",
       "    <tr>\n",
       "      <th>268</th>\n",
       "      <td>7881_G O 2 lions passt guard.jpg</td>\n",
       "      <td>G O 2 lions passt guard</td>\n",
       "      <td>689131.37500</td>\n",
       "      <td>483920.34375</td>\n",
       "    </tr>\n",
       "  </tbody>\n",
       "</table>\n",
       "<p>269 rows × 4 columns</p>\n",
       "</div>"
      ],
      "text/plain": [
       "                                image                  caption          psum  \\\n",
       "0          1739_A G cross patonce.jpg        A G cross patonce  724933.00000   \n",
       "1     22117_O B cross patriarchal.jpg    O B cross patriarchal  696633.87500   \n",
       "2           2870_O S lion rampant.jpg         O S lion rampant  370219.71875   \n",
       "3                  6870_S O eagle.jpg                S O eagle  840800.62500   \n",
       "4                 18746_S A eagle.jpg                S A eagle  880971.43750   \n",
       "..                                ...                      ...           ...   \n",
       "264          398_A S lion rampant.jpg         A S lion rampant  673480.62500   \n",
       "265         249_O G 2 lions passt.jpg        O G 2 lions passt  871046.06250   \n",
       "266                4459_B O eagle.jpg                B O eagle  621500.62500   \n",
       "267         5302_O B cross moline.jpg         O B cross moline  736149.62500   \n",
       "268  7881_G O 2 lions passt guard.jpg  G O 2 lions passt guard  689131.37500   \n",
       "\n",
       "          psum_sq  \n",
       "0    557413.50000  \n",
       "1    521719.93750  \n",
       "2    231043.09375  \n",
       "3    661782.93750  \n",
       "4    601956.43750  \n",
       "..            ...  \n",
       "264  517651.34375  \n",
       "265  677358.06250  \n",
       "266  425808.43750  \n",
       "267  530970.68750  \n",
       "268  483920.34375  \n",
       "\n",
       "[269 rows x 4 columns]"
      ]
     },
     "execution_count": 55,
     "metadata": {},
     "output_type": "execute_result"
    }
   ],
   "source": [
    "# data_location='/home/salnabulsi/coat-of-arms/data/cropped_coas/out_valid'\n",
    "# data_location='/home/salnabulsi/coat-of-arms/data/cropped_coas/out'\n",
    "# data_location='/Users/salnabulsi/tub/coat-of-arms/data/cropped_coas/out_valid'\n",
    "\n",
    "data_location='/Users/salnabulsi/tub/coat-of-arms/data/cropped_coas/out'\n",
    "test_caption_file  = data_location + '/test_real_captions_psumsq.txt'\n",
    "root_folder_images = data_location + '/images'\n",
    "\n",
    "df = pd.read_csv(test_caption_file)\n",
    "\n",
    "print(\"There are {} test images\".format(len(df)))\n",
    "\n",
    "df"
   ]
  },
  {
   "cell_type": "markdown",
   "id": "76c7a088",
   "metadata": {},
   "source": [
    "## Get the model"
   ]
  },
  {
   "cell_type": "code",
   "execution_count": 17,
   "id": "3a7a6efc",
   "metadata": {},
   "outputs": [],
   "source": [
    "model, optimizer, criterion = get_new_model(hyper_params, \n",
    "                                            learning_rate, \n",
    "                                            ignored_idx, \n",
    "                                            drop_prob,\n",
    "                                            device)\n"
   ]
  },
  {
   "cell_type": "code",
   "execution_count": 18,
   "id": "b3ef4570",
   "metadata": {},
   "outputs": [],
   "source": [
    "!export CUDA_LAUNCH_BLOCKING=1\n",
    "!export CUDA_VISIBLE_DEVICES=2\n"
   ]
  },
  {
   "cell_type": "code",
   "execution_count": 19,
   "id": "1b5fc2c0",
   "metadata": {},
   "outputs": [],
   "source": [
    "\n",
    "# BATCH_SIZE = 5\n",
    "NUM_WORKER = 2 #### this needs multi-core\n",
    "freq_threshold = 5\n",
    "batch_size = 256\n",
    "\n",
    "# 30 minutes to create those, as it's baseline, i ran it several times and it's the same\n",
    "vocab = Vocabulary(freq_threshold)\n",
    "vocab.stoi = {'<PAD>': 0, '<SOS>': 1, '<EOS>': 2, '<UNK>': 3, 'lion': 4, 'rampant': 5, 'passt': 6, 'guard': 7, 'head': 8, 'lions': 9, 'cross': 10, 'moline': 11, 'patonce': 12, 'eagle': 13, 'doubleheaded': 14, 'eagles': 15, 'a': 16, 'b': 17, 'o': 18, 's': 19, 'g': 20, 'e': 21, 'v': 22, '1': 23, '2': 24, '3': 25, '4': 26, '5': 27, '6': 28, '7': 29, '8': 30, '9': 31, '10': 32, '11': 33, 'border': 34, '&': 35}\n",
    "vocab.itos = {0: '<PAD>', 1: '<SOS>', 2: '<EOS>', 3: '<UNK>', 4: 'lion', 5: 'rampant', 6: 'passt', 7: 'guard', 8: 'head', 9: 'lions', 10: 'cross', 11: 'moline', 12: 'patonce', 13: 'eagle', 14: 'doubleheaded', 15: 'eagles', 16: 'a', 17: 'b', 18: 'o', 19: 's', 20: 'g', 21: 'e', 22: 'v', 23: '1', 24: '2', 25: '3', 26: '4', 27: '5', 28: '6', 29: '7', 30: '8', 31: '9', 32: '10', 33: '11', 34: 'border', 35: '&'}\n"
   ]
  },
  {
   "cell_type": "code",
   "execution_count": 11,
   "id": "3a7dd841",
   "metadata": {},
   "outputs": [
    {
     "ename": "RuntimeError",
     "evalue": "Caught RuntimeError in DataLoader worker process 0.\nOriginal Traceback (most recent call last):\n  File \"/Users/salnabulsi/miniconda/envs/thesis-py38/lib/python3.8/site-packages/torch/utils/data/_utils/worker.py\", line 198, in _worker_loop\n    data = fetcher.fetch(index)\n  File \"/Users/salnabulsi/miniconda/envs/thesis-py38/lib/python3.8/site-packages/torch/utils/data/_utils/fetch.py\", line 47, in fetch\n    return self.collate_fn(data)\n  File \"/Users/salnabulsi/tub/coat-of-arms/notebooks/../src/baseline/caps_collate.py\", line 35, in __call__\n    imgs    = torch.cat(imgs,dim=0)\nRuntimeError: Sizes of tensors must match except in dimension 0. Got 627 and 315 in dimension 2 (The offending index is 1)\n",
     "output_type": "error",
     "traceback": [
      "\u001b[0;31m---------------------------------------------------------------------------\u001b[0m",
      "\u001b[0;31mRuntimeError\u001b[0m                              Traceback (most recent call last)",
      "\u001b[0;32m/var/folders/0d/kx07xpsn40v0mbjthb6sbc5h0000gq/T/ipykernel_33419/1268398695.py\u001b[0m in \u001b[0;36m<module>\u001b[0;34m\u001b[0m\n\u001b[0;32m----> 1\u001b[0;31m test_loader, test_dataset = init_testing_model(test_caption_file, \n\u001b[0m\u001b[1;32m      2\u001b[0m                                                \u001b[0mroot_folder_images\u001b[0m\u001b[0;34m,\u001b[0m\u001b[0;34m\u001b[0m\u001b[0;34m\u001b[0m\u001b[0m\n\u001b[1;32m      3\u001b[0m                                                \u001b[0mNUM_WORKER\u001b[0m\u001b[0;34m,\u001b[0m\u001b[0;34m\u001b[0m\u001b[0;34m\u001b[0m\u001b[0m\n\u001b[1;32m      4\u001b[0m                                                \u001b[0mvocab\u001b[0m\u001b[0;34m,\u001b[0m\u001b[0;34m\u001b[0m\u001b[0;34m\u001b[0m\u001b[0m\n\u001b[1;32m      5\u001b[0m                                                \u001b[0mbatch_size\u001b[0m\u001b[0;34m,\u001b[0m\u001b[0;34m\u001b[0m\u001b[0;34m\u001b[0m\u001b[0m\n",
      "\u001b[0;32m~/tub/coat-of-arms/notebooks/../src/baseline/coa_model.py\u001b[0m in \u001b[0;36minit_testing_model\u001b[0;34m(test_caption_file, root_folder_images, num_worker, vocab, batch_size, device, pin_memory, img_h, img_w)\u001b[0m\n\u001b[1;32m    256\u001b[0m     )\n\u001b[1;32m    257\u001b[0m \u001b[0;34m\u001b[0m\u001b[0m\n\u001b[0;32m--> 258\u001b[0;31m     \u001b[0mmean\u001b[0m \u001b[0;34m=\u001b[0m \u001b[0mget_mean\u001b[0m\u001b[0;34m(\u001b[0m\u001b[0mtest_dataset\u001b[0m\u001b[0;34m,\u001b[0m \u001b[0mtest_loader\u001b[0m\u001b[0;34m,\u001b[0m \u001b[0mimg_h\u001b[0m \u001b[0;34m,\u001b[0m \u001b[0mimg_w\u001b[0m\u001b[0;34m)\u001b[0m\u001b[0;34m\u001b[0m\u001b[0;34m\u001b[0m\u001b[0m\n\u001b[0m\u001b[1;32m    259\u001b[0m     \u001b[0mstd\u001b[0m \u001b[0;34m=\u001b[0m \u001b[0mget_std\u001b[0m\u001b[0;34m(\u001b[0m\u001b[0mtest_dataset\u001b[0m\u001b[0;34m,\u001b[0m \u001b[0mtest_loader\u001b[0m\u001b[0;34m,\u001b[0m \u001b[0mmean\u001b[0m\u001b[0;34m,\u001b[0m \u001b[0mimg_h\u001b[0m \u001b[0;34m,\u001b[0m \u001b[0mimg_w\u001b[0m\u001b[0;34m)\u001b[0m\u001b[0;34m\u001b[0m\u001b[0;34m\u001b[0m\u001b[0m\n\u001b[1;32m    260\u001b[0m \u001b[0;34m\u001b[0m\u001b[0m\n",
      "\u001b[0;32m~/tub/coat-of-arms/notebooks/../src/baseline/data_loader.py\u001b[0m in \u001b[0;36mget_mean\u001b[0;34m(train_dataset, train_loader, img_h, img_w)\u001b[0m\n\u001b[1;32m     61\u001b[0m \u001b[0;34m\u001b[0m\u001b[0m\n\u001b[1;32m     62\u001b[0m     \u001b[0;31m# the batch[0] contains the images, batch[1] contains labels and 2 contains pixels values.\u001b[0m\u001b[0;34m\u001b[0m\u001b[0;34m\u001b[0m\u001b[0;34m\u001b[0m\u001b[0m\n\u001b[0;32m---> 63\u001b[0;31m     \u001b[0;32mfor\u001b[0m \u001b[0m_\u001b[0m\u001b[0;34m,\u001b[0m \u001b[0mbatch\u001b[0m \u001b[0;32min\u001b[0m \u001b[0menumerate\u001b[0m\u001b[0;34m(\u001b[0m\u001b[0miter\u001b[0m\u001b[0;34m(\u001b[0m\u001b[0mtrain_loader\u001b[0m\u001b[0;34m)\u001b[0m\u001b[0;34m)\u001b[0m\u001b[0;34m:\u001b[0m\u001b[0;34m\u001b[0m\u001b[0;34m\u001b[0m\u001b[0m\n\u001b[0m\u001b[1;32m     64\u001b[0m         \u001b[0mtotal_sum\u001b[0m \u001b[0;34m+=\u001b[0m \u001b[0mbatch\u001b[0m\u001b[0;34m[\u001b[0m\u001b[0;36m2\u001b[0m\u001b[0;34m]\u001b[0m\u001b[0;34m.\u001b[0m\u001b[0msum\u001b[0m\u001b[0;34m(\u001b[0m\u001b[0;34m)\u001b[0m\u001b[0;34m\u001b[0m\u001b[0;34m\u001b[0m\u001b[0m\n\u001b[1;32m     65\u001b[0m \u001b[0;34m\u001b[0m\u001b[0m\n",
      "\u001b[0;32m~/miniconda/envs/thesis-py38/lib/python3.8/site-packages/torch/utils/data/dataloader.py\u001b[0m in \u001b[0;36m__next__\u001b[0;34m(self)\u001b[0m\n\u001b[1;32m    433\u001b[0m         \u001b[0;32mif\u001b[0m \u001b[0mself\u001b[0m\u001b[0;34m.\u001b[0m\u001b[0m_sampler_iter\u001b[0m \u001b[0;32mis\u001b[0m \u001b[0;32mNone\u001b[0m\u001b[0;34m:\u001b[0m\u001b[0;34m\u001b[0m\u001b[0;34m\u001b[0m\u001b[0m\n\u001b[1;32m    434\u001b[0m             \u001b[0mself\u001b[0m\u001b[0;34m.\u001b[0m\u001b[0m_reset\u001b[0m\u001b[0;34m(\u001b[0m\u001b[0;34m)\u001b[0m\u001b[0;34m\u001b[0m\u001b[0;34m\u001b[0m\u001b[0m\n\u001b[0;32m--> 435\u001b[0;31m         \u001b[0mdata\u001b[0m \u001b[0;34m=\u001b[0m \u001b[0mself\u001b[0m\u001b[0;34m.\u001b[0m\u001b[0m_next_data\u001b[0m\u001b[0;34m(\u001b[0m\u001b[0;34m)\u001b[0m\u001b[0;34m\u001b[0m\u001b[0;34m\u001b[0m\u001b[0m\n\u001b[0m\u001b[1;32m    436\u001b[0m         \u001b[0mself\u001b[0m\u001b[0;34m.\u001b[0m\u001b[0m_num_yielded\u001b[0m \u001b[0;34m+=\u001b[0m \u001b[0;36m1\u001b[0m\u001b[0;34m\u001b[0m\u001b[0;34m\u001b[0m\u001b[0m\n\u001b[1;32m    437\u001b[0m         \u001b[0;32mif\u001b[0m \u001b[0mself\u001b[0m\u001b[0;34m.\u001b[0m\u001b[0m_dataset_kind\u001b[0m \u001b[0;34m==\u001b[0m \u001b[0m_DatasetKind\u001b[0m\u001b[0;34m.\u001b[0m\u001b[0mIterable\u001b[0m \u001b[0;32mand\u001b[0m\u001b[0;31m \u001b[0m\u001b[0;31m\\\u001b[0m\u001b[0;34m\u001b[0m\u001b[0;34m\u001b[0m\u001b[0m\n",
      "\u001b[0;32m~/miniconda/envs/thesis-py38/lib/python3.8/site-packages/torch/utils/data/dataloader.py\u001b[0m in \u001b[0;36m_next_data\u001b[0;34m(self)\u001b[0m\n\u001b[1;32m   1083\u001b[0m             \u001b[0;32melse\u001b[0m\u001b[0;34m:\u001b[0m\u001b[0;34m\u001b[0m\u001b[0;34m\u001b[0m\u001b[0m\n\u001b[1;32m   1084\u001b[0m                 \u001b[0;32mdel\u001b[0m \u001b[0mself\u001b[0m\u001b[0;34m.\u001b[0m\u001b[0m_task_info\u001b[0m\u001b[0;34m[\u001b[0m\u001b[0midx\u001b[0m\u001b[0;34m]\u001b[0m\u001b[0;34m\u001b[0m\u001b[0;34m\u001b[0m\u001b[0m\n\u001b[0;32m-> 1085\u001b[0;31m                 \u001b[0;32mreturn\u001b[0m \u001b[0mself\u001b[0m\u001b[0;34m.\u001b[0m\u001b[0m_process_data\u001b[0m\u001b[0;34m(\u001b[0m\u001b[0mdata\u001b[0m\u001b[0;34m)\u001b[0m\u001b[0;34m\u001b[0m\u001b[0;34m\u001b[0m\u001b[0m\n\u001b[0m\u001b[1;32m   1086\u001b[0m \u001b[0;34m\u001b[0m\u001b[0m\n\u001b[1;32m   1087\u001b[0m     \u001b[0;32mdef\u001b[0m \u001b[0m_try_put_index\u001b[0m\u001b[0;34m(\u001b[0m\u001b[0mself\u001b[0m\u001b[0;34m)\u001b[0m\u001b[0;34m:\u001b[0m\u001b[0;34m\u001b[0m\u001b[0;34m\u001b[0m\u001b[0m\n",
      "\u001b[0;32m~/miniconda/envs/thesis-py38/lib/python3.8/site-packages/torch/utils/data/dataloader.py\u001b[0m in \u001b[0;36m_process_data\u001b[0;34m(self, data)\u001b[0m\n\u001b[1;32m   1109\u001b[0m         \u001b[0mself\u001b[0m\u001b[0;34m.\u001b[0m\u001b[0m_try_put_index\u001b[0m\u001b[0;34m(\u001b[0m\u001b[0;34m)\u001b[0m\u001b[0;34m\u001b[0m\u001b[0;34m\u001b[0m\u001b[0m\n\u001b[1;32m   1110\u001b[0m         \u001b[0;32mif\u001b[0m \u001b[0misinstance\u001b[0m\u001b[0;34m(\u001b[0m\u001b[0mdata\u001b[0m\u001b[0;34m,\u001b[0m \u001b[0mExceptionWrapper\u001b[0m\u001b[0;34m)\u001b[0m\u001b[0;34m:\u001b[0m\u001b[0;34m\u001b[0m\u001b[0;34m\u001b[0m\u001b[0m\n\u001b[0;32m-> 1111\u001b[0;31m             \u001b[0mdata\u001b[0m\u001b[0;34m.\u001b[0m\u001b[0mreraise\u001b[0m\u001b[0;34m(\u001b[0m\u001b[0;34m)\u001b[0m\u001b[0;34m\u001b[0m\u001b[0;34m\u001b[0m\u001b[0m\n\u001b[0m\u001b[1;32m   1112\u001b[0m         \u001b[0;32mreturn\u001b[0m \u001b[0mdata\u001b[0m\u001b[0;34m\u001b[0m\u001b[0;34m\u001b[0m\u001b[0m\n\u001b[1;32m   1113\u001b[0m \u001b[0;34m\u001b[0m\u001b[0m\n",
      "\u001b[0;32m~/miniconda/envs/thesis-py38/lib/python3.8/site-packages/torch/_utils.py\u001b[0m in \u001b[0;36mreraise\u001b[0;34m(self)\u001b[0m\n\u001b[1;32m    426\u001b[0m             \u001b[0;31m# have message field\u001b[0m\u001b[0;34m\u001b[0m\u001b[0;34m\u001b[0m\u001b[0;34m\u001b[0m\u001b[0m\n\u001b[1;32m    427\u001b[0m             \u001b[0;32mraise\u001b[0m \u001b[0mself\u001b[0m\u001b[0;34m.\u001b[0m\u001b[0mexc_type\u001b[0m\u001b[0;34m(\u001b[0m\u001b[0mmessage\u001b[0m\u001b[0;34m=\u001b[0m\u001b[0mmsg\u001b[0m\u001b[0;34m)\u001b[0m\u001b[0;34m\u001b[0m\u001b[0;34m\u001b[0m\u001b[0m\n\u001b[0;32m--> 428\u001b[0;31m         \u001b[0;32mraise\u001b[0m \u001b[0mself\u001b[0m\u001b[0;34m.\u001b[0m\u001b[0mexc_type\u001b[0m\u001b[0;34m(\u001b[0m\u001b[0mmsg\u001b[0m\u001b[0;34m)\u001b[0m\u001b[0;34m\u001b[0m\u001b[0;34m\u001b[0m\u001b[0m\n\u001b[0m\u001b[1;32m    429\u001b[0m \u001b[0;34m\u001b[0m\u001b[0m\n\u001b[1;32m    430\u001b[0m \u001b[0;34m\u001b[0m\u001b[0m\n",
      "\u001b[0;31mRuntimeError\u001b[0m: Caught RuntimeError in DataLoader worker process 0.\nOriginal Traceback (most recent call last):\n  File \"/Users/salnabulsi/miniconda/envs/thesis-py38/lib/python3.8/site-packages/torch/utils/data/_utils/worker.py\", line 198, in _worker_loop\n    data = fetcher.fetch(index)\n  File \"/Users/salnabulsi/miniconda/envs/thesis-py38/lib/python3.8/site-packages/torch/utils/data/_utils/fetch.py\", line 47, in fetch\n    return self.collate_fn(data)\n  File \"/Users/salnabulsi/tub/coat-of-arms/notebooks/../src/baseline/caps_collate.py\", line 35, in __call__\n    imgs    = torch.cat(imgs,dim=0)\nRuntimeError: Sizes of tensors must match except in dimension 0. Got 627 and 315 in dimension 2 (The offending index is 1)\n"
     ]
    }
   ],
   "source": [
    "test_loader, test_dataset = init_testing_model(test_caption_file, \n",
    "                                               root_folder_images, \n",
    "                                               NUM_WORKER,\n",
    "                                               vocab,\n",
    "                                               batch_size,\n",
    "                                               device, \n",
    "                                               pin_memory=False) \n",
    "#                                                ,img_h=623, img_w=597)"
   ]
  },
  {
   "cell_type": "code",
   "execution_count": null,
   "id": "f5341979",
   "metadata": {},
   "outputs": [],
   "source": [
    "\n",
    "test_model(model, criterion,test_loader, test_dataset, vocab_size, device)"
   ]
  },
  {
   "cell_type": "markdown",
   "id": "0a0d8887",
   "metadata": {},
   "source": [
    "## Visualizing the attentions\n"
   ]
  },
  {
   "cell_type": "code",
   "execution_count": null,
   "id": "804520ab",
   "metadata": {},
   "outputs": [],
   "source": [
    "# torch.cuda.empty_cache()\n",
    "test_rand_image(model,test_dataset,test_loader,device)\n"
   ]
  }
 ],
 "metadata": {
  "kernelspec": {
   "display_name": "Python 3 (ipykernel)",
   "language": "python",
   "name": "python3"
  },
  "language_info": {
   "codemirror_mode": {
    "name": "ipython",
    "version": 3
   },
   "file_extension": ".py",
   "mimetype": "text/x-python",
   "name": "python",
   "nbconvert_exporter": "python",
   "pygments_lexer": "ipython3",
   "version": "3.8.12"
  }
 },
 "nbformat": 4,
 "nbformat_minor": 5
}
